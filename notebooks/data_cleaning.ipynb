{
 "cells": [
  {
   "cell_type": "markdown",
   "metadata": {},
   "source": [
    "# Finish Here\n",
    "# 3rd Notebook"
   ]
  },
  {
   "cell_type": "code",
   "execution_count": 136,
   "metadata": {},
   "outputs": [],
   "source": [
    "# Import Relevant Libraries\n",
    "import pandas as pd\n",
    "import numpy as np\n",
    "from matplotlib import pyplot as plt\n",
    "from matplotlib.image import imread \n",
    "import seaborn as sns\n",
    "import statsmodels.api as sm\n",
    "from PIL import Image\n",
    "import os\n",
    "\n",
    "# scikit-learn\n",
    "from sklearn.model_selection import train_test_split, GridSearchCV, cross_val_score\n",
    "from sklearn.pipeline import Pipeline\n",
    "from sklearn.preprocessing import StandardScaler, OneHotEncoder, FunctionTransformer, OrdinalEncoder, LabelEncoder\n",
    "from sklearn.impute import SimpleImputer, MissingIndicator\n",
    "from sklearn.dummy import DummyClassifier\n",
    "from sklearn.compose import ColumnTransformer\n",
    "from sklearn.linear_model import LogisticRegression\n",
    "from sklearn.neighbors import KNeighborsClassifier\n",
    "from sklearn.tree import DecisionTreeClassifier\n",
    "from sklearn.ensemble import BaggingClassifier, RandomForestClassifier, \\\n",
    "ExtraTreesClassifier, VotingClassifier, StackingClassifier, GradientBoostingClassifier\n",
    "from sklearn.metrics import plot_confusion_matrix, confusion_matrix, recall_score,\\\n",
    "    accuracy_score, precision_score, f1_score, plot_roc_curve, roc_auc_score, log_loss\n",
    "from sklearn.decomposition import PCA\n",
    "from sklearn.utils import resample\n",
    "\n",
    "# Neural network libraries\n",
    "import tensorflow as tf\n",
    "from tensorflow.keras.preprocessing.image import ImageDataGenerator\n",
    "from tensorflow.keras import models, layers, optimizers, metrics, regularizers, losses\n",
    "from tensorflow.keras.optimizers import SGD\n",
    "from tensorflow.keras.wrappers import scikit_learn\n",
    "from tensorflow.keras.layers import Dense, Dropout, Flatten, LayerNormalization\n",
    "from tensorflow.keras.utils import to_categorical\n",
    "\n",
    "from statsmodels.stats.outliers_influence import variance_inflation_factor\n",
    "from patsy import dmatrices, dmatrix, demo_data\n",
    "\n",
    "%matplotlib inline\n",
    "from imblearn.over_sampling import SMOTE\n",
    "from imblearn.pipeline import Pipeline as ImPipeline"
   ]
  },
  {
   "cell_type": "markdown",
   "metadata": {},
   "source": [
    "### Reading in Data"
   ]
  },
  {
   "cell_type": "code",
   "execution_count": 2,
   "metadata": {
    "scrolled": false
   },
   "outputs": [
    {
     "data": {
      "text/html": [
       "<div>\n",
       "<style scoped>\n",
       "    .dataframe tbody tr th:only-of-type {\n",
       "        vertical-align: middle;\n",
       "    }\n",
       "\n",
       "    .dataframe tbody tr th {\n",
       "        vertical-align: top;\n",
       "    }\n",
       "\n",
       "    .dataframe thead th {\n",
       "        text-align: right;\n",
       "    }\n",
       "</style>\n",
       "<table border=\"1\" class=\"dataframe\">\n",
       "  <thead>\n",
       "    <tr style=\"text-align: right;\">\n",
       "      <th></th>\n",
       "      <th>ChEBI</th>\n",
       "      <th>MolecularFormula</th>\n",
       "      <th>MolecularWeight</th>\n",
       "      <th>XLogP</th>\n",
       "      <th>ExactMass</th>\n",
       "      <th>MonoisotopicMass</th>\n",
       "      <th>TPSA</th>\n",
       "      <th>Complexity</th>\n",
       "      <th>Charge</th>\n",
       "      <th>HBondDonorCount</th>\n",
       "      <th>...</th>\n",
       "      <th>Rn</th>\n",
       "      <th>Fr</th>\n",
       "      <th>Ra</th>\n",
       "      <th>Ac</th>\n",
       "      <th>Th</th>\n",
       "      <th>Pa</th>\n",
       "      <th>U</th>\n",
       "      <th>FCharge</th>\n",
       "      <th>RoleType</th>\n",
       "      <th>RoleName</th>\n",
       "    </tr>\n",
       "  </thead>\n",
       "  <tbody>\n",
       "    <tr>\n",
       "      <th>0</th>\n",
       "      <td>19032</td>\n",
       "      <td>C2H4BrCl</td>\n",
       "      <td>143.410</td>\n",
       "      <td>1.6</td>\n",
       "      <td>NaN</td>\n",
       "      <td>NaN</td>\n",
       "      <td>0.0</td>\n",
       "      <td>10.0</td>\n",
       "      <td>NaN</td>\n",
       "      <td>0.0</td>\n",
       "      <td>...</td>\n",
       "      <td>0.0</td>\n",
       "      <td>0.0</td>\n",
       "      <td>0.0</td>\n",
       "      <td>0.0</td>\n",
       "      <td>0.0</td>\n",
       "      <td>0.0</td>\n",
       "      <td>0.0</td>\n",
       "      <td>0.0</td>\n",
       "      <td>biological role</td>\n",
       "      <td>mutagen</td>\n",
       "    </tr>\n",
       "    <tr>\n",
       "      <th>1</th>\n",
       "      <td>21182</td>\n",
       "      <td>C23H30Cl5N3O</td>\n",
       "      <td>541.800</td>\n",
       "      <td>NaN</td>\n",
       "      <td>NaN</td>\n",
       "      <td>NaN</td>\n",
       "      <td>37.4</td>\n",
       "      <td>494.0</td>\n",
       "      <td>NaN</td>\n",
       "      <td>3.0</td>\n",
       "      <td>...</td>\n",
       "      <td>0.0</td>\n",
       "      <td>0.0</td>\n",
       "      <td>0.0</td>\n",
       "      <td>0.0</td>\n",
       "      <td>0.0</td>\n",
       "      <td>0.0</td>\n",
       "      <td>0.0</td>\n",
       "      <td>0.0</td>\n",
       "      <td>biological role</td>\n",
       "      <td>intercalator</td>\n",
       "    </tr>\n",
       "    <tr>\n",
       "      <th>2</th>\n",
       "      <td>21183</td>\n",
       "      <td>C21H27Cl4N3O</td>\n",
       "      <td>479.300</td>\n",
       "      <td>NaN</td>\n",
       "      <td>NaN</td>\n",
       "      <td>NaN</td>\n",
       "      <td>37.4</td>\n",
       "      <td>442.0</td>\n",
       "      <td>NaN</td>\n",
       "      <td>3.0</td>\n",
       "      <td>...</td>\n",
       "      <td>0.0</td>\n",
       "      <td>0.0</td>\n",
       "      <td>0.0</td>\n",
       "      <td>0.0</td>\n",
       "      <td>0.0</td>\n",
       "      <td>0.0</td>\n",
       "      <td>0.0</td>\n",
       "      <td>0.0</td>\n",
       "      <td>biological role</td>\n",
       "      <td>intercalator</td>\n",
       "    </tr>\n",
       "    <tr>\n",
       "      <th>3</th>\n",
       "      <td>28925</td>\n",
       "      <td>C5H11Cl2N</td>\n",
       "      <td>156.050</td>\n",
       "      <td>0.9</td>\n",
       "      <td>NaN</td>\n",
       "      <td>NaN</td>\n",
       "      <td>3.2</td>\n",
       "      <td>43.0</td>\n",
       "      <td>NaN</td>\n",
       "      <td>0.0</td>\n",
       "      <td>...</td>\n",
       "      <td>0.0</td>\n",
       "      <td>0.0</td>\n",
       "      <td>0.0</td>\n",
       "      <td>0.0</td>\n",
       "      <td>0.0</td>\n",
       "      <td>0.0</td>\n",
       "      <td>0.0</td>\n",
       "      <td>0.0</td>\n",
       "      <td>biological role</td>\n",
       "      <td>alkylating agent</td>\n",
       "    </tr>\n",
       "    <tr>\n",
       "      <th>4</th>\n",
       "      <td>40910</td>\n",
       "      <td>N3-</td>\n",
       "      <td>42.021</td>\n",
       "      <td>1.5</td>\n",
       "      <td>NaN</td>\n",
       "      <td>NaN</td>\n",
       "      <td>3.0</td>\n",
       "      <td>15.0</td>\n",
       "      <td>NaN</td>\n",
       "      <td>0.0</td>\n",
       "      <td>...</td>\n",
       "      <td>0.0</td>\n",
       "      <td>0.0</td>\n",
       "      <td>0.0</td>\n",
       "      <td>0.0</td>\n",
       "      <td>0.0</td>\n",
       "      <td>0.0</td>\n",
       "      <td>0.0</td>\n",
       "      <td>-1.0</td>\n",
       "      <td>biological role</td>\n",
       "      <td>mitochondrial respiratory-chain inhibitor</td>\n",
       "    </tr>\n",
       "    <tr>\n",
       "      <th>...</th>\n",
       "      <td>...</td>\n",
       "      <td>...</td>\n",
       "      <td>...</td>\n",
       "      <td>...</td>\n",
       "      <td>...</td>\n",
       "      <td>...</td>\n",
       "      <td>...</td>\n",
       "      <td>...</td>\n",
       "      <td>...</td>\n",
       "      <td>...</td>\n",
       "      <td>...</td>\n",
       "      <td>...</td>\n",
       "      <td>...</td>\n",
       "      <td>...</td>\n",
       "      <td>...</td>\n",
       "      <td>...</td>\n",
       "      <td>...</td>\n",
       "      <td>...</td>\n",
       "      <td>...</td>\n",
       "      <td>...</td>\n",
       "      <td>...</td>\n",
       "    </tr>\n",
       "    <tr>\n",
       "      <th>10483</th>\n",
       "      <td>131528</td>\n",
       "      <td>NaN</td>\n",
       "      <td>NaN</td>\n",
       "      <td>NaN</td>\n",
       "      <td>NaN</td>\n",
       "      <td>NaN</td>\n",
       "      <td>NaN</td>\n",
       "      <td>NaN</td>\n",
       "      <td>NaN</td>\n",
       "      <td>NaN</td>\n",
       "      <td>...</td>\n",
       "      <td>NaN</td>\n",
       "      <td>NaN</td>\n",
       "      <td>NaN</td>\n",
       "      <td>NaN</td>\n",
       "      <td>NaN</td>\n",
       "      <td>NaN</td>\n",
       "      <td>NaN</td>\n",
       "      <td>NaN</td>\n",
       "      <td>biological role</td>\n",
       "      <td>bacterial metabolite</td>\n",
       "    </tr>\n",
       "    <tr>\n",
       "      <th>10484</th>\n",
       "      <td>90785</td>\n",
       "      <td>NaN</td>\n",
       "      <td>NaN</td>\n",
       "      <td>NaN</td>\n",
       "      <td>NaN</td>\n",
       "      <td>NaN</td>\n",
       "      <td>NaN</td>\n",
       "      <td>NaN</td>\n",
       "      <td>NaN</td>\n",
       "      <td>NaN</td>\n",
       "      <td>...</td>\n",
       "      <td>NaN</td>\n",
       "      <td>NaN</td>\n",
       "      <td>NaN</td>\n",
       "      <td>NaN</td>\n",
       "      <td>NaN</td>\n",
       "      <td>NaN</td>\n",
       "      <td>NaN</td>\n",
       "      <td>NaN</td>\n",
       "      <td>biological role</td>\n",
       "      <td>bacterial metabolite</td>\n",
       "    </tr>\n",
       "    <tr>\n",
       "      <th>10485</th>\n",
       "      <td>77774</td>\n",
       "      <td>NaN</td>\n",
       "      <td>NaN</td>\n",
       "      <td>NaN</td>\n",
       "      <td>NaN</td>\n",
       "      <td>NaN</td>\n",
       "      <td>NaN</td>\n",
       "      <td>NaN</td>\n",
       "      <td>NaN</td>\n",
       "      <td>NaN</td>\n",
       "      <td>...</td>\n",
       "      <td>NaN</td>\n",
       "      <td>NaN</td>\n",
       "      <td>NaN</td>\n",
       "      <td>NaN</td>\n",
       "      <td>NaN</td>\n",
       "      <td>NaN</td>\n",
       "      <td>NaN</td>\n",
       "      <td>NaN</td>\n",
       "      <td>biological role</td>\n",
       "      <td>phosphodiesterase IV inhibitor</td>\n",
       "    </tr>\n",
       "    <tr>\n",
       "      <th>10486</th>\n",
       "      <td>83335</td>\n",
       "      <td>NaN</td>\n",
       "      <td>NaN</td>\n",
       "      <td>NaN</td>\n",
       "      <td>NaN</td>\n",
       "      <td>NaN</td>\n",
       "      <td>NaN</td>\n",
       "      <td>NaN</td>\n",
       "      <td>NaN</td>\n",
       "      <td>NaN</td>\n",
       "      <td>...</td>\n",
       "      <td>NaN</td>\n",
       "      <td>NaN</td>\n",
       "      <td>NaN</td>\n",
       "      <td>NaN</td>\n",
       "      <td>NaN</td>\n",
       "      <td>NaN</td>\n",
       "      <td>NaN</td>\n",
       "      <td>NaN</td>\n",
       "      <td>application</td>\n",
       "      <td>antifungal agrochemical</td>\n",
       "    </tr>\n",
       "    <tr>\n",
       "      <th>10487</th>\n",
       "      <td>90286</td>\n",
       "      <td>NaN</td>\n",
       "      <td>NaN</td>\n",
       "      <td>NaN</td>\n",
       "      <td>NaN</td>\n",
       "      <td>NaN</td>\n",
       "      <td>NaN</td>\n",
       "      <td>NaN</td>\n",
       "      <td>NaN</td>\n",
       "      <td>NaN</td>\n",
       "      <td>...</td>\n",
       "      <td>NaN</td>\n",
       "      <td>NaN</td>\n",
       "      <td>NaN</td>\n",
       "      <td>NaN</td>\n",
       "      <td>NaN</td>\n",
       "      <td>NaN</td>\n",
       "      <td>NaN</td>\n",
       "      <td>NaN</td>\n",
       "      <td>biological role</td>\n",
       "      <td>STAT3 inhibitor</td>\n",
       "    </tr>\n",
       "  </tbody>\n",
       "</table>\n",
       "<p>10488 rows × 115 columns</p>\n",
       "</div>"
      ],
      "text/plain": [
       "        ChEBI MolecularFormula  MolecularWeight  XLogP  ExactMass  \\\n",
       "0       19032         C2H4BrCl          143.410    1.6        NaN   \n",
       "1       21182     C23H30Cl5N3O          541.800    NaN        NaN   \n",
       "2       21183     C21H27Cl4N3O          479.300    NaN        NaN   \n",
       "3       28925        C5H11Cl2N          156.050    0.9        NaN   \n",
       "4       40910              N3-           42.021    1.5        NaN   \n",
       "...       ...              ...              ...    ...        ...   \n",
       "10483  131528              NaN              NaN    NaN        NaN   \n",
       "10484   90785              NaN              NaN    NaN        NaN   \n",
       "10485   77774              NaN              NaN    NaN        NaN   \n",
       "10486   83335              NaN              NaN    NaN        NaN   \n",
       "10487   90286              NaN              NaN    NaN        NaN   \n",
       "\n",
       "       MonoisotopicMass  TPSA  Complexity  Charge  HBondDonorCount  ...   Rn  \\\n",
       "0                   NaN   0.0        10.0     NaN              0.0  ...  0.0   \n",
       "1                   NaN  37.4       494.0     NaN              3.0  ...  0.0   \n",
       "2                   NaN  37.4       442.0     NaN              3.0  ...  0.0   \n",
       "3                   NaN   3.2        43.0     NaN              0.0  ...  0.0   \n",
       "4                   NaN   3.0        15.0     NaN              0.0  ...  0.0   \n",
       "...                 ...   ...         ...     ...              ...  ...  ...   \n",
       "10483               NaN   NaN         NaN     NaN              NaN  ...  NaN   \n",
       "10484               NaN   NaN         NaN     NaN              NaN  ...  NaN   \n",
       "10485               NaN   NaN         NaN     NaN              NaN  ...  NaN   \n",
       "10486               NaN   NaN         NaN     NaN              NaN  ...  NaN   \n",
       "10487               NaN   NaN         NaN     NaN              NaN  ...  NaN   \n",
       "\n",
       "        Fr   Ra   Ac   Th   Pa    U  FCharge         RoleType  \\\n",
       "0      0.0  0.0  0.0  0.0  0.0  0.0      0.0  biological role   \n",
       "1      0.0  0.0  0.0  0.0  0.0  0.0      0.0  biological role   \n",
       "2      0.0  0.0  0.0  0.0  0.0  0.0      0.0  biological role   \n",
       "3      0.0  0.0  0.0  0.0  0.0  0.0      0.0  biological role   \n",
       "4      0.0  0.0  0.0  0.0  0.0  0.0     -1.0  biological role   \n",
       "...    ...  ...  ...  ...  ...  ...      ...              ...   \n",
       "10483  NaN  NaN  NaN  NaN  NaN  NaN      NaN  biological role   \n",
       "10484  NaN  NaN  NaN  NaN  NaN  NaN      NaN  biological role   \n",
       "10485  NaN  NaN  NaN  NaN  NaN  NaN      NaN  biological role   \n",
       "10486  NaN  NaN  NaN  NaN  NaN  NaN      NaN      application   \n",
       "10487  NaN  NaN  NaN  NaN  NaN  NaN      NaN  biological role   \n",
       "\n",
       "                                        RoleName  \n",
       "0                                        mutagen  \n",
       "1                                   intercalator  \n",
       "2                                   intercalator  \n",
       "3                               alkylating agent  \n",
       "4      mitochondrial respiratory-chain inhibitor  \n",
       "...                                          ...  \n",
       "10483                       bacterial metabolite  \n",
       "10484                       bacterial metabolite  \n",
       "10485             phosphodiesterase IV inhibitor  \n",
       "10486                    antifungal agrochemical  \n",
       "10487                            STAT3 inhibitor  \n",
       "\n",
       "[10488 rows x 115 columns]"
      ]
     },
     "execution_count": 2,
     "metadata": {},
     "output_type": "execute_result"
    }
   ],
   "source": [
    "df= pd.read_csv('/Users/meiralelov/Documents/Flatiron/Projects/natural_product_classifier/notebooks/datasetnew.tsv', sep='\\t')\n",
    "df.drop(['Unnamed: 0', 'Unnamed: 0.1'], axis=1, inplace=True)\n",
    "df"
   ]
  },
  {
   "cell_type": "code",
   "execution_count": 3,
   "metadata": {},
   "outputs": [
    {
     "data": {
      "text/plain": [
       "3818"
      ]
     },
     "execution_count": 3,
     "metadata": {},
     "output_type": "execute_result"
    }
   ],
   "source": [
    "df.MolecularFormula.duplicated().sum()"
   ]
  },
  {
   "cell_type": "code",
   "execution_count": 4,
   "metadata": {},
   "outputs": [],
   "source": [
    "df.drop(['MolecularFormula'], axis=1, inplace=True)"
   ]
  },
  {
   "cell_type": "markdown",
   "metadata": {},
   "source": [
    "### Data Exploration"
   ]
  },
  {
   "cell_type": "code",
   "execution_count": 5,
   "metadata": {
    "scrolled": true
   },
   "outputs": [
    {
     "name": "stdout",
     "output_type": "stream",
     "text": [
      "<class 'pandas.core.frame.DataFrame'>\n",
      "RangeIndex: 10488 entries, 0 to 10487\n",
      "Columns: 114 entries, ChEBI to RoleName\n",
      "dtypes: float64(111), int64(1), object(2)\n",
      "memory usage: 9.1+ MB\n"
     ]
    }
   ],
   "source": [
    "df.info()"
   ]
  },
  {
   "cell_type": "code",
   "execution_count": 6,
   "metadata": {},
   "outputs": [
    {
     "data": {
      "text/plain": [
       "ChEBI                 int64\n",
       "MolecularWeight     float64\n",
       "XLogP               float64\n",
       "ExactMass           float64\n",
       "MonoisotopicMass    float64\n",
       "                     ...   \n",
       "Pa                  float64\n",
       "U                   float64\n",
       "FCharge             float64\n",
       "RoleType             object\n",
       "RoleName             object\n",
       "Length: 114, dtype: object"
      ]
     },
     "execution_count": 6,
     "metadata": {},
     "output_type": "execute_result"
    }
   ],
   "source": [
    "df.dtypes"
   ]
  },
  {
   "cell_type": "code",
   "execution_count": 7,
   "metadata": {
    "scrolled": true
   },
   "outputs": [
    {
     "data": {
      "text/html": [
       "<div>\n",
       "<style scoped>\n",
       "    .dataframe tbody tr th:only-of-type {\n",
       "        vertical-align: middle;\n",
       "    }\n",
       "\n",
       "    .dataframe tbody tr th {\n",
       "        vertical-align: top;\n",
       "    }\n",
       "\n",
       "    .dataframe thead th {\n",
       "        text-align: right;\n",
       "    }\n",
       "</style>\n",
       "<table border=\"1\" class=\"dataframe\">\n",
       "  <thead>\n",
       "    <tr style=\"text-align: right;\">\n",
       "      <th></th>\n",
       "      <th>ChEBI</th>\n",
       "      <th>MolecularWeight</th>\n",
       "      <th>XLogP</th>\n",
       "      <th>ExactMass</th>\n",
       "      <th>MonoisotopicMass</th>\n",
       "      <th>TPSA</th>\n",
       "      <th>Complexity</th>\n",
       "      <th>Charge</th>\n",
       "      <th>HBondDonorCount</th>\n",
       "      <th>HBondAcceptorCount</th>\n",
       "      <th>...</th>\n",
       "      <th>Po</th>\n",
       "      <th>At</th>\n",
       "      <th>Rn</th>\n",
       "      <th>Fr</th>\n",
       "      <th>Ra</th>\n",
       "      <th>Ac</th>\n",
       "      <th>Th</th>\n",
       "      <th>Pa</th>\n",
       "      <th>U</th>\n",
       "      <th>FCharge</th>\n",
       "    </tr>\n",
       "  </thead>\n",
       "  <tbody>\n",
       "    <tr>\n",
       "      <th>count</th>\n",
       "      <td>10488.000000</td>\n",
       "      <td>10136.000000</td>\n",
       "      <td>9460.000000</td>\n",
       "      <td>0.0</td>\n",
       "      <td>0.0</td>\n",
       "      <td>10136.000000</td>\n",
       "      <td>10136.000000</td>\n",
       "      <td>0.0</td>\n",
       "      <td>10136.000000</td>\n",
       "      <td>10136.000000</td>\n",
       "      <td>...</td>\n",
       "      <td>10136.0</td>\n",
       "      <td>10136.0</td>\n",
       "      <td>10136.0</td>\n",
       "      <td>10136.0</td>\n",
       "      <td>10136.0</td>\n",
       "      <td>10136.0</td>\n",
       "      <td>10136.0</td>\n",
       "      <td>10136.0</td>\n",
       "      <td>10136.0</td>\n",
       "      <td>10136.000000</td>\n",
       "    </tr>\n",
       "    <tr>\n",
       "      <th>mean</th>\n",
       "      <td>74864.215103</td>\n",
       "      <td>416.048117</td>\n",
       "      <td>2.137970</td>\n",
       "      <td>NaN</td>\n",
       "      <td>NaN</td>\n",
       "      <td>124.505397</td>\n",
       "      <td>611.892463</td>\n",
       "      <td>NaN</td>\n",
       "      <td>3.508287</td>\n",
       "      <td>7.122534</td>\n",
       "      <td>...</td>\n",
       "      <td>0.0</td>\n",
       "      <td>0.0</td>\n",
       "      <td>0.0</td>\n",
       "      <td>0.0</td>\n",
       "      <td>0.0</td>\n",
       "      <td>0.0</td>\n",
       "      <td>0.0</td>\n",
       "      <td>0.0</td>\n",
       "      <td>0.0</td>\n",
       "      <td>-0.051500</td>\n",
       "    </tr>\n",
       "    <tr>\n",
       "      <th>std</th>\n",
       "      <td>50620.763215</td>\n",
       "      <td>298.143413</td>\n",
       "      <td>5.906588</td>\n",
       "      <td>NaN</td>\n",
       "      <td>NaN</td>\n",
       "      <td>123.788034</td>\n",
       "      <td>581.067692</td>\n",
       "      <td>NaN</td>\n",
       "      <td>4.424729</td>\n",
       "      <td>7.113387</td>\n",
       "      <td>...</td>\n",
       "      <td>0.0</td>\n",
       "      <td>0.0</td>\n",
       "      <td>0.0</td>\n",
       "      <td>0.0</td>\n",
       "      <td>0.0</td>\n",
       "      <td>0.0</td>\n",
       "      <td>0.0</td>\n",
       "      <td>0.0</td>\n",
       "      <td>0.0</td>\n",
       "      <td>0.522708</td>\n",
       "    </tr>\n",
       "    <tr>\n",
       "      <th>min</th>\n",
       "      <td>25.000000</td>\n",
       "      <td>2.016000</td>\n",
       "      <td>-24.300000</td>\n",
       "      <td>NaN</td>\n",
       "      <td>NaN</td>\n",
       "      <td>0.000000</td>\n",
       "      <td>0.000000</td>\n",
       "      <td>NaN</td>\n",
       "      <td>0.000000</td>\n",
       "      <td>0.000000</td>\n",
       "      <td>...</td>\n",
       "      <td>0.0</td>\n",
       "      <td>0.0</td>\n",
       "      <td>0.0</td>\n",
       "      <td>0.0</td>\n",
       "      <td>0.0</td>\n",
       "      <td>0.0</td>\n",
       "      <td>0.0</td>\n",
       "      <td>0.0</td>\n",
       "      <td>0.0</td>\n",
       "      <td>-13.000000</td>\n",
       "    </tr>\n",
       "    <tr>\n",
       "      <th>25%</th>\n",
       "      <td>51472.250000</td>\n",
       "      <td>222.370000</td>\n",
       "      <td>-0.800000</td>\n",
       "      <td>NaN</td>\n",
       "      <td>NaN</td>\n",
       "      <td>55.800000</td>\n",
       "      <td>246.000000</td>\n",
       "      <td>NaN</td>\n",
       "      <td>1.000000</td>\n",
       "      <td>3.000000</td>\n",
       "      <td>...</td>\n",
       "      <td>0.0</td>\n",
       "      <td>0.0</td>\n",
       "      <td>0.0</td>\n",
       "      <td>0.0</td>\n",
       "      <td>0.0</td>\n",
       "      <td>0.0</td>\n",
       "      <td>0.0</td>\n",
       "      <td>0.0</td>\n",
       "      <td>0.0</td>\n",
       "      <td>0.000000</td>\n",
       "    </tr>\n",
       "    <tr>\n",
       "      <th>50%</th>\n",
       "      <td>70862.000000</td>\n",
       "      <td>343.370000</td>\n",
       "      <td>2.000000</td>\n",
       "      <td>NaN</td>\n",
       "      <td>NaN</td>\n",
       "      <td>92.400000</td>\n",
       "      <td>468.000000</td>\n",
       "      <td>NaN</td>\n",
       "      <td>2.000000</td>\n",
       "      <td>5.000000</td>\n",
       "      <td>...</td>\n",
       "      <td>0.0</td>\n",
       "      <td>0.0</td>\n",
       "      <td>0.0</td>\n",
       "      <td>0.0</td>\n",
       "      <td>0.0</td>\n",
       "      <td>0.0</td>\n",
       "      <td>0.0</td>\n",
       "      <td>0.0</td>\n",
       "      <td>0.0</td>\n",
       "      <td>0.000000</td>\n",
       "    </tr>\n",
       "    <tr>\n",
       "      <th>75%</th>\n",
       "      <td>86392.250000</td>\n",
       "      <td>501.600000</td>\n",
       "      <td>4.500000</td>\n",
       "      <td>NaN</td>\n",
       "      <td>NaN</td>\n",
       "      <td>150.000000</td>\n",
       "      <td>797.000000</td>\n",
       "      <td>NaN</td>\n",
       "      <td>4.000000</td>\n",
       "      <td>8.000000</td>\n",
       "      <td>...</td>\n",
       "      <td>0.0</td>\n",
       "      <td>0.0</td>\n",
       "      <td>0.0</td>\n",
       "      <td>0.0</td>\n",
       "      <td>0.0</td>\n",
       "      <td>0.0</td>\n",
       "      <td>0.0</td>\n",
       "      <td>0.0</td>\n",
       "      <td>0.0</td>\n",
       "      <td>0.000000</td>\n",
       "    </tr>\n",
       "    <tr>\n",
       "      <th>max</th>\n",
       "      <td>744019.000000</td>\n",
       "      <td>4541.000000</td>\n",
       "      <td>40.400000</td>\n",
       "      <td>NaN</td>\n",
       "      <td>NaN</td>\n",
       "      <td>2040.000000</td>\n",
       "      <td>11900.000000</td>\n",
       "      <td>NaN</td>\n",
       "      <td>71.000000</td>\n",
       "      <td>111.000000</td>\n",
       "      <td>...</td>\n",
       "      <td>0.0</td>\n",
       "      <td>0.0</td>\n",
       "      <td>0.0</td>\n",
       "      <td>0.0</td>\n",
       "      <td>0.0</td>\n",
       "      <td>0.0</td>\n",
       "      <td>0.0</td>\n",
       "      <td>0.0</td>\n",
       "      <td>0.0</td>\n",
       "      <td>5.000000</td>\n",
       "    </tr>\n",
       "  </tbody>\n",
       "</table>\n",
       "<p>8 rows × 112 columns</p>\n",
       "</div>"
      ],
      "text/plain": [
       "               ChEBI  MolecularWeight        XLogP  ExactMass  \\\n",
       "count   10488.000000     10136.000000  9460.000000        0.0   \n",
       "mean    74864.215103       416.048117     2.137970        NaN   \n",
       "std     50620.763215       298.143413     5.906588        NaN   \n",
       "min        25.000000         2.016000   -24.300000        NaN   \n",
       "25%     51472.250000       222.370000    -0.800000        NaN   \n",
       "50%     70862.000000       343.370000     2.000000        NaN   \n",
       "75%     86392.250000       501.600000     4.500000        NaN   \n",
       "max    744019.000000      4541.000000    40.400000        NaN   \n",
       "\n",
       "       MonoisotopicMass          TPSA    Complexity  Charge  HBondDonorCount  \\\n",
       "count               0.0  10136.000000  10136.000000     0.0     10136.000000   \n",
       "mean                NaN    124.505397    611.892463     NaN         3.508287   \n",
       "std                 NaN    123.788034    581.067692     NaN         4.424729   \n",
       "min                 NaN      0.000000      0.000000     NaN         0.000000   \n",
       "25%                 NaN     55.800000    246.000000     NaN         1.000000   \n",
       "50%                 NaN     92.400000    468.000000     NaN         2.000000   \n",
       "75%                 NaN    150.000000    797.000000     NaN         4.000000   \n",
       "max                 NaN   2040.000000  11900.000000     NaN        71.000000   \n",
       "\n",
       "       HBondAcceptorCount  ...       Po       At       Rn       Fr       Ra  \\\n",
       "count        10136.000000  ...  10136.0  10136.0  10136.0  10136.0  10136.0   \n",
       "mean             7.122534  ...      0.0      0.0      0.0      0.0      0.0   \n",
       "std              7.113387  ...      0.0      0.0      0.0      0.0      0.0   \n",
       "min              0.000000  ...      0.0      0.0      0.0      0.0      0.0   \n",
       "25%              3.000000  ...      0.0      0.0      0.0      0.0      0.0   \n",
       "50%              5.000000  ...      0.0      0.0      0.0      0.0      0.0   \n",
       "75%              8.000000  ...      0.0      0.0      0.0      0.0      0.0   \n",
       "max            111.000000  ...      0.0      0.0      0.0      0.0      0.0   \n",
       "\n",
       "            Ac       Th       Pa        U       FCharge  \n",
       "count  10136.0  10136.0  10136.0  10136.0  10136.000000  \n",
       "mean       0.0      0.0      0.0      0.0     -0.051500  \n",
       "std        0.0      0.0      0.0      0.0      0.522708  \n",
       "min        0.0      0.0      0.0      0.0    -13.000000  \n",
       "25%        0.0      0.0      0.0      0.0      0.000000  \n",
       "50%        0.0      0.0      0.0      0.0      0.000000  \n",
       "75%        0.0      0.0      0.0      0.0      0.000000  \n",
       "max        0.0      0.0      0.0      0.0      5.000000  \n",
       "\n",
       "[8 rows x 112 columns]"
      ]
     },
     "execution_count": 7,
     "metadata": {},
     "output_type": "execute_result"
    }
   ],
   "source": [
    "df.describe()"
   ]
  },
  {
   "cell_type": "code",
   "execution_count": 8,
   "metadata": {},
   "outputs": [
    {
     "data": {
      "text/plain": [
       "ChEBI                   0\n",
       "MolecularWeight       352\n",
       "XLogP                1028\n",
       "ExactMass           10488\n",
       "MonoisotopicMass    10488\n",
       "                    ...  \n",
       "Pa                    352\n",
       "U                     352\n",
       "FCharge               352\n",
       "RoleType                0\n",
       "RoleName                0\n",
       "Length: 114, dtype: int64"
      ]
     },
     "execution_count": 8,
     "metadata": {},
     "output_type": "execute_result"
    }
   ],
   "source": [
    "df.isnull().sum()"
   ]
  },
  {
   "cell_type": "code",
   "execution_count": 9,
   "metadata": {},
   "outputs": [
    {
     "data": {
      "text/plain": [
       "0"
      ]
     },
     "execution_count": 9,
     "metadata": {},
     "output_type": "execute_result"
    }
   ],
   "source": [
    "df.index.duplicated().sum()"
   ]
  },
  {
   "cell_type": "code",
   "execution_count": 10,
   "metadata": {},
   "outputs": [
    {
     "data": {
      "text/plain": [
       "0"
      ]
     },
     "execution_count": 10,
     "metadata": {},
     "output_type": "execute_result"
    }
   ],
   "source": [
    "df.duplicated().sum()"
   ]
  },
  {
   "cell_type": "code",
   "execution_count": 11,
   "metadata": {
    "scrolled": true
   },
   "outputs": [
    {
     "data": {
      "text/plain": [
       "(10488, 114)"
      ]
     },
     "execution_count": 11,
     "metadata": {},
     "output_type": "execute_result"
    }
   ],
   "source": [
    "df.shape"
   ]
  },
  {
   "cell_type": "markdown",
   "metadata": {},
   "source": [
    "### Data Cleaning"
   ]
  },
  {
   "cell_type": "code",
   "execution_count": 12,
   "metadata": {},
   "outputs": [],
   "source": [
    "cols = list(df.columns)\n",
    "\n",
    "def null_percentage(df, cols):\n",
    "    \n",
    "    list_of_percentages = []\n",
    "    \n",
    "    for i in cols:\n",
    "        \n",
    "        percent = ((df[i].isna().sum())/(len(df))) * 100\n",
    "    \n",
    "        list_of_percentages.append(percent)\n",
    "        \n",
    "    zip_list = zip(cols, list_of_percentages)   \n",
    "\n",
    "    return zip_list\n",
    "\n",
    "# I would like to visualize the percentage specifically associated with each column"
   ]
  },
  {
   "cell_type": "code",
   "execution_count": 13,
   "metadata": {},
   "outputs": [
    {
     "data": {
      "text/plain": [
       "[('ChEBI', 0.0),\n",
       " ('MolecularWeight', 3.3562166285278416),\n",
       " ('XLogP', 9.801678108314265),\n",
       " ('ExactMass', 100.0),\n",
       " ('MonoisotopicMass', 100.0),\n",
       " ('TPSA', 3.3562166285278416),\n",
       " ('Complexity', 3.3562166285278416),\n",
       " ('Charge', 100.0),\n",
       " ('HBondDonorCount', 3.3562166285278416),\n",
       " ('HBondAcceptorCount', 3.3562166285278416),\n",
       " ('RotatableBondCount', 3.3562166285278416),\n",
       " ('HeavyAtomCount', 3.3562166285278416),\n",
       " ('IsotopeAtomCount', 100.0),\n",
       " ('AtomStereoCount', 100.0),\n",
       " ('DefinedAtomStereoCount', 100.0),\n",
       " ('UndefinedAtomStereoCount', 100.0),\n",
       " ('BondStereoCount', 100.0),\n",
       " ('H', 3.3562166285278416),\n",
       " ('He', 3.3562166285278416),\n",
       " ('Li', 3.3562166285278416),\n",
       " ('Be', 3.3562166285278416),\n",
       " ('B', 3.3562166285278416),\n",
       " ('C', 3.3562166285278416),\n",
       " ('N', 3.3562166285278416),\n",
       " ('O', 3.3562166285278416),\n",
       " ('F', 3.3562166285278416),\n",
       " ('Ne', 3.3562166285278416),\n",
       " ('Na', 3.3562166285278416),\n",
       " ('Mg', 3.3562166285278416),\n",
       " ('Al', 3.3562166285278416),\n",
       " ('Si', 3.3562166285278416),\n",
       " ('P', 3.3562166285278416),\n",
       " ('S', 3.3562166285278416),\n",
       " ('Cl', 3.3562166285278416),\n",
       " ('A', 3.3562166285278416),\n",
       " ('K', 3.3562166285278416),\n",
       " ('Ca', 3.3562166285278416),\n",
       " ('Sc', 3.3562166285278416),\n",
       " ('Ti', 3.3562166285278416),\n",
       " ('Ti.1', 3.3562166285278416),\n",
       " ('V', 3.3562166285278416),\n",
       " ('Cr', 3.3562166285278416),\n",
       " ('Mn', 3.3562166285278416),\n",
       " ('Fe', 3.3562166285278416),\n",
       " ('Co', 3.3562166285278416),\n",
       " ('Ni', 3.3562166285278416),\n",
       " ('Cu', 3.3562166285278416),\n",
       " ('Zn', 3.3562166285278416),\n",
       " ('Ga', 3.3562166285278416),\n",
       " ('Ge', 3.3562166285278416),\n",
       " ('As', 3.3562166285278416),\n",
       " ('Se', 3.3562166285278416),\n",
       " ('Br', 3.3562166285278416),\n",
       " ('Kr', 3.3562166285278416),\n",
       " ('Rb', 3.3562166285278416),\n",
       " ('Sr', 3.3562166285278416),\n",
       " ('Y', 3.3562166285278416),\n",
       " ('Zr', 3.3562166285278416),\n",
       " ('Nb', 3.3562166285278416),\n",
       " ('Mo', 3.3562166285278416),\n",
       " ('Tc', 3.3562166285278416),\n",
       " ('Ru', 3.3562166285278416),\n",
       " ('Rh', 3.3562166285278416),\n",
       " ('Pd', 3.3562166285278416),\n",
       " ('Ag', 3.3562166285278416),\n",
       " ('Cd', 3.3562166285278416),\n",
       " ('In', 3.3562166285278416),\n",
       " ('Sn', 3.3562166285278416),\n",
       " ('Sb', 3.3562166285278416),\n",
       " ('Te', 3.3562166285278416),\n",
       " ('I', 3.3562166285278416),\n",
       " ('Xe', 3.3562166285278416),\n",
       " ('Cs', 3.3562166285278416),\n",
       " ('Ba', 3.3562166285278416),\n",
       " ('La', 3.3562166285278416),\n",
       " ('Ce', 3.3562166285278416),\n",
       " ('Pr', 3.3562166285278416),\n",
       " ('Nd', 3.3562166285278416),\n",
       " ('Pm', 3.3562166285278416),\n",
       " ('Sm', 3.3562166285278416),\n",
       " ('Eu', 3.3562166285278416),\n",
       " ('Gd', 3.3562166285278416),\n",
       " ('Tb', 3.3562166285278416),\n",
       " ('Dy', 3.3562166285278416),\n",
       " ('Ho', 3.3562166285278416),\n",
       " ('Er', 3.3562166285278416),\n",
       " ('Tm', 3.3562166285278416),\n",
       " ('Yb', 3.3562166285278416),\n",
       " ('Lu', 3.3562166285278416),\n",
       " ('Hf', 3.3562166285278416),\n",
       " ('Ta', 3.3562166285278416),\n",
       " ('W', 3.3562166285278416),\n",
       " ('Re', 3.3562166285278416),\n",
       " ('Os', 3.3562166285278416),\n",
       " ('Ir', 3.3562166285278416),\n",
       " ('Pt', 3.3562166285278416),\n",
       " ('Au', 3.3562166285278416),\n",
       " ('Hg', 3.3562166285278416),\n",
       " ('Ti.2', 3.3562166285278416),\n",
       " ('Ti.3', 3.3562166285278416),\n",
       " ('Pb', 3.3562166285278416),\n",
       " ('Bi', 3.3562166285278416),\n",
       " ('Po', 3.3562166285278416),\n",
       " ('At', 3.3562166285278416),\n",
       " ('Rn', 3.3562166285278416),\n",
       " ('Fr', 3.3562166285278416),\n",
       " ('Ra', 3.3562166285278416),\n",
       " ('Ac', 3.3562166285278416),\n",
       " ('Th', 3.3562166285278416),\n",
       " ('Pa', 3.3562166285278416),\n",
       " ('U', 3.3562166285278416),\n",
       " ('FCharge', 3.3562166285278416),\n",
       " ('RoleType', 0.0),\n",
       " ('RoleName', 0.0)]"
      ]
     },
     "execution_count": 13,
     "metadata": {},
     "output_type": "execute_result"
    }
   ],
   "source": [
    "list(null_percentage(df, cols))"
   ]
  },
  {
   "cell_type": "code",
   "execution_count": 14,
   "metadata": {},
   "outputs": [],
   "source": [
    "null_list = list(null_percentage(df, cols))\n",
    "\n",
    "for x in null_list:\n",
    "    \n",
    "    if x[1].astype(float) < 5:\n",
    "\n",
    "        df.dropna(axis=0,subset=[x[0]], inplace=True)  "
   ]
  },
  {
   "cell_type": "code",
   "execution_count": 15,
   "metadata": {
    "scrolled": true
   },
   "outputs": [
    {
     "data": {
      "text/plain": [
       "[('ChEBI', 0.0),\n",
       " ('MolecularWeight', 0.0),\n",
       " ('XLogP', 6.669297553275453),\n",
       " ('ExactMass', 100.0),\n",
       " ('MonoisotopicMass', 100.0),\n",
       " ('TPSA', 0.0),\n",
       " ('Complexity', 0.0),\n",
       " ('Charge', 100.0),\n",
       " ('HBondDonorCount', 0.0),\n",
       " ('HBondAcceptorCount', 0.0),\n",
       " ('RotatableBondCount', 0.0),\n",
       " ('HeavyAtomCount', 0.0),\n",
       " ('IsotopeAtomCount', 100.0),\n",
       " ('AtomStereoCount', 100.0),\n",
       " ('DefinedAtomStereoCount', 100.0),\n",
       " ('UndefinedAtomStereoCount', 100.0),\n",
       " ('BondStereoCount', 100.0),\n",
       " ('H', 0.0),\n",
       " ('He', 0.0),\n",
       " ('Li', 0.0),\n",
       " ('Be', 0.0),\n",
       " ('B', 0.0),\n",
       " ('C', 0.0),\n",
       " ('N', 0.0),\n",
       " ('O', 0.0),\n",
       " ('F', 0.0),\n",
       " ('Ne', 0.0),\n",
       " ('Na', 0.0),\n",
       " ('Mg', 0.0),\n",
       " ('Al', 0.0),\n",
       " ('Si', 0.0),\n",
       " ('P', 0.0),\n",
       " ('S', 0.0),\n",
       " ('Cl', 0.0),\n",
       " ('A', 0.0),\n",
       " ('K', 0.0),\n",
       " ('Ca', 0.0),\n",
       " ('Sc', 0.0),\n",
       " ('Ti', 0.0),\n",
       " ('Ti.1', 0.0),\n",
       " ('V', 0.0),\n",
       " ('Cr', 0.0),\n",
       " ('Mn', 0.0),\n",
       " ('Fe', 0.0),\n",
       " ('Co', 0.0),\n",
       " ('Ni', 0.0),\n",
       " ('Cu', 0.0),\n",
       " ('Zn', 0.0),\n",
       " ('Ga', 0.0),\n",
       " ('Ge', 0.0),\n",
       " ('As', 0.0),\n",
       " ('Se', 0.0),\n",
       " ('Br', 0.0),\n",
       " ('Kr', 0.0),\n",
       " ('Rb', 0.0),\n",
       " ('Sr', 0.0),\n",
       " ('Y', 0.0),\n",
       " ('Zr', 0.0),\n",
       " ('Nb', 0.0),\n",
       " ('Mo', 0.0),\n",
       " ('Tc', 0.0),\n",
       " ('Ru', 0.0),\n",
       " ('Rh', 0.0),\n",
       " ('Pd', 0.0),\n",
       " ('Ag', 0.0),\n",
       " ('Cd', 0.0),\n",
       " ('In', 0.0),\n",
       " ('Sn', 0.0),\n",
       " ('Sb', 0.0),\n",
       " ('Te', 0.0),\n",
       " ('I', 0.0),\n",
       " ('Xe', 0.0),\n",
       " ('Cs', 0.0),\n",
       " ('Ba', 0.0),\n",
       " ('La', 0.0),\n",
       " ('Ce', 0.0),\n",
       " ('Pr', 0.0),\n",
       " ('Nd', 0.0),\n",
       " ('Pm', 0.0),\n",
       " ('Sm', 0.0),\n",
       " ('Eu', 0.0),\n",
       " ('Gd', 0.0),\n",
       " ('Tb', 0.0),\n",
       " ('Dy', 0.0),\n",
       " ('Ho', 0.0),\n",
       " ('Er', 0.0),\n",
       " ('Tm', 0.0),\n",
       " ('Yb', 0.0),\n",
       " ('Lu', 0.0),\n",
       " ('Hf', 0.0),\n",
       " ('Ta', 0.0),\n",
       " ('W', 0.0),\n",
       " ('Re', 0.0),\n",
       " ('Os', 0.0),\n",
       " ('Ir', 0.0),\n",
       " ('Pt', 0.0),\n",
       " ('Au', 0.0),\n",
       " ('Hg', 0.0),\n",
       " ('Ti.2', 0.0),\n",
       " ('Ti.3', 0.0),\n",
       " ('Pb', 0.0),\n",
       " ('Bi', 0.0),\n",
       " ('Po', 0.0),\n",
       " ('At', 0.0),\n",
       " ('Rn', 0.0),\n",
       " ('Fr', 0.0),\n",
       " ('Ra', 0.0),\n",
       " ('Ac', 0.0),\n",
       " ('Th', 0.0),\n",
       " ('Pa', 0.0),\n",
       " ('U', 0.0),\n",
       " ('FCharge', 0.0),\n",
       " ('RoleType', 0.0),\n",
       " ('RoleName', 0.0)]"
      ]
     },
     "execution_count": 15,
     "metadata": {},
     "output_type": "execute_result"
    }
   ],
   "source": [
    "null_list = list(null_percentage(df, cols))\n",
    "null_list"
   ]
  },
  {
   "cell_type": "code",
   "execution_count": 16,
   "metadata": {
    "scrolled": true
   },
   "outputs": [
    {
     "data": {
      "text/plain": [
       "(10136, 114)"
      ]
     },
     "execution_count": 16,
     "metadata": {},
     "output_type": "execute_result"
    }
   ],
   "source": [
    "df.shape"
   ]
  },
  {
   "cell_type": "code",
   "execution_count": 17,
   "metadata": {
    "scrolled": true
   },
   "outputs": [],
   "source": [
    "clean_df = df.drop(['ExactMass', 'MonoisotopicMass', 'Charge', 'IsotopeAtomCount', 'AtomStereoCount', 'DefinedAtomStereoCount','UndefinedAtomStereoCount', 'BondStereoCount'], axis=1)"
   ]
  },
  {
   "cell_type": "code",
   "execution_count": 18,
   "metadata": {},
   "outputs": [
    {
     "data": {
      "text/plain": [
       "False    9460\n",
       "True      676\n",
       "Name: XLogP, dtype: int64"
      ]
     },
     "execution_count": 18,
     "metadata": {},
     "output_type": "execute_result"
    }
   ],
   "source": [
    "clean_df.XLogP.isnull().value_counts()"
   ]
  },
  {
   "cell_type": "code",
   "execution_count": 19,
   "metadata": {
    "scrolled": true
   },
   "outputs": [
    {
     "data": {
      "text/plain": [
       "application        358\n",
       "biological role    266\n",
       "chemical role       52\n",
       "Name: RoleType, dtype: int64"
      ]
     },
     "execution_count": 19,
     "metadata": {},
     "output_type": "execute_result"
    }
   ],
   "source": [
    "clean_df[pd.isnull(clean_df.XLogP)].RoleType.value_counts()"
   ]
  },
  {
   "cell_type": "code",
   "execution_count": 20,
   "metadata": {},
   "outputs": [
    {
     "data": {
      "text/plain": [
       "-24.3      1\n",
       " 22.3      1\n",
       " 24.8      1\n",
       " 23.0      1\n",
       " 26.4      1\n",
       "        ... \n",
       " 2.4     115\n",
       " 2.1     115\n",
       " 2.5     119\n",
       " 2.0     121\n",
       " 1.5     129\n",
       "Name: XLogP, Length: 418, dtype: int64"
      ]
     },
     "execution_count": 20,
     "metadata": {},
     "output_type": "execute_result"
    }
   ],
   "source": [
    "clean_df.XLogP.value_counts().sort_values()\n",
    "#because domain knowledge of XLogP is that values all have a significance, we can't assign 0 as a neutral value.\n",
    "#instead, we will asign most frequent as neutral value.\n",
    "#because the number of nulls associataed with XLogP is 676, which is 5 times the amount of the most frequent value,\n",
    "#we can't simply add it, but rather we need to bin. Otherwise, the most frequent class will be a lot more frequent. \n",
    "#1.5 is most frequent, and the top 5 most frequent values are close enough to one another. \n",
    "#I can add values to the most frequent class without the data being affected more. "
   ]
  },
  {
   "cell_type": "code",
   "execution_count": 21,
   "metadata": {
    "scrolled": true
   },
   "outputs": [],
   "source": [
    "ser, bins= pd.qcut(clean_df.XLogP, retbins=True, q=5)"
   ]
  },
  {
   "cell_type": "code",
   "execution_count": 22,
   "metadata": {},
   "outputs": [
    {
     "data": {
      "text/plain": [
       "(-24.301000000000002, -1.8]    1926\n",
       "(-1.8, 1.0]                    1906\n",
       "(5.2, 40.4]                    1890\n",
       "(2.8, 5.2]                     1887\n",
       "(1.0, 2.8]                     1851\n",
       "Name: XLogP, dtype: int64"
      ]
     },
     "execution_count": 22,
     "metadata": {},
     "output_type": "execute_result"
    }
   ],
   "source": [
    "ser.value_counts()"
   ]
  },
  {
   "cell_type": "code",
   "execution_count": 23,
   "metadata": {},
   "outputs": [
    {
     "data": {
      "text/plain": [
       "array([-24.3,  -1.8,   1. ,   2.8,   5.2,  40.4])"
      ]
     },
     "execution_count": 23,
     "metadata": {},
     "output_type": "execute_result"
    }
   ],
   "source": [
    "bins"
   ]
  },
  {
   "cell_type": "code",
   "execution_count": 24,
   "metadata": {},
   "outputs": [
    {
     "data": {
      "text/plain": [
       "0.0    1925\n",
       "1.0    1906\n",
       "4.0    1890\n",
       "3.0    1887\n",
       "2.0    1851\n",
       "Name: XLogP_qcut, dtype: int64"
      ]
     },
     "execution_count": 24,
     "metadata": {},
     "output_type": "execute_result"
    }
   ],
   "source": [
    "clean_df['XLogP_qcut'] = pd.cut(clean_df.XLogP, bins=bins, labels=False)\n",
    "clean_df.drop('XLogP', axis=1, inplace=True)\n",
    "clean_df.XLogP_qcut.value_counts()"
   ]
  },
  {
   "cell_type": "code",
   "execution_count": 25,
   "metadata": {},
   "outputs": [],
   "source": [
    "cols = list(clean_df.columns.values) #Make a list of all of the columns in the df\n",
    "\n",
    "cols.pop(cols.index('RoleType')) #Remove b from list\n",
    "cols.pop(cols.index('RoleName')) #Remove x from list\n",
    "\n",
    "clean_df = clean_df[cols+['RoleType','RoleName']] #Create new dataframe with columns in the order you want"
   ]
  },
  {
   "cell_type": "code",
   "execution_count": 26,
   "metadata": {
    "scrolled": true
   },
   "outputs": [
    {
     "data": {
      "text/plain": [
       "2.0    2528\n",
       "0.0    1925\n",
       "1.0    1906\n",
       "4.0    1890\n",
       "3.0    1887\n",
       "Name: XLogP_qcut, dtype: int64"
      ]
     },
     "execution_count": 26,
     "metadata": {},
     "output_type": "execute_result"
    }
   ],
   "source": [
    "clean_df.XLogP_qcut.fillna(value=2, inplace=True)\n",
    "clean_df.XLogP_qcut.value_counts()\n",
    "#this way, there is not as much of class imbalance"
   ]
  },
  {
   "cell_type": "code",
   "execution_count": 27,
   "metadata": {
    "scrolled": false
   },
   "outputs": [
    {
     "data": {
      "text/plain": [
       "(10136, 106)"
      ]
     },
     "execution_count": 27,
     "metadata": {},
     "output_type": "execute_result"
    }
   ],
   "source": [
    "clean_df.shape"
   ]
  },
  {
   "cell_type": "markdown",
   "metadata": {},
   "source": [
    "# Role Type Classification"
   ]
  },
  {
   "cell_type": "markdown",
   "metadata": {},
   "source": [
    "## Role Type Data"
   ]
  },
  {
   "cell_type": "code",
   "execution_count": 28,
   "metadata": {
    "scrolled": true
   },
   "outputs": [
    {
     "data": {
      "text/plain": [
       "biological role    8641\n",
       "application        1329\n",
       "chemical role       166\n",
       "Name: RoleType, dtype: int64"
      ]
     },
     "execution_count": 28,
     "metadata": {},
     "output_type": "execute_result"
    }
   ],
   "source": [
    "clean_df.RoleType.value_counts()"
   ]
  },
  {
   "cell_type": "code",
   "execution_count": 29,
   "metadata": {
    "scrolled": false
   },
   "outputs": [
    {
     "data": {
      "text/plain": [
       "biological role    2500\n",
       "chemical role      1500\n",
       "application        1329\n",
       "Name: RoleType, dtype: int64"
      ]
     },
     "execution_count": 29,
     "metadata": {},
     "output_type": "execute_result"
    }
   ],
   "source": [
    "bio_rt_df = clean_df[clean_df['RoleType'] == 'biological role']\n",
    "chem_rt_df = clean_df[clean_df['RoleType'] == 'chemical role']\n",
    "app_rt_df = clean_df[clean_df['RoleType'] == 'application']\n",
    "\n",
    "#upsample the minority class and downsample majority\n",
    "chem_rt_df = resample(chem_rt_df, random_state=42, n_samples=1500, replace=True)\n",
    "bio_rt_df = resample(bio_rt_df, random_state=42, n_samples=2500, replace=False)\n",
    "\n",
    "balanced_rt_df = pd.concat([bio_rt_df, chem_rt_df, app_rt_df])\n",
    "balanced_rt_df.RoleType.value_counts()"
   ]
  },
  {
   "cell_type": "code",
   "execution_count": 30,
   "metadata": {
    "scrolled": true
   },
   "outputs": [
    {
     "data": {
      "text/plain": [
       "(5329, 106)"
      ]
     },
     "execution_count": 30,
     "metadata": {},
     "output_type": "execute_result"
    }
   ],
   "source": [
    "balanced_rt_df.shape"
   ]
  },
  {
   "cell_type": "code",
   "execution_count": 31,
   "metadata": {
    "scrolled": true
   },
   "outputs": [
    {
     "data": {
      "text/html": [
       "<div>\n",
       "<style scoped>\n",
       "    .dataframe tbody tr th:only-of-type {\n",
       "        vertical-align: middle;\n",
       "    }\n",
       "\n",
       "    .dataframe tbody tr th {\n",
       "        vertical-align: top;\n",
       "    }\n",
       "\n",
       "    .dataframe thead th {\n",
       "        text-align: right;\n",
       "    }\n",
       "</style>\n",
       "<table border=\"1\" class=\"dataframe\">\n",
       "  <thead>\n",
       "    <tr style=\"text-align: right;\">\n",
       "      <th></th>\n",
       "      <th>ChEBI</th>\n",
       "      <th>MolecularWeight</th>\n",
       "      <th>TPSA</th>\n",
       "      <th>Complexity</th>\n",
       "      <th>HBondDonorCount</th>\n",
       "      <th>HBondAcceptorCount</th>\n",
       "      <th>RotatableBondCount</th>\n",
       "      <th>HeavyAtomCount</th>\n",
       "      <th>H</th>\n",
       "      <th>He</th>\n",
       "      <th>...</th>\n",
       "      <th>Fr</th>\n",
       "      <th>Ra</th>\n",
       "      <th>Ac</th>\n",
       "      <th>Th</th>\n",
       "      <th>Pa</th>\n",
       "      <th>U</th>\n",
       "      <th>FCharge</th>\n",
       "      <th>XLogP_qcut</th>\n",
       "      <th>RoleType</th>\n",
       "      <th>RoleName</th>\n",
       "    </tr>\n",
       "  </thead>\n",
       "  <tbody>\n",
       "    <tr>\n",
       "      <th>9870</th>\n",
       "      <td>143237</td>\n",
       "      <td>232.21</td>\n",
       "      <td>109.0</td>\n",
       "      <td>330.0</td>\n",
       "      <td>2.0</td>\n",
       "      <td>6.0</td>\n",
       "      <td>3.0</td>\n",
       "      <td>15.0</td>\n",
       "      <td>8.0</td>\n",
       "      <td>0.0</td>\n",
       "      <td>...</td>\n",
       "      <td>0.0</td>\n",
       "      <td>0.0</td>\n",
       "      <td>0.0</td>\n",
       "      <td>0.0</td>\n",
       "      <td>0.0</td>\n",
       "      <td>0.0</td>\n",
       "      <td>0.0</td>\n",
       "      <td>1.0</td>\n",
       "      <td>biological role</td>\n",
       "      <td>mouse metabolite</td>\n",
       "    </tr>\n",
       "    <tr>\n",
       "      <th>5696</th>\n",
       "      <td>77996</td>\n",
       "      <td>563.90</td>\n",
       "      <td>69.6</td>\n",
       "      <td>574.0</td>\n",
       "      <td>3.0</td>\n",
       "      <td>3.0</td>\n",
       "      <td>31.0</td>\n",
       "      <td>40.0</td>\n",
       "      <td>69.0</td>\n",
       "      <td>0.0</td>\n",
       "      <td>...</td>\n",
       "      <td>0.0</td>\n",
       "      <td>0.0</td>\n",
       "      <td>0.0</td>\n",
       "      <td>0.0</td>\n",
       "      <td>0.0</td>\n",
       "      <td>0.0</td>\n",
       "      <td>0.0</td>\n",
       "      <td>4.0</td>\n",
       "      <td>biological role</td>\n",
       "      <td>mouse metabolite</td>\n",
       "    </tr>\n",
       "    <tr>\n",
       "      <th>814</th>\n",
       "      <td>545687</td>\n",
       "      <td>228.28</td>\n",
       "      <td>74.6</td>\n",
       "      <td>233.0</td>\n",
       "      <td>2.0</td>\n",
       "      <td>4.0</td>\n",
       "      <td>10.0</td>\n",
       "      <td>16.0</td>\n",
       "      <td>20.0</td>\n",
       "      <td>0.0</td>\n",
       "      <td>...</td>\n",
       "      <td>0.0</td>\n",
       "      <td>0.0</td>\n",
       "      <td>0.0</td>\n",
       "      <td>0.0</td>\n",
       "      <td>0.0</td>\n",
       "      <td>0.0</td>\n",
       "      <td>0.0</td>\n",
       "      <td>3.0</td>\n",
       "      <td>biological role</td>\n",
       "      <td>plant hormone</td>\n",
       "    </tr>\n",
       "    <tr>\n",
       "      <th>5085</th>\n",
       "      <td>18040</td>\n",
       "      <td>162.19</td>\n",
       "      <td>110.0</td>\n",
       "      <td>129.0</td>\n",
       "      <td>4.0</td>\n",
       "      <td>5.0</td>\n",
       "      <td>5.0</td>\n",
       "      <td>11.0</td>\n",
       "      <td>14.0</td>\n",
       "      <td>0.0</td>\n",
       "      <td>...</td>\n",
       "      <td>0.0</td>\n",
       "      <td>0.0</td>\n",
       "      <td>0.0</td>\n",
       "      <td>0.0</td>\n",
       "      <td>0.0</td>\n",
       "      <td>0.0</td>\n",
       "      <td>0.0</td>\n",
       "      <td>0.0</td>\n",
       "      <td>biological role</td>\n",
       "      <td>human metabolite</td>\n",
       "    </tr>\n",
       "    <tr>\n",
       "      <th>923</th>\n",
       "      <td>59415</td>\n",
       "      <td>540.50</td>\n",
       "      <td>271.0</td>\n",
       "      <td>843.0</td>\n",
       "      <td>9.0</td>\n",
       "      <td>15.0</td>\n",
       "      <td>10.0</td>\n",
       "      <td>37.0</td>\n",
       "      <td>32.0</td>\n",
       "      <td>0.0</td>\n",
       "      <td>...</td>\n",
       "      <td>0.0</td>\n",
       "      <td>0.0</td>\n",
       "      <td>0.0</td>\n",
       "      <td>0.0</td>\n",
       "      <td>0.0</td>\n",
       "      <td>0.0</td>\n",
       "      <td>0.0</td>\n",
       "      <td>0.0</td>\n",
       "      <td>biological role</td>\n",
       "      <td>epitope</td>\n",
       "    </tr>\n",
       "    <tr>\n",
       "      <th>...</th>\n",
       "      <td>...</td>\n",
       "      <td>...</td>\n",
       "      <td>...</td>\n",
       "      <td>...</td>\n",
       "      <td>...</td>\n",
       "      <td>...</td>\n",
       "      <td>...</td>\n",
       "      <td>...</td>\n",
       "      <td>...</td>\n",
       "      <td>...</td>\n",
       "      <td>...</td>\n",
       "      <td>...</td>\n",
       "      <td>...</td>\n",
       "      <td>...</td>\n",
       "      <td>...</td>\n",
       "      <td>...</td>\n",
       "      <td>...</td>\n",
       "      <td>...</td>\n",
       "      <td>...</td>\n",
       "      <td>...</td>\n",
       "      <td>...</td>\n",
       "    </tr>\n",
       "    <tr>\n",
       "      <th>10438</th>\n",
       "      <td>189588</td>\n",
       "      <td>166.17</td>\n",
       "      <td>39.4</td>\n",
       "      <td>175.0</td>\n",
       "      <td>0.0</td>\n",
       "      <td>3.0</td>\n",
       "      <td>4.0</td>\n",
       "      <td>12.0</td>\n",
       "      <td>10.0</td>\n",
       "      <td>0.0</td>\n",
       "      <td>...</td>\n",
       "      <td>0.0</td>\n",
       "      <td>0.0</td>\n",
       "      <td>0.0</td>\n",
       "      <td>0.0</td>\n",
       "      <td>0.0</td>\n",
       "      <td>0.0</td>\n",
       "      <td>0.0</td>\n",
       "      <td>2.0</td>\n",
       "      <td>application</td>\n",
       "      <td>flavouring agent</td>\n",
       "    </tr>\n",
       "    <tr>\n",
       "      <th>10439</th>\n",
       "      <td>82038</td>\n",
       "      <td>347.32</td>\n",
       "      <td>112.0</td>\n",
       "      <td>463.0</td>\n",
       "      <td>1.0</td>\n",
       "      <td>9.0</td>\n",
       "      <td>7.0</td>\n",
       "      <td>25.0</td>\n",
       "      <td>17.0</td>\n",
       "      <td>0.0</td>\n",
       "      <td>...</td>\n",
       "      <td>0.0</td>\n",
       "      <td>0.0</td>\n",
       "      <td>0.0</td>\n",
       "      <td>0.0</td>\n",
       "      <td>0.0</td>\n",
       "      <td>0.0</td>\n",
       "      <td>0.0</td>\n",
       "      <td>2.0</td>\n",
       "      <td>application</td>\n",
       "      <td>herbicide</td>\n",
       "    </tr>\n",
       "    <tr>\n",
       "      <th>10441</th>\n",
       "      <td>189672</td>\n",
       "      <td>363.40</td>\n",
       "      <td>122.0</td>\n",
       "      <td>567.0</td>\n",
       "      <td>3.0</td>\n",
       "      <td>5.0</td>\n",
       "      <td>5.0</td>\n",
       "      <td>25.0</td>\n",
       "      <td>17.0</td>\n",
       "      <td>0.0</td>\n",
       "      <td>...</td>\n",
       "      <td>0.0</td>\n",
       "      <td>0.0</td>\n",
       "      <td>0.0</td>\n",
       "      <td>0.0</td>\n",
       "      <td>0.0</td>\n",
       "      <td>0.0</td>\n",
       "      <td>0.0</td>\n",
       "      <td>2.0</td>\n",
       "      <td>application</td>\n",
       "      <td>herbicide safener</td>\n",
       "    </tr>\n",
       "    <tr>\n",
       "      <th>10442</th>\n",
       "      <td>173589</td>\n",
       "      <td>140.20</td>\n",
       "      <td>45.3</td>\n",
       "      <td>122.0</td>\n",
       "      <td>0.0</td>\n",
       "      <td>2.0</td>\n",
       "      <td>1.0</td>\n",
       "      <td>9.0</td>\n",
       "      <td>8.0</td>\n",
       "      <td>0.0</td>\n",
       "      <td>...</td>\n",
       "      <td>0.0</td>\n",
       "      <td>0.0</td>\n",
       "      <td>0.0</td>\n",
       "      <td>0.0</td>\n",
       "      <td>0.0</td>\n",
       "      <td>0.0</td>\n",
       "      <td>0.0</td>\n",
       "      <td>2.0</td>\n",
       "      <td>application</td>\n",
       "      <td>flavouring agent</td>\n",
       "    </tr>\n",
       "    <tr>\n",
       "      <th>10444</th>\n",
       "      <td>189695</td>\n",
       "      <td>497.50</td>\n",
       "      <td>209.0</td>\n",
       "      <td>699.0</td>\n",
       "      <td>5.0</td>\n",
       "      <td>12.0</td>\n",
       "      <td>8.0</td>\n",
       "      <td>34.0</td>\n",
       "      <td>23.0</td>\n",
       "      <td>0.0</td>\n",
       "      <td>...</td>\n",
       "      <td>0.0</td>\n",
       "      <td>0.0</td>\n",
       "      <td>0.0</td>\n",
       "      <td>0.0</td>\n",
       "      <td>0.0</td>\n",
       "      <td>0.0</td>\n",
       "      <td>0.0</td>\n",
       "      <td>2.0</td>\n",
       "      <td>application</td>\n",
       "      <td>antidepressant</td>\n",
       "    </tr>\n",
       "  </tbody>\n",
       "</table>\n",
       "<p>5329 rows × 106 columns</p>\n",
       "</div>"
      ],
      "text/plain": [
       "        ChEBI  MolecularWeight   TPSA  Complexity  HBondDonorCount  \\\n",
       "9870   143237           232.21  109.0       330.0              2.0   \n",
       "5696    77996           563.90   69.6       574.0              3.0   \n",
       "814    545687           228.28   74.6       233.0              2.0   \n",
       "5085    18040           162.19  110.0       129.0              4.0   \n",
       "923     59415           540.50  271.0       843.0              9.0   \n",
       "...       ...              ...    ...         ...              ...   \n",
       "10438  189588           166.17   39.4       175.0              0.0   \n",
       "10439   82038           347.32  112.0       463.0              1.0   \n",
       "10441  189672           363.40  122.0       567.0              3.0   \n",
       "10442  173589           140.20   45.3       122.0              0.0   \n",
       "10444  189695           497.50  209.0       699.0              5.0   \n",
       "\n",
       "       HBondAcceptorCount  RotatableBondCount  HeavyAtomCount     H   He  ...  \\\n",
       "9870                  6.0                 3.0            15.0   8.0  0.0  ...   \n",
       "5696                  3.0                31.0            40.0  69.0  0.0  ...   \n",
       "814                   4.0                10.0            16.0  20.0  0.0  ...   \n",
       "5085                  5.0                 5.0            11.0  14.0  0.0  ...   \n",
       "923                  15.0                10.0            37.0  32.0  0.0  ...   \n",
       "...                   ...                 ...             ...   ...  ...  ...   \n",
       "10438                 3.0                 4.0            12.0  10.0  0.0  ...   \n",
       "10439                 9.0                 7.0            25.0  17.0  0.0  ...   \n",
       "10441                 5.0                 5.0            25.0  17.0  0.0  ...   \n",
       "10442                 2.0                 1.0             9.0   8.0  0.0  ...   \n",
       "10444                12.0                 8.0            34.0  23.0  0.0  ...   \n",
       "\n",
       "        Fr   Ra   Ac   Th   Pa    U  FCharge  XLogP_qcut         RoleType  \\\n",
       "9870   0.0  0.0  0.0  0.0  0.0  0.0      0.0         1.0  biological role   \n",
       "5696   0.0  0.0  0.0  0.0  0.0  0.0      0.0         4.0  biological role   \n",
       "814    0.0  0.0  0.0  0.0  0.0  0.0      0.0         3.0  biological role   \n",
       "5085   0.0  0.0  0.0  0.0  0.0  0.0      0.0         0.0  biological role   \n",
       "923    0.0  0.0  0.0  0.0  0.0  0.0      0.0         0.0  biological role   \n",
       "...    ...  ...  ...  ...  ...  ...      ...         ...              ...   \n",
       "10438  0.0  0.0  0.0  0.0  0.0  0.0      0.0         2.0      application   \n",
       "10439  0.0  0.0  0.0  0.0  0.0  0.0      0.0         2.0      application   \n",
       "10441  0.0  0.0  0.0  0.0  0.0  0.0      0.0         2.0      application   \n",
       "10442  0.0  0.0  0.0  0.0  0.0  0.0      0.0         2.0      application   \n",
       "10444  0.0  0.0  0.0  0.0  0.0  0.0      0.0         2.0      application   \n",
       "\n",
       "                RoleName  \n",
       "9870    mouse metabolite  \n",
       "5696    mouse metabolite  \n",
       "814        plant hormone  \n",
       "5085    human metabolite  \n",
       "923              epitope  \n",
       "...                  ...  \n",
       "10438   flavouring agent  \n",
       "10439          herbicide  \n",
       "10441  herbicide safener  \n",
       "10442   flavouring agent  \n",
       "10444     antidepressant  \n",
       "\n",
       "[5329 rows x 106 columns]"
      ]
     },
     "execution_count": 31,
     "metadata": {},
     "output_type": "execute_result"
    }
   ],
   "source": [
    "balanced_rt_df"
   ]
  },
  {
   "cell_type": "markdown",
   "metadata": {},
   "source": [
    "### Creating Helper Functions"
   ]
  },
  {
   "cell_type": "code",
   "execution_count": 32,
   "metadata": {},
   "outputs": [],
   "source": [
    "class ModelWithCV():\n",
    "    '''Structure to save the model and more easily see its crossvalidation'''\n",
    "    \n",
    "    def __init__(self, model, model_name, X, y, cv_now=True):\n",
    "        self.model = model\n",
    "        self.name = model_name\n",
    "        self.X = X\n",
    "        self.y = y\n",
    "        # For CV results\n",
    "        self.cv_results = None\n",
    "        self.cv_mean = None\n",
    "        self.cv_median = None\n",
    "        self.cv_std = None\n",
    "        #\n",
    "        if cv_now:\n",
    "            self.cross_validate()\n",
    "        \n",
    "    def cross_validate(self, X=None, y=None, kfolds=5):\n",
    "        '''\n",
    "        Perform cross-validation and return results.\n",
    "        \n",
    "        Args: \n",
    "          X:\n",
    "            Optional; Training data to perform CV on. Otherwise use X from object\n",
    "          y:\n",
    "            Optional; Training data to perform CV on. Otherwise use y from object\n",
    "          kfolds:\n",
    "            Optional; Number of folds for CV (default is 5)  \n",
    "        '''\n",
    "        \n",
    "        cv_X = X if X else self.X\n",
    "        cv_y = y if y else self.y\n",
    "\n",
    "        self.cv_results = cross_val_score(self.model, cv_X, cv_y, cv=kfolds)\n",
    "        self.cv_mean = np.mean(self.cv_results)\n",
    "        self.cv_median = np.median(self.cv_results)\n",
    "        self.cv_std = np.std(self.cv_results)\n",
    "\n",
    "        \n",
    "    def print_cv_summary(self):\n",
    "        cv_summary = (\n",
    "        f'''CV Results for `{self.name}` model:\n",
    "            {self.cv_mean:.5f} ± {self.cv_std:.5f} accuracy\n",
    "        ''')\n",
    "        print(cv_summary)\n",
    "    \n",
    "\n",
    "        \n",
    "    def plot_cv(self, ax):\n",
    "        '''\n",
    "        Plot the cross-validation values using the array of results and given \n",
    "        Axis for plotting.\n",
    "        '''\n",
    "        ax.set_title(f'CV Results for `{self.name}` Model')\n",
    "        # Thinner violinplot with higher bw\n",
    "        sns.violinplot(y=self.cv_results, ax=ax, bw=.4)\n",
    "        sns.swarmplot(\n",
    "                y=self.cv_results,\n",
    "                color='orange',\n",
    "                size=10,\n",
    "                alpha= 0.8,\n",
    "                ax=ax)\n",
    "\n",
    "        return ax\n",
    "\n",
    "#taken from David Elliot's lecture on classification workflow"
   ]
  },
  {
   "cell_type": "markdown",
   "metadata": {},
   "source": [
    "### Role Type Train-Test Split"
   ]
  },
  {
   "cell_type": "code",
   "execution_count": 33,
   "metadata": {},
   "outputs": [],
   "source": [
    "X = balanced_rt_df.drop(['RoleType', 'RoleName', 'ChEBI'], axis=1)\n",
    "y = balanced_rt_df['RoleType']\n",
    "\n",
    "X_train, X_test, y_train, y_test = train_test_split(X, y, random_state=42)"
   ]
  },
  {
   "cell_type": "markdown",
   "metadata": {},
   "source": [
    "## Role Type Modelling"
   ]
  },
  {
   "cell_type": "code",
   "execution_count": 34,
   "metadata": {},
   "outputs": [],
   "source": [
    "def grab_numeric_rt(df):\n",
    "    return df.select_dtypes(include=['float', 'int'])\n",
    "\n",
    "GrabNumeric_rt = FunctionTransformer(grab_numeric_rt)\n",
    "\n",
    "subpipe_num = Pipeline(steps=[('get_num', GrabNumeric_rt),\n",
    "                              ('ss', StandardScaler())])\n",
    "\n",
    "ct = ColumnTransformer(transformers = [('subpipe_num', subpipe_num, X_train.columns),])"
   ]
  },
  {
   "cell_type": "markdown",
   "metadata": {},
   "source": [
    "### Baseline Model"
   ]
  },
  {
   "cell_type": "code",
   "execution_count": 35,
   "metadata": {
    "scrolled": true
   },
   "outputs": [],
   "source": [
    "dummy_pipe = Pipeline(steps=[\n",
    "    ('ct', ct),\n",
    "    ('dummy', DummyClassifier(strategy='most_frequent'))])\n",
    "\n",
    "dummy_pipe.fit(X_train, y_train)\n",
    "\n",
    "dummy_model_pipe = ModelWithCV(\n",
    "    model=dummy_pipe,\n",
    "    model_name='dummy_model_pipe',\n",
    "    X=X_train,\n",
    "    y=y_train)"
   ]
  },
  {
   "cell_type": "code",
   "execution_count": 36,
   "metadata": {},
   "outputs": [
    {
     "name": "stdout",
     "output_type": "stream",
     "text": [
      "CV Results for `dummy_model_pipe` model:\n",
      "            0.46897 ± 0.00050 accuracy\n",
      "        \n",
      " Train: 0.46896896896896895\n"
     ]
    },
    {
     "data": {
      "image/png": "[encoded data removed]",
      "text/plain": [
       "<Figure size 432x288 with 1 Axes>"
      ]
     },
     "metadata": {
      "needs_background": "light"
     },
     "output_type": "display_data"
    }
   ],
   "source": [
    "fig, ax = plt.subplots()\n",
    "\n",
    "ax = dummy_model_pipe.plot_cv(ax)\n",
    "plt.tight_layout();\n",
    "\n",
    "dummy_model_pipe.print_cv_summary()\n",
    "\n",
    "train_score = dummy_pipe.score(X_train, y_train)\n",
    "print(f' Train: {train_score}')"
   ]
  },
  {
   "cell_type": "code",
   "execution_count": 37,
   "metadata": {},
   "outputs": [
    {
     "name": "stderr",
     "output_type": "stream",
     "text": [
      "/Users/meiralelov/opt/anaconda3/envs/tf/lib/python3.7/site-packages/sklearn/utils/deprecation.py:87: FutureWarning: Function plot_confusion_matrix is deprecated; Function `plot_confusion_matrix` is deprecated in 1.0 and will be removed in 1.2. Use one of the class methods: ConfusionMatrixDisplay.from_predictions or ConfusionMatrixDisplay.from_estimator.\n",
      "  warnings.warn(msg, category=FutureWarning)\n"
     ]
    },
    {
     "data": {
      "image/png": "[encoded data removed]",
      "text/plain": [
       "<Figure size 432x288 with 2 Axes>"
      ]
     },
     "metadata": {
      "needs_background": "light"
     },
     "output_type": "display_data"
    }
   ],
   "source": [
    "fig, ax = plt.subplots()\n",
    "\n",
    "fig.suptitle(\"Dummy Model\")\n",
    "\n",
    "plot_confusion_matrix(dummy_pipe, X_train, y_train, ax=ax, cmap=\"plasma\");"
   ]
  },
  {
   "cell_type": "markdown",
   "metadata": {},
   "source": [
    "### Logistic Regression"
   ]
  },
  {
   "cell_type": "code",
   "execution_count": 38,
   "metadata": {},
   "outputs": [],
   "source": [
    "logreg_model_pipe = Pipeline(steps=[\n",
    "                    ('ct',ct),\n",
    "                    ('lr', LogisticRegression(random_state=42, max_iter=10000))])\n",
    "\n",
    "logreg_model_pipe.fit(X_train, y_train)\n",
    "\n",
    "log_pipe = ModelWithCV(model=logreg_model_pipe, \n",
    "                       model_name = 'log_pipe', \n",
    "                       X=X_train, \n",
    "                       y=y_train)"
   ]
  },
  {
   "cell_type": "code",
   "execution_count": 39,
   "metadata": {},
   "outputs": [
    {
     "name": "stdout",
     "output_type": "stream",
     "text": [
      "CV Results for `log_pipe` model:\n",
      "            0.63389 ± 0.00769 accuracy\n",
      "        \n",
      " Train: 0.6371371371371372\n"
     ]
    },
    {
     "data": {
      "image/png": "[encoded data removed]",
      "text/plain": [
       "<Figure size 432x288 with 1 Axes>"
      ]
     },
     "metadata": {
      "needs_background": "light"
     },
     "output_type": "display_data"
    }
   ],
   "source": [
    "fig, ax = plt.subplots()\n",
    "\n",
    "log_pipe.plot_cv(ax=ax)\n",
    "\n",
    "log_pipe.print_cv_summary()\n",
    "\n",
    "train_score = logreg_model_pipe.score(X_train, y_train)\n",
    "print(f' Train: {train_score}')"
   ]
  },
  {
   "cell_type": "code",
   "execution_count": 40,
   "metadata": {
    "scrolled": true
   },
   "outputs": [
    {
     "name": "stderr",
     "output_type": "stream",
     "text": [
      "/Users/meiralelov/opt/anaconda3/envs/tf/lib/python3.7/site-packages/sklearn/utils/deprecation.py:87: FutureWarning: Function plot_confusion_matrix is deprecated; Function `plot_confusion_matrix` is deprecated in 1.0 and will be removed in 1.2. Use one of the class methods: ConfusionMatrixDisplay.from_predictions or ConfusionMatrixDisplay.from_estimator.\n",
      "  warnings.warn(msg, category=FutureWarning)\n"
     ]
    },
    {
     "data": {
      "image/png": "[encoded data removed]",
      "text/plain": [
       "<Figure size 432x288 with 2 Axes>"
      ]
     },
     "metadata": {
      "needs_background": "light"
     },
     "output_type": "display_data"
    }
   ],
   "source": [
    "fig, ax = plt.subplots()\n",
    "\n",
    "fig.suptitle(\"Lr Model\")\n",
    "\n",
    "plot_confusion_matrix(logreg_model_pipe, X_train, y_train, ax=ax, cmap=\"plasma\");\n",
    "\n",
    "#plot_roc_curve(logreg_model_pipe, X_train, y_train);"
   ]
  },
  {
   "cell_type": "markdown",
   "metadata": {},
   "source": [
    "### Decision Trees"
   ]
  },
  {
   "cell_type": "code",
   "execution_count": 41,
   "metadata": {},
   "outputs": [],
   "source": [
    "dt_model_pipe = Pipeline(steps=[\n",
    "                ('ct', ct), \n",
    "                ('dt', DecisionTreeClassifier(random_state=42))])\n",
    "\n",
    "dt_model_pipe.fit(X_train, y_train)\n",
    "\n",
    "dt_pipe = ModelWithCV(model=dt_model_pipe,\n",
    "                         model_name='dt_pipe',\n",
    "                         X=X_train,\n",
    "                         y=y_train)"
   ]
  },
  {
   "cell_type": "code",
   "execution_count": 42,
   "metadata": {},
   "outputs": [
    {
     "name": "stdout",
     "output_type": "stream",
     "text": [
      "CV Results for `dt_pipe` model:\n",
      "            0.78929 ± 0.00666 accuracy\n",
      "        \n",
      " Train: 0.9972472472472472\n"
     ]
    },
    {
     "data": {
      "image/png": "[encoded data removed]",
      "text/plain": [
       "<Figure size 432x288 with 1 Axes>"
      ]
     },
     "metadata": {
      "needs_background": "light"
     },
     "output_type": "display_data"
    }
   ],
   "source": [
    "fig, ax = plt.subplots()\n",
    "\n",
    "dt_pipe.plot_cv(ax=ax);\n",
    "\n",
    "dt_pipe.print_cv_summary()\n",
    "\n",
    "train_score = dt_model_pipe.score(X_train, y_train)\n",
    "print(f' Train: {train_score}')"
   ]
  },
  {
   "cell_type": "code",
   "execution_count": 43,
   "metadata": {},
   "outputs": [
    {
     "name": "stderr",
     "output_type": "stream",
     "text": [
      "/Users/meiralelov/opt/anaconda3/envs/tf/lib/python3.7/site-packages/sklearn/utils/deprecation.py:87: FutureWarning: Function plot_confusion_matrix is deprecated; Function `plot_confusion_matrix` is deprecated in 1.0 and will be removed in 1.2. Use one of the class methods: ConfusionMatrixDisplay.from_predictions or ConfusionMatrixDisplay.from_estimator.\n",
      "  warnings.warn(msg, category=FutureWarning)\n"
     ]
    },
    {
     "data": {
      "image/png": "[encoded data removed]",
      "text/plain": [
       "<Figure size 432x288 with 2 Axes>"
      ]
     },
     "metadata": {
      "needs_background": "light"
     },
     "output_type": "display_data"
    }
   ],
   "source": [
    "fig, ax = plt.subplots()\n",
    "\n",
    "fig.suptitle(\"Dt Model\")\n",
    "\n",
    "plot_confusion_matrix(dt_model_pipe, X_train, y_train, ax=ax, cmap=\"plasma\");\n",
    "\n",
    "#plot_roc_curve(dt_model_pipe, X_train, y_train);"
   ]
  },
  {
   "cell_type": "markdown",
   "metadata": {},
   "source": [
    "### Random Forest"
   ]
  },
  {
   "cell_type": "code",
   "execution_count": 129,
   "metadata": {},
   "outputs": [],
   "source": [
    "rfc_model_pipe = Pipeline(steps=[\n",
    "                ('ct', ct), \n",
    "                ('rfc', RandomForestClassifier(random_state=42))])\n",
    "\n",
    "rfc_model_pipe.fit(X_train, y_train)\n",
    "\n",
    "forest_pipe = ModelWithCV(model=rfc_model_pipe, \n",
    "                          model_name='forest_pipe',\n",
    "                          X=X_train, \n",
    "                          y=y_train)"
   ]
  },
  {
   "cell_type": "code",
   "execution_count": 130,
   "metadata": {
    "scrolled": true
   },
   "outputs": [
    {
     "name": "stdout",
     "output_type": "stream",
     "text": [
      "CV Results for `forest_pipe` model:\n",
      "            0.85811 ± 0.01189 accuracy\n",
      "        \n",
      " Train: 0.9972472472472472\n"
     ]
    },
    {
     "data": {
      "image/png": "[encoded data removed]",
      "text/plain": [
       "<Figure size 432x288 with 1 Axes>"
      ]
     },
     "metadata": {
      "needs_background": "light"
     },
     "output_type": "display_data"
    }
   ],
   "source": [
    "fig, ax = plt.subplots()\n",
    "\n",
    "forest_pipe.plot_cv(ax=ax)\n",
    "\n",
    "forest_pipe.print_cv_summary()\n",
    "\n",
    "train_score = rfc_model_pipe.score(X_train, y_train)\n",
    "print(f' Train: {train_score}')"
   ]
  },
  {
   "cell_type": "code",
   "execution_count": 131,
   "metadata": {
    "scrolled": false
   },
   "outputs": [
    {
     "name": "stderr",
     "output_type": "stream",
     "text": [
      "/Users/meiralelov/opt/anaconda3/envs/tf/lib/python3.7/site-packages/sklearn/utils/deprecation.py:87: FutureWarning: Function plot_confusion_matrix is deprecated; Function `plot_confusion_matrix` is deprecated in 1.0 and will be removed in 1.2. Use one of the class methods: ConfusionMatrixDisplay.from_predictions or ConfusionMatrixDisplay.from_estimator.\n",
      "  warnings.warn(msg, category=FutureWarning)\n"
     ]
    },
    {
     "data": {
      "image/png": "[encoded data removed]",
      "text/plain": [
       "<Figure size 432x288 with 2 Axes>"
      ]
     },
     "metadata": {
      "needs_background": "light"
     },
     "output_type": "display_data"
    }
   ],
   "source": [
    "fig, ax = plt.subplots()\n",
    "\n",
    "fig.suptitle(\"rfc Model\")\n",
    "\n",
    "plot_confusion_matrix(rfc_model_pipe, X_train, y_train, ax=ax, cmap=\"plasma\");\n",
    "\n",
    "#plot_roc_curve(rfc_model_pipe, X_train, y_train);"
   ]
  },
  {
   "cell_type": "markdown",
   "metadata": {},
   "source": [
    "### KNeighborsClassifier"
   ]
  },
  {
   "cell_type": "code",
   "execution_count": 132,
   "metadata": {},
   "outputs": [],
   "source": [
    "knn_model_pipe = Pipeline(steps=[\n",
    "                ('ct', ct), \n",
    "                ('knn', KNeighborsClassifier())])\n",
    "\n",
    "knn_model_pipe.fit(X_train, y_train)\n",
    "\n",
    "knn_pipe = ModelWithCV(model=knn_model_pipe,\n",
    "                         model_name='knn_pipe',\n",
    "                         X=X_train,\n",
    "                         y=y_train)"
   ]
  },
  {
   "cell_type": "code",
   "execution_count": 48,
   "metadata": {},
   "outputs": [
    {
     "name": "stdout",
     "output_type": "stream",
     "text": [
      "CV Results for `knn_pipe` model:\n",
      "            0.78603 ± 0.01270 accuracy\n",
      "        \n",
      " Train: 0.8673673673673674\n"
     ]
    },
    {
     "data": {
      "image/png": "[encoded data removed]",
      "text/plain": [
       "<Figure size 432x288 with 1 Axes>"
      ]
     },
     "metadata": {
      "needs_background": "light"
     },
     "output_type": "display_data"
    }
   ],
   "source": [
    "fig, ax = plt.subplots()\n",
    "\n",
    "knn_pipe.plot_cv(ax=ax);\n",
    "\n",
    "knn_pipe.print_cv_summary()\n",
    "\n",
    "train_score = knn_model_pipe.score(X_train, y_train)\n",
    "print(f' Train: {train_score}')"
   ]
  },
  {
   "cell_type": "code",
   "execution_count": 49,
   "metadata": {},
   "outputs": [
    {
     "name": "stderr",
     "output_type": "stream",
     "text": [
      "/Users/meiralelov/opt/anaconda3/envs/tf/lib/python3.7/site-packages/sklearn/utils/deprecation.py:87: FutureWarning: Function plot_confusion_matrix is deprecated; Function `plot_confusion_matrix` is deprecated in 1.0 and will be removed in 1.2. Use one of the class methods: ConfusionMatrixDisplay.from_predictions or ConfusionMatrixDisplay.from_estimator.\n",
      "  warnings.warn(msg, category=FutureWarning)\n"
     ]
    },
    {
     "data": {
      "image/png": "[encoded data removed]",
      "text/plain": [
       "<Figure size 432x288 with 2 Axes>"
      ]
     },
     "metadata": {
      "needs_background": "light"
     },
     "output_type": "display_data"
    }
   ],
   "source": [
    "fig, ax = plt.subplots()\n",
    "\n",
    "fig.suptitle(\"Knn Model\")\n",
    "\n",
    "plot_confusion_matrix(knn_model_pipe, X_train, y_train, ax=ax, cmap=\"plasma\");"
   ]
  },
  {
   "cell_type": "markdown",
   "metadata": {},
   "source": [
    "### GradientBoostingClassifier"
   ]
  },
  {
   "cell_type": "code",
   "execution_count": 90,
   "metadata": {
    "scrolled": true
   },
   "outputs": [],
   "source": [
    "gbc_model_pipe = Pipeline(steps=[\n",
    "                ('ct', ct), \n",
    "                ('gbc', GradientBoostingClassifier(random_state=42))])\n",
    "\n",
    "gbc_model_pipe.fit(X_train, y_train)\n",
    "\n",
    "boost_pipe = ModelWithCV(model=gbc_model_pipe,\n",
    "                         model_name='boost_pipe',\n",
    "                         X=X_train,\n",
    "                         y=y_train)"
   ]
  },
  {
   "cell_type": "code",
   "execution_count": 91,
   "metadata": {},
   "outputs": [
    {
     "name": "stdout",
     "output_type": "stream",
     "text": [
      "CV Results for `boost_pipe` model:\n",
      "            0.77453 ± 0.00809 accuracy\n",
      "        \n",
      " Train: 0.8103103103103103\n"
     ]
    },
    {
     "data": {
      "image/png": "[encoded data removed]",
      "text/plain": [
       "<Figure size 432x288 with 1 Axes>"
      ]
     },
     "metadata": {
      "needs_background": "light"
     },
     "output_type": "display_data"
    }
   ],
   "source": [
    "fig, ax = plt.subplots()\n",
    "\n",
    "boost_pipe.plot_cv(ax=ax)\n",
    "\n",
    "boost_pipe.print_cv_summary()\n",
    "\n",
    "train_score = gbc_model_pipe.score(X_train, y_train)\n",
    "print(f' Train: {train_score}')"
   ]
  },
  {
   "cell_type": "code",
   "execution_count": 92,
   "metadata": {},
   "outputs": [
    {
     "name": "stderr",
     "output_type": "stream",
     "text": [
      "/Users/meiralelov/opt/anaconda3/envs/tf/lib/python3.7/site-packages/sklearn/utils/deprecation.py:87: FutureWarning: Function plot_confusion_matrix is deprecated; Function `plot_confusion_matrix` is deprecated in 1.0 and will be removed in 1.2. Use one of the class methods: ConfusionMatrixDisplay.from_predictions or ConfusionMatrixDisplay.from_estimator.\n",
      "  warnings.warn(msg, category=FutureWarning)\n"
     ]
    },
    {
     "data": {
      "image/png": "[encoded data removed]",
      "text/plain": [
       "<Figure size 432x288 with 2 Axes>"
      ]
     },
     "metadata": {
      "needs_background": "light"
     },
     "output_type": "display_data"
    }
   ],
   "source": [
    "fig, ax = plt.subplots()\n",
    "\n",
    "fig.suptitle(\"Boost Model\")\n",
    "\n",
    "plot_confusion_matrix(gbc_model_pipe, X_train, y_train, ax=ax, cmap=\"plasma\");"
   ]
  },
  {
   "cell_type": "markdown",
   "metadata": {},
   "source": [
    "### Grid Search"
   ]
  },
  {
   "cell_type": "code",
   "execution_count": 147,
   "metadata": {},
   "outputs": [
    {
     "name": "stdout",
     "output_type": "stream",
     "text": [
      "Fitting 5 folds for each of 9 candidates, totalling 45 fits\n"
     ]
    },
    {
     "data": {
      "text/plain": [
       "GridSearchCV(cv=5,\n",
       "             estimator=Pipeline(steps=[('ct',\n",
       "                                        ColumnTransformer(transformers=[('subpipe_num',\n",
       "                                                                         Pipeline(steps=[('get_num',\n",
       "                                                                                          FunctionTransformer(func=<function grab_numeric_rt at 0x7f7c4012e320>)),\n",
       "                                                                                         ('ss',\n",
       "                                                                                          StandardScaler())]),\n",
       "                                                                         Index(['MolecularWeight', 'TPSA', 'Complexity', 'HBondDonorCount',\n",
       "       'HBondAcceptorCount', 'RotatableBondCount', 'HeavyAtomCount', 'H', 'He',\n",
       "       'Li',\n",
       "       ...\n",
       "       'At', 'Rn', 'Fr', 'Ra', 'Ac', 'Th', 'Pa', 'U', 'FCharge', 'XLogP_qcut'],\n",
       "      dtype='object', length=103))])),\n",
       "                                       ('rfc',\n",
       "                                        RandomForestClassifier(random_state=42))]),\n",
       "             n_jobs=-1,\n",
       "             param_grid={'rfc__max_depth': [19, 20, 21],\n",
       "                         'rfc__n_estimators': [110, 115, 120]},\n",
       "             refit='accuracy', scoring=['accuracy', 'neg_log_loss'], verbose=3)"
      ]
     },
     "execution_count": 147,
     "metadata": {},
     "output_type": "execute_result"
    }
   ],
   "source": [
    "params_rfc = {\n",
    "    'rfc__n_estimators' : [110,115,120],\n",
    "    'rfc__max_depth' : [19,20,21],}\n",
    "\n",
    "gs_rfc = GridSearchCV(rfc_model_pipe, \n",
    "                      params_rfc, \n",
    "                      scoring=['accuracy','neg_log_loss'],\n",
    "                      refit='accuracy',                  \n",
    "                      n_jobs=-1, \n",
    "                      cv=5, \n",
    "                      verbose=3)\n",
    "\n",
    "gs_rfc.fit(X_train, y_train)"
   ]
  },
  {
   "cell_type": "code",
   "execution_count": 148,
   "metadata": {},
   "outputs": [
    {
     "name": "stdout",
     "output_type": "stream",
     "text": [
      "{'rfc__max_depth': 20, 'rfc__n_estimators': 115}\n",
      "0.8601113892365457\n"
     ]
    },
    {
     "data": {
      "text/html": [
       "<div>\n",
       "<style scoped>\n",
       "    .dataframe tbody tr th:only-of-type {\n",
       "        vertical-align: middle;\n",
       "    }\n",
       "\n",
       "    .dataframe tbody tr th {\n",
       "        vertical-align: top;\n",
       "    }\n",
       "\n",
       "    .dataframe thead th {\n",
       "        text-align: right;\n",
       "    }\n",
       "</style>\n",
       "<table border=\"1\" class=\"dataframe\">\n",
       "  <thead>\n",
       "    <tr style=\"text-align: right;\">\n",
       "      <th></th>\n",
       "      <th>mean_fit_time</th>\n",
       "      <th>std_fit_time</th>\n",
       "      <th>mean_score_time</th>\n",
       "      <th>std_score_time</th>\n",
       "      <th>param_rfc__max_depth</th>\n",
       "      <th>param_rfc__n_estimators</th>\n",
       "      <th>params</th>\n",
       "      <th>split0_test_accuracy</th>\n",
       "      <th>split1_test_accuracy</th>\n",
       "      <th>split2_test_accuracy</th>\n",
       "      <th>...</th>\n",
       "      <th>std_test_accuracy</th>\n",
       "      <th>rank_test_accuracy</th>\n",
       "      <th>split0_test_neg_log_loss</th>\n",
       "      <th>split1_test_neg_log_loss</th>\n",
       "      <th>split2_test_neg_log_loss</th>\n",
       "      <th>split3_test_neg_log_loss</th>\n",
       "      <th>split4_test_neg_log_loss</th>\n",
       "      <th>mean_test_neg_log_loss</th>\n",
       "      <th>std_test_neg_log_loss</th>\n",
       "      <th>rank_test_neg_log_loss</th>\n",
       "    </tr>\n",
       "  </thead>\n",
       "  <tbody>\n",
       "    <tr>\n",
       "      <th>0</th>\n",
       "      <td>0.467840</td>\n",
       "      <td>0.009149</td>\n",
       "      <td>0.050509</td>\n",
       "      <td>0.008811</td>\n",
       "      <td>19</td>\n",
       "      <td>110</td>\n",
       "      <td>{'rfc__max_depth': 19, 'rfc__n_estimators': 110}</td>\n",
       "      <td>0.85500</td>\n",
       "      <td>0.848561</td>\n",
       "      <td>0.846058</td>\n",
       "      <td>...</td>\n",
       "      <td>0.009984</td>\n",
       "      <td>8</td>\n",
       "      <td>-0.380989</td>\n",
       "      <td>-0.390576</td>\n",
       "      <td>-0.391841</td>\n",
       "      <td>-0.379858</td>\n",
       "      <td>-0.395190</td>\n",
       "      <td>-0.387691</td>\n",
       "      <td>0.006133</td>\n",
       "      <td>9</td>\n",
       "    </tr>\n",
       "    <tr>\n",
       "      <th>1</th>\n",
       "      <td>0.476227</td>\n",
       "      <td>0.022327</td>\n",
       "      <td>0.044240</td>\n",
       "      <td>0.002730</td>\n",
       "      <td>19</td>\n",
       "      <td>115</td>\n",
       "      <td>{'rfc__max_depth': 19, 'rfc__n_estimators': 115}</td>\n",
       "      <td>0.85375</td>\n",
       "      <td>0.849812</td>\n",
       "      <td>0.846058</td>\n",
       "      <td>...</td>\n",
       "      <td>0.009033</td>\n",
       "      <td>9</td>\n",
       "      <td>-0.380887</td>\n",
       "      <td>-0.390048</td>\n",
       "      <td>-0.392542</td>\n",
       "      <td>-0.379072</td>\n",
       "      <td>-0.394799</td>\n",
       "      <td>-0.387470</td>\n",
       "      <td>0.006324</td>\n",
       "      <td>8</td>\n",
       "    </tr>\n",
       "    <tr>\n",
       "      <th>2</th>\n",
       "      <td>0.455716</td>\n",
       "      <td>0.045544</td>\n",
       "      <td>0.056033</td>\n",
       "      <td>0.011083</td>\n",
       "      <td>19</td>\n",
       "      <td>120</td>\n",
       "      <td>{'rfc__max_depth': 19, 'rfc__n_estimators': 120}</td>\n",
       "      <td>0.85500</td>\n",
       "      <td>0.848561</td>\n",
       "      <td>0.846058</td>\n",
       "      <td>...</td>\n",
       "      <td>0.010329</td>\n",
       "      <td>7</td>\n",
       "      <td>-0.380501</td>\n",
       "      <td>-0.390282</td>\n",
       "      <td>-0.391815</td>\n",
       "      <td>-0.377717</td>\n",
       "      <td>-0.395012</td>\n",
       "      <td>-0.387065</td>\n",
       "      <td>0.006731</td>\n",
       "      <td>7</td>\n",
       "    </tr>\n",
       "    <tr>\n",
       "      <th>3</th>\n",
       "      <td>0.447939</td>\n",
       "      <td>0.045198</td>\n",
       "      <td>0.051414</td>\n",
       "      <td>0.010465</td>\n",
       "      <td>20</td>\n",
       "      <td>110</td>\n",
       "      <td>{'rfc__max_depth': 20, 'rfc__n_estimators': 110}</td>\n",
       "      <td>0.85375</td>\n",
       "      <td>0.847309</td>\n",
       "      <td>0.852315</td>\n",
       "      <td>...</td>\n",
       "      <td>0.011898</td>\n",
       "      <td>3</td>\n",
       "      <td>-0.373266</td>\n",
       "      <td>-0.385455</td>\n",
       "      <td>-0.381557</td>\n",
       "      <td>-0.373360</td>\n",
       "      <td>-0.389647</td>\n",
       "      <td>-0.380657</td>\n",
       "      <td>0.006520</td>\n",
       "      <td>4</td>\n",
       "    </tr>\n",
       "    <tr>\n",
       "      <th>4</th>\n",
       "      <td>0.449046</td>\n",
       "      <td>0.040481</td>\n",
       "      <td>0.051367</td>\n",
       "      <td>0.007301</td>\n",
       "      <td>20</td>\n",
       "      <td>115</td>\n",
       "      <td>{'rfc__max_depth': 20, 'rfc__n_estimators': 115}</td>\n",
       "      <td>0.85500</td>\n",
       "      <td>0.849812</td>\n",
       "      <td>0.847309</td>\n",
       "      <td>...</td>\n",
       "      <td>0.013193</td>\n",
       "      <td>1</td>\n",
       "      <td>-0.372199</td>\n",
       "      <td>-0.385304</td>\n",
       "      <td>-0.382002</td>\n",
       "      <td>-0.372455</td>\n",
       "      <td>-0.388286</td>\n",
       "      <td>-0.380049</td>\n",
       "      <td>0.006612</td>\n",
       "      <td>2</td>\n",
       "    </tr>\n",
       "    <tr>\n",
       "      <th>5</th>\n",
       "      <td>0.464918</td>\n",
       "      <td>0.018838</td>\n",
       "      <td>0.053060</td>\n",
       "      <td>0.007719</td>\n",
       "      <td>20</td>\n",
       "      <td>120</td>\n",
       "      <td>{'rfc__max_depth': 20, 'rfc__n_estimators': 120}</td>\n",
       "      <td>0.85625</td>\n",
       "      <td>0.849812</td>\n",
       "      <td>0.849812</td>\n",
       "      <td>...</td>\n",
       "      <td>0.010578</td>\n",
       "      <td>2</td>\n",
       "      <td>-0.371762</td>\n",
       "      <td>-0.385083</td>\n",
       "      <td>-0.381929</td>\n",
       "      <td>-0.373325</td>\n",
       "      <td>-0.388358</td>\n",
       "      <td>-0.380091</td>\n",
       "      <td>0.006508</td>\n",
       "      <td>3</td>\n",
       "    </tr>\n",
       "    <tr>\n",
       "      <th>6</th>\n",
       "      <td>0.401122</td>\n",
       "      <td>0.044398</td>\n",
       "      <td>0.060276</td>\n",
       "      <td>0.009257</td>\n",
       "      <td>21</td>\n",
       "      <td>110</td>\n",
       "      <td>{'rfc__max_depth': 21, 'rfc__n_estimators': 110}</td>\n",
       "      <td>0.84500</td>\n",
       "      <td>0.854819</td>\n",
       "      <td>0.846058</td>\n",
       "      <td>...</td>\n",
       "      <td>0.013006</td>\n",
       "      <td>5</td>\n",
       "      <td>-0.366921</td>\n",
       "      <td>-0.416652</td>\n",
       "      <td>-0.379800</td>\n",
       "      <td>-0.370127</td>\n",
       "      <td>-0.387004</td>\n",
       "      <td>-0.384101</td>\n",
       "      <td>0.017759</td>\n",
       "      <td>6</td>\n",
       "    </tr>\n",
       "    <tr>\n",
       "      <th>7</th>\n",
       "      <td>0.471089</td>\n",
       "      <td>0.021003</td>\n",
       "      <td>0.054254</td>\n",
       "      <td>0.006293</td>\n",
       "      <td>21</td>\n",
       "      <td>115</td>\n",
       "      <td>{'rfc__max_depth': 21, 'rfc__n_estimators': 115}</td>\n",
       "      <td>0.84625</td>\n",
       "      <td>0.856070</td>\n",
       "      <td>0.844806</td>\n",
       "      <td>...</td>\n",
       "      <td>0.013798</td>\n",
       "      <td>4</td>\n",
       "      <td>-0.367039</td>\n",
       "      <td>-0.417082</td>\n",
       "      <td>-0.380182</td>\n",
       "      <td>-0.369226</td>\n",
       "      <td>-0.386495</td>\n",
       "      <td>-0.384005</td>\n",
       "      <td>0.018006</td>\n",
       "      <td>5</td>\n",
       "    </tr>\n",
       "    <tr>\n",
       "      <th>8</th>\n",
       "      <td>0.412668</td>\n",
       "      <td>0.008276</td>\n",
       "      <td>0.044841</td>\n",
       "      <td>0.000539</td>\n",
       "      <td>21</td>\n",
       "      <td>120</td>\n",
       "      <td>{'rfc__max_depth': 21, 'rfc__n_estimators': 120}</td>\n",
       "      <td>0.84750</td>\n",
       "      <td>0.854819</td>\n",
       "      <td>0.847309</td>\n",
       "      <td>...</td>\n",
       "      <td>0.012012</td>\n",
       "      <td>6</td>\n",
       "      <td>-0.367292</td>\n",
       "      <td>-0.383374</td>\n",
       "      <td>-0.380463</td>\n",
       "      <td>-0.368160</td>\n",
       "      <td>-0.386813</td>\n",
       "      <td>-0.377220</td>\n",
       "      <td>0.008013</td>\n",
       "      <td>1</td>\n",
       "    </tr>\n",
       "  </tbody>\n",
       "</table>\n",
       "<p>9 rows × 23 columns</p>\n",
       "</div>"
      ],
      "text/plain": [
       "   mean_fit_time  std_fit_time  mean_score_time  std_score_time  \\\n",
       "0       0.467840      0.009149         0.050509        0.008811   \n",
       "1       0.476227      0.022327         0.044240        0.002730   \n",
       "2       0.455716      0.045544         0.056033        0.011083   \n",
       "3       0.447939      0.045198         0.051414        0.010465   \n",
       "4       0.449046      0.040481         0.051367        0.007301   \n",
       "5       0.464918      0.018838         0.053060        0.007719   \n",
       "6       0.401122      0.044398         0.060276        0.009257   \n",
       "7       0.471089      0.021003         0.054254        0.006293   \n",
       "8       0.412668      0.008276         0.044841        0.000539   \n",
       "\n",
       "  param_rfc__max_depth param_rfc__n_estimators  \\\n",
       "0                   19                     110   \n",
       "1                   19                     115   \n",
       "2                   19                     120   \n",
       "3                   20                     110   \n",
       "4                   20                     115   \n",
       "5                   20                     120   \n",
       "6                   21                     110   \n",
       "7                   21                     115   \n",
       "8                   21                     120   \n",
       "\n",
       "                                             params  split0_test_accuracy  \\\n",
       "0  {'rfc__max_depth': 19, 'rfc__n_estimators': 110}               0.85500   \n",
       "1  {'rfc__max_depth': 19, 'rfc__n_estimators': 115}               0.85375   \n",
       "2  {'rfc__max_depth': 19, 'rfc__n_estimators': 120}               0.85500   \n",
       "3  {'rfc__max_depth': 20, 'rfc__n_estimators': 110}               0.85375   \n",
       "4  {'rfc__max_depth': 20, 'rfc__n_estimators': 115}               0.85500   \n",
       "5  {'rfc__max_depth': 20, 'rfc__n_estimators': 120}               0.85625   \n",
       "6  {'rfc__max_depth': 21, 'rfc__n_estimators': 110}               0.84500   \n",
       "7  {'rfc__max_depth': 21, 'rfc__n_estimators': 115}               0.84625   \n",
       "8  {'rfc__max_depth': 21, 'rfc__n_estimators': 120}               0.84750   \n",
       "\n",
       "   split1_test_accuracy  split2_test_accuracy  ...  std_test_accuracy  \\\n",
       "0              0.848561              0.846058  ...           0.009984   \n",
       "1              0.849812              0.846058  ...           0.009033   \n",
       "2              0.848561              0.846058  ...           0.010329   \n",
       "3              0.847309              0.852315  ...           0.011898   \n",
       "4              0.849812              0.847309  ...           0.013193   \n",
       "5              0.849812              0.849812  ...           0.010578   \n",
       "6              0.854819              0.846058  ...           0.013006   \n",
       "7              0.856070              0.844806  ...           0.013798   \n",
       "8              0.854819              0.847309  ...           0.012012   \n",
       "\n",
       "   rank_test_accuracy  split0_test_neg_log_loss  split1_test_neg_log_loss  \\\n",
       "0                   8                 -0.380989                 -0.390576   \n",
       "1                   9                 -0.380887                 -0.390048   \n",
       "2                   7                 -0.380501                 -0.390282   \n",
       "3                   3                 -0.373266                 -0.385455   \n",
       "4                   1                 -0.372199                 -0.385304   \n",
       "5                   2                 -0.371762                 -0.385083   \n",
       "6                   5                 -0.366921                 -0.416652   \n",
       "7                   4                 -0.367039                 -0.417082   \n",
       "8                   6                 -0.367292                 -0.383374   \n",
       "\n",
       "   split2_test_neg_log_loss  split3_test_neg_log_loss  \\\n",
       "0                 -0.391841                 -0.379858   \n",
       "1                 -0.392542                 -0.379072   \n",
       "2                 -0.391815                 -0.377717   \n",
       "3                 -0.381557                 -0.373360   \n",
       "4                 -0.382002                 -0.372455   \n",
       "5                 -0.381929                 -0.373325   \n",
       "6                 -0.379800                 -0.370127   \n",
       "7                 -0.380182                 -0.369226   \n",
       "8                 -0.380463                 -0.368160   \n",
       "\n",
       "   split4_test_neg_log_loss  mean_test_neg_log_loss  std_test_neg_log_loss  \\\n",
       "0                 -0.395190               -0.387691               0.006133   \n",
       "1                 -0.394799               -0.387470               0.006324   \n",
       "2                 -0.395012               -0.387065               0.006731   \n",
       "3                 -0.389647               -0.380657               0.006520   \n",
       "4                 -0.388286               -0.380049               0.006612   \n",
       "5                 -0.388358               -0.380091               0.006508   \n",
       "6                 -0.387004               -0.384101               0.017759   \n",
       "7                 -0.386495               -0.384005               0.018006   \n",
       "8                 -0.386813               -0.377220               0.008013   \n",
       "\n",
       "   rank_test_neg_log_loss  \n",
       "0                       9  \n",
       "1                       8  \n",
       "2                       7  \n",
       "3                       4  \n",
       "4                       2  \n",
       "5                       3  \n",
       "6                       6  \n",
       "7                       5  \n",
       "8                       1  \n",
       "\n",
       "[9 rows x 23 columns]"
      ]
     },
     "execution_count": 148,
     "metadata": {},
     "output_type": "execute_result"
    }
   ],
   "source": [
    "print(gs_rfc.best_params_)\n",
    "print(gs_rfc.best_score_)\n",
    "pd.DataFrame(gs_rfc.cv_results_)"
   ]
  },
  {
   "cell_type": "code",
   "execution_count": 149,
   "metadata": {},
   "outputs": [
    {
     "name": "stdout",
     "output_type": "stream",
     "text": [
      "Fitting 5 folds for each of 9 candidates, totalling 45 fits\n"
     ]
    },
    {
     "data": {
      "text/plain": [
       "GridSearchCV(cv=5,\n",
       "             estimator=Pipeline(steps=[('ct',\n",
       "                                        ColumnTransformer(transformers=[('subpipe_num',\n",
       "                                                                         Pipeline(steps=[('get_num',\n",
       "                                                                                          FunctionTransformer(func=<function grab_numeric_rt at 0x7f7c4012e320>)),\n",
       "                                                                                         ('ss',\n",
       "                                                                                          StandardScaler())]),\n",
       "                                                                         Index(['MolecularWeight', 'TPSA', 'Complexity', 'HBondDonorCount',\n",
       "       'HBondAcceptorCount', 'RotatableBondCount', 'HeavyAtomCount', 'H', 'He',\n",
       "       'Li',\n",
       "       ...\n",
       "       'At', 'Rn', 'Fr', 'Ra', 'Ac', 'Th', 'Pa', 'U', 'FCharge', 'XLogP_qcut'],\n",
       "      dtype='object', length=103))])),\n",
       "                                       ('gbc',\n",
       "                                        GradientBoostingClassifier(random_state=42))]),\n",
       "             n_jobs=-1,\n",
       "             param_grid={'gbc__max_depth': [14, 15, 16],\n",
       "                         'gbc__n_estimators': [90, 100, 110]},\n",
       "             verbose=3)"
      ]
     },
     "execution_count": 149,
     "metadata": {},
     "output_type": "execute_result"
    },
    {
     "name": "stderr",
     "output_type": "stream",
     "text": [
      "/Users/meiralelov/opt/anaconda3/envs/tf/lib/python3.7/site-packages/sklearn/model_selection/_validation.py:774: UserWarning: Scoring failed. The score on this train-test partition for these parameters will be set to nan. Details: \n",
      "Traceback (most recent call last):\n",
      "  File \"/Users/meiralelov/opt/anaconda3/envs/tf/lib/python3.7/site-packages/sklearn/model_selection/_validation.py\", line 761, in _score\n",
      "    scores = scorer(estimator, X_test, y_test)\n",
      "  File \"/Users/meiralelov/opt/anaconda3/envs/tf/lib/python3.7/site-packages/sklearn/metrics/_scorer.py\", line 103, in __call__\n",
      "    score = scorer._score(cached_call, estimator, *args, **kwargs)\n",
      "  File \"/Users/meiralelov/opt/anaconda3/envs/tf/lib/python3.7/site-packages/sklearn/metrics/_scorer.py\", line 264, in _score\n",
      "    return self._sign * self._score_func(y_true, y_pred, **self._kwargs)\n",
      "  File \"/Users/meiralelov/opt/anaconda3/envs/tf/lib/python3.7/site-packages/sklearn/metrics/_classification.py\", line 1765, in precision_score\n",
      "    zero_division=zero_division,\n",
      "  File \"/Users/meiralelov/opt/anaconda3/envs/tf/lib/python3.7/site-packages/sklearn/metrics/_classification.py\", line 1544, in precision_recall_fscore_support\n",
      "    labels = _check_set_wise_labels(y_true, y_pred, average, labels, pos_label)\n",
      "  File \"/Users/meiralelov/opt/anaconda3/envs/tf/lib/python3.7/site-packages/sklearn/metrics/_classification.py\", line 1367, in _check_set_wise_labels\n",
      "    \"choose another average setting, one of %r.\" % (y_type, average_options)\n",
      "ValueError: Target is multiclass but average='binary'. Please choose another average setting, one of [None, 'micro', 'macro', 'weighted'].\n",
      "\n",
      "  UserWarning,\n",
      "/Users/meiralelov/opt/anaconda3/envs/tf/lib/python3.7/site-packages/sklearn/model_selection/_validation.py:774: UserWarning: Scoring failed. The score on this train-test partition for these parameters will be set to nan. Details: \n",
      "Traceback (most recent call last):\n",
      "  File \"/Users/meiralelov/opt/anaconda3/envs/tf/lib/python3.7/site-packages/sklearn/model_selection/_validation.py\", line 761, in _score\n",
      "    scores = scorer(estimator, X_test, y_test)\n",
      "  File \"/Users/meiralelov/opt/anaconda3/envs/tf/lib/python3.7/site-packages/sklearn/metrics/_scorer.py\", line 103, in __call__\n",
      "    score = scorer._score(cached_call, estimator, *args, **kwargs)\n",
      "  File \"/Users/meiralelov/opt/anaconda3/envs/tf/lib/python3.7/site-packages/sklearn/metrics/_scorer.py\", line 264, in _score\n",
      "    return self._sign * self._score_func(y_true, y_pred, **self._kwargs)\n",
      "  File \"/Users/meiralelov/opt/anaconda3/envs/tf/lib/python3.7/site-packages/sklearn/metrics/_classification.py\", line 1765, in precision_score\n",
      "    zero_division=zero_division,\n",
      "  File \"/Users/meiralelov/opt/anaconda3/envs/tf/lib/python3.7/site-packages/sklearn/metrics/_classification.py\", line 1544, in precision_recall_fscore_support\n",
      "    labels = _check_set_wise_labels(y_true, y_pred, average, labels, pos_label)\n",
      "  File \"/Users/meiralelov/opt/anaconda3/envs/tf/lib/python3.7/site-packages/sklearn/metrics/_classification.py\", line 1367, in _check_set_wise_labels\n",
      "    \"choose another average setting, one of %r.\" % (y_type, average_options)\n",
      "ValueError: Target is multiclass but average='binary'. Please choose another average setting, one of [None, 'micro', 'macro', 'weighted'].\n",
      "\n",
      "  UserWarning,\n",
      "/Users/meiralelov/opt/anaconda3/envs/tf/lib/python3.7/site-packages/sklearn/model_selection/_validation.py:774: UserWarning: Scoring failed. The score on this train-test partition for these parameters will be set to nan. Details: \n",
      "Traceback (most recent call last):\n",
      "  File \"/Users/meiralelov/opt/anaconda3/envs/tf/lib/python3.7/site-packages/sklearn/model_selection/_validation.py\", line 761, in _score\n",
      "    scores = scorer(estimator, X_test, y_test)\n",
      "  File \"/Users/meiralelov/opt/anaconda3/envs/tf/lib/python3.7/site-packages/sklearn/metrics/_scorer.py\", line 103, in __call__\n",
      "    score = scorer._score(cached_call, estimator, *args, **kwargs)\n",
      "  File \"/Users/meiralelov/opt/anaconda3/envs/tf/lib/python3.7/site-packages/sklearn/metrics/_scorer.py\", line 264, in _score\n",
      "    return self._sign * self._score_func(y_true, y_pred, **self._kwargs)\n",
      "  File \"/Users/meiralelov/opt/anaconda3/envs/tf/lib/python3.7/site-packages/sklearn/metrics/_classification.py\", line 1765, in precision_score\n",
      "    zero_division=zero_division,\n",
      "  File \"/Users/meiralelov/opt/anaconda3/envs/tf/lib/python3.7/site-packages/sklearn/metrics/_classification.py\", line 1544, in precision_recall_fscore_support\n",
      "    labels = _check_set_wise_labels(y_true, y_pred, average, labels, pos_label)\n",
      "  File \"/Users/meiralelov/opt/anaconda3/envs/tf/lib/python3.7/site-packages/sklearn/metrics/_classification.py\", line 1367, in _check_set_wise_labels\n",
      "    \"choose another average setting, one of %r.\" % (y_type, average_options)\n",
      "ValueError: Target is multiclass but average='binary'. Please choose another average setting, one of [None, 'micro', 'macro', 'weighted'].\n",
      "\n",
      "  UserWarning,\n",
      "/Users/meiralelov/opt/anaconda3/envs/tf/lib/python3.7/site-packages/sklearn/model_selection/_validation.py:774: UserWarning: Scoring failed. The score on this train-test partition for these parameters will be set to nan. Details: \n",
      "Traceback (most recent call last):\n",
      "  File \"/Users/meiralelov/opt/anaconda3/envs/tf/lib/python3.7/site-packages/sklearn/model_selection/_validation.py\", line 761, in _score\n",
      "    scores = scorer(estimator, X_test, y_test)\n",
      "  File \"/Users/meiralelov/opt/anaconda3/envs/tf/lib/python3.7/site-packages/sklearn/metrics/_scorer.py\", line 103, in __call__\n",
      "    score = scorer._score(cached_call, estimator, *args, **kwargs)\n",
      "  File \"/Users/meiralelov/opt/anaconda3/envs/tf/lib/python3.7/site-packages/sklearn/metrics/_scorer.py\", line 264, in _score\n",
      "    return self._sign * self._score_func(y_true, y_pred, **self._kwargs)\n",
      "  File \"/Users/meiralelov/opt/anaconda3/envs/tf/lib/python3.7/site-packages/sklearn/metrics/_classification.py\", line 1765, in precision_score\n",
      "    zero_division=zero_division,\n",
      "  File \"/Users/meiralelov/opt/anaconda3/envs/tf/lib/python3.7/site-packages/sklearn/metrics/_classification.py\", line 1544, in precision_recall_fscore_support\n",
      "    labels = _check_set_wise_labels(y_true, y_pred, average, labels, pos_label)\n",
      "  File \"/Users/meiralelov/opt/anaconda3/envs/tf/lib/python3.7/site-packages/sklearn/metrics/_classification.py\", line 1367, in _check_set_wise_labels\n",
      "    \"choose another average setting, one of %r.\" % (y_type, average_options)\n",
      "ValueError: Target is multiclass but average='binary'. Please choose another average setting, one of [None, 'micro', 'macro', 'weighted'].\n",
      "\n",
      "  UserWarning,\n"
     ]
    },
    {
     "name": "stdout",
     "output_type": "stream",
     "text": [
      "[CV 5/5] END rfc__max_depth=19, rfc__n_estimators=110; accuracy: (test=nan) neg_log_loss: (test=nan) precision: (test=nan) total time=   0.5s\n",
      "[CV 5/5] END rfc__max_depth=19, rfc__n_estimators=120; accuracy: (test=nan) neg_log_loss: (test=nan) precision: (test=nan) total time=   0.5s\n",
      "[CV 5/5] END rfc__max_depth=20, rfc__n_estimators=115; accuracy: (test=nan) neg_log_loss: (test=nan) precision: (test=nan) total time=   0.5s\n",
      "[CV 2/5] END rfc__max_depth=21, rfc__n_estimators=115; accuracy: (test=nan) neg_log_loss: (test=nan) precision: (test=nan) total time=   0.6s\n",
      "[CV 3/5] END rfc__max_depth=19, rfc__n_estimators=115; accuracy: (test=0.846) neg_log_loss: (test=-0.393) total time=   0.5s\n",
      "[CV 4/5] END rfc__max_depth=20, rfc__n_estimators=110; accuracy: (test=0.862) neg_log_loss: (test=-0.373) total time=   0.5s\n",
      "[CV 4/5] END rfc__max_depth=20, rfc__n_estimators=120; accuracy: (test=0.866) neg_log_loss: (test=-0.373) total time=   0.6s\n",
      "[CV 4/5] END rfc__max_depth=21, rfc__n_estimators=115; accuracy: (test=0.865) neg_log_loss: (test=-0.369) total time=   0.5s\n",
      "[CV 5/5] END rfc__max_depth=19, rfc__n_estimators=110; accuracy: (test=0.871) neg_log_loss: (test=-0.395) total time=   0.5s\n",
      "[CV 1/5] END rfc__max_depth=19, rfc__n_estimators=120; accuracy: (test=0.855) neg_log_loss: (test=-0.381) total time=   0.5s\n",
      "[CV 2/5] END rfc__max_depth=20, rfc__n_estimators=115; accuracy: (test=0.850) neg_log_loss: (test=-0.385) total time=   0.5s\n",
      "[CV 4/5] END rfc__max_depth=21, rfc__n_estimators=110; accuracy: (test=0.865) neg_log_loss: (test=-0.370) total time=   0.6s\n",
      "[CV 4/5] END rfc__max_depth=19, rfc__n_estimators=115; accuracy: (test=0.865) neg_log_loss: (test=-0.379) total time=   0.5s\n",
      "[CV 4/5] END rfc__max_depth=20, rfc__n_estimators=110; accuracy: (test=0.862) neg_log_loss: (test=-0.373) total time=   0.5s\n",
      "[CV 2/5] END rfc__max_depth=20, rfc__n_estimators=120; accuracy: (test=0.850) neg_log_loss: (test=-0.385) total time=   0.5s\n",
      "[CV 1/5] END rfc__max_depth=21, rfc__n_estimators=115; accuracy: (test=0.846) neg_log_loss: (test=-0.367) total time=   0.5s\n",
      "[CV 1/5] END gbc__max_depth=14, gbc__n_estimators=90;, score=0.846 total time=  11.7s\n",
      "[CV 4/5] END gbc__max_depth=14, gbc__n_estimators=110;, score=0.864 total time=  13.5s\n",
      "[CV 2/5] END gbc__max_depth=15, gbc__n_estimators=110;, score=0.842 total time=  13.9s\n",
      "[CV 1/5] END gbc__max_depth=16, gbc__n_estimators=100;, score=0.845 total time=  14.1s\n",
      "[CV 3/5] END rfc__max_depth=19, rfc__n_estimators=115; accuracy: (test=nan) neg_log_loss: (test=nan) precision: (test=nan) total time=   0.4s\n",
      "[CV 3/5] END rfc__max_depth=19, rfc__n_estimators=120; accuracy: (test=nan) neg_log_loss: (test=nan) precision: (test=nan) total time=   0.5s\n",
      "[CV 1/5] END rfc__max_depth=20, rfc__n_estimators=120; accuracy: (test=nan) neg_log_loss: (test=nan) precision: (test=nan) total time=   0.4s\n",
      "[CV 4/5] END rfc__max_depth=21, rfc__n_estimators=110; accuracy: (test=nan) neg_log_loss: (test=nan) precision: (test=nan) total time=   0.4s\n",
      "[CV 4/5] END rfc__max_depth=21, rfc__n_estimators=120; accuracy: (test=nan) neg_log_loss: (test=nan) precision: (test=nan) total time=   0.4s\n",
      "[CV 2/5] END rfc__max_depth=19, rfc__n_estimators=115; accuracy: (test=0.850) neg_log_loss: (test=-0.390) total time=   0.5s\n",
      "[CV 3/5] END rfc__max_depth=20, rfc__n_estimators=110; accuracy: (test=0.852) neg_log_loss: (test=-0.382) total time=   0.5s\n",
      "[CV 2/5] END rfc__max_depth=20, rfc__n_estimators=120; accuracy: (test=0.850) neg_log_loss: (test=-0.385) total time=   0.5s\n",
      "[CV 4/5] END rfc__max_depth=21, rfc__n_estimators=110; accuracy: (test=0.865) neg_log_loss: (test=-0.370) total time=   0.5s\n",
      "[CV 3/5] END rfc__max_depth=21, rfc__n_estimators=120; accuracy: (test=0.847) neg_log_loss: (test=-0.380) total time=   0.4s\n",
      "[CV 4/5] END rfc__max_depth=19, rfc__n_estimators=110; accuracy: (test=0.867) neg_log_loss: (test=-0.380) total time=   0.5s\n",
      "[CV 4/5] END rfc__max_depth=19, rfc__n_estimators=120; accuracy: (test=0.867) neg_log_loss: (test=-0.378) total time=   0.5s\n",
      "[CV 3/5] END rfc__max_depth=20, rfc__n_estimators=120; accuracy: (test=0.850) neg_log_loss: (test=-0.382) total time=   0.6s\n",
      "[CV 5/5] END rfc__max_depth=21, rfc__n_estimators=115; accuracy: (test=0.882) neg_log_loss: (test=-0.386) total time=   0.5s\n",
      "[CV 3/5] END rfc__max_depth=19, rfc__n_estimators=115; accuracy: (test=0.846) neg_log_loss: (test=-0.393) total time=   0.5s\n",
      "[CV 5/5] END rfc__max_depth=19, rfc__n_estimators=120; accuracy: (test=0.872) neg_log_loss: (test=-0.395) total time=   0.6s\n",
      "[CV 5/5] END rfc__max_depth=20, rfc__n_estimators=120; accuracy: (test=0.877) neg_log_loss: (test=-0.388) total time=   0.5s\n",
      "[CV 5/5] END rfc__max_depth=21, rfc__n_estimators=115; accuracy: (test=0.882) neg_log_loss: (test=-0.386) total time=   0.5s\n",
      "[CV 4/5] END gbc__max_depth=14, gbc__n_estimators=100;, score=0.862 total time=  12.5s\n",
      "[CV 1/5] END gbc__max_depth=15, gbc__n_estimators=90;, score=0.854 total time=  12.7s\n",
      "[CV 1/5] END gbc__max_depth=15, gbc__n_estimators=110;, score=0.850 total time=  14.9s\n",
      "[CV 2/5] END gbc__max_depth=16, gbc__n_estimators=100;, score=0.831 total time=  14.1s\n",
      "[CV 4/5] END rfc__max_depth=19, rfc__n_estimators=115; accuracy: (test=nan) neg_log_loss: (test=nan) precision: (test=nan) total time=   0.6s\n",
      "[CV 5/5] END rfc__max_depth=20, rfc__n_estimators=110; accuracy: (test=nan) neg_log_loss: (test=nan) precision: (test=nan) total time=   0.5s\n",
      "[CV 5/5] END rfc__max_depth=20, rfc__n_estimators=120; accuracy: (test=nan) neg_log_loss: (test=nan) precision: (test=nan) total time=   0.5s\n",
      "[CV 5/5] END rfc__max_depth=21, rfc__n_estimators=115; accuracy: (test=nan) neg_log_loss: (test=nan) precision: (test=nan) total time=   0.5s\n",
      "[CV 5/5] END rfc__max_depth=19, rfc__n_estimators=110; accuracy: (test=0.871) neg_log_loss: (test=-0.395) total time=   0.5s\n",
      "[CV 4/5] END rfc__max_depth=19, rfc__n_estimators=120; accuracy: (test=0.867) neg_log_loss: (test=-0.378) total time=   0.5s\n",
      "[CV 3/5] END rfc__max_depth=20, rfc__n_estimators=115; accuracy: (test=0.847) neg_log_loss: (test=-0.382) total time=   0.5s\n",
      "[CV 2/5] END rfc__max_depth=21, rfc__n_estimators=110; accuracy: (test=0.855) neg_log_loss: (test=-0.417) total time=   0.5s\n",
      "[CV 1/5] END rfc__max_depth=19, rfc__n_estimators=110; accuracy: (test=0.855) neg_log_loss: (test=-0.381) total time=   0.5s\n",
      "[CV 3/5] END rfc__max_depth=19, rfc__n_estimators=120; accuracy: (test=0.846) neg_log_loss: (test=-0.392) total time=   0.5s\n",
      "[CV 3/5] END rfc__max_depth=20, rfc__n_estimators=115; accuracy: (test=0.847) neg_log_loss: (test=-0.382) total time=   0.5s\n",
      "[CV 3/5] END rfc__max_depth=21, rfc__n_estimators=110; accuracy: (test=0.846) neg_log_loss: (test=-0.380) total time=   0.5s\n",
      "[CV 4/5] END rfc__max_depth=21, rfc__n_estimators=120; accuracy: (test=0.861) neg_log_loss: (test=-0.368) total time=   0.5s\n",
      "[CV 2/5] END rfc__max_depth=19, rfc__n_estimators=115; accuracy: (test=0.850) neg_log_loss: (test=-0.390) total time=   0.5s\n",
      "[CV 5/5] END rfc__max_depth=20, rfc__n_estimators=110; accuracy: (test=0.881) neg_log_loss: (test=-0.390) total time=   0.5s\n",
      "[CV 4/5] END rfc__max_depth=20, rfc__n_estimators=120; accuracy: (test=0.866) neg_log_loss: (test=-0.373) total time=   0.5s\n",
      "[CV 4/5] END rfc__max_depth=21, rfc__n_estimators=115; accuracy: (test=0.865) neg_log_loss: (test=-0.369) total time=   0.5s\n",
      "[CV 5/5] END gbc__max_depth=14, gbc__n_estimators=90;, score=0.871 total time=  11.7s\n",
      "[CV 5/5] END gbc__max_depth=14, gbc__n_estimators=110;, score=0.879 total time=  14.1s\n",
      "[CV 4/5] END gbc__max_depth=15, gbc__n_estimators=110;, score=0.866 total time=  14.2s\n",
      "[CV 3/5] END gbc__max_depth=16, gbc__n_estimators=100;, score=0.849 total time=  14.2s\n"
     ]
    },
    {
     "name": "stderr",
     "output_type": "stream",
     "text": [
      "/Users/meiralelov/opt/anaconda3/envs/tf/lib/python3.7/site-packages/sklearn/model_selection/_validation.py:774: UserWarning: Scoring failed. The score on this train-test partition for these parameters will be set to nan. Details: \n",
      "Traceback (most recent call last):\n",
      "  File \"/Users/meiralelov/opt/anaconda3/envs/tf/lib/python3.7/site-packages/sklearn/model_selection/_validation.py\", line 761, in _score\n",
      "    scores = scorer(estimator, X_test, y_test)\n",
      "  File \"/Users/meiralelov/opt/anaconda3/envs/tf/lib/python3.7/site-packages/sklearn/metrics/_scorer.py\", line 103, in __call__\n",
      "    score = scorer._score(cached_call, estimator, *args, **kwargs)\n",
      "  File \"/Users/meiralelov/opt/anaconda3/envs/tf/lib/python3.7/site-packages/sklearn/metrics/_scorer.py\", line 264, in _score\n",
      "    return self._sign * self._score_func(y_true, y_pred, **self._kwargs)\n",
      "  File \"/Users/meiralelov/opt/anaconda3/envs/tf/lib/python3.7/site-packages/sklearn/metrics/_classification.py\", line 1765, in precision_score\n",
      "    zero_division=zero_division,\n",
      "  File \"/Users/meiralelov/opt/anaconda3/envs/tf/lib/python3.7/site-packages/sklearn/metrics/_classification.py\", line 1544, in precision_recall_fscore_support\n",
      "    labels = _check_set_wise_labels(y_true, y_pred, average, labels, pos_label)\n",
      "  File \"/Users/meiralelov/opt/anaconda3/envs/tf/lib/python3.7/site-packages/sklearn/metrics/_classification.py\", line 1367, in _check_set_wise_labels\n",
      "    \"choose another average setting, one of %r.\" % (y_type, average_options)\n",
      "ValueError: Target is multiclass but average='binary'. Please choose another average setting, one of [None, 'micro', 'macro', 'weighted'].\n",
      "\n",
      "  UserWarning,\n",
      "/Users/meiralelov/opt/anaconda3/envs/tf/lib/python3.7/site-packages/sklearn/model_selection/_validation.py:774: UserWarning: Scoring failed. The score on this train-test partition for these parameters will be set to nan. Details: \n",
      "Traceback (most recent call last):\n",
      "  File \"/Users/meiralelov/opt/anaconda3/envs/tf/lib/python3.7/site-packages/sklearn/model_selection/_validation.py\", line 761, in _score\n",
      "    scores = scorer(estimator, X_test, y_test)\n",
      "  File \"/Users/meiralelov/opt/anaconda3/envs/tf/lib/python3.7/site-packages/sklearn/metrics/_scorer.py\", line 103, in __call__\n",
      "    score = scorer._score(cached_call, estimator, *args, **kwargs)\n",
      "  File \"/Users/meiralelov/opt/anaconda3/envs/tf/lib/python3.7/site-packages/sklearn/metrics/_scorer.py\", line 264, in _score\n",
      "    return self._sign * self._score_func(y_true, y_pred, **self._kwargs)\n",
      "  File \"/Users/meiralelov/opt/anaconda3/envs/tf/lib/python3.7/site-packages/sklearn/metrics/_classification.py\", line 1765, in precision_score\n",
      "    zero_division=zero_division,\n",
      "  File \"/Users/meiralelov/opt/anaconda3/envs/tf/lib/python3.7/site-packages/sklearn/metrics/_classification.py\", line 1544, in precision_recall_fscore_support\n",
      "    labels = _check_set_wise_labels(y_true, y_pred, average, labels, pos_label)\n",
      "  File \"/Users/meiralelov/opt/anaconda3/envs/tf/lib/python3.7/site-packages/sklearn/metrics/_classification.py\", line 1367, in _check_set_wise_labels\n",
      "    \"choose another average setting, one of %r.\" % (y_type, average_options)\n",
      "ValueError: Target is multiclass but average='binary'. Please choose another average setting, one of [None, 'micro', 'macro', 'weighted'].\n",
      "\n",
      "  UserWarning,\n",
      "/Users/meiralelov/opt/anaconda3/envs/tf/lib/python3.7/site-packages/sklearn/model_selection/_validation.py:774: UserWarning: Scoring failed. The score on this train-test partition for these parameters will be set to nan. Details: \n",
      "Traceback (most recent call last):\n",
      "  File \"/Users/meiralelov/opt/anaconda3/envs/tf/lib/python3.7/site-packages/sklearn/model_selection/_validation.py\", line 761, in _score\n",
      "    scores = scorer(estimator, X_test, y_test)\n",
      "  File \"/Users/meiralelov/opt/anaconda3/envs/tf/lib/python3.7/site-packages/sklearn/metrics/_scorer.py\", line 103, in __call__\n",
      "    score = scorer._score(cached_call, estimator, *args, **kwargs)\n",
      "  File \"/Users/meiralelov/opt/anaconda3/envs/tf/lib/python3.7/site-packages/sklearn/metrics/_scorer.py\", line 264, in _score\n",
      "    return self._sign * self._score_func(y_true, y_pred, **self._kwargs)\n",
      "  File \"/Users/meiralelov/opt/anaconda3/envs/tf/lib/python3.7/site-packages/sklearn/metrics/_classification.py\", line 1765, in precision_score\n",
      "    zero_division=zero_division,\n",
      "  File \"/Users/meiralelov/opt/anaconda3/envs/tf/lib/python3.7/site-packages/sklearn/metrics/_classification.py\", line 1544, in precision_recall_fscore_support\n",
      "    labels = _check_set_wise_labels(y_true, y_pred, average, labels, pos_label)\n",
      "  File \"/Users/meiralelov/opt/anaconda3/envs/tf/lib/python3.7/site-packages/sklearn/metrics/_classification.py\", line 1367, in _check_set_wise_labels\n",
      "    \"choose another average setting, one of %r.\" % (y_type, average_options)\n",
      "ValueError: Target is multiclass but average='binary'. Please choose another average setting, one of [None, 'micro', 'macro', 'weighted'].\n",
      "\n",
      "  UserWarning,\n",
      "/Users/meiralelov/opt/anaconda3/envs/tf/lib/python3.7/site-packages/sklearn/model_selection/_validation.py:774: UserWarning: Scoring failed. The score on this train-test partition for these parameters will be set to nan. Details: \n",
      "Traceback (most recent call last):\n",
      "  File \"/Users/meiralelov/opt/anaconda3/envs/tf/lib/python3.7/site-packages/sklearn/model_selection/_validation.py\", line 761, in _score\n",
      "    scores = scorer(estimator, X_test, y_test)\n",
      "  File \"/Users/meiralelov/opt/anaconda3/envs/tf/lib/python3.7/site-packages/sklearn/metrics/_scorer.py\", line 103, in __call__\n",
      "    score = scorer._score(cached_call, estimator, *args, **kwargs)\n",
      "  File \"/Users/meiralelov/opt/anaconda3/envs/tf/lib/python3.7/site-packages/sklearn/metrics/_scorer.py\", line 264, in _score\n",
      "    return self._sign * self._score_func(y_true, y_pred, **self._kwargs)\n",
      "  File \"/Users/meiralelov/opt/anaconda3/envs/tf/lib/python3.7/site-packages/sklearn/metrics/_classification.py\", line 1765, in precision_score\n",
      "    zero_division=zero_division,\n",
      "  File \"/Users/meiralelov/opt/anaconda3/envs/tf/lib/python3.7/site-packages/sklearn/metrics/_classification.py\", line 1544, in precision_recall_fscore_support\n",
      "    labels = _check_set_wise_labels(y_true, y_pred, average, labels, pos_label)\n",
      "  File \"/Users/meiralelov/opt/anaconda3/envs/tf/lib/python3.7/site-packages/sklearn/metrics/_classification.py\", line 1367, in _check_set_wise_labels\n",
      "    \"choose another average setting, one of %r.\" % (y_type, average_options)\n",
      "ValueError: Target is multiclass but average='binary'. Please choose another average setting, one of [None, 'micro', 'macro', 'weighted'].\n",
      "\n",
      "  UserWarning,\n",
      "/Users/meiralelov/opt/anaconda3/envs/tf/lib/python3.7/site-packages/sklearn/model_selection/_validation.py:774: UserWarning: Scoring failed. The score on this train-test partition for these parameters will be set to nan. Details: \n",
      "Traceback (most recent call last):\n",
      "  File \"/Users/meiralelov/opt/anaconda3/envs/tf/lib/python3.7/site-packages/sklearn/model_selection/_validation.py\", line 761, in _score\n",
      "    scores = scorer(estimator, X_test, y_test)\n",
      "  File \"/Users/meiralelov/opt/anaconda3/envs/tf/lib/python3.7/site-packages/sklearn/metrics/_scorer.py\", line 103, in __call__\n",
      "    score = scorer._score(cached_call, estimator, *args, **kwargs)\n",
      "  File \"/Users/meiralelov/opt/anaconda3/envs/tf/lib/python3.7/site-packages/sklearn/metrics/_scorer.py\", line 264, in _score\n",
      "    return self._sign * self._score_func(y_true, y_pred, **self._kwargs)\n",
      "  File \"/Users/meiralelov/opt/anaconda3/envs/tf/lib/python3.7/site-packages/sklearn/metrics/_classification.py\", line 1765, in precision_score\n",
      "    zero_division=zero_division,\n",
      "  File \"/Users/meiralelov/opt/anaconda3/envs/tf/lib/python3.7/site-packages/sklearn/metrics/_classification.py\", line 1544, in precision_recall_fscore_support\n",
      "    labels = _check_set_wise_labels(y_true, y_pred, average, labels, pos_label)\n",
      "  File \"/Users/meiralelov/opt/anaconda3/envs/tf/lib/python3.7/site-packages/sklearn/metrics/_classification.py\", line 1367, in _check_set_wise_labels\n",
      "    \"choose another average setting, one of %r.\" % (y_type, average_options)\n",
      "ValueError: Target is multiclass but average='binary'. Please choose another average setting, one of [None, 'micro', 'macro', 'weighted'].\n",
      "\n",
      "  UserWarning,\n",
      "/Users/meiralelov/opt/anaconda3/envs/tf/lib/python3.7/site-packages/sklearn/model_selection/_validation.py:774: UserWarning: Scoring failed. The score on this train-test partition for these parameters will be set to nan. Details: \n",
      "Traceback (most recent call last):\n",
      "  File \"/Users/meiralelov/opt/anaconda3/envs/tf/lib/python3.7/site-packages/sklearn/model_selection/_validation.py\", line 761, in _score\n",
      "    scores = scorer(estimator, X_test, y_test)\n",
      "  File \"/Users/meiralelov/opt/anaconda3/envs/tf/lib/python3.7/site-packages/sklearn/metrics/_scorer.py\", line 103, in __call__\n",
      "    score = scorer._score(cached_call, estimator, *args, **kwargs)\n",
      "  File \"/Users/meiralelov/opt/anaconda3/envs/tf/lib/python3.7/site-packages/sklearn/metrics/_scorer.py\", line 264, in _score\n",
      "    return self._sign * self._score_func(y_true, y_pred, **self._kwargs)\n",
      "  File \"/Users/meiralelov/opt/anaconda3/envs/tf/lib/python3.7/site-packages/sklearn/metrics/_classification.py\", line 1765, in precision_score\n",
      "    zero_division=zero_division,\n",
      "  File \"/Users/meiralelov/opt/anaconda3/envs/tf/lib/python3.7/site-packages/sklearn/metrics/_classification.py\", line 1544, in precision_recall_fscore_support\n",
      "    labels = _check_set_wise_labels(y_true, y_pred, average, labels, pos_label)\n",
      "  File \"/Users/meiralelov/opt/anaconda3/envs/tf/lib/python3.7/site-packages/sklearn/metrics/_classification.py\", line 1367, in _check_set_wise_labels\n",
      "    \"choose another average setting, one of %r.\" % (y_type, average_options)\n",
      "ValueError: Target is multiclass but average='binary'. Please choose another average setting, one of [None, 'micro', 'macro', 'weighted'].\n",
      "\n",
      "  UserWarning,\n",
      "/Users/meiralelov/opt/anaconda3/envs/tf/lib/python3.7/site-packages/sklearn/model_selection/_validation.py:774: UserWarning: Scoring failed. The score on this train-test partition for these parameters will be set to nan. Details: \n",
      "Traceback (most recent call last):\n",
      "  File \"/Users/meiralelov/opt/anaconda3/envs/tf/lib/python3.7/site-packages/sklearn/model_selection/_validation.py\", line 761, in _score\n",
      "    scores = scorer(estimator, X_test, y_test)\n",
      "  File \"/Users/meiralelov/opt/anaconda3/envs/tf/lib/python3.7/site-packages/sklearn/metrics/_scorer.py\", line 103, in __call__\n",
      "    score = scorer._score(cached_call, estimator, *args, **kwargs)\n",
      "  File \"/Users/meiralelov/opt/anaconda3/envs/tf/lib/python3.7/site-packages/sklearn/metrics/_scorer.py\", line 264, in _score\n",
      "    return self._sign * self._score_func(y_true, y_pred, **self._kwargs)\n",
      "  File \"/Users/meiralelov/opt/anaconda3/envs/tf/lib/python3.7/site-packages/sklearn/metrics/_classification.py\", line 1765, in precision_score\n",
      "    zero_division=zero_division,\n",
      "  File \"/Users/meiralelov/opt/anaconda3/envs/tf/lib/python3.7/site-packages/sklearn/metrics/_classification.py\", line 1544, in precision_recall_fscore_support\n",
      "    labels = _check_set_wise_labels(y_true, y_pred, average, labels, pos_label)\n",
      "  File \"/Users/meiralelov/opt/anaconda3/envs/tf/lib/python3.7/site-packages/sklearn/metrics/_classification.py\", line 1367, in _check_set_wise_labels\n",
      "    \"choose another average setting, one of %r.\" % (y_type, average_options)\n",
      "ValueError: Target is multiclass but average='binary'. Please choose another average setting, one of [None, 'micro', 'macro', 'weighted'].\n",
      "\n",
      "  UserWarning,\n",
      "/Users/meiralelov/opt/anaconda3/envs/tf/lib/python3.7/site-packages/sklearn/model_selection/_validation.py:774: UserWarning: Scoring failed. The score on this train-test partition for these parameters will be set to nan. Details: \n",
      "Traceback (most recent call last):\n",
      "  File \"/Users/meiralelov/opt/anaconda3/envs/tf/lib/python3.7/site-packages/sklearn/model_selection/_validation.py\", line 761, in _score\n",
      "    scores = scorer(estimator, X_test, y_test)\n",
      "  File \"/Users/meiralelov/opt/anaconda3/envs/tf/lib/python3.7/site-packages/sklearn/metrics/_scorer.py\", line 103, in __call__\n",
      "    score = scorer._score(cached_call, estimator, *args, **kwargs)\n",
      "  File \"/Users/meiralelov/opt/anaconda3/envs/tf/lib/python3.7/site-packages/sklearn/metrics/_scorer.py\", line 264, in _score\n",
      "    return self._sign * self._score_func(y_true, y_pred, **self._kwargs)\n",
      "  File \"/Users/meiralelov/opt/anaconda3/envs/tf/lib/python3.7/site-packages/sklearn/metrics/_classification.py\", line 1765, in precision_score\n",
      "    zero_division=zero_division,\n",
      "  File \"/Users/meiralelov/opt/anaconda3/envs/tf/lib/python3.7/site-packages/sklearn/metrics/_classification.py\", line 1544, in precision_recall_fscore_support\n",
      "    labels = _check_set_wise_labels(y_true, y_pred, average, labels, pos_label)\n",
      "  File \"/Users/meiralelov/opt/anaconda3/envs/tf/lib/python3.7/site-packages/sklearn/metrics/_classification.py\", line 1367, in _check_set_wise_labels\n",
      "    \"choose another average setting, one of %r.\" % (y_type, average_options)\n",
      "ValueError: Target is multiclass but average='binary'. Please choose another average setting, one of [None, 'micro', 'macro', 'weighted'].\n",
      "\n",
      "  UserWarning,\n",
      "/Users/meiralelov/opt/anaconda3/envs/tf/lib/python3.7/site-packages/sklearn/model_selection/_validation.py:774: UserWarning: Scoring failed. The score on this train-test partition for these parameters will be set to nan. Details: \n",
      "Traceback (most recent call last):\n",
      "  File \"/Users/meiralelov/opt/anaconda3/envs/tf/lib/python3.7/site-packages/sklearn/model_selection/_validation.py\", line 761, in _score\n",
      "    scores = scorer(estimator, X_test, y_test)\n",
      "  File \"/Users/meiralelov/opt/anaconda3/envs/tf/lib/python3.7/site-packages/sklearn/metrics/_scorer.py\", line 103, in __call__\n",
      "    score = scorer._score(cached_call, estimator, *args, **kwargs)\n",
      "  File \"/Users/meiralelov/opt/anaconda3/envs/tf/lib/python3.7/site-packages/sklearn/metrics/_scorer.py\", line 264, in _score\n",
      "    return self._sign * self._score_func(y_true, y_pred, **self._kwargs)\n",
      "  File \"/Users/meiralelov/opt/anaconda3/envs/tf/lib/python3.7/site-packages/sklearn/metrics/_classification.py\", line 1765, in precision_score\n",
      "    zero_division=zero_division,\n",
      "  File \"/Users/meiralelov/opt/anaconda3/envs/tf/lib/python3.7/site-packages/sklearn/metrics/_classification.py\", line 1544, in precision_recall_fscore_support\n",
      "    labels = _check_set_wise_labels(y_true, y_pred, average, labels, pos_label)\n",
      "  File \"/Users/meiralelov/opt/anaconda3/envs/tf/lib/python3.7/site-packages/sklearn/metrics/_classification.py\", line 1367, in _check_set_wise_labels\n",
      "    \"choose another average setting, one of %r.\" % (y_type, average_options)\n",
      "ValueError: Target is multiclass but average='binary'. Please choose another average setting, one of [None, 'micro', 'macro', 'weighted'].\n",
      "\n",
      "  UserWarning,\n"
     ]
    },
    {
     "name": "stdout",
     "output_type": "stream",
     "text": [
      "[CV 1/5] END rfc__max_depth=19, rfc__n_estimators=115; accuracy: (test=nan) neg_log_loss: (test=nan) precision: (test=nan) total time=   0.4s\n",
      "[CV 2/5] END rfc__max_depth=19, rfc__n_estimators=120; accuracy: (test=nan) neg_log_loss: (test=nan) precision: (test=nan) total time=   0.5s\n",
      "[CV 1/5] END rfc__max_depth=20, rfc__n_estimators=115; accuracy: (test=nan) neg_log_loss: (test=nan) precision: (test=nan) total time=   0.5s\n",
      "[CV 2/5] END rfc__max_depth=21, rfc__n_estimators=110; accuracy: (test=nan) neg_log_loss: (test=nan) precision: (test=nan) total time=   0.4s\n",
      "[CV 2/5] END rfc__max_depth=21, rfc__n_estimators=120; accuracy: (test=nan) neg_log_loss: (test=nan) precision: (test=nan) total time=   0.4s\n",
      "[CV 3/5] END rfc__max_depth=19, rfc__n_estimators=110; accuracy: (test=0.846) neg_log_loss: (test=-0.392) total time=   0.5s\n",
      "[CV 3/5] END rfc__max_depth=19, rfc__n_estimators=120; accuracy: (test=0.846) neg_log_loss: (test=-0.392) total time=   0.5s\n",
      "[CV 2/5] END rfc__max_depth=20, rfc__n_estimators=115; accuracy: (test=0.850) neg_log_loss: (test=-0.385) total time=   0.5s\n",
      "[CV 1/5] END rfc__max_depth=21, rfc__n_estimators=115; accuracy: (test=0.846) neg_log_loss: (test=-0.367) total time=   0.5s\n",
      "[CV 5/5] END rfc__max_depth=21, rfc__n_estimators=120; accuracy: (test=0.880) neg_log_loss: (test=-0.387) total time=   0.4s\n",
      "[CV 1/5] END rfc__max_depth=19, rfc__n_estimators=115; accuracy: (test=0.854) neg_log_loss: (test=-0.381) total time=   0.5s\n",
      "[CV 5/5] END rfc__max_depth=19, rfc__n_estimators=120; accuracy: (test=0.872) neg_log_loss: (test=-0.395) total time=   0.5s\n",
      "[CV 5/5] END rfc__max_depth=20, rfc__n_estimators=115; accuracy: (test=0.884) neg_log_loss: (test=-0.388) total time=   0.5s\n",
      "[CV 2/5] END rfc__max_depth=21, rfc__n_estimators=110; accuracy: (test=0.855) neg_log_loss: (test=-0.417) total time=   0.5s\n",
      "[CV 2/5] END rfc__max_depth=21, rfc__n_estimators=120; accuracy: (test=0.855) neg_log_loss: (test=-0.383) total time=   0.5s\n",
      "[CV 3/5] END rfc__max_depth=19, rfc__n_estimators=110; accuracy: (test=0.846) neg_log_loss: (test=-0.392) total time=   0.5s\n",
      "[CV 1/5] END rfc__max_depth=20, rfc__n_estimators=110; accuracy: (test=0.854) neg_log_loss: (test=-0.373) total time=   0.5s\n",
      "[CV 4/5] END rfc__max_depth=20, rfc__n_estimators=115; accuracy: (test=0.865) neg_log_loss: (test=-0.372) total time=   0.6s\n",
      "[CV 4/5] END rfc__max_depth=21, rfc__n_estimators=110; accuracy: (test=0.865) neg_log_loss: (test=-0.370) total time=   0.4s\n",
      "[CV 3/5] END rfc__max_depth=21, rfc__n_estimators=120; accuracy: (test=0.847) neg_log_loss: (test=-0.380) total time=   0.4s\n",
      "[CV 3/5] END gbc__max_depth=14, gbc__n_estimators=100;, score=0.854 total time=  12.6s\n",
      "[CV 3/5] END gbc__max_depth=15, gbc__n_estimators=90;, score=0.842 total time=  12.9s\n",
      "[CV 3/5] END gbc__max_depth=15, gbc__n_estimators=110;, score=0.847 total time=  14.9s\n",
      "[CV 4/5] END gbc__max_depth=16, gbc__n_estimators=100;, score=0.856 total time=  14.1s\n"
     ]
    },
    {
     "name": "stderr",
     "output_type": "stream",
     "text": [
      "/Users/meiralelov/opt/anaconda3/envs/tf/lib/python3.7/site-packages/sklearn/model_selection/_validation.py:774: UserWarning: Scoring failed. The score on this train-test partition for these parameters will be set to nan. Details: \n",
      "Traceback (most recent call last):\n",
      "  File \"/Users/meiralelov/opt/anaconda3/envs/tf/lib/python3.7/site-packages/sklearn/model_selection/_validation.py\", line 761, in _score\n",
      "    scores = scorer(estimator, X_test, y_test)\n",
      "  File \"/Users/meiralelov/opt/anaconda3/envs/tf/lib/python3.7/site-packages/sklearn/metrics/_scorer.py\", line 103, in __call__\n",
      "    score = scorer._score(cached_call, estimator, *args, **kwargs)\n",
      "  File \"/Users/meiralelov/opt/anaconda3/envs/tf/lib/python3.7/site-packages/sklearn/metrics/_scorer.py\", line 264, in _score\n",
      "    return self._sign * self._score_func(y_true, y_pred, **self._kwargs)\n",
      "  File \"/Users/meiralelov/opt/anaconda3/envs/tf/lib/python3.7/site-packages/sklearn/metrics/_classification.py\", line 1765, in precision_score\n",
      "    zero_division=zero_division,\n",
      "  File \"/Users/meiralelov/opt/anaconda3/envs/tf/lib/python3.7/site-packages/sklearn/metrics/_classification.py\", line 1544, in precision_recall_fscore_support\n",
      "    labels = _check_set_wise_labels(y_true, y_pred, average, labels, pos_label)\n",
      "  File \"/Users/meiralelov/opt/anaconda3/envs/tf/lib/python3.7/site-packages/sklearn/metrics/_classification.py\", line 1367, in _check_set_wise_labels\n",
      "    \"choose another average setting, one of %r.\" % (y_type, average_options)\n",
      "ValueError: Target is multiclass but average='binary'. Please choose another average setting, one of [None, 'micro', 'macro', 'weighted'].\n",
      "\n",
      "  UserWarning,\n",
      "/Users/meiralelov/opt/anaconda3/envs/tf/lib/python3.7/site-packages/sklearn/model_selection/_validation.py:774: UserWarning: Scoring failed. The score on this train-test partition for these parameters will be set to nan. Details: \n",
      "Traceback (most recent call last):\n",
      "  File \"/Users/meiralelov/opt/anaconda3/envs/tf/lib/python3.7/site-packages/sklearn/model_selection/_validation.py\", line 761, in _score\n",
      "    scores = scorer(estimator, X_test, y_test)\n",
      "  File \"/Users/meiralelov/opt/anaconda3/envs/tf/lib/python3.7/site-packages/sklearn/metrics/_scorer.py\", line 103, in __call__\n",
      "    score = scorer._score(cached_call, estimator, *args, **kwargs)\n",
      "  File \"/Users/meiralelov/opt/anaconda3/envs/tf/lib/python3.7/site-packages/sklearn/metrics/_scorer.py\", line 264, in _score\n",
      "    return self._sign * self._score_func(y_true, y_pred, **self._kwargs)\n",
      "  File \"/Users/meiralelov/opt/anaconda3/envs/tf/lib/python3.7/site-packages/sklearn/metrics/_classification.py\", line 1765, in precision_score\n",
      "    zero_division=zero_division,\n",
      "  File \"/Users/meiralelov/opt/anaconda3/envs/tf/lib/python3.7/site-packages/sklearn/metrics/_classification.py\", line 1544, in precision_recall_fscore_support\n",
      "    labels = _check_set_wise_labels(y_true, y_pred, average, labels, pos_label)\n",
      "  File \"/Users/meiralelov/opt/anaconda3/envs/tf/lib/python3.7/site-packages/sklearn/metrics/_classification.py\", line 1367, in _check_set_wise_labels\n",
      "    \"choose another average setting, one of %r.\" % (y_type, average_options)\n",
      "ValueError: Target is multiclass but average='binary'. Please choose another average setting, one of [None, 'micro', 'macro', 'weighted'].\n",
      "\n",
      "  UserWarning,\n",
      "/Users/meiralelov/opt/anaconda3/envs/tf/lib/python3.7/site-packages/sklearn/model_selection/_validation.py:774: UserWarning: Scoring failed. The score on this train-test partition for these parameters will be set to nan. Details: \n",
      "Traceback (most recent call last):\n",
      "  File \"/Users/meiralelov/opt/anaconda3/envs/tf/lib/python3.7/site-packages/sklearn/model_selection/_validation.py\", line 761, in _score\n",
      "    scores = scorer(estimator, X_test, y_test)\n",
      "  File \"/Users/meiralelov/opt/anaconda3/envs/tf/lib/python3.7/site-packages/sklearn/metrics/_scorer.py\", line 103, in __call__\n",
      "    score = scorer._score(cached_call, estimator, *args, **kwargs)\n",
      "  File \"/Users/meiralelov/opt/anaconda3/envs/tf/lib/python3.7/site-packages/sklearn/metrics/_scorer.py\", line 264, in _score\n",
      "    return self._sign * self._score_func(y_true, y_pred, **self._kwargs)\n",
      "  File \"/Users/meiralelov/opt/anaconda3/envs/tf/lib/python3.7/site-packages/sklearn/metrics/_classification.py\", line 1765, in precision_score\n",
      "    zero_division=zero_division,\n",
      "  File \"/Users/meiralelov/opt/anaconda3/envs/tf/lib/python3.7/site-packages/sklearn/metrics/_classification.py\", line 1544, in precision_recall_fscore_support\n",
      "    labels = _check_set_wise_labels(y_true, y_pred, average, labels, pos_label)\n",
      "  File \"/Users/meiralelov/opt/anaconda3/envs/tf/lib/python3.7/site-packages/sklearn/metrics/_classification.py\", line 1367, in _check_set_wise_labels\n",
      "    \"choose another average setting, one of %r.\" % (y_type, average_options)\n",
      "ValueError: Target is multiclass but average='binary'. Please choose another average setting, one of [None, 'micro', 'macro', 'weighted'].\n",
      "\n",
      "  UserWarning,\n",
      "/Users/meiralelov/opt/anaconda3/envs/tf/lib/python3.7/site-packages/sklearn/model_selection/_validation.py:774: UserWarning: Scoring failed. The score on this train-test partition for these parameters will be set to nan. Details: \n",
      "Traceback (most recent call last):\n",
      "  File \"/Users/meiralelov/opt/anaconda3/envs/tf/lib/python3.7/site-packages/sklearn/model_selection/_validation.py\", line 761, in _score\n",
      "    scores = scorer(estimator, X_test, y_test)\n",
      "  File \"/Users/meiralelov/opt/anaconda3/envs/tf/lib/python3.7/site-packages/sklearn/metrics/_scorer.py\", line 103, in __call__\n",
      "    score = scorer._score(cached_call, estimator, *args, **kwargs)\n",
      "  File \"/Users/meiralelov/opt/anaconda3/envs/tf/lib/python3.7/site-packages/sklearn/metrics/_scorer.py\", line 264, in _score\n",
      "    return self._sign * self._score_func(y_true, y_pred, **self._kwargs)\n",
      "  File \"/Users/meiralelov/opt/anaconda3/envs/tf/lib/python3.7/site-packages/sklearn/metrics/_classification.py\", line 1765, in precision_score\n",
      "    zero_division=zero_division,\n",
      "  File \"/Users/meiralelov/opt/anaconda3/envs/tf/lib/python3.7/site-packages/sklearn/metrics/_classification.py\", line 1544, in precision_recall_fscore_support\n",
      "    labels = _check_set_wise_labels(y_true, y_pred, average, labels, pos_label)\n",
      "  File \"/Users/meiralelov/opt/anaconda3/envs/tf/lib/python3.7/site-packages/sklearn/metrics/_classification.py\", line 1367, in _check_set_wise_labels\n",
      "    \"choose another average setting, one of %r.\" % (y_type, average_options)\n",
      "ValueError: Target is multiclass but average='binary'. Please choose another average setting, one of [None, 'micro', 'macro', 'weighted'].\n",
      "\n",
      "  UserWarning,\n",
      "/Users/meiralelov/opt/anaconda3/envs/tf/lib/python3.7/site-packages/sklearn/model_selection/_validation.py:774: UserWarning: Scoring failed. The score on this train-test partition for these parameters will be set to nan. Details: \n",
      "Traceback (most recent call last):\n",
      "  File \"/Users/meiralelov/opt/anaconda3/envs/tf/lib/python3.7/site-packages/sklearn/model_selection/_validation.py\", line 761, in _score\n",
      "    scores = scorer(estimator, X_test, y_test)\n",
      "  File \"/Users/meiralelov/opt/anaconda3/envs/tf/lib/python3.7/site-packages/sklearn/metrics/_scorer.py\", line 103, in __call__\n",
      "    score = scorer._score(cached_call, estimator, *args, **kwargs)\n",
      "  File \"/Users/meiralelov/opt/anaconda3/envs/tf/lib/python3.7/site-packages/sklearn/metrics/_scorer.py\", line 264, in _score\n",
      "    return self._sign * self._score_func(y_true, y_pred, **self._kwargs)\n",
      "  File \"/Users/meiralelov/opt/anaconda3/envs/tf/lib/python3.7/site-packages/sklearn/metrics/_classification.py\", line 1765, in precision_score\n",
      "    zero_division=zero_division,\n",
      "  File \"/Users/meiralelov/opt/anaconda3/envs/tf/lib/python3.7/site-packages/sklearn/metrics/_classification.py\", line 1544, in precision_recall_fscore_support\n",
      "    labels = _check_set_wise_labels(y_true, y_pred, average, labels, pos_label)\n",
      "  File \"/Users/meiralelov/opt/anaconda3/envs/tf/lib/python3.7/site-packages/sklearn/metrics/_classification.py\", line 1367, in _check_set_wise_labels\n",
      "    \"choose another average setting, one of %r.\" % (y_type, average_options)\n",
      "ValueError: Target is multiclass but average='binary'. Please choose another average setting, one of [None, 'micro', 'macro', 'weighted'].\n",
      "\n",
      "  UserWarning,\n"
     ]
    },
    {
     "name": "stdout",
     "output_type": "stream",
     "text": [
      "[CV 2/5] END rfc__max_depth=19, rfc__n_estimators=115; accuracy: (test=nan) neg_log_loss: (test=nan) precision: (test=nan) total time=   0.6s\n",
      "[CV 4/5] END rfc__max_depth=20, rfc__n_estimators=110; accuracy: (test=nan) neg_log_loss: (test=nan) precision: (test=nan) total time=   0.4s\n",
      "[CV 2/5] END rfc__max_depth=20, rfc__n_estimators=120; accuracy: (test=nan) neg_log_loss: (test=nan) precision: (test=nan) total time=   0.5s\n",
      "[CV 1/5] END rfc__max_depth=21, rfc__n_estimators=115; accuracy: (test=nan) neg_log_loss: (test=nan) precision: (test=nan) total time=   0.5s\n",
      "[CV 1/5] END rfc__max_depth=19, rfc__n_estimators=110; accuracy: (test=0.855) neg_log_loss: (test=-0.381) total time=   0.5s\n",
      "[CV 1/5] END rfc__max_depth=20, rfc__n_estimators=110; accuracy: (test=0.854) neg_log_loss: (test=-0.373) total time=   0.5s\n",
      "[CV 4/5] END rfc__max_depth=20, rfc__n_estimators=115; accuracy: (test=0.865) neg_log_loss: (test=-0.372) total time=   0.5s\n",
      "[CV 1/5] END rfc__max_depth=21, rfc__n_estimators=110; accuracy: (test=0.845) neg_log_loss: (test=-0.367) total time=   0.5s\n",
      "[CV 2/5] END rfc__max_depth=21, rfc__n_estimators=120; accuracy: (test=0.855) neg_log_loss: (test=-0.383) total time=   0.4s\n",
      "[CV 5/5] END rfc__max_depth=19, rfc__n_estimators=115; accuracy: (test=0.870) neg_log_loss: (test=-0.395) total time=   0.6s\n",
      "[CV 5/5] END rfc__max_depth=20, rfc__n_estimators=110; accuracy: (test=0.881) neg_log_loss: (test=-0.390) total time=   0.5s\n",
      "[CV 5/5] END rfc__max_depth=20, rfc__n_estimators=120; accuracy: (test=0.877) neg_log_loss: (test=-0.388) total time=   0.5s\n",
      "[CV 4/5] END rfc__max_depth=21, rfc__n_estimators=115; accuracy: (test=0.865) neg_log_loss: (test=-0.369) total time=   0.5s\n",
      "[CV 4/5] END rfc__max_depth=19, rfc__n_estimators=110; accuracy: (test=0.867) neg_log_loss: (test=-0.380) total time=   0.5s\n",
      "[CV 2/5] END rfc__max_depth=19, rfc__n_estimators=120; accuracy: (test=0.849) neg_log_loss: (test=-0.390) total time=   0.5s\n",
      "[CV 1/5] END rfc__max_depth=20, rfc__n_estimators=120; accuracy: (test=0.856) neg_log_loss: (test=-0.372) total time=   0.5s\n",
      "[CV 5/5] END rfc__max_depth=21, rfc__n_estimators=110; accuracy: (test=0.880) neg_log_loss: (test=-0.387) total time=   0.5s\n",
      "[CV 5/5] END rfc__max_depth=21, rfc__n_estimators=120; accuracy: (test=0.880) neg_log_loss: (test=-0.387) total time=   0.5s\n",
      "[CV 5/5] END gbc__max_depth=14, gbc__n_estimators=100;, score=0.874 total time=  13.4s\n",
      "[CV 5/5] END gbc__max_depth=15, gbc__n_estimators=90;, score=0.876 total time=  13.0s\n",
      "[CV 5/5] END gbc__max_depth=15, gbc__n_estimators=110;, score=0.876 total time=  15.0s\n",
      "[CV 5/5] END gbc__max_depth=16, gbc__n_estimators=100;, score=0.870 total time=  14.3s\n"
     ]
    },
    {
     "name": "stderr",
     "output_type": "stream",
     "text": [
      "/Users/meiralelov/opt/anaconda3/envs/tf/lib/python3.7/site-packages/sklearn/model_selection/_validation.py:774: UserWarning: Scoring failed. The score on this train-test partition for these parameters will be set to nan. Details: \n",
      "Traceback (most recent call last):\n",
      "  File \"/Users/meiralelov/opt/anaconda3/envs/tf/lib/python3.7/site-packages/sklearn/model_selection/_validation.py\", line 761, in _score\n",
      "    scores = scorer(estimator, X_test, y_test)\n",
      "  File \"/Users/meiralelov/opt/anaconda3/envs/tf/lib/python3.7/site-packages/sklearn/metrics/_scorer.py\", line 103, in __call__\n",
      "    score = scorer._score(cached_call, estimator, *args, **kwargs)\n",
      "  File \"/Users/meiralelov/opt/anaconda3/envs/tf/lib/python3.7/site-packages/sklearn/metrics/_scorer.py\", line 264, in _score\n",
      "    return self._sign * self._score_func(y_true, y_pred, **self._kwargs)\n",
      "  File \"/Users/meiralelov/opt/anaconda3/envs/tf/lib/python3.7/site-packages/sklearn/metrics/_classification.py\", line 1765, in precision_score\n",
      "    zero_division=zero_division,\n",
      "  File \"/Users/meiralelov/opt/anaconda3/envs/tf/lib/python3.7/site-packages/sklearn/metrics/_classification.py\", line 1544, in precision_recall_fscore_support\n",
      "    labels = _check_set_wise_labels(y_true, y_pred, average, labels, pos_label)\n",
      "  File \"/Users/meiralelov/opt/anaconda3/envs/tf/lib/python3.7/site-packages/sklearn/metrics/_classification.py\", line 1367, in _check_set_wise_labels\n",
      "    \"choose another average setting, one of %r.\" % (y_type, average_options)\n",
      "ValueError: Target is multiclass but average='binary'. Please choose another average setting, one of [None, 'micro', 'macro', 'weighted'].\n",
      "\n",
      "  UserWarning,\n",
      "/Users/meiralelov/opt/anaconda3/envs/tf/lib/python3.7/site-packages/sklearn/model_selection/_validation.py:774: UserWarning: Scoring failed. The score on this train-test partition for these parameters will be set to nan. Details: \n",
      "Traceback (most recent call last):\n",
      "  File \"/Users/meiralelov/opt/anaconda3/envs/tf/lib/python3.7/site-packages/sklearn/model_selection/_validation.py\", line 761, in _score\n",
      "    scores = scorer(estimator, X_test, y_test)\n",
      "  File \"/Users/meiralelov/opt/anaconda3/envs/tf/lib/python3.7/site-packages/sklearn/metrics/_scorer.py\", line 103, in __call__\n",
      "    score = scorer._score(cached_call, estimator, *args, **kwargs)\n",
      "  File \"/Users/meiralelov/opt/anaconda3/envs/tf/lib/python3.7/site-packages/sklearn/metrics/_scorer.py\", line 264, in _score\n",
      "    return self._sign * self._score_func(y_true, y_pred, **self._kwargs)\n",
      "  File \"/Users/meiralelov/opt/anaconda3/envs/tf/lib/python3.7/site-packages/sklearn/metrics/_classification.py\", line 1765, in precision_score\n",
      "    zero_division=zero_division,\n",
      "  File \"/Users/meiralelov/opt/anaconda3/envs/tf/lib/python3.7/site-packages/sklearn/metrics/_classification.py\", line 1544, in precision_recall_fscore_support\n",
      "    labels = _check_set_wise_labels(y_true, y_pred, average, labels, pos_label)\n",
      "  File \"/Users/meiralelov/opt/anaconda3/envs/tf/lib/python3.7/site-packages/sklearn/metrics/_classification.py\", line 1367, in _check_set_wise_labels\n",
      "    \"choose another average setting, one of %r.\" % (y_type, average_options)\n",
      "ValueError: Target is multiclass but average='binary'. Please choose another average setting, one of [None, 'micro', 'macro', 'weighted'].\n",
      "\n",
      "  UserWarning,\n",
      "/Users/meiralelov/opt/anaconda3/envs/tf/lib/python3.7/site-packages/sklearn/model_selection/_validation.py:774: UserWarning: Scoring failed. The score on this train-test partition for these parameters will be set to nan. Details: \n",
      "Traceback (most recent call last):\n",
      "  File \"/Users/meiralelov/opt/anaconda3/envs/tf/lib/python3.7/site-packages/sklearn/model_selection/_validation.py\", line 761, in _score\n",
      "    scores = scorer(estimator, X_test, y_test)\n",
      "  File \"/Users/meiralelov/opt/anaconda3/envs/tf/lib/python3.7/site-packages/sklearn/metrics/_scorer.py\", line 103, in __call__\n",
      "    score = scorer._score(cached_call, estimator, *args, **kwargs)\n",
      "  File \"/Users/meiralelov/opt/anaconda3/envs/tf/lib/python3.7/site-packages/sklearn/metrics/_scorer.py\", line 264, in _score\n",
      "    return self._sign * self._score_func(y_true, y_pred, **self._kwargs)\n",
      "  File \"/Users/meiralelov/opt/anaconda3/envs/tf/lib/python3.7/site-packages/sklearn/metrics/_classification.py\", line 1765, in precision_score\n",
      "    zero_division=zero_division,\n",
      "  File \"/Users/meiralelov/opt/anaconda3/envs/tf/lib/python3.7/site-packages/sklearn/metrics/_classification.py\", line 1544, in precision_recall_fscore_support\n",
      "    labels = _check_set_wise_labels(y_true, y_pred, average, labels, pos_label)\n",
      "  File \"/Users/meiralelov/opt/anaconda3/envs/tf/lib/python3.7/site-packages/sklearn/metrics/_classification.py\", line 1367, in _check_set_wise_labels\n",
      "    \"choose another average setting, one of %r.\" % (y_type, average_options)\n",
      "ValueError: Target is multiclass but average='binary'. Please choose another average setting, one of [None, 'micro', 'macro', 'weighted'].\n",
      "\n",
      "  UserWarning,\n",
      "/Users/meiralelov/opt/anaconda3/envs/tf/lib/python3.7/site-packages/sklearn/model_selection/_validation.py:774: UserWarning: Scoring failed. The score on this train-test partition for these parameters will be set to nan. Details: \n",
      "Traceback (most recent call last):\n",
      "  File \"/Users/meiralelov/opt/anaconda3/envs/tf/lib/python3.7/site-packages/sklearn/model_selection/_validation.py\", line 761, in _score\n",
      "    scores = scorer(estimator, X_test, y_test)\n",
      "  File \"/Users/meiralelov/opt/anaconda3/envs/tf/lib/python3.7/site-packages/sklearn/metrics/_scorer.py\", line 103, in __call__\n",
      "    score = scorer._score(cached_call, estimator, *args, **kwargs)\n",
      "  File \"/Users/meiralelov/opt/anaconda3/envs/tf/lib/python3.7/site-packages/sklearn/metrics/_scorer.py\", line 264, in _score\n",
      "    return self._sign * self._score_func(y_true, y_pred, **self._kwargs)\n",
      "  File \"/Users/meiralelov/opt/anaconda3/envs/tf/lib/python3.7/site-packages/sklearn/metrics/_classification.py\", line 1765, in precision_score\n",
      "    zero_division=zero_division,\n",
      "  File \"/Users/meiralelov/opt/anaconda3/envs/tf/lib/python3.7/site-packages/sklearn/metrics/_classification.py\", line 1544, in precision_recall_fscore_support\n",
      "    labels = _check_set_wise_labels(y_true, y_pred, average, labels, pos_label)\n",
      "  File \"/Users/meiralelov/opt/anaconda3/envs/tf/lib/python3.7/site-packages/sklearn/metrics/_classification.py\", line 1367, in _check_set_wise_labels\n",
      "    \"choose another average setting, one of %r.\" % (y_type, average_options)\n",
      "ValueError: Target is multiclass but average='binary'. Please choose another average setting, one of [None, 'micro', 'macro', 'weighted'].\n",
      "\n",
      "  UserWarning,\n"
     ]
    },
    {
     "name": "stdout",
     "output_type": "stream",
     "text": [
      "[CV 5/5] END rfc__max_depth=19, rfc__n_estimators=115; accuracy: (test=nan) neg_log_loss: (test=nan) precision: (test=nan) total time=   0.5s\n",
      "[CV 3/5] END rfc__max_depth=20, rfc__n_estimators=110; accuracy: (test=nan) neg_log_loss: (test=nan) precision: (test=nan) total time=   0.5s\n",
      "[CV 4/5] END rfc__max_depth=20, rfc__n_estimators=120; accuracy: (test=nan) neg_log_loss: (test=nan) precision: (test=nan) total time=   0.5s\n",
      "[CV 4/5] END rfc__max_depth=21, rfc__n_estimators=115; accuracy: (test=nan) neg_log_loss: (test=nan) precision: (test=nan) total time=   0.4s\n",
      "[CV 1/5] END rfc__max_depth=19, rfc__n_estimators=115; accuracy: (test=0.854) neg_log_loss: (test=-0.381) total time=   0.4s\n",
      "[CV 1/5] END rfc__max_depth=19, rfc__n_estimators=120; accuracy: (test=0.855) neg_log_loss: (test=-0.381) total time=   0.5s\n",
      "[CV 5/5] END rfc__max_depth=20, rfc__n_estimators=115; accuracy: (test=0.884) neg_log_loss: (test=-0.388) total time=   0.5s\n",
      "[CV 5/5] END rfc__max_depth=21, rfc__n_estimators=110; accuracy: (test=0.880) neg_log_loss: (test=-0.387) total time=   0.5s\n",
      "[CV 4/5] END rfc__max_depth=21, rfc__n_estimators=120; accuracy: (test=0.861) neg_log_loss: (test=-0.368) total time=   0.4s\n",
      "[CV 2/5] END rfc__max_depth=19, rfc__n_estimators=115; accuracy: (test=0.850) neg_log_loss: (test=-0.390) total time=   0.5s\n",
      "[CV 3/5] END rfc__max_depth=20, rfc__n_estimators=110; accuracy: (test=0.852) neg_log_loss: (test=-0.382) total time=   0.5s\n",
      "[CV 1/5] END rfc__max_depth=20, rfc__n_estimators=120; accuracy: (test=0.856) neg_log_loss: (test=-0.372) total time=   0.5s\n",
      "[CV 5/5] END rfc__max_depth=21, rfc__n_estimators=110; accuracy: (test=0.880) neg_log_loss: (test=-0.387) total time=   0.4s\n",
      "[CV 3/5] END rfc__max_depth=21, rfc__n_estimators=120; accuracy: (test=0.847) neg_log_loss: (test=-0.380) total time=   0.5s\n",
      "[CV 1/5] END rfc__max_depth=19, rfc__n_estimators=115; accuracy: (test=0.854) neg_log_loss: (test=-0.381) total time=   0.5s\n",
      "[CV 3/5] END rfc__max_depth=20, rfc__n_estimators=110; accuracy: (test=0.852) neg_log_loss: (test=-0.382) total time=   0.5s\n",
      "[CV 3/5] END rfc__max_depth=20, rfc__n_estimators=120; accuracy: (test=0.850) neg_log_loss: (test=-0.382) total time=   0.5s\n",
      "[CV 3/5] END rfc__max_depth=21, rfc__n_estimators=115; accuracy: (test=0.845) neg_log_loss: (test=-0.380) total time=   0.5s\n",
      "[CV 2/5] END gbc__max_depth=14, gbc__n_estimators=100;, score=0.826 total time=  12.5s\n",
      "[CV 2/5] END gbc__max_depth=15, gbc__n_estimators=90;, score=0.840 total time=  12.4s\n",
      "[CV 4/5] END gbc__max_depth=15, gbc__n_estimators=100;, score=0.867 total time=  12.7s\n",
      "[CV 1/5] END gbc__max_depth=16, gbc__n_estimators=90;, score=0.851 total time=  12.4s\n",
      "[CV 1/5] END gbc__max_depth=16, gbc__n_estimators=110;, score=0.845 total time=  13.3s\n"
     ]
    },
    {
     "name": "stderr",
     "output_type": "stream",
     "text": [
      "/Users/meiralelov/opt/anaconda3/envs/tf/lib/python3.7/site-packages/sklearn/model_selection/_validation.py:774: UserWarning: Scoring failed. The score on this train-test partition for these parameters will be set to nan. Details: \n",
      "Traceback (most recent call last):\n",
      "  File \"/Users/meiralelov/opt/anaconda3/envs/tf/lib/python3.7/site-packages/sklearn/model_selection/_validation.py\", line 761, in _score\n",
      "    scores = scorer(estimator, X_test, y_test)\n",
      "  File \"/Users/meiralelov/opt/anaconda3/envs/tf/lib/python3.7/site-packages/sklearn/metrics/_scorer.py\", line 103, in __call__\n",
      "    score = scorer._score(cached_call, estimator, *args, **kwargs)\n",
      "  File \"/Users/meiralelov/opt/anaconda3/envs/tf/lib/python3.7/site-packages/sklearn/metrics/_scorer.py\", line 264, in _score\n",
      "    return self._sign * self._score_func(y_true, y_pred, **self._kwargs)\n",
      "  File \"/Users/meiralelov/opt/anaconda3/envs/tf/lib/python3.7/site-packages/sklearn/metrics/_classification.py\", line 1765, in precision_score\n",
      "    zero_division=zero_division,\n",
      "  File \"/Users/meiralelov/opt/anaconda3/envs/tf/lib/python3.7/site-packages/sklearn/metrics/_classification.py\", line 1544, in precision_recall_fscore_support\n",
      "    labels = _check_set_wise_labels(y_true, y_pred, average, labels, pos_label)\n",
      "  File \"/Users/meiralelov/opt/anaconda3/envs/tf/lib/python3.7/site-packages/sklearn/metrics/_classification.py\", line 1367, in _check_set_wise_labels\n",
      "    \"choose another average setting, one of %r.\" % (y_type, average_options)\n",
      "ValueError: Target is multiclass but average='binary'. Please choose another average setting, one of [None, 'micro', 'macro', 'weighted'].\n",
      "\n",
      "  UserWarning,\n",
      "/Users/meiralelov/opt/anaconda3/envs/tf/lib/python3.7/site-packages/sklearn/model_selection/_validation.py:774: UserWarning: Scoring failed. The score on this train-test partition for these parameters will be set to nan. Details: \n",
      "Traceback (most recent call last):\n",
      "  File \"/Users/meiralelov/opt/anaconda3/envs/tf/lib/python3.7/site-packages/sklearn/model_selection/_validation.py\", line 761, in _score\n",
      "    scores = scorer(estimator, X_test, y_test)\n",
      "  File \"/Users/meiralelov/opt/anaconda3/envs/tf/lib/python3.7/site-packages/sklearn/metrics/_scorer.py\", line 103, in __call__\n",
      "    score = scorer._score(cached_call, estimator, *args, **kwargs)\n",
      "  File \"/Users/meiralelov/opt/anaconda3/envs/tf/lib/python3.7/site-packages/sklearn/metrics/_scorer.py\", line 264, in _score\n",
      "    return self._sign * self._score_func(y_true, y_pred, **self._kwargs)\n",
      "  File \"/Users/meiralelov/opt/anaconda3/envs/tf/lib/python3.7/site-packages/sklearn/metrics/_classification.py\", line 1765, in precision_score\n",
      "    zero_division=zero_division,\n",
      "  File \"/Users/meiralelov/opt/anaconda3/envs/tf/lib/python3.7/site-packages/sklearn/metrics/_classification.py\", line 1544, in precision_recall_fscore_support\n",
      "    labels = _check_set_wise_labels(y_true, y_pred, average, labels, pos_label)\n",
      "  File \"/Users/meiralelov/opt/anaconda3/envs/tf/lib/python3.7/site-packages/sklearn/metrics/_classification.py\", line 1367, in _check_set_wise_labels\n",
      "    \"choose another average setting, one of %r.\" % (y_type, average_options)\n",
      "ValueError: Target is multiclass but average='binary'. Please choose another average setting, one of [None, 'micro', 'macro', 'weighted'].\n",
      "\n",
      "  UserWarning,\n",
      "/Users/meiralelov/opt/anaconda3/envs/tf/lib/python3.7/site-packages/sklearn/model_selection/_validation.py:774: UserWarning: Scoring failed. The score on this train-test partition for these parameters will be set to nan. Details: \n",
      "Traceback (most recent call last):\n",
      "  File \"/Users/meiralelov/opt/anaconda3/envs/tf/lib/python3.7/site-packages/sklearn/model_selection/_validation.py\", line 761, in _score\n",
      "    scores = scorer(estimator, X_test, y_test)\n",
      "  File \"/Users/meiralelov/opt/anaconda3/envs/tf/lib/python3.7/site-packages/sklearn/metrics/_scorer.py\", line 103, in __call__\n",
      "    score = scorer._score(cached_call, estimator, *args, **kwargs)\n",
      "  File \"/Users/meiralelov/opt/anaconda3/envs/tf/lib/python3.7/site-packages/sklearn/metrics/_scorer.py\", line 264, in _score\n",
      "    return self._sign * self._score_func(y_true, y_pred, **self._kwargs)\n",
      "  File \"/Users/meiralelov/opt/anaconda3/envs/tf/lib/python3.7/site-packages/sklearn/metrics/_classification.py\", line 1765, in precision_score\n",
      "    zero_division=zero_division,\n",
      "  File \"/Users/meiralelov/opt/anaconda3/envs/tf/lib/python3.7/site-packages/sklearn/metrics/_classification.py\", line 1544, in precision_recall_fscore_support\n",
      "    labels = _check_set_wise_labels(y_true, y_pred, average, labels, pos_label)\n",
      "  File \"/Users/meiralelov/opt/anaconda3/envs/tf/lib/python3.7/site-packages/sklearn/metrics/_classification.py\", line 1367, in _check_set_wise_labels\n",
      "    \"choose another average setting, one of %r.\" % (y_type, average_options)\n",
      "ValueError: Target is multiclass but average='binary'. Please choose another average setting, one of [None, 'micro', 'macro', 'weighted'].\n",
      "\n",
      "  UserWarning,\n",
      "/Users/meiralelov/opt/anaconda3/envs/tf/lib/python3.7/site-packages/sklearn/model_selection/_validation.py:774: UserWarning: Scoring failed. The score on this train-test partition for these parameters will be set to nan. Details: \n",
      "Traceback (most recent call last):\n",
      "  File \"/Users/meiralelov/opt/anaconda3/envs/tf/lib/python3.7/site-packages/sklearn/model_selection/_validation.py\", line 761, in _score\n",
      "    scores = scorer(estimator, X_test, y_test)\n",
      "  File \"/Users/meiralelov/opt/anaconda3/envs/tf/lib/python3.7/site-packages/sklearn/metrics/_scorer.py\", line 103, in __call__\n",
      "    score = scorer._score(cached_call, estimator, *args, **kwargs)\n",
      "  File \"/Users/meiralelov/opt/anaconda3/envs/tf/lib/python3.7/site-packages/sklearn/metrics/_scorer.py\", line 264, in _score\n",
      "    return self._sign * self._score_func(y_true, y_pred, **self._kwargs)\n",
      "  File \"/Users/meiralelov/opt/anaconda3/envs/tf/lib/python3.7/site-packages/sklearn/metrics/_classification.py\", line 1765, in precision_score\n",
      "    zero_division=zero_division,\n",
      "  File \"/Users/meiralelov/opt/anaconda3/envs/tf/lib/python3.7/site-packages/sklearn/metrics/_classification.py\", line 1544, in precision_recall_fscore_support\n",
      "    labels = _check_set_wise_labels(y_true, y_pred, average, labels, pos_label)\n",
      "  File \"/Users/meiralelov/opt/anaconda3/envs/tf/lib/python3.7/site-packages/sklearn/metrics/_classification.py\", line 1367, in _check_set_wise_labels\n",
      "    \"choose another average setting, one of %r.\" % (y_type, average_options)\n",
      "ValueError: Target is multiclass but average='binary'. Please choose another average setting, one of [None, 'micro', 'macro', 'weighted'].\n",
      "\n",
      "  UserWarning,\n"
     ]
    },
    {
     "name": "stdout",
     "output_type": "stream",
     "text": [
      "[CV 2/5] END rfc__max_depth=19, rfc__n_estimators=110; accuracy: (test=nan) neg_log_loss: (test=nan) precision: (test=nan) total time=   0.4s\n",
      "[CV 1/5] END rfc__max_depth=19, rfc__n_estimators=120; accuracy: (test=nan) neg_log_loss: (test=nan) precision: (test=nan) total time=   0.5s\n",
      "[CV 2/5] END rfc__max_depth=20, rfc__n_estimators=115; accuracy: (test=nan) neg_log_loss: (test=nan) precision: (test=nan) total time=   0.5s\n",
      "[CV 3/5] END rfc__max_depth=21, rfc__n_estimators=110; accuracy: (test=nan) neg_log_loss: (test=nan) precision: (test=nan) total time=   0.4s\n",
      "[CV 1/5] END rfc__max_depth=21, rfc__n_estimators=120; accuracy: (test=nan) neg_log_loss: (test=nan) precision: (test=nan) total time=   0.4s\n",
      "[CV 2/5] END rfc__max_depth=19, rfc__n_estimators=110; accuracy: (test=0.849) neg_log_loss: (test=-0.391) total time=   0.4s\n",
      "[CV 2/5] END rfc__max_depth=19, rfc__n_estimators=120; accuracy: (test=0.849) neg_log_loss: (test=-0.390) total time=   0.5s\n",
      "[CV 1/5] END rfc__max_depth=20, rfc__n_estimators=115; accuracy: (test=0.855) neg_log_loss: (test=-0.372) total time=   0.5s\n",
      "[CV 3/5] END rfc__max_depth=21, rfc__n_estimators=110; accuracy: (test=0.846) neg_log_loss: (test=-0.380) total time=   0.5s\n",
      "[CV 1/5] END rfc__max_depth=21, rfc__n_estimators=120; accuracy: (test=0.848) neg_log_loss: (test=-0.367) total time=   0.4s\n",
      "[CV 3/5] END rfc__max_depth=19, rfc__n_estimators=115; accuracy: (test=0.846) neg_log_loss: (test=-0.393) total time=   0.5s\n",
      "[CV 4/5] END rfc__max_depth=20, rfc__n_estimators=110; accuracy: (test=0.862) neg_log_loss: (test=-0.373) total time=   0.5s\n",
      "[CV 4/5] END rfc__max_depth=20, rfc__n_estimators=120; accuracy: (test=0.866) neg_log_loss: (test=-0.373) total time=   0.5s\n",
      "[CV 1/5] END rfc__max_depth=21, rfc__n_estimators=115; accuracy: (test=0.846) neg_log_loss: (test=-0.367) total time=   0.5s\n",
      "[CV 1/5] END rfc__max_depth=19, rfc__n_estimators=110; accuracy: (test=0.855) neg_log_loss: (test=-0.381) total time=   0.5s\n",
      "[CV 4/5] END rfc__max_depth=19, rfc__n_estimators=120; accuracy: (test=0.867) neg_log_loss: (test=-0.378) total time=   0.5s\n",
      "[CV 3/5] END rfc__max_depth=20, rfc__n_estimators=115; accuracy: (test=0.847) neg_log_loss: (test=-0.382) total time=   0.5s\n",
      "[CV 2/5] END rfc__max_depth=21, rfc__n_estimators=110; accuracy: (test=0.855) neg_log_loss: (test=-0.417) total time=   0.4s\n",
      "[CV 1/5] END rfc__max_depth=21, rfc__n_estimators=120; accuracy: (test=0.848) neg_log_loss: (test=-0.367) total time=   0.5s\n",
      "[CV 4/5] END gbc__max_depth=14, gbc__n_estimators=90;, score=0.861 total time=  11.5s\n",
      "[CV 3/5] END gbc__max_depth=14, gbc__n_estimators=110;, score=0.851 total time=  13.4s\n",
      "[CV 3/5] END gbc__max_depth=15, gbc__n_estimators=100;, score=0.849 total time=  13.4s\n",
      "[CV 4/5] END gbc__max_depth=16, gbc__n_estimators=90;, score=0.852 total time=  12.6s\n",
      "[CV 2/5] END gbc__max_depth=16, gbc__n_estimators=110;, score=0.835 total time=  13.0s\n",
      "[CV 3/5] END rfc__max_depth=19, rfc__n_estimators=110; accuracy: (test=nan) neg_log_loss: (test=nan) precision: (test=nan) total time=   0.5s\n",
      "[CV 2/5] END rfc__max_depth=20, rfc__n_estimators=110; accuracy: (test=nan) neg_log_loss: (test=nan) precision: (test=nan) total time=   0.4s\n",
      "[CV 3/5] END rfc__max_depth=20, rfc__n_estimators=115; accuracy: (test=nan) neg_log_loss: (test=nan) precision: (test=nan) total time=   0.4s\n",
      "[CV 1/5] END rfc__max_depth=21, rfc__n_estimators=110; accuracy: (test=nan) neg_log_loss: (test=nan) precision: (test=nan) total time=   0.5s\n",
      "[CV 5/5] END rfc__max_depth=21, rfc__n_estimators=120; accuracy: (test=nan) neg_log_loss: (test=nan) precision: (test=nan) total time=   0.4s\n",
      "[CV 5/5] END rfc__max_depth=19, rfc__n_estimators=115; accuracy: (test=0.870) neg_log_loss: (test=-0.395) total time=   0.5s\n",
      "[CV 5/5] END rfc__max_depth=20, rfc__n_estimators=110; accuracy: (test=0.881) neg_log_loss: (test=-0.390) total time=   0.5s\n",
      "[CV 5/5] END rfc__max_depth=20, rfc__n_estimators=120; accuracy: (test=0.877) neg_log_loss: (test=-0.388) total time=   0.5s\n",
      "[CV 5/5] END rfc__max_depth=21, rfc__n_estimators=115; accuracy: (test=0.882) neg_log_loss: (test=-0.386) total time=   0.5s\n",
      "[CV 3/5] END rfc__max_depth=19, rfc__n_estimators=110; accuracy: (test=0.846) neg_log_loss: (test=-0.392) total time=   0.5s\n",
      "[CV 2/5] END rfc__max_depth=20, rfc__n_estimators=110; accuracy: (test=0.847) neg_log_loss: (test=-0.385) total time=   0.5s\n",
      "[CV 2/5] END rfc__max_depth=20, rfc__n_estimators=120; accuracy: (test=0.850) neg_log_loss: (test=-0.385) total time=   0.5s\n",
      "[CV 2/5] END rfc__max_depth=21, rfc__n_estimators=115; accuracy: (test=0.856) neg_log_loss: (test=-0.417) total time=   0.4s\n",
      "[CV 5/5] END rfc__max_depth=21, rfc__n_estimators=120; accuracy: (test=0.880) neg_log_loss: (test=-0.387) total time=   0.5s\n",
      "[CV 2/5] END rfc__max_depth=19, rfc__n_estimators=110; accuracy: (test=0.849) neg_log_loss: (test=-0.391) total time=   0.5s\n",
      "[CV 1/5] END rfc__max_depth=19, rfc__n_estimators=120; accuracy: (test=0.855) neg_log_loss: (test=-0.381) total time=   0.5s\n",
      "[CV 5/5] END rfc__max_depth=20, rfc__n_estimators=115; accuracy: (test=0.884) neg_log_loss: (test=-0.388) total time=   0.5s\n",
      "[CV 2/5] END rfc__max_depth=21, rfc__n_estimators=115; accuracy: (test=0.856) neg_log_loss: (test=-0.417) total time=   0.5s\n",
      "[CV 2/5] END gbc__max_depth=14, gbc__n_estimators=90;, score=0.829 total time=  11.1s\n",
      "[CV 1/5] END gbc__max_depth=14, gbc__n_estimators=110;, score=0.850 total time=  13.6s\n",
      "[CV 2/5] END gbc__max_depth=15, gbc__n_estimators=100;, score=0.841 total time=  13.0s\n",
      "[CV 2/5] END gbc__max_depth=16, gbc__n_estimators=90;, score=0.832 total time=  13.1s\n",
      "[CV 3/5] END gbc__max_depth=16, gbc__n_estimators=110;, score=0.849 total time=  13.1s\n"
     ]
    },
    {
     "name": "stderr",
     "output_type": "stream",
     "text": [
      "/Users/meiralelov/opt/anaconda3/envs/tf/lib/python3.7/site-packages/sklearn/model_selection/_validation.py:774: UserWarning: Scoring failed. The score on this train-test partition for these parameters will be set to nan. Details: \n",
      "Traceback (most recent call last):\n",
      "  File \"/Users/meiralelov/opt/anaconda3/envs/tf/lib/python3.7/site-packages/sklearn/model_selection/_validation.py\", line 761, in _score\n",
      "    scores = scorer(estimator, X_test, y_test)\n",
      "  File \"/Users/meiralelov/opt/anaconda3/envs/tf/lib/python3.7/site-packages/sklearn/metrics/_scorer.py\", line 103, in __call__\n",
      "    score = scorer._score(cached_call, estimator, *args, **kwargs)\n",
      "  File \"/Users/meiralelov/opt/anaconda3/envs/tf/lib/python3.7/site-packages/sklearn/metrics/_scorer.py\", line 264, in _score\n",
      "    return self._sign * self._score_func(y_true, y_pred, **self._kwargs)\n",
      "  File \"/Users/meiralelov/opt/anaconda3/envs/tf/lib/python3.7/site-packages/sklearn/metrics/_classification.py\", line 1765, in precision_score\n",
      "    zero_division=zero_division,\n",
      "  File \"/Users/meiralelov/opt/anaconda3/envs/tf/lib/python3.7/site-packages/sklearn/metrics/_classification.py\", line 1544, in precision_recall_fscore_support\n",
      "    labels = _check_set_wise_labels(y_true, y_pred, average, labels, pos_label)\n",
      "  File \"/Users/meiralelov/opt/anaconda3/envs/tf/lib/python3.7/site-packages/sklearn/metrics/_classification.py\", line 1367, in _check_set_wise_labels\n",
      "    \"choose another average setting, one of %r.\" % (y_type, average_options)\n",
      "ValueError: Target is multiclass but average='binary'. Please choose another average setting, one of [None, 'micro', 'macro', 'weighted'].\n",
      "\n",
      "  UserWarning,\n",
      "/Users/meiralelov/opt/anaconda3/envs/tf/lib/python3.7/site-packages/sklearn/model_selection/_validation.py:774: UserWarning: Scoring failed. The score on this train-test partition for these parameters will be set to nan. Details: \n",
      "Traceback (most recent call last):\n",
      "  File \"/Users/meiralelov/opt/anaconda3/envs/tf/lib/python3.7/site-packages/sklearn/model_selection/_validation.py\", line 761, in _score\n",
      "    scores = scorer(estimator, X_test, y_test)\n",
      "  File \"/Users/meiralelov/opt/anaconda3/envs/tf/lib/python3.7/site-packages/sklearn/metrics/_scorer.py\", line 103, in __call__\n",
      "    score = scorer._score(cached_call, estimator, *args, **kwargs)\n",
      "  File \"/Users/meiralelov/opt/anaconda3/envs/tf/lib/python3.7/site-packages/sklearn/metrics/_scorer.py\", line 264, in _score\n",
      "    return self._sign * self._score_func(y_true, y_pred, **self._kwargs)\n",
      "  File \"/Users/meiralelov/opt/anaconda3/envs/tf/lib/python3.7/site-packages/sklearn/metrics/_classification.py\", line 1765, in precision_score\n",
      "    zero_division=zero_division,\n",
      "  File \"/Users/meiralelov/opt/anaconda3/envs/tf/lib/python3.7/site-packages/sklearn/metrics/_classification.py\", line 1544, in precision_recall_fscore_support\n",
      "    labels = _check_set_wise_labels(y_true, y_pred, average, labels, pos_label)\n",
      "  File \"/Users/meiralelov/opt/anaconda3/envs/tf/lib/python3.7/site-packages/sklearn/metrics/_classification.py\", line 1367, in _check_set_wise_labels\n",
      "    \"choose another average setting, one of %r.\" % (y_type, average_options)\n",
      "ValueError: Target is multiclass but average='binary'. Please choose another average setting, one of [None, 'micro', 'macro', 'weighted'].\n",
      "\n",
      "  UserWarning,\n",
      "/Users/meiralelov/opt/anaconda3/envs/tf/lib/python3.7/site-packages/sklearn/model_selection/_validation.py:774: UserWarning: Scoring failed. The score on this train-test partition for these parameters will be set to nan. Details: \n",
      "Traceback (most recent call last):\n",
      "  File \"/Users/meiralelov/opt/anaconda3/envs/tf/lib/python3.7/site-packages/sklearn/model_selection/_validation.py\", line 761, in _score\n",
      "    scores = scorer(estimator, X_test, y_test)\n",
      "  File \"/Users/meiralelov/opt/anaconda3/envs/tf/lib/python3.7/site-packages/sklearn/metrics/_scorer.py\", line 103, in __call__\n",
      "    score = scorer._score(cached_call, estimator, *args, **kwargs)\n",
      "  File \"/Users/meiralelov/opt/anaconda3/envs/tf/lib/python3.7/site-packages/sklearn/metrics/_scorer.py\", line 264, in _score\n",
      "    return self._sign * self._score_func(y_true, y_pred, **self._kwargs)\n",
      "  File \"/Users/meiralelov/opt/anaconda3/envs/tf/lib/python3.7/site-packages/sklearn/metrics/_classification.py\", line 1765, in precision_score\n",
      "    zero_division=zero_division,\n",
      "  File \"/Users/meiralelov/opt/anaconda3/envs/tf/lib/python3.7/site-packages/sklearn/metrics/_classification.py\", line 1544, in precision_recall_fscore_support\n",
      "    labels = _check_set_wise_labels(y_true, y_pred, average, labels, pos_label)\n",
      "  File \"/Users/meiralelov/opt/anaconda3/envs/tf/lib/python3.7/site-packages/sklearn/metrics/_classification.py\", line 1367, in _check_set_wise_labels\n",
      "    \"choose another average setting, one of %r.\" % (y_type, average_options)\n",
      "ValueError: Target is multiclass but average='binary'. Please choose another average setting, one of [None, 'micro', 'macro', 'weighted'].\n",
      "\n",
      "  UserWarning,\n",
      "/Users/meiralelov/opt/anaconda3/envs/tf/lib/python3.7/site-packages/sklearn/model_selection/_validation.py:774: UserWarning: Scoring failed. The score on this train-test partition for these parameters will be set to nan. Details: \n",
      "Traceback (most recent call last):\n",
      "  File \"/Users/meiralelov/opt/anaconda3/envs/tf/lib/python3.7/site-packages/sklearn/model_selection/_validation.py\", line 761, in _score\n",
      "    scores = scorer(estimator, X_test, y_test)\n",
      "  File \"/Users/meiralelov/opt/anaconda3/envs/tf/lib/python3.7/site-packages/sklearn/metrics/_scorer.py\", line 103, in __call__\n",
      "    score = scorer._score(cached_call, estimator, *args, **kwargs)\n",
      "  File \"/Users/meiralelov/opt/anaconda3/envs/tf/lib/python3.7/site-packages/sklearn/metrics/_scorer.py\", line 264, in _score\n",
      "    return self._sign * self._score_func(y_true, y_pred, **self._kwargs)\n",
      "  File \"/Users/meiralelov/opt/anaconda3/envs/tf/lib/python3.7/site-packages/sklearn/metrics/_classification.py\", line 1765, in precision_score\n",
      "    zero_division=zero_division,\n",
      "  File \"/Users/meiralelov/opt/anaconda3/envs/tf/lib/python3.7/site-packages/sklearn/metrics/_classification.py\", line 1544, in precision_recall_fscore_support\n",
      "    labels = _check_set_wise_labels(y_true, y_pred, average, labels, pos_label)\n",
      "  File \"/Users/meiralelov/opt/anaconda3/envs/tf/lib/python3.7/site-packages/sklearn/metrics/_classification.py\", line 1367, in _check_set_wise_labels\n",
      "    \"choose another average setting, one of %r.\" % (y_type, average_options)\n",
      "ValueError: Target is multiclass but average='binary'. Please choose another average setting, one of [None, 'micro', 'macro', 'weighted'].\n",
      "\n",
      "  UserWarning,\n",
      "/Users/meiralelov/opt/anaconda3/envs/tf/lib/python3.7/site-packages/sklearn/model_selection/_validation.py:774: UserWarning: Scoring failed. The score on this train-test partition for these parameters will be set to nan. Details: \n",
      "Traceback (most recent call last):\n",
      "  File \"/Users/meiralelov/opt/anaconda3/envs/tf/lib/python3.7/site-packages/sklearn/model_selection/_validation.py\", line 761, in _score\n",
      "    scores = scorer(estimator, X_test, y_test)\n",
      "  File \"/Users/meiralelov/opt/anaconda3/envs/tf/lib/python3.7/site-packages/sklearn/metrics/_scorer.py\", line 103, in __call__\n",
      "    score = scorer._score(cached_call, estimator, *args, **kwargs)\n",
      "  File \"/Users/meiralelov/opt/anaconda3/envs/tf/lib/python3.7/site-packages/sklearn/metrics/_scorer.py\", line 264, in _score\n",
      "    return self._sign * self._score_func(y_true, y_pred, **self._kwargs)\n",
      "  File \"/Users/meiralelov/opt/anaconda3/envs/tf/lib/python3.7/site-packages/sklearn/metrics/_classification.py\", line 1765, in precision_score\n",
      "    zero_division=zero_division,\n",
      "  File \"/Users/meiralelov/opt/anaconda3/envs/tf/lib/python3.7/site-packages/sklearn/metrics/_classification.py\", line 1544, in precision_recall_fscore_support\n",
      "    labels = _check_set_wise_labels(y_true, y_pred, average, labels, pos_label)\n",
      "  File \"/Users/meiralelov/opt/anaconda3/envs/tf/lib/python3.7/site-packages/sklearn/metrics/_classification.py\", line 1367, in _check_set_wise_labels\n",
      "    \"choose another average setting, one of %r.\" % (y_type, average_options)\n",
      "ValueError: Target is multiclass but average='binary'. Please choose another average setting, one of [None, 'micro', 'macro', 'weighted'].\n",
      "\n",
      "  UserWarning,\n",
      "/Users/meiralelov/opt/anaconda3/envs/tf/lib/python3.7/site-packages/sklearn/model_selection/_validation.py:774: UserWarning: Scoring failed. The score on this train-test partition for these parameters will be set to nan. Details: \n",
      "Traceback (most recent call last):\n",
      "  File \"/Users/meiralelov/opt/anaconda3/envs/tf/lib/python3.7/site-packages/sklearn/model_selection/_validation.py\", line 761, in _score\n",
      "    scores = scorer(estimator, X_test, y_test)\n",
      "  File \"/Users/meiralelov/opt/anaconda3/envs/tf/lib/python3.7/site-packages/sklearn/metrics/_scorer.py\", line 103, in __call__\n",
      "    score = scorer._score(cached_call, estimator, *args, **kwargs)\n",
      "  File \"/Users/meiralelov/opt/anaconda3/envs/tf/lib/python3.7/site-packages/sklearn/metrics/_scorer.py\", line 264, in _score\n",
      "    return self._sign * self._score_func(y_true, y_pred, **self._kwargs)\n",
      "  File \"/Users/meiralelov/opt/anaconda3/envs/tf/lib/python3.7/site-packages/sklearn/metrics/_classification.py\", line 1765, in precision_score\n",
      "    zero_division=zero_division,\n",
      "  File \"/Users/meiralelov/opt/anaconda3/envs/tf/lib/python3.7/site-packages/sklearn/metrics/_classification.py\", line 1544, in precision_recall_fscore_support\n",
      "    labels = _check_set_wise_labels(y_true, y_pred, average, labels, pos_label)\n",
      "  File \"/Users/meiralelov/opt/anaconda3/envs/tf/lib/python3.7/site-packages/sklearn/metrics/_classification.py\", line 1367, in _check_set_wise_labels\n",
      "    \"choose another average setting, one of %r.\" % (y_type, average_options)\n",
      "ValueError: Target is multiclass but average='binary'. Please choose another average setting, one of [None, 'micro', 'macro', 'weighted'].\n",
      "\n",
      "  UserWarning,\n",
      "/Users/meiralelov/opt/anaconda3/envs/tf/lib/python3.7/site-packages/sklearn/model_selection/_validation.py:774: UserWarning: Scoring failed. The score on this train-test partition for these parameters will be set to nan. Details: \n",
      "Traceback (most recent call last):\n",
      "  File \"/Users/meiralelov/opt/anaconda3/envs/tf/lib/python3.7/site-packages/sklearn/model_selection/_validation.py\", line 761, in _score\n",
      "    scores = scorer(estimator, X_test, y_test)\n",
      "  File \"/Users/meiralelov/opt/anaconda3/envs/tf/lib/python3.7/site-packages/sklearn/metrics/_scorer.py\", line 103, in __call__\n",
      "    score = scorer._score(cached_call, estimator, *args, **kwargs)\n",
      "  File \"/Users/meiralelov/opt/anaconda3/envs/tf/lib/python3.7/site-packages/sklearn/metrics/_scorer.py\", line 264, in _score\n",
      "    return self._sign * self._score_func(y_true, y_pred, **self._kwargs)\n",
      "  File \"/Users/meiralelov/opt/anaconda3/envs/tf/lib/python3.7/site-packages/sklearn/metrics/_classification.py\", line 1765, in precision_score\n",
      "    zero_division=zero_division,\n",
      "  File \"/Users/meiralelov/opt/anaconda3/envs/tf/lib/python3.7/site-packages/sklearn/metrics/_classification.py\", line 1544, in precision_recall_fscore_support\n",
      "    labels = _check_set_wise_labels(y_true, y_pred, average, labels, pos_label)\n",
      "  File \"/Users/meiralelov/opt/anaconda3/envs/tf/lib/python3.7/site-packages/sklearn/metrics/_classification.py\", line 1367, in _check_set_wise_labels\n",
      "    \"choose another average setting, one of %r.\" % (y_type, average_options)\n",
      "ValueError: Target is multiclass but average='binary'. Please choose another average setting, one of [None, 'micro', 'macro', 'weighted'].\n",
      "\n",
      "  UserWarning,\n",
      "/Users/meiralelov/opt/anaconda3/envs/tf/lib/python3.7/site-packages/sklearn/model_selection/_validation.py:774: UserWarning: Scoring failed. The score on this train-test partition for these parameters will be set to nan. Details: \n",
      "Traceback (most recent call last):\n",
      "  File \"/Users/meiralelov/opt/anaconda3/envs/tf/lib/python3.7/site-packages/sklearn/model_selection/_validation.py\", line 761, in _score\n",
      "    scores = scorer(estimator, X_test, y_test)\n",
      "  File \"/Users/meiralelov/opt/anaconda3/envs/tf/lib/python3.7/site-packages/sklearn/metrics/_scorer.py\", line 103, in __call__\n",
      "    score = scorer._score(cached_call, estimator, *args, **kwargs)\n",
      "  File \"/Users/meiralelov/opt/anaconda3/envs/tf/lib/python3.7/site-packages/sklearn/metrics/_scorer.py\", line 264, in _score\n",
      "    return self._sign * self._score_func(y_true, y_pred, **self._kwargs)\n",
      "  File \"/Users/meiralelov/opt/anaconda3/envs/tf/lib/python3.7/site-packages/sklearn/metrics/_classification.py\", line 1765, in precision_score\n",
      "    zero_division=zero_division,\n",
      "  File \"/Users/meiralelov/opt/anaconda3/envs/tf/lib/python3.7/site-packages/sklearn/metrics/_classification.py\", line 1544, in precision_recall_fscore_support\n",
      "    labels = _check_set_wise_labels(y_true, y_pred, average, labels, pos_label)\n",
      "  File \"/Users/meiralelov/opt/anaconda3/envs/tf/lib/python3.7/site-packages/sklearn/metrics/_classification.py\", line 1367, in _check_set_wise_labels\n",
      "    \"choose another average setting, one of %r.\" % (y_type, average_options)\n",
      "ValueError: Target is multiclass but average='binary'. Please choose another average setting, one of [None, 'micro', 'macro', 'weighted'].\n",
      "\n",
      "  UserWarning,\n",
      "/Users/meiralelov/opt/anaconda3/envs/tf/lib/python3.7/site-packages/sklearn/model_selection/_validation.py:774: UserWarning: Scoring failed. The score on this train-test partition for these parameters will be set to nan. Details: \n",
      "Traceback (most recent call last):\n",
      "  File \"/Users/meiralelov/opt/anaconda3/envs/tf/lib/python3.7/site-packages/sklearn/model_selection/_validation.py\", line 761, in _score\n",
      "    scores = scorer(estimator, X_test, y_test)\n",
      "  File \"/Users/meiralelov/opt/anaconda3/envs/tf/lib/python3.7/site-packages/sklearn/metrics/_scorer.py\", line 103, in __call__\n",
      "    score = scorer._score(cached_call, estimator, *args, **kwargs)\n",
      "  File \"/Users/meiralelov/opt/anaconda3/envs/tf/lib/python3.7/site-packages/sklearn/metrics/_scorer.py\", line 264, in _score\n",
      "    return self._sign * self._score_func(y_true, y_pred, **self._kwargs)\n",
      "  File \"/Users/meiralelov/opt/anaconda3/envs/tf/lib/python3.7/site-packages/sklearn/metrics/_classification.py\", line 1765, in precision_score\n",
      "    zero_division=zero_division,\n",
      "  File \"/Users/meiralelov/opt/anaconda3/envs/tf/lib/python3.7/site-packages/sklearn/metrics/_classification.py\", line 1544, in precision_recall_fscore_support\n",
      "    labels = _check_set_wise_labels(y_true, y_pred, average, labels, pos_label)\n",
      "  File \"/Users/meiralelov/opt/anaconda3/envs/tf/lib/python3.7/site-packages/sklearn/metrics/_classification.py\", line 1367, in _check_set_wise_labels\n",
      "    \"choose another average setting, one of %r.\" % (y_type, average_options)\n",
      "ValueError: Target is multiclass but average='binary'. Please choose another average setting, one of [None, 'micro', 'macro', 'weighted'].\n",
      "\n",
      "  UserWarning,\n",
      "/Users/meiralelov/opt/anaconda3/envs/tf/lib/python3.7/site-packages/sklearn/model_selection/_validation.py:774: UserWarning: Scoring failed. The score on this train-test partition for these parameters will be set to nan. Details: \n",
      "Traceback (most recent call last):\n",
      "  File \"/Users/meiralelov/opt/anaconda3/envs/tf/lib/python3.7/site-packages/sklearn/model_selection/_validation.py\", line 761, in _score\n",
      "    scores = scorer(estimator, X_test, y_test)\n",
      "  File \"/Users/meiralelov/opt/anaconda3/envs/tf/lib/python3.7/site-packages/sklearn/metrics/_scorer.py\", line 103, in __call__\n",
      "    score = scorer._score(cached_call, estimator, *args, **kwargs)\n",
      "  File \"/Users/meiralelov/opt/anaconda3/envs/tf/lib/python3.7/site-packages/sklearn/metrics/_scorer.py\", line 264, in _score\n",
      "    return self._sign * self._score_func(y_true, y_pred, **self._kwargs)\n",
      "  File \"/Users/meiralelov/opt/anaconda3/envs/tf/lib/python3.7/site-packages/sklearn/metrics/_classification.py\", line 1765, in precision_score\n",
      "    zero_division=zero_division,\n",
      "  File \"/Users/meiralelov/opt/anaconda3/envs/tf/lib/python3.7/site-packages/sklearn/metrics/_classification.py\", line 1544, in precision_recall_fscore_support\n",
      "    labels = _check_set_wise_labels(y_true, y_pred, average, labels, pos_label)\n",
      "  File \"/Users/meiralelov/opt/anaconda3/envs/tf/lib/python3.7/site-packages/sklearn/metrics/_classification.py\", line 1367, in _check_set_wise_labels\n",
      "    \"choose another average setting, one of %r.\" % (y_type, average_options)\n",
      "ValueError: Target is multiclass but average='binary'. Please choose another average setting, one of [None, 'micro', 'macro', 'weighted'].\n",
      "\n",
      "  UserWarning,\n"
     ]
    },
    {
     "name": "stdout",
     "output_type": "stream",
     "text": [
      "[CV 1/5] END rfc__max_depth=19, rfc__n_estimators=110; accuracy: (test=nan) neg_log_loss: (test=nan) precision: (test=nan) total time=   0.5s\n",
      "[CV 4/5] END rfc__max_depth=19, rfc__n_estimators=120; accuracy: (test=nan) neg_log_loss: (test=nan) precision: (test=nan) total time=   0.6s\n",
      "[CV 3/5] END rfc__max_depth=20, rfc__n_estimators=120; accuracy: (test=nan) neg_log_loss: (test=nan) precision: (test=nan) total time=   0.5s\n",
      "[CV 3/5] END rfc__max_depth=21, rfc__n_estimators=115; accuracy: (test=nan) neg_log_loss: (test=nan) precision: (test=nan) total time=   0.4s\n",
      "[CV 4/5] END rfc__max_depth=19, rfc__n_estimators=110; accuracy: (test=0.867) neg_log_loss: (test=-0.380) total time=   0.5s\n",
      "[CV 5/5] END rfc__max_depth=19, rfc__n_estimators=120; accuracy: (test=0.872) neg_log_loss: (test=-0.395) total time=   0.5s\n",
      "[CV 1/5] END rfc__max_depth=20, rfc__n_estimators=120; accuracy: (test=0.856) neg_log_loss: (test=-0.372) total time=   0.5s\n",
      "[CV 2/5] END rfc__max_depth=21, rfc__n_estimators=115; accuracy: (test=0.856) neg_log_loss: (test=-0.417) total time=   0.5s\n",
      "[CV 2/5] END rfc__max_depth=19, rfc__n_estimators=110; accuracy: (test=0.849) neg_log_loss: (test=-0.391) total time=   0.5s\n",
      "[CV 2/5] END rfc__max_depth=19, rfc__n_estimators=120; accuracy: (test=0.849) neg_log_loss: (test=-0.390) total time=   0.5s\n",
      "[CV 1/5] END rfc__max_depth=20, rfc__n_estimators=115; accuracy: (test=0.855) neg_log_loss: (test=-0.372) total time=   0.5s\n",
      "[CV 1/5] END rfc__max_depth=21, rfc__n_estimators=110; accuracy: (test=0.845) neg_log_loss: (test=-0.367) total time=   0.5s\n",
      "[CV 1/5] END rfc__max_depth=21, rfc__n_estimators=120; accuracy: (test=0.848) neg_log_loss: (test=-0.367) total time=   0.5s\n",
      "[CV 5/5] END rfc__max_depth=19, rfc__n_estimators=110; accuracy: (test=0.871) neg_log_loss: (test=-0.395) total time=   0.5s\n",
      "[CV 3/5] END rfc__max_depth=19, rfc__n_estimators=120; accuracy: (test=0.846) neg_log_loss: (test=-0.392) total time=   0.5s\n",
      "[CV 1/5] END rfc__max_depth=20, rfc__n_estimators=115; accuracy: (test=0.855) neg_log_loss: (test=-0.372) total time=   0.5s\n",
      "[CV 1/5] END rfc__max_depth=21, rfc__n_estimators=110; accuracy: (test=0.845) neg_log_loss: (test=-0.367) total time=   0.6s\n",
      "[CV 4/5] END rfc__max_depth=21, rfc__n_estimators=120; accuracy: (test=0.861) neg_log_loss: (test=-0.368) total time=   0.5s\n",
      "[CV 1/5] END gbc__max_depth=14, gbc__n_estimators=100;, score=0.848 total time=  13.0s\n",
      "[CV 4/5] END gbc__max_depth=15, gbc__n_estimators=90;, score=0.862 total time=  11.9s\n",
      "[CV 5/5] END gbc__max_depth=15, gbc__n_estimators=100;, score=0.879 total time=  13.0s\n",
      "[CV 3/5] END gbc__max_depth=16, gbc__n_estimators=90;, score=0.846 total time=  13.1s\n",
      "[CV 4/5] END gbc__max_depth=16, gbc__n_estimators=110;, score=0.859 total time=  13.2s\n"
     ]
    },
    {
     "name": "stderr",
     "output_type": "stream",
     "text": [
      "/Users/meiralelov/opt/anaconda3/envs/tf/lib/python3.7/site-packages/sklearn/model_selection/_validation.py:774: UserWarning: Scoring failed. The score on this train-test partition for these parameters will be set to nan. Details: \n",
      "Traceback (most recent call last):\n",
      "  File \"/Users/meiralelov/opt/anaconda3/envs/tf/lib/python3.7/site-packages/sklearn/model_selection/_validation.py\", line 761, in _score\n",
      "    scores = scorer(estimator, X_test, y_test)\n",
      "  File \"/Users/meiralelov/opt/anaconda3/envs/tf/lib/python3.7/site-packages/sklearn/metrics/_scorer.py\", line 103, in __call__\n",
      "    score = scorer._score(cached_call, estimator, *args, **kwargs)\n",
      "  File \"/Users/meiralelov/opt/anaconda3/envs/tf/lib/python3.7/site-packages/sklearn/metrics/_scorer.py\", line 264, in _score\n",
      "    return self._sign * self._score_func(y_true, y_pred, **self._kwargs)\n",
      "  File \"/Users/meiralelov/opt/anaconda3/envs/tf/lib/python3.7/site-packages/sklearn/metrics/_classification.py\", line 1765, in precision_score\n",
      "    zero_division=zero_division,\n",
      "  File \"/Users/meiralelov/opt/anaconda3/envs/tf/lib/python3.7/site-packages/sklearn/metrics/_classification.py\", line 1544, in precision_recall_fscore_support\n",
      "    labels = _check_set_wise_labels(y_true, y_pred, average, labels, pos_label)\n",
      "  File \"/Users/meiralelov/opt/anaconda3/envs/tf/lib/python3.7/site-packages/sklearn/metrics/_classification.py\", line 1367, in _check_set_wise_labels\n",
      "    \"choose another average setting, one of %r.\" % (y_type, average_options)\n",
      "ValueError: Target is multiclass but average='binary'. Please choose another average setting, one of [None, 'micro', 'macro', 'weighted'].\n",
      "\n",
      "  UserWarning,\n",
      "/Users/meiralelov/opt/anaconda3/envs/tf/lib/python3.7/site-packages/sklearn/model_selection/_validation.py:774: UserWarning: Scoring failed. The score on this train-test partition for these parameters will be set to nan. Details: \n",
      "Traceback (most recent call last):\n",
      "  File \"/Users/meiralelov/opt/anaconda3/envs/tf/lib/python3.7/site-packages/sklearn/model_selection/_validation.py\", line 761, in _score\n",
      "    scores = scorer(estimator, X_test, y_test)\n",
      "  File \"/Users/meiralelov/opt/anaconda3/envs/tf/lib/python3.7/site-packages/sklearn/metrics/_scorer.py\", line 103, in __call__\n",
      "    score = scorer._score(cached_call, estimator, *args, **kwargs)\n",
      "  File \"/Users/meiralelov/opt/anaconda3/envs/tf/lib/python3.7/site-packages/sklearn/metrics/_scorer.py\", line 264, in _score\n",
      "    return self._sign * self._score_func(y_true, y_pred, **self._kwargs)\n",
      "  File \"/Users/meiralelov/opt/anaconda3/envs/tf/lib/python3.7/site-packages/sklearn/metrics/_classification.py\", line 1765, in precision_score\n",
      "    zero_division=zero_division,\n",
      "  File \"/Users/meiralelov/opt/anaconda3/envs/tf/lib/python3.7/site-packages/sklearn/metrics/_classification.py\", line 1544, in precision_recall_fscore_support\n",
      "    labels = _check_set_wise_labels(y_true, y_pred, average, labels, pos_label)\n",
      "  File \"/Users/meiralelov/opt/anaconda3/envs/tf/lib/python3.7/site-packages/sklearn/metrics/_classification.py\", line 1367, in _check_set_wise_labels\n",
      "    \"choose another average setting, one of %r.\" % (y_type, average_options)\n",
      "ValueError: Target is multiclass but average='binary'. Please choose another average setting, one of [None, 'micro', 'macro', 'weighted'].\n",
      "\n",
      "  UserWarning,\n",
      "/Users/meiralelov/opt/anaconda3/envs/tf/lib/python3.7/site-packages/sklearn/model_selection/_validation.py:774: UserWarning: Scoring failed. The score on this train-test partition for these parameters will be set to nan. Details: \n",
      "Traceback (most recent call last):\n",
      "  File \"/Users/meiralelov/opt/anaconda3/envs/tf/lib/python3.7/site-packages/sklearn/model_selection/_validation.py\", line 761, in _score\n",
      "    scores = scorer(estimator, X_test, y_test)\n",
      "  File \"/Users/meiralelov/opt/anaconda3/envs/tf/lib/python3.7/site-packages/sklearn/metrics/_scorer.py\", line 103, in __call__\n",
      "    score = scorer._score(cached_call, estimator, *args, **kwargs)\n",
      "  File \"/Users/meiralelov/opt/anaconda3/envs/tf/lib/python3.7/site-packages/sklearn/metrics/_scorer.py\", line 264, in _score\n",
      "    return self._sign * self._score_func(y_true, y_pred, **self._kwargs)\n",
      "  File \"/Users/meiralelov/opt/anaconda3/envs/tf/lib/python3.7/site-packages/sklearn/metrics/_classification.py\", line 1765, in precision_score\n",
      "    zero_division=zero_division,\n",
      "  File \"/Users/meiralelov/opt/anaconda3/envs/tf/lib/python3.7/site-packages/sklearn/metrics/_classification.py\", line 1544, in precision_recall_fscore_support\n",
      "    labels = _check_set_wise_labels(y_true, y_pred, average, labels, pos_label)\n",
      "  File \"/Users/meiralelov/opt/anaconda3/envs/tf/lib/python3.7/site-packages/sklearn/metrics/_classification.py\", line 1367, in _check_set_wise_labels\n",
      "    \"choose another average setting, one of %r.\" % (y_type, average_options)\n",
      "ValueError: Target is multiclass but average='binary'. Please choose another average setting, one of [None, 'micro', 'macro', 'weighted'].\n",
      "\n",
      "  UserWarning,\n",
      "/Users/meiralelov/opt/anaconda3/envs/tf/lib/python3.7/site-packages/sklearn/model_selection/_validation.py:774: UserWarning: Scoring failed. The score on this train-test partition for these parameters will be set to nan. Details: \n",
      "Traceback (most recent call last):\n",
      "  File \"/Users/meiralelov/opt/anaconda3/envs/tf/lib/python3.7/site-packages/sklearn/model_selection/_validation.py\", line 761, in _score\n",
      "    scores = scorer(estimator, X_test, y_test)\n",
      "  File \"/Users/meiralelov/opt/anaconda3/envs/tf/lib/python3.7/site-packages/sklearn/metrics/_scorer.py\", line 103, in __call__\n",
      "    score = scorer._score(cached_call, estimator, *args, **kwargs)\n",
      "  File \"/Users/meiralelov/opt/anaconda3/envs/tf/lib/python3.7/site-packages/sklearn/metrics/_scorer.py\", line 264, in _score\n",
      "    return self._sign * self._score_func(y_true, y_pred, **self._kwargs)\n",
      "  File \"/Users/meiralelov/opt/anaconda3/envs/tf/lib/python3.7/site-packages/sklearn/metrics/_classification.py\", line 1765, in precision_score\n",
      "    zero_division=zero_division,\n",
      "  File \"/Users/meiralelov/opt/anaconda3/envs/tf/lib/python3.7/site-packages/sklearn/metrics/_classification.py\", line 1544, in precision_recall_fscore_support\n",
      "    labels = _check_set_wise_labels(y_true, y_pred, average, labels, pos_label)\n",
      "  File \"/Users/meiralelov/opt/anaconda3/envs/tf/lib/python3.7/site-packages/sklearn/metrics/_classification.py\", line 1367, in _check_set_wise_labels\n",
      "    \"choose another average setting, one of %r.\" % (y_type, average_options)\n",
      "ValueError: Target is multiclass but average='binary'. Please choose another average setting, one of [None, 'micro', 'macro', 'weighted'].\n",
      "\n",
      "  UserWarning,\n"
     ]
    },
    {
     "name": "stdout",
     "output_type": "stream",
     "text": [
      "[CV 4/5] END rfc__max_depth=19, rfc__n_estimators=110; accuracy: (test=nan) neg_log_loss: (test=nan) precision: (test=nan) total time=   0.5s\n",
      "[CV 1/5] END rfc__max_depth=20, rfc__n_estimators=110; accuracy: (test=nan) neg_log_loss: (test=nan) precision: (test=nan) total time=   0.4s\n",
      "[CV 4/5] END rfc__max_depth=20, rfc__n_estimators=115; accuracy: (test=nan) neg_log_loss: (test=nan) precision: (test=nan) total time=   0.4s\n",
      "[CV 5/5] END rfc__max_depth=21, rfc__n_estimators=110; accuracy: (test=nan) neg_log_loss: (test=nan) precision: (test=nan) total time=   0.4s\n",
      "[CV 3/5] END rfc__max_depth=21, rfc__n_estimators=120; accuracy: (test=nan) neg_log_loss: (test=nan) precision: (test=nan) total time=   0.4s\n",
      "[CV 4/5] END rfc__max_depth=19, rfc__n_estimators=115; accuracy: (test=0.865) neg_log_loss: (test=-0.379) total time=   0.4s\n",
      "[CV 2/5] END rfc__max_depth=20, rfc__n_estimators=110; accuracy: (test=0.847) neg_log_loss: (test=-0.385) total time=   0.5s\n",
      "[CV 3/5] END rfc__max_depth=20, rfc__n_estimators=120; accuracy: (test=0.850) neg_log_loss: (test=-0.382) total time=   0.6s\n",
      "[CV 3/5] END rfc__max_depth=21, rfc__n_estimators=115; accuracy: (test=0.845) neg_log_loss: (test=-0.380) total time=   0.5s\n",
      "[CV 4/5] END rfc__max_depth=19, rfc__n_estimators=115; accuracy: (test=0.865) neg_log_loss: (test=-0.379) total time=   0.5s\n",
      "[CV 1/5] END rfc__max_depth=20, rfc__n_estimators=110; accuracy: (test=0.854) neg_log_loss: (test=-0.373) total time=   0.5s\n",
      "[CV 4/5] END rfc__max_depth=20, rfc__n_estimators=115; accuracy: (test=0.865) neg_log_loss: (test=-0.372) total time=   0.6s\n",
      "[CV 3/5] END rfc__max_depth=21, rfc__n_estimators=115; accuracy: (test=0.845) neg_log_loss: (test=-0.380) total time=   0.5s\n",
      "[CV 5/5] END rfc__max_depth=19, rfc__n_estimators=115; accuracy: (test=0.870) neg_log_loss: (test=-0.395) total time=   0.5s\n",
      "[CV 2/5] END rfc__max_depth=20, rfc__n_estimators=110; accuracy: (test=0.847) neg_log_loss: (test=-0.385) total time=   0.4s\n",
      "[CV 2/5] END rfc__max_depth=20, rfc__n_estimators=115; accuracy: (test=0.850) neg_log_loss: (test=-0.385) total time=   0.5s\n",
      "[CV 3/5] END rfc__max_depth=21, rfc__n_estimators=110; accuracy: (test=0.846) neg_log_loss: (test=-0.380) total time=   0.4s\n",
      "[CV 2/5] END rfc__max_depth=21, rfc__n_estimators=120; accuracy: (test=0.855) neg_log_loss: (test=-0.383) total time=   0.5s\n",
      "[CV 3/5] END gbc__max_depth=14, gbc__n_estimators=90;, score=0.851 total time=  11.4s\n",
      "[CV 2/5] END gbc__max_depth=14, gbc__n_estimators=110;, score=0.827 total time=  13.3s\n",
      "[CV 1/5] END gbc__max_depth=15, gbc__n_estimators=100;, score=0.856 total time=  13.6s\n",
      "[CV 5/5] END gbc__max_depth=16, gbc__n_estimators=90;, score=0.867 total time=  13.1s\n",
      "[CV 5/5] END gbc__max_depth=16, gbc__n_estimators=110;, score=0.869 total time=  13.6s\n"
     ]
    },
    {
     "name": "stderr",
     "output_type": "stream",
     "text": [
      "/Users/meiralelov/opt/anaconda3/envs/tf/lib/python3.7/site-packages/sklearn/model_selection/_validation.py:774: UserWarning: Scoring failed. The score on this train-test partition for these parameters will be set to nan. Details: \n",
      "Traceback (most recent call last):\n",
      "  File \"/Users/meiralelov/opt/anaconda3/envs/tf/lib/python3.7/site-packages/sklearn/model_selection/_validation.py\", line 761, in _score\n",
      "    scores = scorer(estimator, X_test, y_test)\n",
      "  File \"/Users/meiralelov/opt/anaconda3/envs/tf/lib/python3.7/site-packages/sklearn/metrics/_scorer.py\", line 103, in __call__\n",
      "    score = scorer._score(cached_call, estimator, *args, **kwargs)\n",
      "  File \"/Users/meiralelov/opt/anaconda3/envs/tf/lib/python3.7/site-packages/sklearn/metrics/_scorer.py\", line 264, in _score\n",
      "    return self._sign * self._score_func(y_true, y_pred, **self._kwargs)\n",
      "  File \"/Users/meiralelov/opt/anaconda3/envs/tf/lib/python3.7/site-packages/sklearn/metrics/_classification.py\", line 1765, in precision_score\n",
      "    zero_division=zero_division,\n",
      "  File \"/Users/meiralelov/opt/anaconda3/envs/tf/lib/python3.7/site-packages/sklearn/metrics/_classification.py\", line 1544, in precision_recall_fscore_support\n",
      "    labels = _check_set_wise_labels(y_true, y_pred, average, labels, pos_label)\n",
      "  File \"/Users/meiralelov/opt/anaconda3/envs/tf/lib/python3.7/site-packages/sklearn/metrics/_classification.py\", line 1367, in _check_set_wise_labels\n",
      "    \"choose another average setting, one of %r.\" % (y_type, average_options)\n",
      "ValueError: Target is multiclass but average='binary'. Please choose another average setting, one of [None, 'micro', 'macro', 'weighted'].\n",
      "\n",
      "  UserWarning,\n",
      "/Users/meiralelov/opt/anaconda3/envs/tf/lib/python3.7/site-packages/sklearn/model_selection/_validation.py:774: UserWarning: Scoring failed. The score on this train-test partition for these parameters will be set to nan. Details: \n",
      "Traceback (most recent call last):\n",
      "  File \"/Users/meiralelov/opt/anaconda3/envs/tf/lib/python3.7/site-packages/sklearn/model_selection/_validation.py\", line 761, in _score\n",
      "    scores = scorer(estimator, X_test, y_test)\n",
      "  File \"/Users/meiralelov/opt/anaconda3/envs/tf/lib/python3.7/site-packages/sklearn/metrics/_scorer.py\", line 103, in __call__\n",
      "    score = scorer._score(cached_call, estimator, *args, **kwargs)\n",
      "  File \"/Users/meiralelov/opt/anaconda3/envs/tf/lib/python3.7/site-packages/sklearn/metrics/_scorer.py\", line 264, in _score\n",
      "    return self._sign * self._score_func(y_true, y_pred, **self._kwargs)\n",
      "  File \"/Users/meiralelov/opt/anaconda3/envs/tf/lib/python3.7/site-packages/sklearn/metrics/_classification.py\", line 1765, in precision_score\n",
      "    zero_division=zero_division,\n",
      "  File \"/Users/meiralelov/opt/anaconda3/envs/tf/lib/python3.7/site-packages/sklearn/metrics/_classification.py\", line 1544, in precision_recall_fscore_support\n",
      "    labels = _check_set_wise_labels(y_true, y_pred, average, labels, pos_label)\n",
      "  File \"/Users/meiralelov/opt/anaconda3/envs/tf/lib/python3.7/site-packages/sklearn/metrics/_classification.py\", line 1367, in _check_set_wise_labels\n",
      "    \"choose another average setting, one of %r.\" % (y_type, average_options)\n",
      "ValueError: Target is multiclass but average='binary'. Please choose another average setting, one of [None, 'micro', 'macro', 'weighted'].\n",
      "\n",
      "  UserWarning,\n",
      "/Users/meiralelov/opt/anaconda3/envs/tf/lib/python3.7/site-packages/sklearn/model_selection/_validation.py:774: UserWarning: Scoring failed. The score on this train-test partition for these parameters will be set to nan. Details: \n",
      "Traceback (most recent call last):\n",
      "  File \"/Users/meiralelov/opt/anaconda3/envs/tf/lib/python3.7/site-packages/sklearn/model_selection/_validation.py\", line 761, in _score\n",
      "    scores = scorer(estimator, X_test, y_test)\n",
      "  File \"/Users/meiralelov/opt/anaconda3/envs/tf/lib/python3.7/site-packages/sklearn/metrics/_scorer.py\", line 103, in __call__\n",
      "    score = scorer._score(cached_call, estimator, *args, **kwargs)\n",
      "  File \"/Users/meiralelov/opt/anaconda3/envs/tf/lib/python3.7/site-packages/sklearn/metrics/_scorer.py\", line 264, in _score\n",
      "    return self._sign * self._score_func(y_true, y_pred, **self._kwargs)\n",
      "  File \"/Users/meiralelov/opt/anaconda3/envs/tf/lib/python3.7/site-packages/sklearn/metrics/_classification.py\", line 1765, in precision_score\n",
      "    zero_division=zero_division,\n",
      "  File \"/Users/meiralelov/opt/anaconda3/envs/tf/lib/python3.7/site-packages/sklearn/metrics/_classification.py\", line 1544, in precision_recall_fscore_support\n",
      "    labels = _check_set_wise_labels(y_true, y_pred, average, labels, pos_label)\n",
      "  File \"/Users/meiralelov/opt/anaconda3/envs/tf/lib/python3.7/site-packages/sklearn/metrics/_classification.py\", line 1367, in _check_set_wise_labels\n",
      "    \"choose another average setting, one of %r.\" % (y_type, average_options)\n",
      "ValueError: Target is multiclass but average='binary'. Please choose another average setting, one of [None, 'micro', 'macro', 'weighted'].\n",
      "\n",
      "  UserWarning,\n",
      "/Users/meiralelov/opt/anaconda3/envs/tf/lib/python3.7/site-packages/sklearn/model_selection/_validation.py:774: UserWarning: Scoring failed. The score on this train-test partition for these parameters will be set to nan. Details: \n",
      "Traceback (most recent call last):\n",
      "  File \"/Users/meiralelov/opt/anaconda3/envs/tf/lib/python3.7/site-packages/sklearn/model_selection/_validation.py\", line 761, in _score\n",
      "    scores = scorer(estimator, X_test, y_test)\n",
      "  File \"/Users/meiralelov/opt/anaconda3/envs/tf/lib/python3.7/site-packages/sklearn/metrics/_scorer.py\", line 103, in __call__\n",
      "    score = scorer._score(cached_call, estimator, *args, **kwargs)\n",
      "  File \"/Users/meiralelov/opt/anaconda3/envs/tf/lib/python3.7/site-packages/sklearn/metrics/_scorer.py\", line 264, in _score\n",
      "    return self._sign * self._score_func(y_true, y_pred, **self._kwargs)\n",
      "  File \"/Users/meiralelov/opt/anaconda3/envs/tf/lib/python3.7/site-packages/sklearn/metrics/_classification.py\", line 1765, in precision_score\n",
      "    zero_division=zero_division,\n",
      "  File \"/Users/meiralelov/opt/anaconda3/envs/tf/lib/python3.7/site-packages/sklearn/metrics/_classification.py\", line 1544, in precision_recall_fscore_support\n",
      "    labels = _check_set_wise_labels(y_true, y_pred, average, labels, pos_label)\n",
      "  File \"/Users/meiralelov/opt/anaconda3/envs/tf/lib/python3.7/site-packages/sklearn/metrics/_classification.py\", line 1367, in _check_set_wise_labels\n",
      "    \"choose another average setting, one of %r.\" % (y_type, average_options)\n",
      "ValueError: Target is multiclass but average='binary'. Please choose another average setting, one of [None, 'micro', 'macro', 'weighted'].\n",
      "\n",
      "  UserWarning,\n",
      "/Users/meiralelov/opt/anaconda3/envs/tf/lib/python3.7/site-packages/sklearn/model_selection/_validation.py:774: UserWarning: Scoring failed. The score on this train-test partition for these parameters will be set to nan. Details: \n",
      "Traceback (most recent call last):\n",
      "  File \"/Users/meiralelov/opt/anaconda3/envs/tf/lib/python3.7/site-packages/sklearn/model_selection/_validation.py\", line 761, in _score\n",
      "    scores = scorer(estimator, X_test, y_test)\n",
      "  File \"/Users/meiralelov/opt/anaconda3/envs/tf/lib/python3.7/site-packages/sklearn/metrics/_scorer.py\", line 103, in __call__\n",
      "    score = scorer._score(cached_call, estimator, *args, **kwargs)\n",
      "  File \"/Users/meiralelov/opt/anaconda3/envs/tf/lib/python3.7/site-packages/sklearn/metrics/_scorer.py\", line 264, in _score\n",
      "    return self._sign * self._score_func(y_true, y_pred, **self._kwargs)\n",
      "  File \"/Users/meiralelov/opt/anaconda3/envs/tf/lib/python3.7/site-packages/sklearn/metrics/_classification.py\", line 1765, in precision_score\n",
      "    zero_division=zero_division,\n",
      "  File \"/Users/meiralelov/opt/anaconda3/envs/tf/lib/python3.7/site-packages/sklearn/metrics/_classification.py\", line 1544, in precision_recall_fscore_support\n",
      "    labels = _check_set_wise_labels(y_true, y_pred, average, labels, pos_label)\n",
      "  File \"/Users/meiralelov/opt/anaconda3/envs/tf/lib/python3.7/site-packages/sklearn/metrics/_classification.py\", line 1367, in _check_set_wise_labels\n",
      "    \"choose another average setting, one of %r.\" % (y_type, average_options)\n",
      "ValueError: Target is multiclass but average='binary'. Please choose another average setting, one of [None, 'micro', 'macro', 'weighted'].\n",
      "\n",
      "  UserWarning,\n"
     ]
    }
   ],
   "source": [
    "params_gbc = {\n",
    "    'gbc__n_estimators' : [90,100,110],\n",
    "    'gbc__max_depth' : [14,15,16]}\n",
    "\n",
    "gs_gbc = GridSearchCV(gbc_model_pipe, \n",
    "                      params_gbc, \n",
    "                      scoring=['accuracy','neg_log_loss'],\n",
    "                      refit='accuracy',  \n",
    "                      n_jobs=-1, \n",
    "                      cv=5, \n",
    "                      verbose=3)\n",
    "\n",
    "gs_gbc.fit(X_train, y_train)"
   ]
  },
  {
   "cell_type": "code",
   "execution_count": 80,
   "metadata": {},
   "outputs": [
    {
     "name": "stdout",
     "output_type": "stream",
     "text": [
      "{'gbc__max_depth': 15, 'gbc__n_estimators': 100}\n",
      "0.8583588861076346\n"
     ]
    }
   ],
   "source": [
    "print(gs_gbc.best_params_)\n",
    "print(gs_gbc.best_score_)\n",
    "pd.DataFrame(gs_gbc.cv_results_)"
   ]
  },
  {
   "cell_type": "code",
   "execution_count": 119,
   "metadata": {},
   "outputs": [],
   "source": [
    "final_rt_model_pipe = gs_rfc.best_estimator_"
   ]
  },
  {
   "cell_type": "markdown",
   "metadata": {},
   "source": [
    "## Role Type Classification Evaluation"
   ]
  },
  {
   "cell_type": "markdown",
   "metadata": {},
   "source": [
    "### Final Role Type Model"
   ]
  },
  {
   "cell_type": "code",
   "execution_count": 120,
   "metadata": {},
   "outputs": [],
   "source": [
    "final_rt_model_pipe.fit(X_train, y_train)\n",
    "\n",
    "final_rt_pipe = ModelWithCV(model=final_rt_model_pipe,\n",
    "                         model_name='final_pipe',\n",
    "                         X=X_train,\n",
    "                         y=y_train)"
   ]
  },
  {
   "cell_type": "code",
   "execution_count": 121,
   "metadata": {},
   "outputs": [
    {
     "name": "stdout",
     "output_type": "stream",
     "text": [
      "CV Results for `final_pipe` model:\n",
      "            0.86011 ± 0.01319 accuracy\n",
      "        \n",
      " Train: 0.9912412412412412\n",
      " Test: 0.8709677419354839\n"
     ]
    },
    {
     "data": {
      "image/png": "[encoded data removed]",
      "text/plain": [
       "<Figure size 432x288 with 1 Axes>"
      ]
     },
     "metadata": {
      "needs_background": "light"
     },
     "output_type": "display_data"
    }
   ],
   "source": [
    "fig, ax = plt.subplots()\n",
    "\n",
    "final_rt_pipe.plot_cv(ax=ax);\n",
    "\n",
    "final_rt_pipe.print_cv_summary()\n",
    "\n",
    "train_score = final_rt_model_pipe.score(X_train, y_train)\n",
    "test_score = final_rt_model_pipe.score(X_test, y_test)\n",
    "#score default is accuracy for a classifier\n",
    "\n",
    "print(f' Train: {train_score}')\n",
    "print(f' Test: {test_score}')"
   ]
  },
  {
   "cell_type": "code",
   "execution_count": 122,
   "metadata": {
    "scrolled": false
   },
   "outputs": [
    {
     "name": "stderr",
     "output_type": "stream",
     "text": [
      "/Users/meiralelov/opt/anaconda3/envs/tf/lib/python3.7/site-packages/sklearn/utils/deprecation.py:87: FutureWarning: Function plot_confusion_matrix is deprecated; Function `plot_confusion_matrix` is deprecated in 1.0 and will be removed in 1.2. Use one of the class methods: ConfusionMatrixDisplay.from_predictions or ConfusionMatrixDisplay.from_estimator.\n",
      "  warnings.warn(msg, category=FutureWarning)\n",
      "/Users/meiralelov/opt/anaconda3/envs/tf/lib/python3.7/site-packages/sklearn/utils/deprecation.py:87: FutureWarning: Function plot_confusion_matrix is deprecated; Function `plot_confusion_matrix` is deprecated in 1.0 and will be removed in 1.2. Use one of the class methods: ConfusionMatrixDisplay.from_predictions or ConfusionMatrixDisplay.from_estimator.\n",
      "  warnings.warn(msg, category=FutureWarning)\n"
     ]
    },
    {
     "data": {
      "image/png": "[encoded data removed]",
      "text/plain": [
       "<Figure size 432x288 with 2 Axes>"
      ]
     },
     "metadata": {
      "needs_background": "light"
     },
     "output_type": "display_data"
    },
    {
     "data": {
      "image/png": "[encoded data removed]",
      "text/plain": [
       "<Figure size 432x288 with 2 Axes>"
      ]
     },
     "metadata": {
      "needs_background": "light"
     },
     "output_type": "display_data"
    }
   ],
   "source": [
    "fig, ax = plt.subplots()\n",
    "\n",
    "fig.suptitle(\"Final Model\")\n",
    "\n",
    "plot_confusion_matrix(final_rt_model_pipe, X_train, y_train, ax=ax, cmap=\"plasma\");\n",
    "\n",
    "plot_confusion_matrix(final_rt_model_pipe, X_test, y_test, cmap=\"plasma\");"
   ]
  },
  {
   "cell_type": "code",
   "execution_count": null,
   "metadata": {
    "scrolled": true
   },
   "outputs": [],
   "source": [
    "y_hat = final_rt_model_pipe.predict(X_test)\n",
    "print(f'''Final model's accuracy on the test set is {round(accuracy_score(y_test, y_hat), 2)}''')"
   ]
  },
  {
   "cell_type": "markdown",
   "metadata": {},
   "source": [
    "## Role Type Feature Importances"
   ]
  },
  {
   "cell_type": "code",
   "execution_count": null,
   "metadata": {},
   "outputs": [],
   "source": [
    "rfc_features = final_rt_model_pipe.named_steps['rfc'].feature_importances_\n",
    "\n",
    "num_rt_features = grab_numeric_rt(X_train).columns\n",
    "\n",
    "num_rt_list = list(num_rt_features)\n",
    "\n",
    "features_rt_df = pd.DataFrame(rfc_features, num_rt_list, columns=['rfc_features'])\n",
    "\n",
    "features_rt_df.sort_values(by='rfc_features', ascending=False).head(20)"
   ]
  },
  {
   "cell_type": "code",
   "execution_count": null,
   "metadata": {},
   "outputs": [],
   "source": [
    "final_rt_model_pipe.fit(X,y)\n",
    "\n",
    "final_rt_pipe = ModelWithCV(model=final_rt_model_pipe,\n",
    "                         model_name='final_pipe',\n",
    "                         X=X,\n",
    "                         y=y)"
   ]
  },
  {
   "cell_type": "markdown",
   "metadata": {},
   "source": [
    "# Role Name Classification"
   ]
  },
  {
   "cell_type": "markdown",
   "metadata": {},
   "source": [
    "## Role Name Data"
   ]
  },
  {
   "cell_type": "code",
   "execution_count": null,
   "metadata": {
    "scrolled": true
   },
   "outputs": [],
   "source": [
    "clean_df.shape"
   ]
  },
  {
   "cell_type": "code",
   "execution_count": null,
   "metadata": {
    "scrolled": true
   },
   "outputs": [],
   "source": [
    "clean_df.RoleName.value_counts()"
   ]
  },
  {
   "cell_type": "code",
   "execution_count": null,
   "metadata": {},
   "outputs": [],
   "source": [
    "clean_df.RoleName"
   ]
  },
  {
   "cell_type": "code",
   "execution_count": null,
   "metadata": {
    "scrolled": false
   },
   "outputs": [],
   "source": [
    "balanced_rn_df = clean_df[clean_df.groupby('RoleName').RoleName.transform('count')>9]\n",
    "balanced_rn_df.RoleName.value_counts()"
   ]
  },
  {
   "cell_type": "code",
   "execution_count": null,
   "metadata": {},
   "outputs": [],
   "source": [
    "len(balanced_rn_df.RoleName.value_counts().index)"
   ]
  },
  {
   "cell_type": "code",
   "execution_count": null,
   "metadata": {},
   "outputs": [],
   "source": [
    "bio_rn_df = balanced_rn_df[balanced_rn_df['RoleType'] == 'biological role']\n",
    "chem_rn_df = balanced_rn_df[balanced_rn_df['RoleType'] == 'chemical role']\n",
    "app_rn_df = balanced_rn_df[balanced_rn_df['RoleType'] == 'application']"
   ]
  },
  {
   "cell_type": "code",
   "execution_count": null,
   "metadata": {
    "scrolled": true
   },
   "outputs": [],
   "source": [
    "balanced_rn_df.shape"
   ]
  },
  {
   "cell_type": "code",
   "execution_count": null,
   "metadata": {
    "scrolled": true
   },
   "outputs": [],
   "source": [
    "balanced_rn_df"
   ]
  },
  {
   "cell_type": "code",
   "execution_count": null,
   "metadata": {},
   "outputs": [],
   "source": [
    "len(bio_rn_df.RoleName.value_counts())"
   ]
  },
  {
   "cell_type": "code",
   "execution_count": null,
   "metadata": {},
   "outputs": [],
   "source": [
    "len(chem_rn_df.RoleName.value_counts())"
   ]
  },
  {
   "cell_type": "code",
   "execution_count": null,
   "metadata": {},
   "outputs": [],
   "source": [
    "len(app_rn_df.RoleName.value_counts())"
   ]
  },
  {
   "cell_type": "markdown",
   "metadata": {},
   "source": [
    "### Role Name Train-Test Split"
   ]
  },
  {
   "cell_type": "code",
   "execution_count": null,
   "metadata": {},
   "outputs": [],
   "source": [
    "# one role name in one role type between another role name in another role type. \n",
    "#this uncertainty in the model could b egiven a hint by the role type. \n",
    "#it accounts for 5% more accuracy. however I don't want to provide the training 'hints'\n",
    "#this is almost cheating because it uses a hierarchical information to inform the lower level of the hierarchy."
   ]
  },
  {
   "cell_type": "code",
   "execution_count": null,
   "metadata": {
    "scrolled": true
   },
   "outputs": [],
   "source": [
    "X1 = balanced_rn_df.drop(['RoleName', 'RoleType', 'ChEBI'], axis=1)\n",
    "y1 = balanced_rn_df['RoleName']\n",
    "\n",
    "X1_train, X1_test, y1_train, y1_test = train_test_split(X1, y1, random_state=42)"
   ]
  },
  {
   "cell_type": "code",
   "execution_count": null,
   "metadata": {},
   "outputs": [],
   "source": [
    "X2 = bio_rn_df.drop(['RoleName', 'RoleType', 'ChEBI'], axis=1)\n",
    "y2 = bio_rn_df['RoleName']\n",
    "\n",
    "X2_train, X2_test, y2_train, y2_test = train_test_split(X2, y2, random_state=42)"
   ]
  },
  {
   "cell_type": "code",
   "execution_count": null,
   "metadata": {},
   "outputs": [],
   "source": [
    "X3 = chem_rn_df.drop(['RoleName', 'RoleType', 'ChEBI'], axis=1)\n",
    "y3 = chem_rn_df['RoleName']\n",
    "\n",
    "X3_train, X3_test, y3_train, y3_test = train_test_split(X3, y3, random_state=42)"
   ]
  },
  {
   "cell_type": "code",
   "execution_count": null,
   "metadata": {},
   "outputs": [],
   "source": [
    "X4 = app_rn_df.drop(['RoleName', 'RoleType', 'ChEBI'], axis=1)\n",
    "y4 = app_rn_df['RoleName']\n",
    "\n",
    "X4_train, X4_test, y4_train, y4_test = train_test_split(X4, y4, random_state=42)"
   ]
  },
  {
   "cell_type": "markdown",
   "metadata": {},
   "source": [
    "## Role Name Modelling"
   ]
  },
  {
   "cell_type": "code",
   "execution_count": null,
   "metadata": {},
   "outputs": [],
   "source": [
    "def grab_numeric_rn(df):\n",
    "    return df.select_dtypes(include=['float', 'int'])\n",
    "\n",
    "GrabNumeric_rn = FunctionTransformer(grab_numeric_rn)\n",
    "\n",
    "subpipe_num = Pipeline(steps=[('get_num', GrabNumeric_rn),\n",
    "                              ('ss', StandardScaler())])\n",
    "\n",
    "ct = ColumnTransformer(transformers = [('subpipe_num', subpipe_num, X.columns)])"
   ]
  },
  {
   "cell_type": "markdown",
   "metadata": {},
   "source": [
    "### Baseline Model Full Dataframe"
   ]
  },
  {
   "cell_type": "code",
   "execution_count": null,
   "metadata": {},
   "outputs": [],
   "source": [
    "dummy_pipe = Pipeline(steps=[\n",
    "    ('ct', ct),\n",
    "    ('dummy', DummyClassifier(strategy='most_frequent'))])\n",
    "\n",
    "dummy_pipe.fit(X1_train, y1_train)\n",
    "\n",
    "dummy_model_pipe = ModelWithCV(\n",
    "    model=dummy_pipe,\n",
    "    model_name='dummy_model_pipe',\n",
    "    X=X1_train,\n",
    "    y=y1_train)"
   ]
  },
  {
   "cell_type": "code",
   "execution_count": null,
   "metadata": {},
   "outputs": [],
   "source": [
    "fig, ax = plt.subplots()\n",
    "\n",
    "ax = dummy_model_pipe.plot_cv(ax)\n",
    "plt.tight_layout();\n",
    "\n",
    "dummy_model_pipe.print_cv_summary()\n",
    "\n",
    "train_score = dummy_pipe.score(X1_train, y1_train)\n",
    "print(f' Train: {train_score}')"
   ]
  },
  {
   "cell_type": "markdown",
   "metadata": {},
   "source": [
    "### Baseline Model Bio"
   ]
  },
  {
   "cell_type": "code",
   "execution_count": null,
   "metadata": {},
   "outputs": [],
   "source": [
    "dummy_pipe = Pipeline(steps=[\n",
    "    ('ct', ct),\n",
    "    ('dummy', DummyClassifier(strategy='most_frequent'))])\n",
    "\n",
    "dummy_pipe.fit(X2_train, y2_train)\n",
    "\n",
    "dummy_model_pipe = ModelWithCV(\n",
    "    model=dummy_pipe,\n",
    "    model_name='dummy_model_pipe',\n",
    "    X=X2_train,\n",
    "    y=y2_train)"
   ]
  },
  {
   "cell_type": "code",
   "execution_count": null,
   "metadata": {},
   "outputs": [],
   "source": [
    "fig, ax = plt.subplots()\n",
    "\n",
    "ax = dummy_model_pipe.plot_cv(ax)\n",
    "plt.tight_layout();\n",
    "\n",
    "dummy_model_pipe.print_cv_summary()\n",
    "\n",
    "train_score = dummy_pipe.score(X2_train, y2_train)\n",
    "print(f' Train: {train_score}')"
   ]
  },
  {
   "cell_type": "markdown",
   "metadata": {},
   "source": [
    "### Baseline Model Chem"
   ]
  },
  {
   "cell_type": "code",
   "execution_count": null,
   "metadata": {},
   "outputs": [],
   "source": [
    "dummy_pipe = Pipeline(steps=[\n",
    "    ('ct', ct),\n",
    "    ('dummy', DummyClassifier(strategy='most_frequent'))])\n",
    "\n",
    "dummy_pipe.fit(X3_train, y3_train)\n",
    "\n",
    "dummy_model_pipe = ModelWithCV(\n",
    "    model=dummy_pipe,\n",
    "    model_name='dummy_model_pipe',\n",
    "    X=X3_train,\n",
    "    y=y3_train)"
   ]
  },
  {
   "cell_type": "code",
   "execution_count": null,
   "metadata": {},
   "outputs": [],
   "source": [
    "fig, ax = plt.subplots()\n",
    "\n",
    "ax = dummy_model_pipe.plot_cv(ax)\n",
    "plt.tight_layout();\n",
    "\n",
    "dummy_model_pipe.print_cv_summary()\n",
    "\n",
    "train_score = dummy_pipe.score(X3_train, y3_train)\n",
    "print(f' Train: {train_score}')"
   ]
  },
  {
   "cell_type": "markdown",
   "metadata": {},
   "source": [
    "### Baseline Model App"
   ]
  },
  {
   "cell_type": "code",
   "execution_count": null,
   "metadata": {},
   "outputs": [],
   "source": [
    "dummy_pipe = Pipeline(steps=[\n",
    "    ('ct', ct),\n",
    "    ('dummy', DummyClassifier(strategy='most_frequent'))])\n",
    "\n",
    "dummy_pipe.fit(X4_train, y4_train)\n",
    "\n",
    "dummy_model_pipe = ModelWithCV(\n",
    "    model=dummy_pipe,\n",
    "    model_name='dummy_model_pipe',\n",
    "    X=X4_train,\n",
    "    y=y4_train)"
   ]
  },
  {
   "cell_type": "code",
   "execution_count": null,
   "metadata": {},
   "outputs": [],
   "source": [
    "fig, ax = plt.subplots()\n",
    "\n",
    "ax = dummy_model_pipe.plot_cv(ax)\n",
    "plt.tight_layout();\n",
    "\n",
    "dummy_model_pipe.print_cv_summary()\n",
    "\n",
    "train_score = dummy_pipe.score(X4_train, y4_train)\n",
    "print(f' Train: {train_score}')"
   ]
  },
  {
   "cell_type": "markdown",
   "metadata": {},
   "source": [
    "### Logistic Regression Full Dataframe"
   ]
  },
  {
   "cell_type": "code",
   "execution_count": null,
   "metadata": {},
   "outputs": [],
   "source": [
    "logreg_model_pipe = Pipeline(steps=[\n",
    "                    ('ct',ct),\n",
    "                    ('lr', LogisticRegression(random_state=42, max_iter=10000))])\n",
    "\n",
    "logreg_model_pipe.fit(X1_train, y1_train)\n",
    "\n",
    "log_pipe = ModelWithCV(model=logreg_model_pipe, \n",
    "                       model_name = 'log_pipe', \n",
    "                       X=X1_train, \n",
    "                       y=y1_train)"
   ]
  },
  {
   "cell_type": "code",
   "execution_count": null,
   "metadata": {},
   "outputs": [],
   "source": [
    "fig, ax = plt.subplots()\n",
    "\n",
    "log_pipe.plot_cv(ax=ax)\n",
    "\n",
    "log_pipe.print_cv_summary()\n",
    "\n",
    "train_score = logreg_model_pipe.score(X1_train, y1_train)\n",
    "print(f' Train: {train_score}')"
   ]
  },
  {
   "cell_type": "markdown",
   "metadata": {},
   "source": [
    "### Logistic Regression Bio"
   ]
  },
  {
   "cell_type": "code",
   "execution_count": null,
   "metadata": {},
   "outputs": [],
   "source": [
    "logreg_model_pipe = Pipeline(steps=[\n",
    "                    ('ct',ct),\n",
    "                    ('lr', LogisticRegression(random_state=42, max_iter=10000))])\n",
    "\n",
    "logreg_model_pipe.fit(X2_train, y2_train)\n",
    "\n",
    "log_pipe = ModelWithCV(model=logreg_model_pipe, \n",
    "                       model_name = 'log_pipe', \n",
    "                       X=X2_train, \n",
    "                       y=y2_train)"
   ]
  },
  {
   "cell_type": "code",
   "execution_count": null,
   "metadata": {},
   "outputs": [],
   "source": [
    "fig, ax = plt.subplots()\n",
    "\n",
    "log_pipe.plot_cv(ax=ax)\n",
    "\n",
    "log_pipe.print_cv_summary()\n",
    "\n",
    "train_score = logreg_model_pipe.score(X2_train, y2_train)\n",
    "print(f' Train: {train_score}')"
   ]
  },
  {
   "cell_type": "markdown",
   "metadata": {},
   "source": [
    "### Logistic Regression Chem"
   ]
  },
  {
   "cell_type": "code",
   "execution_count": null,
   "metadata": {},
   "outputs": [],
   "source": [
    "logreg_model_pipe = Pipeline(steps=[\n",
    "                    ('ct',ct),\n",
    "                    ('lr', LogisticRegression(random_state=42, max_iter=10000))])\n",
    "\n",
    "logreg_model_pipe.fit(X3_train, y3_train)\n",
    "\n",
    "log_pipe = ModelWithCV(model=logreg_model_pipe, \n",
    "                       model_name = 'log_pipe', \n",
    "                       X=X3_train, \n",
    "                       y=y3_train)"
   ]
  },
  {
   "cell_type": "code",
   "execution_count": null,
   "metadata": {},
   "outputs": [],
   "source": [
    "fig, ax = plt.subplots()\n",
    "\n",
    "log_pipe.plot_cv(ax=ax)\n",
    "\n",
    "log_pipe.print_cv_summary()\n",
    "\n",
    "train_score = logreg_model_pipe.score(X3_train, y3_train)\n",
    "print(f' Train: {train_score}')"
   ]
  },
  {
   "cell_type": "markdown",
   "metadata": {},
   "source": [
    "### Logistic Regression App"
   ]
  },
  {
   "cell_type": "code",
   "execution_count": null,
   "metadata": {},
   "outputs": [],
   "source": [
    "logreg_model_pipe = Pipeline(steps=[\n",
    "                    ('ct',ct),\n",
    "                    ('lr', LogisticRegression(random_state=42, max_iter=10000))])\n",
    "\n",
    "logreg_model_pipe.fit(X1_train, y1_train)\n",
    "\n",
    "log_pipe = ModelWithCV(model=logreg_model_pipe, \n",
    "                       model_name = 'log_pipe', \n",
    "                       X=X1_train, \n",
    "                       y=y1_train)"
   ]
  },
  {
   "cell_type": "code",
   "execution_count": null,
   "metadata": {},
   "outputs": [],
   "source": [
    "fig, ax = plt.subplots()\n",
    "\n",
    "log_pipe.plot_cv(ax=ax)\n",
    "\n",
    "log_pipe.print_cv_summary()\n",
    "\n",
    "train_score = logreg_model_pipe.score(X1_train, y1_train)\n",
    "print(f' Train: {train_score}')"
   ]
  },
  {
   "cell_type": "markdown",
   "metadata": {},
   "source": [
    "### Decision Trees Full Dataframe"
   ]
  },
  {
   "cell_type": "code",
   "execution_count": null,
   "metadata": {},
   "outputs": [],
   "source": [
    "dt_model_pipe = Pipeline(steps=[\n",
    "                ('ct', ct), \n",
    "                ('dt', DecisionTreeClassifier(random_state=42))])\n",
    "\n",
    "dt_model_pipe.fit(X1_train, y1_train)\n",
    "\n",
    "dt_pipe = ModelWithCV(model=dt_model_pipe,\n",
    "                         model_name='dt_pipe',\n",
    "                         X=X1_train,\n",
    "                         y=y1_train)"
   ]
  },
  {
   "cell_type": "code",
   "execution_count": null,
   "metadata": {},
   "outputs": [],
   "source": [
    "fig, ax = plt.subplots()\n",
    "\n",
    "dt_pipe.plot_cv(ax=ax);\n",
    "\n",
    "dt_pipe.print_cv_summary()\n",
    "\n",
    "train_score = dt_model_pipe.score(X1_train, y1_train)\n",
    "print(f' Train: {train_score}')"
   ]
  },
  {
   "cell_type": "markdown",
   "metadata": {},
   "source": [
    "### Decision Trees Bio"
   ]
  },
  {
   "cell_type": "code",
   "execution_count": null,
   "metadata": {},
   "outputs": [],
   "source": [
    "dt_model_pipe = Pipeline(steps=[\n",
    "                ('ct', ct), \n",
    "                ('dt', DecisionTreeClassifier(random_state=42))])\n",
    "\n",
    "dt_model_pipe.fit(X2_train, y2_train)\n",
    "\n",
    "dt_pipe = ModelWithCV(model=dt_model_pipe,\n",
    "                         model_name='dt_pipe',\n",
    "                         X=X2_train,\n",
    "                         y=y2_train)"
   ]
  },
  {
   "cell_type": "code",
   "execution_count": null,
   "metadata": {},
   "outputs": [],
   "source": [
    "fig, ax = plt.subplots()\n",
    "\n",
    "dt_pipe.plot_cv(ax=ax);\n",
    "\n",
    "dt_pipe.print_cv_summary()\n",
    "\n",
    "train_score = dt_model_pipe.score(X2_train, y2_train)\n",
    "print(f' Train: {train_score}')"
   ]
  },
  {
   "cell_type": "markdown",
   "metadata": {},
   "source": [
    "### Decision Trees Chem"
   ]
  },
  {
   "cell_type": "code",
   "execution_count": null,
   "metadata": {},
   "outputs": [],
   "source": [
    "dt_model_pipe = Pipeline(steps=[\n",
    "                ('ct', ct), \n",
    "                ('dt', DecisionTreeClassifier(random_state=42))])\n",
    "\n",
    "dt_model_pipe.fit(X3_train, y3_train)\n",
    "\n",
    "dt_pipe = ModelWithCV(model=dt_model_pipe,\n",
    "                         model_name='dt_pipe',\n",
    "                         X=X3_train,\n",
    "                         y=y3_train)"
   ]
  },
  {
   "cell_type": "code",
   "execution_count": null,
   "metadata": {},
   "outputs": [],
   "source": [
    "fig, ax = plt.subplots()\n",
    "\n",
    "dt_pipe.plot_cv(ax=ax);\n",
    "\n",
    "dt_pipe.print_cv_summary()\n",
    "\n",
    "train_score = dt_model_pipe.score(X3_train, y3_train)\n",
    "print(f' Train: {train_score}')"
   ]
  },
  {
   "cell_type": "markdown",
   "metadata": {},
   "source": [
    "### Decision Trees App"
   ]
  },
  {
   "cell_type": "code",
   "execution_count": null,
   "metadata": {},
   "outputs": [],
   "source": [
    "dt_model_pipe = Pipeline(steps=[\n",
    "                ('ct', ct), \n",
    "                ('dt', DecisionTreeClassifier(random_state=42))])\n",
    "\n",
    "dt_model_pipe.fit(X4_train, y4_train)\n",
    "\n",
    "dt_pipe = ModelWithCV(model=dt_model_pipe,\n",
    "                         model_name='dt_pipe',\n",
    "                         X=X4_train,\n",
    "                         y=y4_train)"
   ]
  },
  {
   "cell_type": "code",
   "execution_count": null,
   "metadata": {},
   "outputs": [],
   "source": [
    "fig, ax = plt.subplots()\n",
    "\n",
    "dt_pipe.plot_cv(ax=ax);\n",
    "\n",
    "dt_pipe.print_cv_summary()\n",
    "\n",
    "train_score = dt_model_pipe.score(X4_train, y4_train)\n",
    "print(f' Train: {train_score}')"
   ]
  },
  {
   "cell_type": "markdown",
   "metadata": {},
   "source": [
    "### Random Forest Full Dataframe"
   ]
  },
  {
   "cell_type": "code",
   "execution_count": null,
   "metadata": {},
   "outputs": [],
   "source": [
    "rfc_model_pipe = Pipeline(steps=[\n",
    "                ('ct', ct), \n",
    "                ('rfc', RandomForestClassifier(random_state=42))])\n",
    "\n",
    "rfc_model_pipe.fit(X1_train, y1_train)\n",
    "\n",
    "forest_pipe = ModelWithCV(model=rfc_model_pipe, \n",
    "                          model_name='forest_pipe', \n",
    "                          X=X1_train, \n",
    "                          y=y1_train)"
   ]
  },
  {
   "cell_type": "code",
   "execution_count": null,
   "metadata": {
    "scrolled": true
   },
   "outputs": [],
   "source": [
    "fig, ax = plt.subplots()\n",
    "\n",
    "forest_pipe.plot_cv(ax=ax)\n",
    "\n",
    "forest_pipe.print_cv_summary()\n",
    "\n",
    "train_score = rfc_model_pipe.score(X1_train, y1_train)\n",
    "print(f' Train: {train_score}')"
   ]
  },
  {
   "cell_type": "markdown",
   "metadata": {},
   "source": [
    "### Random Forest Bio"
   ]
  },
  {
   "cell_type": "code",
   "execution_count": null,
   "metadata": {},
   "outputs": [],
   "source": [
    "rfc_model_pipe = Pipeline(steps=[\n",
    "                ('ct', ct), \n",
    "                ('rfc', RandomForestClassifier(random_state=42))])\n",
    "\n",
    "rfc_model_pipe.fit(X2_train, y2_train)\n",
    "\n",
    "forest_pipe = ModelWithCV(model=rfc_model_pipe, \n",
    "                          model_name='forest_pipe', \n",
    "                          X=X2_train, \n",
    "                          y=y2_train)"
   ]
  },
  {
   "cell_type": "code",
   "execution_count": null,
   "metadata": {
    "scrolled": false
   },
   "outputs": [],
   "source": [
    "fig, ax = plt.subplots()\n",
    "\n",
    "forest_pipe.plot_cv(ax=ax)\n",
    "\n",
    "forest_pipe.print_cv_summary()\n",
    "\n",
    "train_score = rfc_model_pipe.score(X2_train, y2_train)\n",
    "print(f' Train: {train_score}')"
   ]
  },
  {
   "cell_type": "markdown",
   "metadata": {},
   "source": [
    "### Random Forest Chem"
   ]
  },
  {
   "cell_type": "code",
   "execution_count": null,
   "metadata": {},
   "outputs": [],
   "source": [
    "rfc_model_pipe = Pipeline(steps=[\n",
    "                ('ct', ct), \n",
    "                ('rfc', RandomForestClassifier(random_state=42))])\n",
    "\n",
    "rfc_model_pipe.fit(X3_train, y3_train)\n",
    "\n",
    "forest_pipe = ModelWithCV(model=rfc_model_pipe, \n",
    "                          model_name='forest_pipe', \n",
    "                          X=X3_train, \n",
    "                          y=y3_train)"
   ]
  },
  {
   "cell_type": "code",
   "execution_count": null,
   "metadata": {},
   "outputs": [],
   "source": [
    "fig, ax = plt.subplots()\n",
    "\n",
    "forest_pipe.plot_cv(ax=ax)\n",
    "\n",
    "forest_pipe.print_cv_summary()\n",
    "\n",
    "train_score = rfc_model_pipe.score(X3_train, y3_train)\n",
    "print(f' Train: {train_score}')"
   ]
  },
  {
   "cell_type": "markdown",
   "metadata": {},
   "source": [
    "### Random Forest App"
   ]
  },
  {
   "cell_type": "code",
   "execution_count": null,
   "metadata": {},
   "outputs": [],
   "source": [
    "rfc_model_pipe = Pipeline(steps=[\n",
    "                ('ct', ct), \n",
    "                ('rfc', RandomForestClassifier(random_state=42))])\n",
    "\n",
    "rfc_model_pipe.fit(X4_train, y4_train)\n",
    "\n",
    "forest_pipe = ModelWithCV(model=rfc_model_pipe, \n",
    "                          model_name='forest_pipe', \n",
    "                          X=X4_train, \n",
    "                          y=y4_train)"
   ]
  },
  {
   "cell_type": "code",
   "execution_count": null,
   "metadata": {},
   "outputs": [],
   "source": [
    "fig, ax = plt.subplots()\n",
    "\n",
    "forest_pipe.plot_cv(ax=ax)\n",
    "\n",
    "forest_pipe.print_cv_summary()\n",
    "\n",
    "train_score = rfc_model_pipe.score(X4_train, y4_train)\n",
    "print(f' Train: {train_score}')"
   ]
  },
  {
   "cell_type": "markdown",
   "metadata": {},
   "source": [
    "### Gradient Boosting Classifier Full Dataframe"
   ]
  },
  {
   "cell_type": "code",
   "execution_count": null,
   "metadata": {},
   "outputs": [],
   "source": [
    "gbc_model_pipe = Pipeline(steps=[\n",
    "                ('ct', ct), \n",
    "                ('gbc', GradientBoostingClassifier(random_state=42))])\n",
    "\n",
    "gbc_model_pipe.fit(X1_train, y1_train)\n",
    "\n",
    "boost_pipe = ModelWithCV(model=gbc_model_pipe,\n",
    "                         model_name='boost_pipe',\n",
    "                         X=X1_train,\n",
    "                         y=y1_train)"
   ]
  },
  {
   "cell_type": "code",
   "execution_count": null,
   "metadata": {},
   "outputs": [],
   "source": [
    "fig, ax = plt.subplots()\n",
    "\n",
    "boost_pipe.plot_cv(ax=ax)\n",
    "\n",
    "boost_pipe.print_cv_summary()\n",
    "\n",
    "train_score = gbc_model_pipe.score(X1_train, y1_train)\n",
    "print(f' Train: {train_score}')"
   ]
  },
  {
   "cell_type": "markdown",
   "metadata": {},
   "source": [
    "### Gradient Boosting Classifier Bio"
   ]
  },
  {
   "cell_type": "code",
   "execution_count": null,
   "metadata": {},
   "outputs": [],
   "source": [
    "gbc_model_pipe = Pipeline(steps=[\n",
    "                ('ct', ct), \n",
    "                ('gbc', GradientBoostingClassifier(random_state=42))])\n",
    "\n",
    "gbc_model_pipe.fit(X2_train, y2_train)\n",
    "\n",
    "boost_pipe = ModelWithCV(model=gbc_model_pipe,\n",
    "                         model_name='boost_pipe',\n",
    "                         X=X2_train,\n",
    "                         y=y2_train)"
   ]
  },
  {
   "cell_type": "code",
   "execution_count": null,
   "metadata": {},
   "outputs": [],
   "source": [
    "fig, ax = plt.subplots()\n",
    "\n",
    "boost_pipe.plot_cv(ax=ax)\n",
    "\n",
    "boost_pipe.print_cv_summary()\n",
    "\n",
    "train_score = gbc_model_pipe.score(X2_train, y2_train)\n",
    "print(f' Train: {train_score}')"
   ]
  },
  {
   "cell_type": "markdown",
   "metadata": {},
   "source": [
    "### Gradient Boosting Classifier Chem"
   ]
  },
  {
   "cell_type": "code",
   "execution_count": null,
   "metadata": {},
   "outputs": [],
   "source": [
    "gbc_model_pipe = Pipeline(steps=[\n",
    "                ('ct', ct), \n",
    "                ('gbc', GradientBoostingClassifier(random_state=42))])\n",
    "\n",
    "gbc_model_pipe.fit(X3_train, y3_train)\n",
    "\n",
    "boost_pipe = ModelWithCV(model=gbc_model_pipe,\n",
    "                         model_name='boost_pipe',\n",
    "                         X=X3_train,\n",
    "                         y=y3_train)"
   ]
  },
  {
   "cell_type": "code",
   "execution_count": null,
   "metadata": {},
   "outputs": [],
   "source": [
    "fig, ax = plt.subplots()\n",
    "\n",
    "boost_pipe.plot_cv(ax=ax)\n",
    "\n",
    "boost_pipe.print_cv_summary()\n",
    "\n",
    "train_score = gbc_model_pipe.score(X3_train, y3_train)\n",
    "print(f' Train: {train_score}')"
   ]
  },
  {
   "cell_type": "markdown",
   "metadata": {},
   "source": [
    "### Gradient Boosting Classifier App"
   ]
  },
  {
   "cell_type": "code",
   "execution_count": null,
   "metadata": {},
   "outputs": [],
   "source": [
    "gbc_model_pipe = Pipeline(steps=[\n",
    "                ('ct', ct), \n",
    "                ('gbc', GradientBoostingClassifier(random_state=42))])\n",
    "\n",
    "gbc_model_pipe.fit(X4_train, y4_train)\n",
    "\n",
    "boost_pipe = ModelWithCV(model=gbc_model_pipe,\n",
    "                         model_name='boost_pipe',\n",
    "                         X=X4_train,\n",
    "                         y=y4_train)"
   ]
  },
  {
   "cell_type": "code",
   "execution_count": null,
   "metadata": {},
   "outputs": [],
   "source": [
    "fig, ax = plt.subplots()\n",
    "\n",
    "boost_pipe.plot_cv(ax=ax)\n",
    "\n",
    "boost_pipe.print_cv_summary()\n",
    "\n",
    "train_score = gbc_model_pipe.score(X4_train, y4_train)\n",
    "print(f' Train: {train_score}')"
   ]
  },
  {
   "cell_type": "markdown",
   "metadata": {},
   "source": [
    "## Grid Search"
   ]
  },
  {
   "cell_type": "markdown",
   "metadata": {},
   "source": [
    "### RFC Grid Search"
   ]
  },
  {
   "cell_type": "code",
   "execution_count": null,
   "metadata": {},
   "outputs": [],
   "source": [
    "params_rfc = {\n",
    "    'rfc__n_estimators' : [100, 125, 150],\n",
    "    'rfc__max_depth' : [7, 10, 13],}\n",
    "\n",
    "gs_rfc_bio = GridSearchCV(rfc_model_pipe, params_rfc, n_jobs=-1, cv=5, verbose=3)\n",
    "\n",
    "gs_rfc_bio.fit(X2_train, y2_train)\n",
    "\n",
    "print(gs_rfc_bio.best_params_, gs_rfc_bio.best_score_)"
   ]
  },
  {
   "cell_type": "code",
   "execution_count": null,
   "metadata": {},
   "outputs": [],
   "source": [
    "params_rfc = {\n",
    "    'rfc__n_estimators' : [100, 125, 150],\n",
    "    'rfc__max_depth' : [7, 10, 13],}\n",
    "\n",
    "gs_rfc_chem = GridSearchCV(rfc_model_pipe, params_rfc, n_jobs=-1, cv=5, verbose=3)\n",
    "\n",
    "gs_rfc_chem.fit(X3_train, y3_train)\n",
    "\n",
    "print(gs_rfc_chem.best_params_, gs_rfc_chem.best_score_)"
   ]
  },
  {
   "cell_type": "code",
   "execution_count": null,
   "metadata": {},
   "outputs": [],
   "source": [
    "params_rfc = {\n",
    "    'rfc__n_estimators' : [100, 125, 150],\n",
    "    'rfc__max_depth' : [7, 10, 13],}\n",
    "\n",
    "gs_rfc_app = GridSearchCV(rfc_model_pipe, params_rfc, n_jobs=-1, cv=5, verbose=3)\n",
    "\n",
    "gs_rfc_app.fit(X4_train, y4_train)\n",
    "\n",
    "print(gs_rfc_app.best_params_, gs_rfc_app.best_score_)"
   ]
  },
  {
   "cell_type": "markdown",
   "metadata": {},
   "source": [
    "### GBC Grid Search"
   ]
  },
  {
   "cell_type": "code",
   "execution_count": null,
   "metadata": {},
   "outputs": [],
   "source": [
    "params_gbc = {\n",
    "    'gbc__n_estimators' : [50, 100, 200],\n",
    "    'gbc__max_depth' : [1, 5, 10]}\n",
    "\n",
    "gs_gbc_bio = GridSearchCV(stacked_model_pipe, params_gbc, n_jobs=-1, cv=3, verbose=3)\n",
    "\n",
    "gs_gbc_bio.fit(X2_train, y2_train)\n",
    "\n",
    "print(gs_gbc_bio.best_params_, gs_gbc_bio.best_score_)"
   ]
  },
  {
   "cell_type": "code",
   "execution_count": null,
   "metadata": {},
   "outputs": [],
   "source": [
    "params_gbc = {\n",
    "    'gbc__n_estimators' : [50, 100, 200],\n",
    "    'gbc__max_depth' : [1, 5, 10]}\n",
    "\n",
    "gs_gbc_chem = GridSearchCV(stacked_model_pipe, params_gbc, n_jobs=-1, cv=3, verbose=3)\n",
    "\n",
    "gs_gbc_chem.fit(X3_train, y3_train)\n",
    "\n",
    "print(gs_gbc_chem.best_params_, gs_gbc_chem.best_score_)"
   ]
  },
  {
   "cell_type": "code",
   "execution_count": null,
   "metadata": {},
   "outputs": [],
   "source": [
    "params_gbc = {\n",
    "    'gbc__n_estimators' : [50, 100, 200],\n",
    "    'gbc__max_depth' : [1, 5, 10]}\n",
    "\n",
    "gs_gbc_app = GridSearchCV(stacked_model_pipe, params_gbc, n_jobs=-1, cv=3, verbose=3)\n",
    "\n",
    "gs_gbc_app.fit(X4_train, y4_train)\n",
    "\n",
    "print(gs_gbc_app.best_params_, gs_gbc_bio.best_score_)"
   ]
  },
  {
   "cell_type": "markdown",
   "metadata": {},
   "source": [
    "### Final Models"
   ]
  },
  {
   "cell_type": "code",
   "execution_count": null,
   "metadata": {},
   "outputs": [],
   "source": [
    "final_rn_bio_model_pipe = gs_rfc_bio.best_estimator_\n",
    "\n",
    "final_rn_chem_model_pipe = gs_rfc_chem.best_estimator_\n",
    "\n",
    "final_rn_app_model_pipe = gs_rfc_app.best_estimator_"
   ]
  },
  {
   "cell_type": "markdown",
   "metadata": {},
   "source": [
    "## Role Name Classification Evaluation"
   ]
  },
  {
   "cell_type": "markdown",
   "metadata": {},
   "source": [
    "### Final Role Name Bio Model "
   ]
  },
  {
   "cell_type": "code",
   "execution_count": null,
   "metadata": {},
   "outputs": [],
   "source": [
    "final_rn_bio_model_pipe.fit(X2_train, y2_train)\n",
    "\n",
    "final_rn_bio_pipe = ModelWithCV(model=final_rn_bio_model_pipe,\n",
    "                         model_name='final_rn_bio_pipe',\n",
    "                         X=X2_train,\n",
    "                         y=y2_train)"
   ]
  },
  {
   "cell_type": "code",
   "execution_count": null,
   "metadata": {},
   "outputs": [],
   "source": [
    "fig, ax = plt.subplots()\n",
    "\n",
    "final_rn_bio_pipe.plot_cv(ax=ax);\n",
    "\n",
    "final_rn_bio_pipe.print_cv_summary()\n",
    "\n",
    "train_score = final_rn_bio_model_pipe.score(X2_train, y2_train)\n",
    "test_score = final_rn_bio_model_pipe.score(X2_test, y2_test)\n",
    "#score default is accuracy for a classifier\n",
    "\n",
    "print(f' Train: {train_score}')\n",
    "print(f' Test: {test_score}')\n",
    "\n",
    "y2_hat = final_rn_bio_model_pipe.predict(X2_test)\n",
    "print(f'''Final bio model's accuracy on the test set is {round(accuracy_score(y2_test, y2_hat), 2)}''')"
   ]
  },
  {
   "cell_type": "markdown",
   "metadata": {},
   "source": [
    "### Final Role Name Chem Model"
   ]
  },
  {
   "cell_type": "code",
   "execution_count": null,
   "metadata": {},
   "outputs": [],
   "source": [
    "final_rn_chem_model_pipe.fit(X3_train, y3_train)\n",
    "\n",
    "final_rn_chem_pipe = ModelWithCV(model=final_rn_chem_model_pipe,\n",
    "                         model_name='final_rn_chem_pipe',\n",
    "                         X=X3_train,\n",
    "                         y=y3_train)"
   ]
  },
  {
   "cell_type": "code",
   "execution_count": null,
   "metadata": {},
   "outputs": [],
   "source": [
    "fig, ax = plt.subplots()\n",
    "\n",
    "final_rn_chem_pipe.plot_cv(ax=ax);\n",
    "\n",
    "final_rn_chem_pipe.print_cv_summary()\n",
    "\n",
    "train_score = final_rn_chem_model_pipe.score(X3_train, y3_train)\n",
    "test_score = final_rn_chem_model_pipe.score(X3_test, y3_test)\n",
    "#score default is accuracy for a classifier\n",
    "\n",
    "print(f' Train: {train_score}')\n",
    "print(f' Test: {test_score}')\n",
    "\n",
    "y3_hat = final_rn_chem_model_pipe.predict(X3_test)\n",
    "print(f'''Final chem model's accuracy on the test set is {round(accuracy_score(y3_test, y3_hat), 2)}''')"
   ]
  },
  {
   "cell_type": "markdown",
   "metadata": {},
   "source": [
    "### Final Role Name App Model"
   ]
  },
  {
   "cell_type": "code",
   "execution_count": null,
   "metadata": {},
   "outputs": [],
   "source": [
    "final_rn_app_model_pipe.fit(X4_train, y4_train)\n",
    "\n",
    "final_rn_app_pipe = ModelWithCV(model=final_rn_app_model_pipe,\n",
    "                         model_name='final_rn_app_pipe',\n",
    "                         X=X4_train,\n",
    "                         y=y4_train)"
   ]
  },
  {
   "cell_type": "code",
   "execution_count": null,
   "metadata": {},
   "outputs": [],
   "source": [
    "fig, ax = plt.subplots()\n",
    "\n",
    "final_rn_app_pipe.plot_cv(ax=ax);\n",
    "\n",
    "final_rn_app_pipe.print_cv_summary()\n",
    "\n",
    "train_score = final_rn_app_model_pipe.score(X4_train, y4_train)\n",
    "test_score = final_rn_app_model_pipe.score(X4_test, y4_test)\n",
    "#score default is accuracy for a classifier\n",
    "\n",
    "print(f' Train: {train_score}')\n",
    "print(f' Test: {test_score}')\n",
    "\n",
    "y4_hat = final_rn_app_model_pipe.predict(X4_test)\n",
    "print(f'''Final app model's accuracy on the test set is {round(accuracy_score(y4_test, y4_hat), 2)}''')"
   ]
  },
  {
   "cell_type": "markdown",
   "metadata": {},
   "source": [
    "## Role Name Feature Importances"
   ]
  },
  {
   "cell_type": "markdown",
   "metadata": {},
   "source": [
    "### Role Name Bio Features"
   ]
  },
  {
   "cell_type": "code",
   "execution_count": null,
   "metadata": {},
   "outputs": [],
   "source": [
    "rfc_features = final_rn_bio_model_pipe.named_steps['rfc'].feature_importances_\n",
    "\n",
    "num_rn_features = grab_numeric_rn(X2_train).columns\n",
    "\n",
    "num_rn_list = list(num_rn_features)\n",
    "\n",
    "features_rn_df = pd.DataFrame(rfc_features, num_rn_list, columns=['rfc_features'])\n",
    "\n",
    "features_rn_df.sort_values(by='rfc_features', ascending=False).head(20)"
   ]
  },
  {
   "cell_type": "code",
   "execution_count": null,
   "metadata": {},
   "outputs": [],
   "source": [
    "final_rn_bio_model_pipe.fit(X2, y2)\n",
    "\n",
    "final_rn_bio_pipe = ModelWithCV(model=final_rn_bio_model_pipe,\n",
    "                         model_name='final_rn_bio_pipe',\n",
    "                         X=X2,\n",
    "                         y=y2)"
   ]
  },
  {
   "cell_type": "markdown",
   "metadata": {},
   "source": [
    "### Role Name Chem Features"
   ]
  },
  {
   "cell_type": "code",
   "execution_count": null,
   "metadata": {},
   "outputs": [],
   "source": [
    "rfc_features = final_rn_chem_model_pipe.named_steps['rfc'].feature_importances_\n",
    "\n",
    "num_rn_features = grab_numeric_rn(X3_train).columns\n",
    "\n",
    "num_rn_list = list(num_rn_features)\n",
    "\n",
    "features_rn_df = pd.DataFrame(rfc_features, num_rn_list, columns=['rfc_features'])\n",
    "\n",
    "features_rn_df.sort_values(by='rfc_features', ascending=False).head(20)"
   ]
  },
  {
   "cell_type": "code",
   "execution_count": null,
   "metadata": {},
   "outputs": [],
   "source": [
    "final_rn_chem_model_pipe.fit(X3, y3)\n",
    "\n",
    "final_rn_chem_pipe = ModelWithCV(model=final_rn_chem_model_pipe,\n",
    "                         model_name='final_rn_chem_pipe',\n",
    "                         X=X3,\n",
    "                         y=y3)"
   ]
  },
  {
   "cell_type": "markdown",
   "metadata": {},
   "source": [
    "### Role Name App Features"
   ]
  },
  {
   "cell_type": "code",
   "execution_count": null,
   "metadata": {},
   "outputs": [],
   "source": [
    "rfc_features = final_rn_app_model_pipe.named_steps['rfc'].feature_importances_\n",
    "\n",
    "num_rn_features = grab_numeric_rn(X4_train).columns\n",
    "\n",
    "num_rn_list = list(num_rn_features)\n",
    "\n",
    "features_rn_df = pd.DataFrame(rfc_features, num_rn_list, columns=['rfc_features'])\n",
    "\n",
    "features_rn_df.sort_values(by='rfc_features', ascending=False).head(20)"
   ]
  },
  {
   "cell_type": "code",
   "execution_count": null,
   "metadata": {},
   "outputs": [],
   "source": [
    "final_rn_app_model_pipe.fit(X4, y4)\n",
    "\n",
    "final_rn_app_pipe = ModelWithCV(model=final_rn_app_model_pipe,\n",
    "                         model_name='final_rn_app_pipe',\n",
    "                         X=X4,\n",
    "                         y=y4)"
   ]
  },
  {
   "cell_type": "code",
   "execution_count": null,
   "metadata": {},
   "outputs": [],
   "source": [
    "#var_array = chem phys inputs\n",
    "\n",
    "#type_pred = final_rt_model_pipe.predict(var_array)\n",
    "\n",
    "#var_array.append(type_pred)\n",
    "\n",
    "#name_pred = final_rn_model_pipe.predict(var_array)"
   ]
  }
 ],
 "metadata": {
  "kernelspec": {
   "display_name": "tf",
   "language": "python",
   "name": "tf"
  },
  "language_info": {
   "codemirror_mode": {
    "name": "ipython",
    "version": 3
   },
   "file_extension": ".py",
   "mimetype": "text/x-python",
   "name": "python",
   "nbconvert_exporter": "python",
   "pygments_lexer": "ipython3",
   "version": "3.7.13"
  }
 },
 "nbformat": 4,
 "nbformat_minor": 4
}
