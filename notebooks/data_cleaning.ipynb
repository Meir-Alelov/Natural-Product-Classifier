{
 "cells": [
  {
   "cell_type": "markdown",
   "metadata": {},
   "source": [
    "# Finish Here\n",
    "# 3rd Notebook"
   ]
  },
  {
   "cell_type": "code",
   "execution_count": 266,
   "metadata": {},
   "outputs": [],
   "source": [
    "# Import Relevant Libraries\n",
    "import pandas as pd\n",
    "import numpy as np\n",
    "from matplotlib import pyplot as plt\n",
    "from matplotlib.image import imread \n",
    "import seaborn as sns\n",
    "import statsmodels.api as sm\n",
    "from PIL import Image\n",
    "import os\n",
    "\n",
    "# scikit-learn\n",
    "from sklearn.model_selection import train_test_split, GridSearchCV, cross_val_score\n",
    "from sklearn.pipeline import Pipeline\n",
    "from sklearn.preprocessing import StandardScaler, OneHotEncoder, FunctionTransformer, OrdinalEncoder, LabelEncoder\n",
    "from sklearn.impute import SimpleImputer, MissingIndicator\n",
    "from sklearn.dummy import DummyClassifier\n",
    "from sklearn.compose import ColumnTransformer\n",
    "from sklearn.linear_model import LogisticRegression\n",
    "from sklearn.neighbors import KNeighborsClassifier\n",
    "from sklearn.tree import DecisionTreeClassifier\n",
    "from sklearn.ensemble import BaggingClassifier, RandomForestClassifier, \\\n",
    "ExtraTreesClassifier, VotingClassifier, StackingClassifier, GradientBoostingClassifier\n",
    "from sklearn.metrics import plot_confusion_matrix, confusion_matrix, recall_score,\\\n",
    "    accuracy_score, precision_score, f1_score, plot_roc_curve, roc_auc_score\n",
    "from sklearn.decomposition import PCA\n",
    "from sklearn.utils import resample\n",
    "\n",
    "# Neural network libraries\n",
    "import tensorflow as tf\n",
    "from tensorflow.keras.preprocessing.image import ImageDataGenerator\n",
    "from tensorflow.keras import models, layers, optimizers, metrics, regularizers, losses\n",
    "from tensorflow.keras.optimizers import SGD\n",
    "from tensorflow.keras.wrappers import scikit_learn\n",
    "from tensorflow.keras.layers import Dense, Dropout, Flatten, LayerNormalization\n",
    "from tensorflow.keras.utils import to_categorical\n",
    "\n",
    "from statsmodels.stats.outliers_influence import variance_inflation_factor\n",
    "from patsy import dmatrices, dmatrix, demo_data\n",
    "\n",
    "%matplotlib inline\n",
    "np.random.seed(42)\n",
    "from imblearn.over_sampling import SMOTE\n",
    "from imblearn.pipeline import Pipeline as ImPipeline"
   ]
  },
  {
   "cell_type": "markdown",
   "metadata": {},
   "source": [
    "### Reading in Data"
   ]
  },
  {
   "cell_type": "code",
   "execution_count": 2,
   "metadata": {
    "scrolled": false
   },
   "outputs": [
    {
     "data": {
      "text/html": [
       "<div>\n",
       "<style scoped>\n",
       "    .dataframe tbody tr th:only-of-type {\n",
       "        vertical-align: middle;\n",
       "    }\n",
       "\n",
       "    .dataframe tbody tr th {\n",
       "        vertical-align: top;\n",
       "    }\n",
       "\n",
       "    .dataframe thead th {\n",
       "        text-align: right;\n",
       "    }\n",
       "</style>\n",
       "<table border=\"1\" class=\"dataframe\">\n",
       "  <thead>\n",
       "    <tr style=\"text-align: right;\">\n",
       "      <th></th>\n",
       "      <th>ChEBI</th>\n",
       "      <th>MolecularFormula</th>\n",
       "      <th>MolecularWeight</th>\n",
       "      <th>XLogP</th>\n",
       "      <th>ExactMass</th>\n",
       "      <th>MonoisotopicMass</th>\n",
       "      <th>TPSA</th>\n",
       "      <th>Complexity</th>\n",
       "      <th>Charge</th>\n",
       "      <th>HBondDonorCount</th>\n",
       "      <th>...</th>\n",
       "      <th>Rn</th>\n",
       "      <th>Fr</th>\n",
       "      <th>Ra</th>\n",
       "      <th>Ac</th>\n",
       "      <th>Th</th>\n",
       "      <th>Pa</th>\n",
       "      <th>U</th>\n",
       "      <th>FCharge</th>\n",
       "      <th>RoleType</th>\n",
       "      <th>RoleName</th>\n",
       "    </tr>\n",
       "  </thead>\n",
       "  <tbody>\n",
       "    <tr>\n",
       "      <th>0</th>\n",
       "      <td>19032</td>\n",
       "      <td>C2H4BrCl</td>\n",
       "      <td>143.410</td>\n",
       "      <td>1.6</td>\n",
       "      <td>NaN</td>\n",
       "      <td>NaN</td>\n",
       "      <td>0.0</td>\n",
       "      <td>10.0</td>\n",
       "      <td>NaN</td>\n",
       "      <td>0.0</td>\n",
       "      <td>...</td>\n",
       "      <td>0.0</td>\n",
       "      <td>0.0</td>\n",
       "      <td>0.0</td>\n",
       "      <td>0.0</td>\n",
       "      <td>0.0</td>\n",
       "      <td>0.0</td>\n",
       "      <td>0.0</td>\n",
       "      <td>0.0</td>\n",
       "      <td>biological role</td>\n",
       "      <td>mutagen</td>\n",
       "    </tr>\n",
       "    <tr>\n",
       "      <th>1</th>\n",
       "      <td>21182</td>\n",
       "      <td>C23H30Cl5N3O</td>\n",
       "      <td>541.800</td>\n",
       "      <td>NaN</td>\n",
       "      <td>NaN</td>\n",
       "      <td>NaN</td>\n",
       "      <td>37.4</td>\n",
       "      <td>494.0</td>\n",
       "      <td>NaN</td>\n",
       "      <td>3.0</td>\n",
       "      <td>...</td>\n",
       "      <td>0.0</td>\n",
       "      <td>0.0</td>\n",
       "      <td>0.0</td>\n",
       "      <td>0.0</td>\n",
       "      <td>0.0</td>\n",
       "      <td>0.0</td>\n",
       "      <td>0.0</td>\n",
       "      <td>0.0</td>\n",
       "      <td>biological role</td>\n",
       "      <td>intercalator</td>\n",
       "    </tr>\n",
       "    <tr>\n",
       "      <th>2</th>\n",
       "      <td>21183</td>\n",
       "      <td>C21H27Cl4N3O</td>\n",
       "      <td>479.300</td>\n",
       "      <td>NaN</td>\n",
       "      <td>NaN</td>\n",
       "      <td>NaN</td>\n",
       "      <td>37.4</td>\n",
       "      <td>442.0</td>\n",
       "      <td>NaN</td>\n",
       "      <td>3.0</td>\n",
       "      <td>...</td>\n",
       "      <td>0.0</td>\n",
       "      <td>0.0</td>\n",
       "      <td>0.0</td>\n",
       "      <td>0.0</td>\n",
       "      <td>0.0</td>\n",
       "      <td>0.0</td>\n",
       "      <td>0.0</td>\n",
       "      <td>0.0</td>\n",
       "      <td>biological role</td>\n",
       "      <td>intercalator</td>\n",
       "    </tr>\n",
       "    <tr>\n",
       "      <th>3</th>\n",
       "      <td>28925</td>\n",
       "      <td>C5H11Cl2N</td>\n",
       "      <td>156.050</td>\n",
       "      <td>0.9</td>\n",
       "      <td>NaN</td>\n",
       "      <td>NaN</td>\n",
       "      <td>3.2</td>\n",
       "      <td>43.0</td>\n",
       "      <td>NaN</td>\n",
       "      <td>0.0</td>\n",
       "      <td>...</td>\n",
       "      <td>0.0</td>\n",
       "      <td>0.0</td>\n",
       "      <td>0.0</td>\n",
       "      <td>0.0</td>\n",
       "      <td>0.0</td>\n",
       "      <td>0.0</td>\n",
       "      <td>0.0</td>\n",
       "      <td>0.0</td>\n",
       "      <td>biological role</td>\n",
       "      <td>alkylating agent</td>\n",
       "    </tr>\n",
       "    <tr>\n",
       "      <th>4</th>\n",
       "      <td>40910</td>\n",
       "      <td>N3-</td>\n",
       "      <td>42.021</td>\n",
       "      <td>1.5</td>\n",
       "      <td>NaN</td>\n",
       "      <td>NaN</td>\n",
       "      <td>3.0</td>\n",
       "      <td>15.0</td>\n",
       "      <td>NaN</td>\n",
       "      <td>0.0</td>\n",
       "      <td>...</td>\n",
       "      <td>0.0</td>\n",
       "      <td>0.0</td>\n",
       "      <td>0.0</td>\n",
       "      <td>0.0</td>\n",
       "      <td>0.0</td>\n",
       "      <td>0.0</td>\n",
       "      <td>0.0</td>\n",
       "      <td>-1.0</td>\n",
       "      <td>biological role</td>\n",
       "      <td>mitochondrial respiratory-chain inhibitor</td>\n",
       "    </tr>\n",
       "    <tr>\n",
       "      <th>...</th>\n",
       "      <td>...</td>\n",
       "      <td>...</td>\n",
       "      <td>...</td>\n",
       "      <td>...</td>\n",
       "      <td>...</td>\n",
       "      <td>...</td>\n",
       "      <td>...</td>\n",
       "      <td>...</td>\n",
       "      <td>...</td>\n",
       "      <td>...</td>\n",
       "      <td>...</td>\n",
       "      <td>...</td>\n",
       "      <td>...</td>\n",
       "      <td>...</td>\n",
       "      <td>...</td>\n",
       "      <td>...</td>\n",
       "      <td>...</td>\n",
       "      <td>...</td>\n",
       "      <td>...</td>\n",
       "      <td>...</td>\n",
       "      <td>...</td>\n",
       "    </tr>\n",
       "    <tr>\n",
       "      <th>10483</th>\n",
       "      <td>131528</td>\n",
       "      <td>NaN</td>\n",
       "      <td>NaN</td>\n",
       "      <td>NaN</td>\n",
       "      <td>NaN</td>\n",
       "      <td>NaN</td>\n",
       "      <td>NaN</td>\n",
       "      <td>NaN</td>\n",
       "      <td>NaN</td>\n",
       "      <td>NaN</td>\n",
       "      <td>...</td>\n",
       "      <td>NaN</td>\n",
       "      <td>NaN</td>\n",
       "      <td>NaN</td>\n",
       "      <td>NaN</td>\n",
       "      <td>NaN</td>\n",
       "      <td>NaN</td>\n",
       "      <td>NaN</td>\n",
       "      <td>NaN</td>\n",
       "      <td>biological role</td>\n",
       "      <td>bacterial metabolite</td>\n",
       "    </tr>\n",
       "    <tr>\n",
       "      <th>10484</th>\n",
       "      <td>90785</td>\n",
       "      <td>NaN</td>\n",
       "      <td>NaN</td>\n",
       "      <td>NaN</td>\n",
       "      <td>NaN</td>\n",
       "      <td>NaN</td>\n",
       "      <td>NaN</td>\n",
       "      <td>NaN</td>\n",
       "      <td>NaN</td>\n",
       "      <td>NaN</td>\n",
       "      <td>...</td>\n",
       "      <td>NaN</td>\n",
       "      <td>NaN</td>\n",
       "      <td>NaN</td>\n",
       "      <td>NaN</td>\n",
       "      <td>NaN</td>\n",
       "      <td>NaN</td>\n",
       "      <td>NaN</td>\n",
       "      <td>NaN</td>\n",
       "      <td>biological role</td>\n",
       "      <td>bacterial metabolite</td>\n",
       "    </tr>\n",
       "    <tr>\n",
       "      <th>10485</th>\n",
       "      <td>77774</td>\n",
       "      <td>NaN</td>\n",
       "      <td>NaN</td>\n",
       "      <td>NaN</td>\n",
       "      <td>NaN</td>\n",
       "      <td>NaN</td>\n",
       "      <td>NaN</td>\n",
       "      <td>NaN</td>\n",
       "      <td>NaN</td>\n",
       "      <td>NaN</td>\n",
       "      <td>...</td>\n",
       "      <td>NaN</td>\n",
       "      <td>NaN</td>\n",
       "      <td>NaN</td>\n",
       "      <td>NaN</td>\n",
       "      <td>NaN</td>\n",
       "      <td>NaN</td>\n",
       "      <td>NaN</td>\n",
       "      <td>NaN</td>\n",
       "      <td>biological role</td>\n",
       "      <td>phosphodiesterase IV inhibitor</td>\n",
       "    </tr>\n",
       "    <tr>\n",
       "      <th>10486</th>\n",
       "      <td>83335</td>\n",
       "      <td>NaN</td>\n",
       "      <td>NaN</td>\n",
       "      <td>NaN</td>\n",
       "      <td>NaN</td>\n",
       "      <td>NaN</td>\n",
       "      <td>NaN</td>\n",
       "      <td>NaN</td>\n",
       "      <td>NaN</td>\n",
       "      <td>NaN</td>\n",
       "      <td>...</td>\n",
       "      <td>NaN</td>\n",
       "      <td>NaN</td>\n",
       "      <td>NaN</td>\n",
       "      <td>NaN</td>\n",
       "      <td>NaN</td>\n",
       "      <td>NaN</td>\n",
       "      <td>NaN</td>\n",
       "      <td>NaN</td>\n",
       "      <td>application</td>\n",
       "      <td>antifungal agrochemical</td>\n",
       "    </tr>\n",
       "    <tr>\n",
       "      <th>10487</th>\n",
       "      <td>90286</td>\n",
       "      <td>NaN</td>\n",
       "      <td>NaN</td>\n",
       "      <td>NaN</td>\n",
       "      <td>NaN</td>\n",
       "      <td>NaN</td>\n",
       "      <td>NaN</td>\n",
       "      <td>NaN</td>\n",
       "      <td>NaN</td>\n",
       "      <td>NaN</td>\n",
       "      <td>...</td>\n",
       "      <td>NaN</td>\n",
       "      <td>NaN</td>\n",
       "      <td>NaN</td>\n",
       "      <td>NaN</td>\n",
       "      <td>NaN</td>\n",
       "      <td>NaN</td>\n",
       "      <td>NaN</td>\n",
       "      <td>NaN</td>\n",
       "      <td>biological role</td>\n",
       "      <td>STAT3 inhibitor</td>\n",
       "    </tr>\n",
       "  </tbody>\n",
       "</table>\n",
       "<p>10488 rows × 115 columns</p>\n",
       "</div>"
      ],
      "text/plain": [
       "        ChEBI MolecularFormula  MolecularWeight  XLogP  ExactMass  \\\n",
       "0       19032         C2H4BrCl          143.410    1.6        NaN   \n",
       "1       21182     C23H30Cl5N3O          541.800    NaN        NaN   \n",
       "2       21183     C21H27Cl4N3O          479.300    NaN        NaN   \n",
       "3       28925        C5H11Cl2N          156.050    0.9        NaN   \n",
       "4       40910              N3-           42.021    1.5        NaN   \n",
       "...       ...              ...              ...    ...        ...   \n",
       "10483  131528              NaN              NaN    NaN        NaN   \n",
       "10484   90785              NaN              NaN    NaN        NaN   \n",
       "10485   77774              NaN              NaN    NaN        NaN   \n",
       "10486   83335              NaN              NaN    NaN        NaN   \n",
       "10487   90286              NaN              NaN    NaN        NaN   \n",
       "\n",
       "       MonoisotopicMass  TPSA  Complexity  Charge  HBondDonorCount  ...   Rn  \\\n",
       "0                   NaN   0.0        10.0     NaN              0.0  ...  0.0   \n",
       "1                   NaN  37.4       494.0     NaN              3.0  ...  0.0   \n",
       "2                   NaN  37.4       442.0     NaN              3.0  ...  0.0   \n",
       "3                   NaN   3.2        43.0     NaN              0.0  ...  0.0   \n",
       "4                   NaN   3.0        15.0     NaN              0.0  ...  0.0   \n",
       "...                 ...   ...         ...     ...              ...  ...  ...   \n",
       "10483               NaN   NaN         NaN     NaN              NaN  ...  NaN   \n",
       "10484               NaN   NaN         NaN     NaN              NaN  ...  NaN   \n",
       "10485               NaN   NaN         NaN     NaN              NaN  ...  NaN   \n",
       "10486               NaN   NaN         NaN     NaN              NaN  ...  NaN   \n",
       "10487               NaN   NaN         NaN     NaN              NaN  ...  NaN   \n",
       "\n",
       "        Fr   Ra   Ac   Th   Pa    U  FCharge         RoleType  \\\n",
       "0      0.0  0.0  0.0  0.0  0.0  0.0      0.0  biological role   \n",
       "1      0.0  0.0  0.0  0.0  0.0  0.0      0.0  biological role   \n",
       "2      0.0  0.0  0.0  0.0  0.0  0.0      0.0  biological role   \n",
       "3      0.0  0.0  0.0  0.0  0.0  0.0      0.0  biological role   \n",
       "4      0.0  0.0  0.0  0.0  0.0  0.0     -1.0  biological role   \n",
       "...    ...  ...  ...  ...  ...  ...      ...              ...   \n",
       "10483  NaN  NaN  NaN  NaN  NaN  NaN      NaN  biological role   \n",
       "10484  NaN  NaN  NaN  NaN  NaN  NaN      NaN  biological role   \n",
       "10485  NaN  NaN  NaN  NaN  NaN  NaN      NaN  biological role   \n",
       "10486  NaN  NaN  NaN  NaN  NaN  NaN      NaN      application   \n",
       "10487  NaN  NaN  NaN  NaN  NaN  NaN      NaN  biological role   \n",
       "\n",
       "                                        RoleName  \n",
       "0                                        mutagen  \n",
       "1                                   intercalator  \n",
       "2                                   intercalator  \n",
       "3                               alkylating agent  \n",
       "4      mitochondrial respiratory-chain inhibitor  \n",
       "...                                          ...  \n",
       "10483                       bacterial metabolite  \n",
       "10484                       bacterial metabolite  \n",
       "10485             phosphodiesterase IV inhibitor  \n",
       "10486                    antifungal agrochemical  \n",
       "10487                            STAT3 inhibitor  \n",
       "\n",
       "[10488 rows x 115 columns]"
      ]
     },
     "execution_count": 2,
     "metadata": {},
     "output_type": "execute_result"
    }
   ],
   "source": [
    "df= pd.read_csv('/Users/meiralelov/Documents/Flatiron/Projects/natural_product_classifier/notebooks/datasetnew.tsv', sep='\\t')\n",
    "df.drop(['Unnamed: 0', 'Unnamed: 0.1'], axis=1, inplace=True)\n",
    "df"
   ]
  },
  {
   "cell_type": "code",
   "execution_count": 3,
   "metadata": {},
   "outputs": [
    {
     "data": {
      "text/plain": [
       "3818"
      ]
     },
     "execution_count": 3,
     "metadata": {},
     "output_type": "execute_result"
    }
   ],
   "source": [
    "df.MolecularFormula.duplicated().sum()"
   ]
  },
  {
   "cell_type": "code",
   "execution_count": 4,
   "metadata": {},
   "outputs": [],
   "source": [
    "df.drop(['MolecularFormula'], axis=1, inplace=True)"
   ]
  },
  {
   "cell_type": "markdown",
   "metadata": {},
   "source": [
    "### Data Exploration"
   ]
  },
  {
   "cell_type": "code",
   "execution_count": 5,
   "metadata": {
    "scrolled": true
   },
   "outputs": [
    {
     "name": "stdout",
     "output_type": "stream",
     "text": [
      "<class 'pandas.core.frame.DataFrame'>\n",
      "RangeIndex: 10488 entries, 0 to 10487\n",
      "Columns: 114 entries, ChEBI to RoleName\n",
      "dtypes: float64(111), int64(1), object(2)\n",
      "memory usage: 9.1+ MB\n"
     ]
    }
   ],
   "source": [
    "df.info()"
   ]
  },
  {
   "cell_type": "code",
   "execution_count": 6,
   "metadata": {},
   "outputs": [
    {
     "data": {
      "text/plain": [
       "ChEBI                 int64\n",
       "MolecularWeight     float64\n",
       "XLogP               float64\n",
       "ExactMass           float64\n",
       "MonoisotopicMass    float64\n",
       "                     ...   \n",
       "Pa                  float64\n",
       "U                   float64\n",
       "FCharge             float64\n",
       "RoleType             object\n",
       "RoleName             object\n",
       "Length: 114, dtype: object"
      ]
     },
     "execution_count": 6,
     "metadata": {},
     "output_type": "execute_result"
    }
   ],
   "source": [
    "df.dtypes"
   ]
  },
  {
   "cell_type": "code",
   "execution_count": 7,
   "metadata": {
    "scrolled": true
   },
   "outputs": [
    {
     "data": {
      "text/html": [
       "<div>\n",
       "<style scoped>\n",
       "    .dataframe tbody tr th:only-of-type {\n",
       "        vertical-align: middle;\n",
       "    }\n",
       "\n",
       "    .dataframe tbody tr th {\n",
       "        vertical-align: top;\n",
       "    }\n",
       "\n",
       "    .dataframe thead th {\n",
       "        text-align: right;\n",
       "    }\n",
       "</style>\n",
       "<table border=\"1\" class=\"dataframe\">\n",
       "  <thead>\n",
       "    <tr style=\"text-align: right;\">\n",
       "      <th></th>\n",
       "      <th>ChEBI</th>\n",
       "      <th>MolecularWeight</th>\n",
       "      <th>XLogP</th>\n",
       "      <th>ExactMass</th>\n",
       "      <th>MonoisotopicMass</th>\n",
       "      <th>TPSA</th>\n",
       "      <th>Complexity</th>\n",
       "      <th>Charge</th>\n",
       "      <th>HBondDonorCount</th>\n",
       "      <th>HBondAcceptorCount</th>\n",
       "      <th>...</th>\n",
       "      <th>Po</th>\n",
       "      <th>At</th>\n",
       "      <th>Rn</th>\n",
       "      <th>Fr</th>\n",
       "      <th>Ra</th>\n",
       "      <th>Ac</th>\n",
       "      <th>Th</th>\n",
       "      <th>Pa</th>\n",
       "      <th>U</th>\n",
       "      <th>FCharge</th>\n",
       "    </tr>\n",
       "  </thead>\n",
       "  <tbody>\n",
       "    <tr>\n",
       "      <th>count</th>\n",
       "      <td>10488.000000</td>\n",
       "      <td>10136.000000</td>\n",
       "      <td>9460.000000</td>\n",
       "      <td>0.0</td>\n",
       "      <td>0.0</td>\n",
       "      <td>10136.000000</td>\n",
       "      <td>10136.000000</td>\n",
       "      <td>0.0</td>\n",
       "      <td>10136.000000</td>\n",
       "      <td>10136.000000</td>\n",
       "      <td>...</td>\n",
       "      <td>10136.0</td>\n",
       "      <td>10136.0</td>\n",
       "      <td>10136.0</td>\n",
       "      <td>10136.0</td>\n",
       "      <td>10136.0</td>\n",
       "      <td>10136.0</td>\n",
       "      <td>10136.0</td>\n",
       "      <td>10136.0</td>\n",
       "      <td>10136.0</td>\n",
       "      <td>10136.000000</td>\n",
       "    </tr>\n",
       "    <tr>\n",
       "      <th>mean</th>\n",
       "      <td>74864.215103</td>\n",
       "      <td>416.048117</td>\n",
       "      <td>2.137970</td>\n",
       "      <td>NaN</td>\n",
       "      <td>NaN</td>\n",
       "      <td>124.505397</td>\n",
       "      <td>611.892463</td>\n",
       "      <td>NaN</td>\n",
       "      <td>3.508287</td>\n",
       "      <td>7.122534</td>\n",
       "      <td>...</td>\n",
       "      <td>0.0</td>\n",
       "      <td>0.0</td>\n",
       "      <td>0.0</td>\n",
       "      <td>0.0</td>\n",
       "      <td>0.0</td>\n",
       "      <td>0.0</td>\n",
       "      <td>0.0</td>\n",
       "      <td>0.0</td>\n",
       "      <td>0.0</td>\n",
       "      <td>-0.051500</td>\n",
       "    </tr>\n",
       "    <tr>\n",
       "      <th>std</th>\n",
       "      <td>50620.763215</td>\n",
       "      <td>298.143413</td>\n",
       "      <td>5.906588</td>\n",
       "      <td>NaN</td>\n",
       "      <td>NaN</td>\n",
       "      <td>123.788034</td>\n",
       "      <td>581.067692</td>\n",
       "      <td>NaN</td>\n",
       "      <td>4.424729</td>\n",
       "      <td>7.113387</td>\n",
       "      <td>...</td>\n",
       "      <td>0.0</td>\n",
       "      <td>0.0</td>\n",
       "      <td>0.0</td>\n",
       "      <td>0.0</td>\n",
       "      <td>0.0</td>\n",
       "      <td>0.0</td>\n",
       "      <td>0.0</td>\n",
       "      <td>0.0</td>\n",
       "      <td>0.0</td>\n",
       "      <td>0.522708</td>\n",
       "    </tr>\n",
       "    <tr>\n",
       "      <th>min</th>\n",
       "      <td>25.000000</td>\n",
       "      <td>2.016000</td>\n",
       "      <td>-24.300000</td>\n",
       "      <td>NaN</td>\n",
       "      <td>NaN</td>\n",
       "      <td>0.000000</td>\n",
       "      <td>0.000000</td>\n",
       "      <td>NaN</td>\n",
       "      <td>0.000000</td>\n",
       "      <td>0.000000</td>\n",
       "      <td>...</td>\n",
       "      <td>0.0</td>\n",
       "      <td>0.0</td>\n",
       "      <td>0.0</td>\n",
       "      <td>0.0</td>\n",
       "      <td>0.0</td>\n",
       "      <td>0.0</td>\n",
       "      <td>0.0</td>\n",
       "      <td>0.0</td>\n",
       "      <td>0.0</td>\n",
       "      <td>-13.000000</td>\n",
       "    </tr>\n",
       "    <tr>\n",
       "      <th>25%</th>\n",
       "      <td>51472.250000</td>\n",
       "      <td>222.370000</td>\n",
       "      <td>-0.800000</td>\n",
       "      <td>NaN</td>\n",
       "      <td>NaN</td>\n",
       "      <td>55.800000</td>\n",
       "      <td>246.000000</td>\n",
       "      <td>NaN</td>\n",
       "      <td>1.000000</td>\n",
       "      <td>3.000000</td>\n",
       "      <td>...</td>\n",
       "      <td>0.0</td>\n",
       "      <td>0.0</td>\n",
       "      <td>0.0</td>\n",
       "      <td>0.0</td>\n",
       "      <td>0.0</td>\n",
       "      <td>0.0</td>\n",
       "      <td>0.0</td>\n",
       "      <td>0.0</td>\n",
       "      <td>0.0</td>\n",
       "      <td>0.000000</td>\n",
       "    </tr>\n",
       "    <tr>\n",
       "      <th>50%</th>\n",
       "      <td>70862.000000</td>\n",
       "      <td>343.370000</td>\n",
       "      <td>2.000000</td>\n",
       "      <td>NaN</td>\n",
       "      <td>NaN</td>\n",
       "      <td>92.400000</td>\n",
       "      <td>468.000000</td>\n",
       "      <td>NaN</td>\n",
       "      <td>2.000000</td>\n",
       "      <td>5.000000</td>\n",
       "      <td>...</td>\n",
       "      <td>0.0</td>\n",
       "      <td>0.0</td>\n",
       "      <td>0.0</td>\n",
       "      <td>0.0</td>\n",
       "      <td>0.0</td>\n",
       "      <td>0.0</td>\n",
       "      <td>0.0</td>\n",
       "      <td>0.0</td>\n",
       "      <td>0.0</td>\n",
       "      <td>0.000000</td>\n",
       "    </tr>\n",
       "    <tr>\n",
       "      <th>75%</th>\n",
       "      <td>86392.250000</td>\n",
       "      <td>501.600000</td>\n",
       "      <td>4.500000</td>\n",
       "      <td>NaN</td>\n",
       "      <td>NaN</td>\n",
       "      <td>150.000000</td>\n",
       "      <td>797.000000</td>\n",
       "      <td>NaN</td>\n",
       "      <td>4.000000</td>\n",
       "      <td>8.000000</td>\n",
       "      <td>...</td>\n",
       "      <td>0.0</td>\n",
       "      <td>0.0</td>\n",
       "      <td>0.0</td>\n",
       "      <td>0.0</td>\n",
       "      <td>0.0</td>\n",
       "      <td>0.0</td>\n",
       "      <td>0.0</td>\n",
       "      <td>0.0</td>\n",
       "      <td>0.0</td>\n",
       "      <td>0.000000</td>\n",
       "    </tr>\n",
       "    <tr>\n",
       "      <th>max</th>\n",
       "      <td>744019.000000</td>\n",
       "      <td>4541.000000</td>\n",
       "      <td>40.400000</td>\n",
       "      <td>NaN</td>\n",
       "      <td>NaN</td>\n",
       "      <td>2040.000000</td>\n",
       "      <td>11900.000000</td>\n",
       "      <td>NaN</td>\n",
       "      <td>71.000000</td>\n",
       "      <td>111.000000</td>\n",
       "      <td>...</td>\n",
       "      <td>0.0</td>\n",
       "      <td>0.0</td>\n",
       "      <td>0.0</td>\n",
       "      <td>0.0</td>\n",
       "      <td>0.0</td>\n",
       "      <td>0.0</td>\n",
       "      <td>0.0</td>\n",
       "      <td>0.0</td>\n",
       "      <td>0.0</td>\n",
       "      <td>5.000000</td>\n",
       "    </tr>\n",
       "  </tbody>\n",
       "</table>\n",
       "<p>8 rows × 112 columns</p>\n",
       "</div>"
      ],
      "text/plain": [
       "               ChEBI  MolecularWeight        XLogP  ExactMass  \\\n",
       "count   10488.000000     10136.000000  9460.000000        0.0   \n",
       "mean    74864.215103       416.048117     2.137970        NaN   \n",
       "std     50620.763215       298.143413     5.906588        NaN   \n",
       "min        25.000000         2.016000   -24.300000        NaN   \n",
       "25%     51472.250000       222.370000    -0.800000        NaN   \n",
       "50%     70862.000000       343.370000     2.000000        NaN   \n",
       "75%     86392.250000       501.600000     4.500000        NaN   \n",
       "max    744019.000000      4541.000000    40.400000        NaN   \n",
       "\n",
       "       MonoisotopicMass          TPSA    Complexity  Charge  HBondDonorCount  \\\n",
       "count               0.0  10136.000000  10136.000000     0.0     10136.000000   \n",
       "mean                NaN    124.505397    611.892463     NaN         3.508287   \n",
       "std                 NaN    123.788034    581.067692     NaN         4.424729   \n",
       "min                 NaN      0.000000      0.000000     NaN         0.000000   \n",
       "25%                 NaN     55.800000    246.000000     NaN         1.000000   \n",
       "50%                 NaN     92.400000    468.000000     NaN         2.000000   \n",
       "75%                 NaN    150.000000    797.000000     NaN         4.000000   \n",
       "max                 NaN   2040.000000  11900.000000     NaN        71.000000   \n",
       "\n",
       "       HBondAcceptorCount  ...       Po       At       Rn       Fr       Ra  \\\n",
       "count        10136.000000  ...  10136.0  10136.0  10136.0  10136.0  10136.0   \n",
       "mean             7.122534  ...      0.0      0.0      0.0      0.0      0.0   \n",
       "std              7.113387  ...      0.0      0.0      0.0      0.0      0.0   \n",
       "min              0.000000  ...      0.0      0.0      0.0      0.0      0.0   \n",
       "25%              3.000000  ...      0.0      0.0      0.0      0.0      0.0   \n",
       "50%              5.000000  ...      0.0      0.0      0.0      0.0      0.0   \n",
       "75%              8.000000  ...      0.0      0.0      0.0      0.0      0.0   \n",
       "max            111.000000  ...      0.0      0.0      0.0      0.0      0.0   \n",
       "\n",
       "            Ac       Th       Pa        U       FCharge  \n",
       "count  10136.0  10136.0  10136.0  10136.0  10136.000000  \n",
       "mean       0.0      0.0      0.0      0.0     -0.051500  \n",
       "std        0.0      0.0      0.0      0.0      0.522708  \n",
       "min        0.0      0.0      0.0      0.0    -13.000000  \n",
       "25%        0.0      0.0      0.0      0.0      0.000000  \n",
       "50%        0.0      0.0      0.0      0.0      0.000000  \n",
       "75%        0.0      0.0      0.0      0.0      0.000000  \n",
       "max        0.0      0.0      0.0      0.0      5.000000  \n",
       "\n",
       "[8 rows x 112 columns]"
      ]
     },
     "execution_count": 7,
     "metadata": {},
     "output_type": "execute_result"
    }
   ],
   "source": [
    "df.describe()"
   ]
  },
  {
   "cell_type": "code",
   "execution_count": 8,
   "metadata": {},
   "outputs": [
    {
     "data": {
      "text/plain": [
       "ChEBI                   0\n",
       "MolecularWeight       352\n",
       "XLogP                1028\n",
       "ExactMass           10488\n",
       "MonoisotopicMass    10488\n",
       "                    ...  \n",
       "Pa                    352\n",
       "U                     352\n",
       "FCharge               352\n",
       "RoleType                0\n",
       "RoleName                0\n",
       "Length: 114, dtype: int64"
      ]
     },
     "execution_count": 8,
     "metadata": {},
     "output_type": "execute_result"
    }
   ],
   "source": [
    "df.isnull().sum()"
   ]
  },
  {
   "cell_type": "code",
   "execution_count": 9,
   "metadata": {},
   "outputs": [
    {
     "data": {
      "text/plain": [
       "0"
      ]
     },
     "execution_count": 9,
     "metadata": {},
     "output_type": "execute_result"
    }
   ],
   "source": [
    "df.index.duplicated().sum()"
   ]
  },
  {
   "cell_type": "code",
   "execution_count": 10,
   "metadata": {},
   "outputs": [
    {
     "data": {
      "text/plain": [
       "0"
      ]
     },
     "execution_count": 10,
     "metadata": {},
     "output_type": "execute_result"
    }
   ],
   "source": [
    "df.duplicated().sum()"
   ]
  },
  {
   "cell_type": "code",
   "execution_count": 11,
   "metadata": {
    "scrolled": true
   },
   "outputs": [
    {
     "data": {
      "text/plain": [
       "(10488, 114)"
      ]
     },
     "execution_count": 11,
     "metadata": {},
     "output_type": "execute_result"
    }
   ],
   "source": [
    "df.shape"
   ]
  },
  {
   "cell_type": "markdown",
   "metadata": {},
   "source": [
    "### Data Cleaning"
   ]
  },
  {
   "cell_type": "code",
   "execution_count": 12,
   "metadata": {},
   "outputs": [],
   "source": [
    "cols = list(df.columns)\n",
    "\n",
    "def null_percentage(df, cols):\n",
    "    \n",
    "    list_of_percentages = []\n",
    "    \n",
    "    for i in cols:\n",
    "        \n",
    "        percent = ((df[i].isna().sum())/(len(df))) * 100\n",
    "    \n",
    "        list_of_percentages.append(percent)\n",
    "        \n",
    "    zip_list = zip(cols, list_of_percentages)   \n",
    "\n",
    "    return zip_list\n",
    "\n",
    "# I would like to visualize the percentage specifically associated with each column"
   ]
  },
  {
   "cell_type": "code",
   "execution_count": 13,
   "metadata": {},
   "outputs": [
    {
     "data": {
      "text/plain": [
       "[('ChEBI', 0.0),\n",
       " ('MolecularWeight', 3.3562166285278416),\n",
       " ('XLogP', 9.801678108314265),\n",
       " ('ExactMass', 100.0),\n",
       " ('MonoisotopicMass', 100.0),\n",
       " ('TPSA', 3.3562166285278416),\n",
       " ('Complexity', 3.3562166285278416),\n",
       " ('Charge', 100.0),\n",
       " ('HBondDonorCount', 3.3562166285278416),\n",
       " ('HBondAcceptorCount', 3.3562166285278416),\n",
       " ('RotatableBondCount', 3.3562166285278416),\n",
       " ('HeavyAtomCount', 3.3562166285278416),\n",
       " ('IsotopeAtomCount', 100.0),\n",
       " ('AtomStereoCount', 100.0),\n",
       " ('DefinedAtomStereoCount', 100.0),\n",
       " ('UndefinedAtomStereoCount', 100.0),\n",
       " ('BondStereoCount', 100.0),\n",
       " ('H', 3.3562166285278416),\n",
       " ('He', 3.3562166285278416),\n",
       " ('Li', 3.3562166285278416),\n",
       " ('Be', 3.3562166285278416),\n",
       " ('B', 3.3562166285278416),\n",
       " ('C', 3.3562166285278416),\n",
       " ('N', 3.3562166285278416),\n",
       " ('O', 3.3562166285278416),\n",
       " ('F', 3.3562166285278416),\n",
       " ('Ne', 3.3562166285278416),\n",
       " ('Na', 3.3562166285278416),\n",
       " ('Mg', 3.3562166285278416),\n",
       " ('Al', 3.3562166285278416),\n",
       " ('Si', 3.3562166285278416),\n",
       " ('P', 3.3562166285278416),\n",
       " ('S', 3.3562166285278416),\n",
       " ('Cl', 3.3562166285278416),\n",
       " ('A', 3.3562166285278416),\n",
       " ('K', 3.3562166285278416),\n",
       " ('Ca', 3.3562166285278416),\n",
       " ('Sc', 3.3562166285278416),\n",
       " ('Ti', 3.3562166285278416),\n",
       " ('Ti.1', 3.3562166285278416),\n",
       " ('V', 3.3562166285278416),\n",
       " ('Cr', 3.3562166285278416),\n",
       " ('Mn', 3.3562166285278416),\n",
       " ('Fe', 3.3562166285278416),\n",
       " ('Co', 3.3562166285278416),\n",
       " ('Ni', 3.3562166285278416),\n",
       " ('Cu', 3.3562166285278416),\n",
       " ('Zn', 3.3562166285278416),\n",
       " ('Ga', 3.3562166285278416),\n",
       " ('Ge', 3.3562166285278416),\n",
       " ('As', 3.3562166285278416),\n",
       " ('Se', 3.3562166285278416),\n",
       " ('Br', 3.3562166285278416),\n",
       " ('Kr', 3.3562166285278416),\n",
       " ('Rb', 3.3562166285278416),\n",
       " ('Sr', 3.3562166285278416),\n",
       " ('Y', 3.3562166285278416),\n",
       " ('Zr', 3.3562166285278416),\n",
       " ('Nb', 3.3562166285278416),\n",
       " ('Mo', 3.3562166285278416),\n",
       " ('Tc', 3.3562166285278416),\n",
       " ('Ru', 3.3562166285278416),\n",
       " ('Rh', 3.3562166285278416),\n",
       " ('Pd', 3.3562166285278416),\n",
       " ('Ag', 3.3562166285278416),\n",
       " ('Cd', 3.3562166285278416),\n",
       " ('In', 3.3562166285278416),\n",
       " ('Sn', 3.3562166285278416),\n",
       " ('Sb', 3.3562166285278416),\n",
       " ('Te', 3.3562166285278416),\n",
       " ('I', 3.3562166285278416),\n",
       " ('Xe', 3.3562166285278416),\n",
       " ('Cs', 3.3562166285278416),\n",
       " ('Ba', 3.3562166285278416),\n",
       " ('La', 3.3562166285278416),\n",
       " ('Ce', 3.3562166285278416),\n",
       " ('Pr', 3.3562166285278416),\n",
       " ('Nd', 3.3562166285278416),\n",
       " ('Pm', 3.3562166285278416),\n",
       " ('Sm', 3.3562166285278416),\n",
       " ('Eu', 3.3562166285278416),\n",
       " ('Gd', 3.3562166285278416),\n",
       " ('Tb', 3.3562166285278416),\n",
       " ('Dy', 3.3562166285278416),\n",
       " ('Ho', 3.3562166285278416),\n",
       " ('Er', 3.3562166285278416),\n",
       " ('Tm', 3.3562166285278416),\n",
       " ('Yb', 3.3562166285278416),\n",
       " ('Lu', 3.3562166285278416),\n",
       " ('Hf', 3.3562166285278416),\n",
       " ('Ta', 3.3562166285278416),\n",
       " ('W', 3.3562166285278416),\n",
       " ('Re', 3.3562166285278416),\n",
       " ('Os', 3.3562166285278416),\n",
       " ('Ir', 3.3562166285278416),\n",
       " ('Pt', 3.3562166285278416),\n",
       " ('Au', 3.3562166285278416),\n",
       " ('Hg', 3.3562166285278416),\n",
       " ('Ti.2', 3.3562166285278416),\n",
       " ('Ti.3', 3.3562166285278416),\n",
       " ('Pb', 3.3562166285278416),\n",
       " ('Bi', 3.3562166285278416),\n",
       " ('Po', 3.3562166285278416),\n",
       " ('At', 3.3562166285278416),\n",
       " ('Rn', 3.3562166285278416),\n",
       " ('Fr', 3.3562166285278416),\n",
       " ('Ra', 3.3562166285278416),\n",
       " ('Ac', 3.3562166285278416),\n",
       " ('Th', 3.3562166285278416),\n",
       " ('Pa', 3.3562166285278416),\n",
       " ('U', 3.3562166285278416),\n",
       " ('FCharge', 3.3562166285278416),\n",
       " ('RoleType', 0.0),\n",
       " ('RoleName', 0.0)]"
      ]
     },
     "execution_count": 13,
     "metadata": {},
     "output_type": "execute_result"
    }
   ],
   "source": [
    "list(null_percentage(df, cols))"
   ]
  },
  {
   "cell_type": "code",
   "execution_count": 14,
   "metadata": {},
   "outputs": [],
   "source": [
    "null_list = list(null_percentage(df, cols))\n",
    "\n",
    "for x in null_list:\n",
    "    \n",
    "    if x[1].astype(float) < 5:\n",
    "\n",
    "        df.dropna(axis=0,subset=[x[0]], inplace=True)  "
   ]
  },
  {
   "cell_type": "code",
   "execution_count": 15,
   "metadata": {
    "scrolled": true
   },
   "outputs": [
    {
     "data": {
      "text/plain": [
       "[('ChEBI', 0.0),\n",
       " ('MolecularWeight', 0.0),\n",
       " ('XLogP', 6.669297553275453),\n",
       " ('ExactMass', 100.0),\n",
       " ('MonoisotopicMass', 100.0),\n",
       " ('TPSA', 0.0),\n",
       " ('Complexity', 0.0),\n",
       " ('Charge', 100.0),\n",
       " ('HBondDonorCount', 0.0),\n",
       " ('HBondAcceptorCount', 0.0),\n",
       " ('RotatableBondCount', 0.0),\n",
       " ('HeavyAtomCount', 0.0),\n",
       " ('IsotopeAtomCount', 100.0),\n",
       " ('AtomStereoCount', 100.0),\n",
       " ('DefinedAtomStereoCount', 100.0),\n",
       " ('UndefinedAtomStereoCount', 100.0),\n",
       " ('BondStereoCount', 100.0),\n",
       " ('H', 0.0),\n",
       " ('He', 0.0),\n",
       " ('Li', 0.0),\n",
       " ('Be', 0.0),\n",
       " ('B', 0.0),\n",
       " ('C', 0.0),\n",
       " ('N', 0.0),\n",
       " ('O', 0.0),\n",
       " ('F', 0.0),\n",
       " ('Ne', 0.0),\n",
       " ('Na', 0.0),\n",
       " ('Mg', 0.0),\n",
       " ('Al', 0.0),\n",
       " ('Si', 0.0),\n",
       " ('P', 0.0),\n",
       " ('S', 0.0),\n",
       " ('Cl', 0.0),\n",
       " ('A', 0.0),\n",
       " ('K', 0.0),\n",
       " ('Ca', 0.0),\n",
       " ('Sc', 0.0),\n",
       " ('Ti', 0.0),\n",
       " ('Ti.1', 0.0),\n",
       " ('V', 0.0),\n",
       " ('Cr', 0.0),\n",
       " ('Mn', 0.0),\n",
       " ('Fe', 0.0),\n",
       " ('Co', 0.0),\n",
       " ('Ni', 0.0),\n",
       " ('Cu', 0.0),\n",
       " ('Zn', 0.0),\n",
       " ('Ga', 0.0),\n",
       " ('Ge', 0.0),\n",
       " ('As', 0.0),\n",
       " ('Se', 0.0),\n",
       " ('Br', 0.0),\n",
       " ('Kr', 0.0),\n",
       " ('Rb', 0.0),\n",
       " ('Sr', 0.0),\n",
       " ('Y', 0.0),\n",
       " ('Zr', 0.0),\n",
       " ('Nb', 0.0),\n",
       " ('Mo', 0.0),\n",
       " ('Tc', 0.0),\n",
       " ('Ru', 0.0),\n",
       " ('Rh', 0.0),\n",
       " ('Pd', 0.0),\n",
       " ('Ag', 0.0),\n",
       " ('Cd', 0.0),\n",
       " ('In', 0.0),\n",
       " ('Sn', 0.0),\n",
       " ('Sb', 0.0),\n",
       " ('Te', 0.0),\n",
       " ('I', 0.0),\n",
       " ('Xe', 0.0),\n",
       " ('Cs', 0.0),\n",
       " ('Ba', 0.0),\n",
       " ('La', 0.0),\n",
       " ('Ce', 0.0),\n",
       " ('Pr', 0.0),\n",
       " ('Nd', 0.0),\n",
       " ('Pm', 0.0),\n",
       " ('Sm', 0.0),\n",
       " ('Eu', 0.0),\n",
       " ('Gd', 0.0),\n",
       " ('Tb', 0.0),\n",
       " ('Dy', 0.0),\n",
       " ('Ho', 0.0),\n",
       " ('Er', 0.0),\n",
       " ('Tm', 0.0),\n",
       " ('Yb', 0.0),\n",
       " ('Lu', 0.0),\n",
       " ('Hf', 0.0),\n",
       " ('Ta', 0.0),\n",
       " ('W', 0.0),\n",
       " ('Re', 0.0),\n",
       " ('Os', 0.0),\n",
       " ('Ir', 0.0),\n",
       " ('Pt', 0.0),\n",
       " ('Au', 0.0),\n",
       " ('Hg', 0.0),\n",
       " ('Ti.2', 0.0),\n",
       " ('Ti.3', 0.0),\n",
       " ('Pb', 0.0),\n",
       " ('Bi', 0.0),\n",
       " ('Po', 0.0),\n",
       " ('At', 0.0),\n",
       " ('Rn', 0.0),\n",
       " ('Fr', 0.0),\n",
       " ('Ra', 0.0),\n",
       " ('Ac', 0.0),\n",
       " ('Th', 0.0),\n",
       " ('Pa', 0.0),\n",
       " ('U', 0.0),\n",
       " ('FCharge', 0.0),\n",
       " ('RoleType', 0.0),\n",
       " ('RoleName', 0.0)]"
      ]
     },
     "execution_count": 15,
     "metadata": {},
     "output_type": "execute_result"
    }
   ],
   "source": [
    "null_list = list(null_percentage(df, cols))\n",
    "null_list"
   ]
  },
  {
   "cell_type": "code",
   "execution_count": 16,
   "metadata": {
    "scrolled": true
   },
   "outputs": [
    {
     "data": {
      "text/plain": [
       "(10136, 114)"
      ]
     },
     "execution_count": 16,
     "metadata": {},
     "output_type": "execute_result"
    }
   ],
   "source": [
    "df.shape"
   ]
  },
  {
   "cell_type": "code",
   "execution_count": 17,
   "metadata": {
    "scrolled": true
   },
   "outputs": [],
   "source": [
    "clean_df = df.drop(['ExactMass', 'MonoisotopicMass', 'Charge', 'IsotopeAtomCount', 'AtomStereoCount', 'DefinedAtomStereoCount','UndefinedAtomStereoCount', 'BondStereoCount'], axis=1)"
   ]
  },
  {
   "cell_type": "code",
   "execution_count": 18,
   "metadata": {},
   "outputs": [
    {
     "data": {
      "text/plain": [
       "False    9460\n",
       "True      676\n",
       "Name: XLogP, dtype: int64"
      ]
     },
     "execution_count": 18,
     "metadata": {},
     "output_type": "execute_result"
    }
   ],
   "source": [
    "clean_df.XLogP.isnull().value_counts()"
   ]
  },
  {
   "cell_type": "code",
   "execution_count": 19,
   "metadata": {
    "scrolled": true
   },
   "outputs": [
    {
     "data": {
      "text/plain": [
       "application        358\n",
       "biological role    266\n",
       "chemical role       52\n",
       "Name: RoleType, dtype: int64"
      ]
     },
     "execution_count": 19,
     "metadata": {},
     "output_type": "execute_result"
    }
   ],
   "source": [
    "clean_df[pd.isnull(clean_df.XLogP)].RoleType.value_counts()"
   ]
  },
  {
   "cell_type": "code",
   "execution_count": 20,
   "metadata": {},
   "outputs": [
    {
     "data": {
      "text/plain": [
       "-24.3      1\n",
       " 22.3      1\n",
       " 24.8      1\n",
       " 23.0      1\n",
       " 26.4      1\n",
       "        ... \n",
       " 2.4     115\n",
       " 2.1     115\n",
       " 2.5     119\n",
       " 2.0     121\n",
       " 1.5     129\n",
       "Name: XLogP, Length: 418, dtype: int64"
      ]
     },
     "execution_count": 20,
     "metadata": {},
     "output_type": "execute_result"
    }
   ],
   "source": [
    "clean_df.XLogP.value_counts().sort_values()\n",
    "#because domain knowledge of XLogP is that values all have a significance, we can't assign 0 as a neutral value.\n",
    "#instead, we will asign most frequent as neutral value.\n",
    "#because the number of nulls associataed with XLogP is 676, which is 5 times the amount of the most frequent value,\n",
    "#we can't simply add it, but rather we need to bin. Otherwise, the most frequent class will be a lot more frequent. \n",
    "#1.5 is most frequent, and the top 5 most frequent values are close enough to one another. \n",
    "#I can add values to the most frequent class without the data being affected more. "
   ]
  },
  {
   "cell_type": "code",
   "execution_count": 21,
   "metadata": {
    "scrolled": true
   },
   "outputs": [],
   "source": [
    "ser, bins= pd.qcut(clean_df.XLogP, retbins=True, q=5)"
   ]
  },
  {
   "cell_type": "code",
   "execution_count": 22,
   "metadata": {},
   "outputs": [
    {
     "data": {
      "text/plain": [
       "(-24.301000000000002, -1.8]    1926\n",
       "(-1.8, 1.0]                    1906\n",
       "(5.2, 40.4]                    1890\n",
       "(2.8, 5.2]                     1887\n",
       "(1.0, 2.8]                     1851\n",
       "Name: XLogP, dtype: int64"
      ]
     },
     "execution_count": 22,
     "metadata": {},
     "output_type": "execute_result"
    }
   ],
   "source": [
    "ser.value_counts()"
   ]
  },
  {
   "cell_type": "code",
   "execution_count": 23,
   "metadata": {},
   "outputs": [
    {
     "data": {
      "text/plain": [
       "array([-24.3,  -1.8,   1. ,   2.8,   5.2,  40.4])"
      ]
     },
     "execution_count": 23,
     "metadata": {},
     "output_type": "execute_result"
    }
   ],
   "source": [
    "bins"
   ]
  },
  {
   "cell_type": "code",
   "execution_count": 24,
   "metadata": {},
   "outputs": [
    {
     "data": {
      "text/plain": [
       "0.0    1925\n",
       "1.0    1906\n",
       "4.0    1890\n",
       "3.0    1887\n",
       "2.0    1851\n",
       "Name: XLogP_qcut, dtype: int64"
      ]
     },
     "execution_count": 24,
     "metadata": {},
     "output_type": "execute_result"
    }
   ],
   "source": [
    "clean_df['XLogP_qcut'] = pd.cut(clean_df.XLogP, bins=bins, labels=False)\n",
    "clean_df.drop('XLogP', axis=1, inplace=True)\n",
    "clean_df.XLogP_qcut.value_counts()"
   ]
  },
  {
   "cell_type": "code",
   "execution_count": 25,
   "metadata": {},
   "outputs": [],
   "source": [
    "cols = list(clean_df.columns.values) #Make a list of all of the columns in the df\n",
    "\n",
    "cols.pop(cols.index('RoleType')) #Remove b from list\n",
    "cols.pop(cols.index('RoleName')) #Remove x from list\n",
    "\n",
    "clean_df = clean_df[cols+['RoleType','RoleName']] #Create new dataframe with columns in the order you want"
   ]
  },
  {
   "cell_type": "code",
   "execution_count": 26,
   "metadata": {
    "scrolled": true
   },
   "outputs": [
    {
     "data": {
      "text/plain": [
       "2.0    2528\n",
       "0.0    1925\n",
       "1.0    1906\n",
       "4.0    1890\n",
       "3.0    1887\n",
       "Name: XLogP_qcut, dtype: int64"
      ]
     },
     "execution_count": 26,
     "metadata": {},
     "output_type": "execute_result"
    }
   ],
   "source": [
    "clean_df.XLogP_qcut.fillna(value=2, inplace=True)\n",
    "clean_df.XLogP_qcut.value_counts()\n",
    "#this way, there is not as much of class imbalance"
   ]
  },
  {
   "cell_type": "code",
   "execution_count": 27,
   "metadata": {
    "scrolled": false
   },
   "outputs": [
    {
     "data": {
      "text/plain": [
       "(10136, 106)"
      ]
     },
     "execution_count": 27,
     "metadata": {},
     "output_type": "execute_result"
    }
   ],
   "source": [
    "clean_df.shape"
   ]
  },
  {
   "cell_type": "markdown",
   "metadata": {},
   "source": [
    "# Role Type Classification"
   ]
  },
  {
   "cell_type": "markdown",
   "metadata": {},
   "source": [
    "## Role Type Data"
   ]
  },
  {
   "cell_type": "code",
   "execution_count": 28,
   "metadata": {
    "scrolled": true
   },
   "outputs": [
    {
     "data": {
      "text/plain": [
       "biological role    8641\n",
       "application        1329\n",
       "chemical role       166\n",
       "Name: RoleType, dtype: int64"
      ]
     },
     "execution_count": 28,
     "metadata": {},
     "output_type": "execute_result"
    }
   ],
   "source": [
    "clean_df.RoleType.value_counts()"
   ]
  },
  {
   "cell_type": "code",
   "execution_count": 29,
   "metadata": {
    "scrolled": false
   },
   "outputs": [
    {
     "data": {
      "text/plain": [
       "biological role    2500\n",
       "chemical role      1500\n",
       "application        1329\n",
       "Name: RoleType, dtype: int64"
      ]
     },
     "execution_count": 29,
     "metadata": {},
     "output_type": "execute_result"
    }
   ],
   "source": [
    "bio_rt_df = clean_df[clean_df['RoleType'] == 'biological role']\n",
    "chem_rt_df = clean_df[clean_df['RoleType'] == 'chemical role']\n",
    "app_rt_df = clean_df[clean_df['RoleType'] == 'application']\n",
    "\n",
    "#upsample the minority class and downsample majority\n",
    "chem_rt_df = resample(chem_rt_df, random_state=42, n_samples=1500, replace=True)\n",
    "bio_rt_df = resample(bio_rt_df, random_state=42, n_samples=2500, replace=False)\n",
    "\n",
    "balanced_rt_df = pd.concat([bio_rt_df, chem_rt_df, app_rt_df])\n",
    "balanced_rt_df.RoleType.value_counts()"
   ]
  },
  {
   "cell_type": "code",
   "execution_count": 30,
   "metadata": {
    "scrolled": true
   },
   "outputs": [
    {
     "data": {
      "text/plain": [
       "(5329, 106)"
      ]
     },
     "execution_count": 30,
     "metadata": {},
     "output_type": "execute_result"
    }
   ],
   "source": [
    "balanced_rt_df.shape"
   ]
  },
  {
   "cell_type": "code",
   "execution_count": 31,
   "metadata": {
    "scrolled": false
   },
   "outputs": [
    {
     "data": {
      "text/html": [
       "<div>\n",
       "<style scoped>\n",
       "    .dataframe tbody tr th:only-of-type {\n",
       "        vertical-align: middle;\n",
       "    }\n",
       "\n",
       "    .dataframe tbody tr th {\n",
       "        vertical-align: top;\n",
       "    }\n",
       "\n",
       "    .dataframe thead th {\n",
       "        text-align: right;\n",
       "    }\n",
       "</style>\n",
       "<table border=\"1\" class=\"dataframe\">\n",
       "  <thead>\n",
       "    <tr style=\"text-align: right;\">\n",
       "      <th></th>\n",
       "      <th>ChEBI</th>\n",
       "      <th>MolecularWeight</th>\n",
       "      <th>TPSA</th>\n",
       "      <th>Complexity</th>\n",
       "      <th>HBondDonorCount</th>\n",
       "      <th>HBondAcceptorCount</th>\n",
       "      <th>RotatableBondCount</th>\n",
       "      <th>HeavyAtomCount</th>\n",
       "      <th>H</th>\n",
       "      <th>He</th>\n",
       "      <th>...</th>\n",
       "      <th>Fr</th>\n",
       "      <th>Ra</th>\n",
       "      <th>Ac</th>\n",
       "      <th>Th</th>\n",
       "      <th>Pa</th>\n",
       "      <th>U</th>\n",
       "      <th>FCharge</th>\n",
       "      <th>XLogP_qcut</th>\n",
       "      <th>RoleType</th>\n",
       "      <th>RoleName</th>\n",
       "    </tr>\n",
       "  </thead>\n",
       "  <tbody>\n",
       "    <tr>\n",
       "      <th>9870</th>\n",
       "      <td>143237</td>\n",
       "      <td>232.21</td>\n",
       "      <td>109.0</td>\n",
       "      <td>330.0</td>\n",
       "      <td>2.0</td>\n",
       "      <td>6.0</td>\n",
       "      <td>3.0</td>\n",
       "      <td>15.0</td>\n",
       "      <td>8.0</td>\n",
       "      <td>0.0</td>\n",
       "      <td>...</td>\n",
       "      <td>0.0</td>\n",
       "      <td>0.0</td>\n",
       "      <td>0.0</td>\n",
       "      <td>0.0</td>\n",
       "      <td>0.0</td>\n",
       "      <td>0.0</td>\n",
       "      <td>0.0</td>\n",
       "      <td>1.0</td>\n",
       "      <td>biological role</td>\n",
       "      <td>mouse metabolite</td>\n",
       "    </tr>\n",
       "    <tr>\n",
       "      <th>5696</th>\n",
       "      <td>77996</td>\n",
       "      <td>563.90</td>\n",
       "      <td>69.6</td>\n",
       "      <td>574.0</td>\n",
       "      <td>3.0</td>\n",
       "      <td>3.0</td>\n",
       "      <td>31.0</td>\n",
       "      <td>40.0</td>\n",
       "      <td>69.0</td>\n",
       "      <td>0.0</td>\n",
       "      <td>...</td>\n",
       "      <td>0.0</td>\n",
       "      <td>0.0</td>\n",
       "      <td>0.0</td>\n",
       "      <td>0.0</td>\n",
       "      <td>0.0</td>\n",
       "      <td>0.0</td>\n",
       "      <td>0.0</td>\n",
       "      <td>4.0</td>\n",
       "      <td>biological role</td>\n",
       "      <td>mouse metabolite</td>\n",
       "    </tr>\n",
       "    <tr>\n",
       "      <th>814</th>\n",
       "      <td>545687</td>\n",
       "      <td>228.28</td>\n",
       "      <td>74.6</td>\n",
       "      <td>233.0</td>\n",
       "      <td>2.0</td>\n",
       "      <td>4.0</td>\n",
       "      <td>10.0</td>\n",
       "      <td>16.0</td>\n",
       "      <td>20.0</td>\n",
       "      <td>0.0</td>\n",
       "      <td>...</td>\n",
       "      <td>0.0</td>\n",
       "      <td>0.0</td>\n",
       "      <td>0.0</td>\n",
       "      <td>0.0</td>\n",
       "      <td>0.0</td>\n",
       "      <td>0.0</td>\n",
       "      <td>0.0</td>\n",
       "      <td>3.0</td>\n",
       "      <td>biological role</td>\n",
       "      <td>plant hormone</td>\n",
       "    </tr>\n",
       "    <tr>\n",
       "      <th>5085</th>\n",
       "      <td>18040</td>\n",
       "      <td>162.19</td>\n",
       "      <td>110.0</td>\n",
       "      <td>129.0</td>\n",
       "      <td>4.0</td>\n",
       "      <td>5.0</td>\n",
       "      <td>5.0</td>\n",
       "      <td>11.0</td>\n",
       "      <td>14.0</td>\n",
       "      <td>0.0</td>\n",
       "      <td>...</td>\n",
       "      <td>0.0</td>\n",
       "      <td>0.0</td>\n",
       "      <td>0.0</td>\n",
       "      <td>0.0</td>\n",
       "      <td>0.0</td>\n",
       "      <td>0.0</td>\n",
       "      <td>0.0</td>\n",
       "      <td>0.0</td>\n",
       "      <td>biological role</td>\n",
       "      <td>human metabolite</td>\n",
       "    </tr>\n",
       "    <tr>\n",
       "      <th>923</th>\n",
       "      <td>59415</td>\n",
       "      <td>540.50</td>\n",
       "      <td>271.0</td>\n",
       "      <td>843.0</td>\n",
       "      <td>9.0</td>\n",
       "      <td>15.0</td>\n",
       "      <td>10.0</td>\n",
       "      <td>37.0</td>\n",
       "      <td>32.0</td>\n",
       "      <td>0.0</td>\n",
       "      <td>...</td>\n",
       "      <td>0.0</td>\n",
       "      <td>0.0</td>\n",
       "      <td>0.0</td>\n",
       "      <td>0.0</td>\n",
       "      <td>0.0</td>\n",
       "      <td>0.0</td>\n",
       "      <td>0.0</td>\n",
       "      <td>0.0</td>\n",
       "      <td>biological role</td>\n",
       "      <td>epitope</td>\n",
       "    </tr>\n",
       "    <tr>\n",
       "      <th>...</th>\n",
       "      <td>...</td>\n",
       "      <td>...</td>\n",
       "      <td>...</td>\n",
       "      <td>...</td>\n",
       "      <td>...</td>\n",
       "      <td>...</td>\n",
       "      <td>...</td>\n",
       "      <td>...</td>\n",
       "      <td>...</td>\n",
       "      <td>...</td>\n",
       "      <td>...</td>\n",
       "      <td>...</td>\n",
       "      <td>...</td>\n",
       "      <td>...</td>\n",
       "      <td>...</td>\n",
       "      <td>...</td>\n",
       "      <td>...</td>\n",
       "      <td>...</td>\n",
       "      <td>...</td>\n",
       "      <td>...</td>\n",
       "      <td>...</td>\n",
       "    </tr>\n",
       "    <tr>\n",
       "      <th>10438</th>\n",
       "      <td>189588</td>\n",
       "      <td>166.17</td>\n",
       "      <td>39.4</td>\n",
       "      <td>175.0</td>\n",
       "      <td>0.0</td>\n",
       "      <td>3.0</td>\n",
       "      <td>4.0</td>\n",
       "      <td>12.0</td>\n",
       "      <td>10.0</td>\n",
       "      <td>0.0</td>\n",
       "      <td>...</td>\n",
       "      <td>0.0</td>\n",
       "      <td>0.0</td>\n",
       "      <td>0.0</td>\n",
       "      <td>0.0</td>\n",
       "      <td>0.0</td>\n",
       "      <td>0.0</td>\n",
       "      <td>0.0</td>\n",
       "      <td>2.0</td>\n",
       "      <td>application</td>\n",
       "      <td>flavouring agent</td>\n",
       "    </tr>\n",
       "    <tr>\n",
       "      <th>10439</th>\n",
       "      <td>82038</td>\n",
       "      <td>347.32</td>\n",
       "      <td>112.0</td>\n",
       "      <td>463.0</td>\n",
       "      <td>1.0</td>\n",
       "      <td>9.0</td>\n",
       "      <td>7.0</td>\n",
       "      <td>25.0</td>\n",
       "      <td>17.0</td>\n",
       "      <td>0.0</td>\n",
       "      <td>...</td>\n",
       "      <td>0.0</td>\n",
       "      <td>0.0</td>\n",
       "      <td>0.0</td>\n",
       "      <td>0.0</td>\n",
       "      <td>0.0</td>\n",
       "      <td>0.0</td>\n",
       "      <td>0.0</td>\n",
       "      <td>2.0</td>\n",
       "      <td>application</td>\n",
       "      <td>herbicide</td>\n",
       "    </tr>\n",
       "    <tr>\n",
       "      <th>10441</th>\n",
       "      <td>189672</td>\n",
       "      <td>363.40</td>\n",
       "      <td>122.0</td>\n",
       "      <td>567.0</td>\n",
       "      <td>3.0</td>\n",
       "      <td>5.0</td>\n",
       "      <td>5.0</td>\n",
       "      <td>25.0</td>\n",
       "      <td>17.0</td>\n",
       "      <td>0.0</td>\n",
       "      <td>...</td>\n",
       "      <td>0.0</td>\n",
       "      <td>0.0</td>\n",
       "      <td>0.0</td>\n",
       "      <td>0.0</td>\n",
       "      <td>0.0</td>\n",
       "      <td>0.0</td>\n",
       "      <td>0.0</td>\n",
       "      <td>2.0</td>\n",
       "      <td>application</td>\n",
       "      <td>herbicide safener</td>\n",
       "    </tr>\n",
       "    <tr>\n",
       "      <th>10442</th>\n",
       "      <td>173589</td>\n",
       "      <td>140.20</td>\n",
       "      <td>45.3</td>\n",
       "      <td>122.0</td>\n",
       "      <td>0.0</td>\n",
       "      <td>2.0</td>\n",
       "      <td>1.0</td>\n",
       "      <td>9.0</td>\n",
       "      <td>8.0</td>\n",
       "      <td>0.0</td>\n",
       "      <td>...</td>\n",
       "      <td>0.0</td>\n",
       "      <td>0.0</td>\n",
       "      <td>0.0</td>\n",
       "      <td>0.0</td>\n",
       "      <td>0.0</td>\n",
       "      <td>0.0</td>\n",
       "      <td>0.0</td>\n",
       "      <td>2.0</td>\n",
       "      <td>application</td>\n",
       "      <td>flavouring agent</td>\n",
       "    </tr>\n",
       "    <tr>\n",
       "      <th>10444</th>\n",
       "      <td>189695</td>\n",
       "      <td>497.50</td>\n",
       "      <td>209.0</td>\n",
       "      <td>699.0</td>\n",
       "      <td>5.0</td>\n",
       "      <td>12.0</td>\n",
       "      <td>8.0</td>\n",
       "      <td>34.0</td>\n",
       "      <td>23.0</td>\n",
       "      <td>0.0</td>\n",
       "      <td>...</td>\n",
       "      <td>0.0</td>\n",
       "      <td>0.0</td>\n",
       "      <td>0.0</td>\n",
       "      <td>0.0</td>\n",
       "      <td>0.0</td>\n",
       "      <td>0.0</td>\n",
       "      <td>0.0</td>\n",
       "      <td>2.0</td>\n",
       "      <td>application</td>\n",
       "      <td>antidepressant</td>\n",
       "    </tr>\n",
       "  </tbody>\n",
       "</table>\n",
       "<p>5329 rows × 106 columns</p>\n",
       "</div>"
      ],
      "text/plain": [
       "        ChEBI  MolecularWeight   TPSA  Complexity  HBondDonorCount  \\\n",
       "9870   143237           232.21  109.0       330.0              2.0   \n",
       "5696    77996           563.90   69.6       574.0              3.0   \n",
       "814    545687           228.28   74.6       233.0              2.0   \n",
       "5085    18040           162.19  110.0       129.0              4.0   \n",
       "923     59415           540.50  271.0       843.0              9.0   \n",
       "...       ...              ...    ...         ...              ...   \n",
       "10438  189588           166.17   39.4       175.0              0.0   \n",
       "10439   82038           347.32  112.0       463.0              1.0   \n",
       "10441  189672           363.40  122.0       567.0              3.0   \n",
       "10442  173589           140.20   45.3       122.0              0.0   \n",
       "10444  189695           497.50  209.0       699.0              5.0   \n",
       "\n",
       "       HBondAcceptorCount  RotatableBondCount  HeavyAtomCount     H   He  ...  \\\n",
       "9870                  6.0                 3.0            15.0   8.0  0.0  ...   \n",
       "5696                  3.0                31.0            40.0  69.0  0.0  ...   \n",
       "814                   4.0                10.0            16.0  20.0  0.0  ...   \n",
       "5085                  5.0                 5.0            11.0  14.0  0.0  ...   \n",
       "923                  15.0                10.0            37.0  32.0  0.0  ...   \n",
       "...                   ...                 ...             ...   ...  ...  ...   \n",
       "10438                 3.0                 4.0            12.0  10.0  0.0  ...   \n",
       "10439                 9.0                 7.0            25.0  17.0  0.0  ...   \n",
       "10441                 5.0                 5.0            25.0  17.0  0.0  ...   \n",
       "10442                 2.0                 1.0             9.0   8.0  0.0  ...   \n",
       "10444                12.0                 8.0            34.0  23.0  0.0  ...   \n",
       "\n",
       "        Fr   Ra   Ac   Th   Pa    U  FCharge  XLogP_qcut         RoleType  \\\n",
       "9870   0.0  0.0  0.0  0.0  0.0  0.0      0.0         1.0  biological role   \n",
       "5696   0.0  0.0  0.0  0.0  0.0  0.0      0.0         4.0  biological role   \n",
       "814    0.0  0.0  0.0  0.0  0.0  0.0      0.0         3.0  biological role   \n",
       "5085   0.0  0.0  0.0  0.0  0.0  0.0      0.0         0.0  biological role   \n",
       "923    0.0  0.0  0.0  0.0  0.0  0.0      0.0         0.0  biological role   \n",
       "...    ...  ...  ...  ...  ...  ...      ...         ...              ...   \n",
       "10438  0.0  0.0  0.0  0.0  0.0  0.0      0.0         2.0      application   \n",
       "10439  0.0  0.0  0.0  0.0  0.0  0.0      0.0         2.0      application   \n",
       "10441  0.0  0.0  0.0  0.0  0.0  0.0      0.0         2.0      application   \n",
       "10442  0.0  0.0  0.0  0.0  0.0  0.0      0.0         2.0      application   \n",
       "10444  0.0  0.0  0.0  0.0  0.0  0.0      0.0         2.0      application   \n",
       "\n",
       "                RoleName  \n",
       "9870    mouse metabolite  \n",
       "5696    mouse metabolite  \n",
       "814        plant hormone  \n",
       "5085    human metabolite  \n",
       "923              epitope  \n",
       "...                  ...  \n",
       "10438   flavouring agent  \n",
       "10439          herbicide  \n",
       "10441  herbicide safener  \n",
       "10442   flavouring agent  \n",
       "10444     antidepressant  \n",
       "\n",
       "[5329 rows x 106 columns]"
      ]
     },
     "execution_count": 31,
     "metadata": {},
     "output_type": "execute_result"
    }
   ],
   "source": [
    "balanced_rt_df"
   ]
  },
  {
   "cell_type": "markdown",
   "metadata": {},
   "source": [
    "### Role Type Train-Test Split"
   ]
  },
  {
   "cell_type": "code",
   "execution_count": 32,
   "metadata": {},
   "outputs": [],
   "source": [
    "X = balanced_rt_df.drop(['RoleType', 'RoleName', 'ChEBI'], axis=1)\n",
    "y = balanced_rt_df['RoleType']\n",
    "\n",
    "X_train, X_test, y_train, y_test = train_test_split(X, y, random_state=42)"
   ]
  },
  {
   "cell_type": "markdown",
   "metadata": {},
   "source": [
    "### Creating Helper Functions"
   ]
  },
  {
   "cell_type": "code",
   "execution_count": 33,
   "metadata": {},
   "outputs": [],
   "source": [
    "class ModelWithCV():\n",
    "    '''Structure to save the model and more easily see its crossvalidation'''\n",
    "    \n",
    "    def __init__(self, model, model_name, X, y, cv_now=True):\n",
    "        self.model = model\n",
    "        self.name = model_name\n",
    "        self.X = X\n",
    "        self.y = y\n",
    "        # For CV results\n",
    "        self.cv_results = None\n",
    "        self.cv_mean = None\n",
    "        self.cv_median = None\n",
    "        self.cv_std = None\n",
    "        #\n",
    "        if cv_now:\n",
    "            self.cross_validate()\n",
    "        \n",
    "    def cross_validate(self, X=None, y=None, kfolds=10):\n",
    "        '''\n",
    "        Perform cross-validation and return results.\n",
    "        \n",
    "        Args: \n",
    "          X:\n",
    "            Optional; Training data to perform CV on. Otherwise use X from object\n",
    "          y:\n",
    "            Optional; Training data to perform CV on. Otherwise use y from object\n",
    "          kfolds:\n",
    "            Optional; Number of folds for CV (default is 10)  \n",
    "        '''\n",
    "        \n",
    "        cv_X = X if X else self.X\n",
    "        cv_y = y if y else self.y\n",
    "\n",
    "        self.cv_results = cross_val_score(self.model, cv_X, cv_y, cv=kfolds)\n",
    "        self.cv_mean = np.mean(self.cv_results)\n",
    "        self.cv_median = np.median(self.cv_results)\n",
    "        self.cv_std = np.std(self.cv_results)\n",
    "\n",
    "        \n",
    "    def print_cv_summary(self):\n",
    "        cv_summary = (\n",
    "        f'''CV Results for `{self.name}` model:\n",
    "            {self.cv_mean:.5f} ± {self.cv_std:.5f} accuracy\n",
    "        ''')\n",
    "        print(cv_summary)\n",
    "    \n",
    "\n",
    "        \n",
    "    def plot_cv(self, ax):\n",
    "        '''\n",
    "        Plot the cross-validation values using the array of results and given \n",
    "        Axis for plotting.\n",
    "        '''\n",
    "        ax.set_title(f'CV Results for `{self.name}` Model')\n",
    "        # Thinner violinplot with higher bw\n",
    "        sns.violinplot(y=self.cv_results, ax=ax, bw=.4)\n",
    "        sns.swarmplot(\n",
    "                y=self.cv_results,\n",
    "                color='orange',\n",
    "                size=10,\n",
    "                alpha= 0.8,\n",
    "                ax=ax)\n",
    "\n",
    "        return ax\n",
    "\n",
    "#taken from David Elliot's lecture on classification workflow"
   ]
  },
  {
   "cell_type": "markdown",
   "metadata": {},
   "source": [
    "## Role Type Modelling"
   ]
  },
  {
   "cell_type": "code",
   "execution_count": 34,
   "metadata": {},
   "outputs": [],
   "source": [
    "def grab_numeric_rt(df):\n",
    "    return df.select_dtypes(include=['float', 'int'])\n",
    "\n",
    "GrabNumeric = FunctionTransformer(grab_numeric_rt)\n",
    "\n",
    "subpipe_num = Pipeline(steps=[('get_num', GrabNumeric),\n",
    "                              ('ss', StandardScaler())])\n",
    "\n",
    "ct = ColumnTransformer(transformers = [\n",
    "    ('subpipe_num', subpipe_num, X_train.columns),])"
   ]
  },
  {
   "cell_type": "markdown",
   "metadata": {},
   "source": [
    "### Baseline Model"
   ]
  },
  {
   "cell_type": "code",
   "execution_count": 35,
   "metadata": {
    "scrolled": true
   },
   "outputs": [],
   "source": [
    "dummy_pipe = Pipeline(steps=[\n",
    "    ('ct', ct),\n",
    "    ('dummy', DummyClassifier(strategy='most_frequent'))])\n",
    "\n",
    "dummy_pipe.fit(X_train, y_train)\n",
    "\n",
    "dummy_model_pipe = ModelWithCV(\n",
    "    model=dummy_pipe,\n",
    "    model_name='dummy_model_pipe',\n",
    "    X=X_train,\n",
    "    y=y_train)"
   ]
  },
  {
   "cell_type": "code",
   "execution_count": 36,
   "metadata": {},
   "outputs": [
    {
     "name": "stdout",
     "output_type": "stream",
     "text": [
      "CV Results for `dummy_model_pipe` model:\n",
      "            0.46897 ± 0.00094 accuracy\n",
      "        \n",
      " Train: 0.46896896896896895\n"
     ]
    },
    {
     "data": {
      "image/png": "[encoded data removed]",
      "text/plain": [
       "<Figure size 432x288 with 1 Axes>"
      ]
     },
     "metadata": {
      "needs_background": "light"
     },
     "output_type": "display_data"
    }
   ],
   "source": [
    "fig, ax = plt.subplots()\n",
    "\n",
    "ax = dummy_model_pipe.plot_cv(ax)\n",
    "plt.tight_layout();\n",
    "\n",
    "dummy_model_pipe.print_cv_summary()\n",
    "\n",
    "train_score = dummy_pipe.score(X_train, y_train)\n",
    "print(f' Train: {train_score}')"
   ]
  },
  {
   "cell_type": "code",
   "execution_count": 37,
   "metadata": {},
   "outputs": [
    {
     "name": "stderr",
     "output_type": "stream",
     "text": [
      "/Users/meiralelov/opt/anaconda3/envs/tf/lib/python3.7/site-packages/sklearn/utils/deprecation.py:87: FutureWarning: Function plot_confusion_matrix is deprecated; Function `plot_confusion_matrix` is deprecated in 1.0 and will be removed in 1.2. Use one of the class methods: ConfusionMatrixDisplay.from_predictions or ConfusionMatrixDisplay.from_estimator.\n",
      "  warnings.warn(msg, category=FutureWarning)\n"
     ]
    },
    {
     "data": {
      "image/png": "[encoded data removed]",
      "text/plain": [
       "<Figure size 432x288 with 2 Axes>"
      ]
     },
     "metadata": {
      "needs_background": "light"
     },
     "output_type": "display_data"
    }
   ],
   "source": [
    "fig, ax = plt.subplots()\n",
    "\n",
    "fig.suptitle(\"Dummy Model\")\n",
    "\n",
    "plot_confusion_matrix(dummy_pipe, X_train, y_train, ax=ax, cmap=\"plasma\");"
   ]
  },
  {
   "cell_type": "markdown",
   "metadata": {},
   "source": [
    "### Logistic Regression"
   ]
  },
  {
   "cell_type": "code",
   "execution_count": 38,
   "metadata": {},
   "outputs": [],
   "source": [
    "logreg_model_pipe = Pipeline(steps=[\n",
    "                    ('ct',ct),\n",
    "                    ('lr', LogisticRegression(random_state=42, max_iter=10000))])\n",
    "\n",
    "logreg_model_pipe.fit(X_train, y_train)\n",
    "\n",
    "log_pipe = ModelWithCV(model=logreg_model_pipe, \n",
    "                       model_name = 'log_pipe', \n",
    "                       X=X_train, \n",
    "                       y=y_train)"
   ]
  },
  {
   "cell_type": "code",
   "execution_count": 39,
   "metadata": {},
   "outputs": [
    {
     "name": "stdout",
     "output_type": "stream",
     "text": [
      "CV Results for `log_pipe` model:\n",
      "            0.63539 ± 0.01753 accuracy\n",
      "        \n",
      " Train: 0.6371371371371372\n"
     ]
    },
    {
     "data": {
      "image/png": "[encoded data removed]",
      "text/plain": [
       "<Figure size 432x288 with 1 Axes>"
      ]
     },
     "metadata": {
      "needs_background": "light"
     },
     "output_type": "display_data"
    }
   ],
   "source": [
    "fig, ax = plt.subplots()\n",
    "\n",
    "log_pipe.plot_cv(ax=ax)\n",
    "\n",
    "log_pipe.print_cv_summary()\n",
    "\n",
    "train_score = logreg_model_pipe.score(X_train, y_train)\n",
    "print(f' Train: {train_score}')"
   ]
  },
  {
   "cell_type": "code",
   "execution_count": 40,
   "metadata": {
    "scrolled": true
   },
   "outputs": [
    {
     "name": "stderr",
     "output_type": "stream",
     "text": [
      "/Users/meiralelov/opt/anaconda3/envs/tf/lib/python3.7/site-packages/sklearn/utils/deprecation.py:87: FutureWarning: Function plot_confusion_matrix is deprecated; Function `plot_confusion_matrix` is deprecated in 1.0 and will be removed in 1.2. Use one of the class methods: ConfusionMatrixDisplay.from_predictions or ConfusionMatrixDisplay.from_estimator.\n",
      "  warnings.warn(msg, category=FutureWarning)\n"
     ]
    },
    {
     "data": {
      "image/png": "[encoded data removed]",
      "text/plain": [
       "<Figure size 432x288 with 2 Axes>"
      ]
     },
     "metadata": {
      "needs_background": "light"
     },
     "output_type": "display_data"
    }
   ],
   "source": [
    "fig, ax = plt.subplots()\n",
    "\n",
    "fig.suptitle(\"Lr Model\")\n",
    "\n",
    "plot_confusion_matrix(logreg_model_pipe, X_train, y_train, ax=ax, cmap=\"plasma\");\n",
    "\n",
    "#plot_roc_curve(logreg_model_pipe, X_train, y_train);"
   ]
  },
  {
   "cell_type": "markdown",
   "metadata": {},
   "source": [
    "### Decision Trees"
   ]
  },
  {
   "cell_type": "code",
   "execution_count": 41,
   "metadata": {},
   "outputs": [],
   "source": [
    "dt_model_pipe = Pipeline(steps=[\n",
    "                ('ct', ct), \n",
    "                ('dt', DecisionTreeClassifier(random_state=42, max_depth=13))])\n",
    "\n",
    "dt_model_pipe.fit(X_train, y_train)\n",
    "\n",
    "dt_pipe = ModelWithCV(model=dt_model_pipe,\n",
    "                         model_name='dt_pipe',\n",
    "                         X=X_train,\n",
    "                         y=y_train)"
   ]
  },
  {
   "cell_type": "code",
   "execution_count": 42,
   "metadata": {},
   "outputs": [
    {
     "name": "stdout",
     "output_type": "stream",
     "text": [
      "CV Results for `dt_pipe` model:\n",
      "            0.78779 ± 0.01815 accuracy\n",
      "        \n",
      " Train: 0.9166666666666666\n"
     ]
    },
    {
     "data": {
      "image/png": "[encoded data removed]",
      "text/plain": [
       "<Figure size 432x288 with 1 Axes>"
      ]
     },
     "metadata": {
      "needs_background": "light"
     },
     "output_type": "display_data"
    }
   ],
   "source": [
    "fig, ax = plt.subplots()\n",
    "\n",
    "dt_pipe.plot_cv(ax=ax);\n",
    "\n",
    "dt_pipe.print_cv_summary()\n",
    "\n",
    "train_score = dt_model_pipe.score(X_train, y_train)\n",
    "print(f' Train: {train_score}')"
   ]
  },
  {
   "cell_type": "code",
   "execution_count": 43,
   "metadata": {},
   "outputs": [
    {
     "name": "stderr",
     "output_type": "stream",
     "text": [
      "/Users/meiralelov/opt/anaconda3/envs/tf/lib/python3.7/site-packages/sklearn/utils/deprecation.py:87: FutureWarning: Function plot_confusion_matrix is deprecated; Function `plot_confusion_matrix` is deprecated in 1.0 and will be removed in 1.2. Use one of the class methods: ConfusionMatrixDisplay.from_predictions or ConfusionMatrixDisplay.from_estimator.\n",
      "  warnings.warn(msg, category=FutureWarning)\n"
     ]
    },
    {
     "data": {
      "image/png": "[encoded data removed]",
      "text/plain": [
       "<Figure size 432x288 with 2 Axes>"
      ]
     },
     "metadata": {
      "needs_background": "light"
     },
     "output_type": "display_data"
    }
   ],
   "source": [
    "fig, ax = plt.subplots()\n",
    "\n",
    "fig.suptitle(\"Dt Model\")\n",
    "\n",
    "plot_confusion_matrix(dt_model_pipe, X_train, y_train, ax=ax, cmap=\"plasma\");\n",
    "\n",
    "#plot_roc_curve(dt_model_pipe, X_train, y_train);"
   ]
  },
  {
   "cell_type": "markdown",
   "metadata": {},
   "source": [
    "### Random Forest"
   ]
  },
  {
   "cell_type": "code",
   "execution_count": 44,
   "metadata": {},
   "outputs": [],
   "source": [
    "rfc_model_pipe = Pipeline(steps=[\n",
    "                ('ct', ct), \n",
    "                ('rfc', RandomForestClassifier(random_state=42, max_depth=13))])\n",
    "\n",
    "rfc_model_pipe.fit(X_train, y_train)\n",
    "\n",
    "forest_pipe = ModelWithCV(model=rfc_model_pipe, \n",
    "                          model_name='forest_pipe', \n",
    "                          X=X_train, \n",
    "                          y=y_train)"
   ]
  },
  {
   "cell_type": "code",
   "execution_count": 45,
   "metadata": {
    "scrolled": true
   },
   "outputs": [
    {
     "name": "stdout",
     "output_type": "stream",
     "text": [
      "CV Results for `forest_pipe` model:\n",
      "            0.83684 ± 0.02430 accuracy\n",
      "        \n",
      " Train: 0.9244244244244244\n"
     ]
    },
    {
     "data": {
      "image/png": "[encoded data removed]",
      "text/plain": [
       "<Figure size 432x288 with 1 Axes>"
      ]
     },
     "metadata": {
      "needs_background": "light"
     },
     "output_type": "display_data"
    }
   ],
   "source": [
    "fig, ax = plt.subplots()\n",
    "\n",
    "forest_pipe.plot_cv(ax=ax)\n",
    "\n",
    "forest_pipe.print_cv_summary()\n",
    "\n",
    "train_score = rfc_model_pipe.score(X_train, y_train)\n",
    "print(f' Train: {train_score}')"
   ]
  },
  {
   "cell_type": "code",
   "execution_count": 46,
   "metadata": {
    "scrolled": false
   },
   "outputs": [
    {
     "name": "stderr",
     "output_type": "stream",
     "text": [
      "/Users/meiralelov/opt/anaconda3/envs/tf/lib/python3.7/site-packages/sklearn/utils/deprecation.py:87: FutureWarning: Function plot_confusion_matrix is deprecated; Function `plot_confusion_matrix` is deprecated in 1.0 and will be removed in 1.2. Use one of the class methods: ConfusionMatrixDisplay.from_predictions or ConfusionMatrixDisplay.from_estimator.\n",
      "  warnings.warn(msg, category=FutureWarning)\n"
     ]
    },
    {
     "data": {
      "image/png": "[encoded data removed]",
      "text/plain": [
       "<Figure size 432x288 with 2 Axes>"
      ]
     },
     "metadata": {
      "needs_background": "light"
     },
     "output_type": "display_data"
    }
   ],
   "source": [
    "fig, ax = plt.subplots()\n",
    "\n",
    "fig.suptitle(\"rfc Model\")\n",
    "\n",
    "plot_confusion_matrix(rfc_model_pipe, X_train, y_train, ax=ax, cmap=\"plasma\");\n",
    "\n",
    "#plot_roc_curve(rfc_model_pipe, X_train, y_train);"
   ]
  },
  {
   "cell_type": "markdown",
   "metadata": {},
   "source": [
    "### KNeighborsClassifier"
   ]
  },
  {
   "cell_type": "code",
   "execution_count": 47,
   "metadata": {},
   "outputs": [],
   "source": [
    "knn_model_pipe = Pipeline(steps=[\n",
    "                ('ct', ct), \n",
    "                ('knn', KNeighborsClassifier())])\n",
    "\n",
    "knn_model_pipe.fit(X_train, y_train)\n",
    "\n",
    "knn_pipe = ModelWithCV(model=knn_model_pipe,\n",
    "                         model_name='knn_pipe',\n",
    "                         X=X_train,\n",
    "                         y=y_train)"
   ]
  },
  {
   "cell_type": "code",
   "execution_count": 48,
   "metadata": {},
   "outputs": [
    {
     "name": "stdout",
     "output_type": "stream",
     "text": [
      "CV Results for `knn_pipe` model:\n",
      "            0.79405 ± 0.01275 accuracy\n",
      "        \n",
      " Train: 0.8673673673673674\n"
     ]
    },
    {
     "data": {
      "image/png": "[encoded data removed]",
      "text/plain": [
       "<Figure size 432x288 with 1 Axes>"
      ]
     },
     "metadata": {
      "needs_background": "light"
     },
     "output_type": "display_data"
    }
   ],
   "source": [
    "fig, ax = plt.subplots()\n",
    "\n",
    "knn_pipe.plot_cv(ax=ax);\n",
    "\n",
    "knn_pipe.print_cv_summary()\n",
    "\n",
    "train_score = knn_model_pipe.score(X_train, y_train)\n",
    "print(f' Train: {train_score}')"
   ]
  },
  {
   "cell_type": "code",
   "execution_count": 49,
   "metadata": {},
   "outputs": [
    {
     "name": "stderr",
     "output_type": "stream",
     "text": [
      "/Users/meiralelov/opt/anaconda3/envs/tf/lib/python3.7/site-packages/sklearn/utils/deprecation.py:87: FutureWarning: Function plot_confusion_matrix is deprecated; Function `plot_confusion_matrix` is deprecated in 1.0 and will be removed in 1.2. Use one of the class methods: ConfusionMatrixDisplay.from_predictions or ConfusionMatrixDisplay.from_estimator.\n",
      "  warnings.warn(msg, category=FutureWarning)\n"
     ]
    },
    {
     "data": {
      "image/png": "[encoded data removed]",
      "text/plain": [
       "<Figure size 432x288 with 2 Axes>"
      ]
     },
     "metadata": {
      "needs_background": "light"
     },
     "output_type": "display_data"
    }
   ],
   "source": [
    "fig, ax = plt.subplots()\n",
    "\n",
    "fig.suptitle(\"Knn Model\")\n",
    "\n",
    "plot_confusion_matrix(knn_model_pipe, X_train, y_train, ax=ax, cmap=\"plasma\");"
   ]
  },
  {
   "cell_type": "markdown",
   "metadata": {},
   "source": [
    "### GradientBoostingClassifier"
   ]
  },
  {
   "cell_type": "code",
   "execution_count": 50,
   "metadata": {},
   "outputs": [],
   "source": [
    "gbc_model_pipe = Pipeline(steps=[\n",
    "                ('ct', ct), \n",
    "                ('gbc', GradientBoostingClassifier(random_state=42))])\n",
    "\n",
    "gbc_model_pipe.fit(X_train, y_train)\n",
    "\n",
    "boost_pipe = ModelWithCV(model=gbc_model_pipe,\n",
    "                         model_name='boost_pipe',\n",
    "                         X=X_train,\n",
    "                         y=y_train)"
   ]
  },
  {
   "cell_type": "code",
   "execution_count": 51,
   "metadata": {},
   "outputs": [
    {
     "name": "stdout",
     "output_type": "stream",
     "text": [
      "CV Results for `boost_pipe` model:\n",
      "            0.77628 ± 0.01958 accuracy\n",
      "        \n",
      " Train: 0.8103103103103103\n"
     ]
    },
    {
     "data": {
      "image/png": "[encoded data removed]",
      "text/plain": [
       "<Figure size 432x288 with 1 Axes>"
      ]
     },
     "metadata": {
      "needs_background": "light"
     },
     "output_type": "display_data"
    }
   ],
   "source": [
    "fig, ax = plt.subplots()\n",
    "\n",
    "boost_pipe.plot_cv(ax=ax)\n",
    "\n",
    "boost_pipe.print_cv_summary()\n",
    "\n",
    "train_score = gbc_model_pipe.score(X_train, y_train)\n",
    "print(f' Train: {train_score}')"
   ]
  },
  {
   "cell_type": "code",
   "execution_count": 52,
   "metadata": {},
   "outputs": [
    {
     "name": "stderr",
     "output_type": "stream",
     "text": [
      "/Users/meiralelov/opt/anaconda3/envs/tf/lib/python3.7/site-packages/sklearn/utils/deprecation.py:87: FutureWarning: Function plot_confusion_matrix is deprecated; Function `plot_confusion_matrix` is deprecated in 1.0 and will be removed in 1.2. Use one of the class methods: ConfusionMatrixDisplay.from_predictions or ConfusionMatrixDisplay.from_estimator.\n",
      "  warnings.warn(msg, category=FutureWarning)\n"
     ]
    },
    {
     "data": {
      "image/png": "[encoded data removed]",
      "text/plain": [
       "<Figure size 432x288 with 2 Axes>"
      ]
     },
     "metadata": {
      "needs_background": "light"
     },
     "output_type": "display_data"
    }
   ],
   "source": [
    "fig, ax = plt.subplots()\n",
    "\n",
    "fig.suptitle(\"Boost Model\")\n",
    "\n",
    "plot_confusion_matrix(gbc_model_pipe, X_train, y_train, ax=ax, cmap=\"plasma\");"
   ]
  },
  {
   "cell_type": "markdown",
   "metadata": {},
   "source": [
    "### Neural Networks"
   ]
  },
  {
   "cell_type": "markdown",
   "metadata": {},
   "source": [
    "#### Creating NN Helper Function"
   ]
  },
  {
   "cell_type": "code",
   "execution_count": 93,
   "metadata": {},
   "outputs": [],
   "source": [
    "def model_metrics(results):\n",
    "    \n",
    "#    results = model.history\n",
    "    \n",
    "    train_loss = results.history['loss']\n",
    "    train_acc = results.history['accuracy']\n",
    "    train_recall = results.history['recall']\n",
    "    train_precision = results.history['precision']\n",
    "    \n",
    "    val_loss = results.history['val_loss']\n",
    "    val_acc = results.history['val_accuracy']\n",
    "    val_recall = results.history['val_recall']\n",
    "    val_precision = results.history['val_precision']\n",
    "    \n",
    "    print(f\"AUC score (train final epoch): {results.history['auc'][-1]:.3f}\")\n",
    "    print(f\"AUC score (val final epoch)  : {results.history['val_auc'][-1]:.3f}\")\n",
    "\n",
    "    \n",
    "    fig, (ax1, ax2, ax3, ax4) = plt.subplots(1, 4, figsize=(20, 6))\n",
    "\n",
    "    sns.lineplot(x=results.epoch, y=train_loss, ax=ax1, label='train_loss')\n",
    "    sns.lineplot(x=results.epoch, y=val_loss, ax=ax1, label='val_loss')\n",
    "    ax1.set_title('Loss')\n",
    "    ax1.set_xlabel('Epochs')\n",
    "    ax1.set_ylabel('Loss')\n",
    "    ax1.legend()\n",
    "\n",
    "\n",
    "    sns.lineplot(x=results.epoch, y=train_acc, ax=ax2, label='train_accuracy')\n",
    "    sns.lineplot(x=results.epoch, y=val_acc, ax=ax2, label='val_accuracy')\n",
    "    ax2.set_title('Accuracy')\n",
    "    ax2.set_xlabel('Epochs')\n",
    "    ax2.set_ylabel('Accuracy')\n",
    "    ax2.legend()\n",
    "\n",
    "    \n",
    "    sns.lineplot(x=results.epoch, y=train_recall, ax=ax3, label='train_recall')\n",
    "    sns.lineplot(x=results.epoch, y=val_recall, ax=ax3, label='val_recall')\n",
    "    ax3.set_title('Recall')\n",
    "    ax3.set_xlabel('Epochs')\n",
    "    ax3.set_ylabel('Recall')\n",
    "    ax3.legend()\n",
    "\n",
    "\n",
    "    sns.lineplot(x=results.epoch, y=train_precision, ax=ax4, label='train_precision')\n",
    "    sns.lineplot(x=results.epoch, y=val_precision, ax=ax4, label='val_precision')\n",
    "    ax4.set_title('Precision')    \n",
    "    ax4.set_xlabel('Epochs')\n",
    "    ax4.set_ylabel('Precision')\n",
    "    ax4.legend()"
   ]
  },
  {
   "cell_type": "code",
   "execution_count": 94,
   "metadata": {},
   "outputs": [],
   "source": [
    "def conf_and_rocauc(model):\n",
    "    \n",
    "    #confusion matrix\n",
    "    \n",
    "    y_pred = model.predict(test_set)\n",
    "    y_hat = (y_pred > 0.5)           \n",
    "    display(ConfusionMatrixDisplay(\n",
    "        confusion_matrix(test_set.classes, y_hat), \n",
    "        display_labels=['Normal', 'Pneumonia']).plot());\n",
    "    \n",
    "    \n",
    "    #ROC_AUC\n",
    "    \n",
    "    fpr_keras, tpr_keras, thresholds_keras = roc_curve(test_set.classes, y_pred)\n",
    "    auc_keras = auc(fpr_keras, tpr_keras)\n",
    "    \n",
    "    plt.figure()\n",
    "    plt.plot(fpr_keras, tpr_keras, label='Keras (area = {:.3f})'.format(auc_keras))\n",
    "    plt.xlabel('False positive rate')\n",
    "    plt.ylabel('True positive rate')\n",
    "    plt.title('ROC curve')\n",
    "    plt.legend(loc='best')\n",
    "    plt.show();"
   ]
  },
  {
   "cell_type": "markdown",
   "metadata": {},
   "source": [
    "#### First Simple NN Model"
   ]
  },
  {
   "cell_type": "code",
   "execution_count": 328,
   "metadata": {},
   "outputs": [
    {
     "ename": "AttributeError",
     "evalue": "'Series' object has no attribute 'reshape'",
     "output_type": "error",
     "traceback": [
      "\u001b[0;31m---------------------------------------------------------------------------\u001b[0m",
      "\u001b[0;31mAttributeError\u001b[0m                            Traceback (most recent call last)",
      "\u001b[0;32m/var/folders/n6/36h6cpys3pb112776ltdljwc0000gn/T/ipykernel_89420/2227869767.py\u001b[0m in \u001b[0;36m<module>\u001b[0;34m\u001b[0m\n\u001b[1;32m      1\u001b[0m \u001b[0mohe\u001b[0m \u001b[0;34m=\u001b[0m \u001b[0mOneHotEncoder\u001b[0m\u001b[0;34m(\u001b[0m\u001b[0msparse\u001b[0m\u001b[0;34m=\u001b[0m\u001b[0;32mFalse\u001b[0m\u001b[0;34m)\u001b[0m\u001b[0;34m\u001b[0m\u001b[0;34m\u001b[0m\u001b[0m\n\u001b[0;32m----> 2\u001b[0;31m \u001b[0my_train\u001b[0m\u001b[0;34m.\u001b[0m\u001b[0mreshape\u001b[0m\u001b[0;34m(\u001b[0m\u001b[0;34m-\u001b[0m\u001b[0;36m1\u001b[0m\u001b[0;34m,\u001b[0m\u001b[0;36m1\u001b[0m\u001b[0;34m)\u001b[0m\u001b[0;34m\u001b[0m\u001b[0;34m\u001b[0m\u001b[0m\n\u001b[0m\u001b[1;32m      3\u001b[0m \u001b[0my_pure_train\u001b[0m \u001b[0;34m=\u001b[0m \u001b[0mohe\u001b[0m\u001b[0;34m.\u001b[0m\u001b[0mfit_transform\u001b[0m\u001b[0;34m(\u001b[0m\u001b[0my_train\u001b[0m\u001b[0;34m)\u001b[0m\u001b[0;34m\u001b[0m\u001b[0;34m\u001b[0m\u001b[0m\n\u001b[1;32m      4\u001b[0m \u001b[0;31m#y_binary = to_categorical(new_y)\u001b[0m\u001b[0;34m\u001b[0m\u001b[0;34m\u001b[0m\u001b[0;34m\u001b[0m\u001b[0m\n\u001b[1;32m      5\u001b[0m \u001b[0;31m#input_shape = (1,X_train.shape[1],1)\u001b[0m\u001b[0;34m\u001b[0m\u001b[0;34m\u001b[0m\u001b[0;34m\u001b[0m\u001b[0m\n",
      "\u001b[0;32m~/opt/anaconda3/envs/tf/lib/python3.7/site-packages/pandas/core/generic.py\u001b[0m in \u001b[0;36m__getattr__\u001b[0;34m(self, name)\u001b[0m\n\u001b[1;32m   5485\u001b[0m         ):\n\u001b[1;32m   5486\u001b[0m             \u001b[0;32mreturn\u001b[0m \u001b[0mself\u001b[0m\u001b[0;34m[\u001b[0m\u001b[0mname\u001b[0m\u001b[0;34m]\u001b[0m\u001b[0;34m\u001b[0m\u001b[0;34m\u001b[0m\u001b[0m\n\u001b[0;32m-> 5487\u001b[0;31m         \u001b[0;32mreturn\u001b[0m \u001b[0mobject\u001b[0m\u001b[0;34m.\u001b[0m\u001b[0m__getattribute__\u001b[0m\u001b[0;34m(\u001b[0m\u001b[0mself\u001b[0m\u001b[0;34m,\u001b[0m \u001b[0mname\u001b[0m\u001b[0;34m)\u001b[0m\u001b[0;34m\u001b[0m\u001b[0;34m\u001b[0m\u001b[0m\n\u001b[0m\u001b[1;32m   5488\u001b[0m \u001b[0;34m\u001b[0m\u001b[0m\n\u001b[1;32m   5489\u001b[0m     \u001b[0;32mdef\u001b[0m \u001b[0m__setattr__\u001b[0m\u001b[0;34m(\u001b[0m\u001b[0mself\u001b[0m\u001b[0;34m,\u001b[0m \u001b[0mname\u001b[0m\u001b[0;34m:\u001b[0m \u001b[0mstr\u001b[0m\u001b[0;34m,\u001b[0m \u001b[0mvalue\u001b[0m\u001b[0;34m)\u001b[0m \u001b[0;34m->\u001b[0m \u001b[0;32mNone\u001b[0m\u001b[0;34m:\u001b[0m\u001b[0;34m\u001b[0m\u001b[0;34m\u001b[0m\u001b[0m\n",
      "\u001b[0;31mAttributeError\u001b[0m: 'Series' object has no attribute 'reshape'"
     ]
    }
   ],
   "source": [
    "ohe = OneHotEncoder(sparse=False)\n",
    "y_train.reshape(-1,1)\n",
    "y_pure_train = ohe.fit_transform(y_train)\n",
    "#y_binary = to_categorical(new_y)\n",
    "#input_shape = (1,X_train.shape[1],1)"
   ]
  },
  {
   "cell_type": "code",
   "execution_count": 321,
   "metadata": {},
   "outputs": [
    {
     "data": {
      "text/plain": [
       "array(['biological role', 'biological role', 'biological role', ...,\n",
       "       'application', 'application', 'biological role'], dtype=object)"
      ]
     },
     "execution_count": 321,
     "metadata": {},
     "output_type": "execute_result"
    }
   ],
   "source": [
    "y_train.values"
   ]
  },
  {
   "cell_type": "code",
   "execution_count": 244,
   "metadata": {
    "scrolled": true
   },
   "outputs": [
    {
     "data": {
      "text/plain": [
       "<tf.Tensor: id=24954, shape=(3996, 103), dtype=float64, numpy=\n",
       "array([[249.29, 123.  , 285.  , ...,   0.  ,   0.  ,   0.  ],\n",
       "       [126.11,  66.  , 116.  , ...,   0.  ,   0.  ,   1.  ],\n",
       "       [108.09,  46.1 ,  62.  , ...,   0.  ,  -2.  ,   2.  ],\n",
       "       ...,\n",
       "       [274.4 ,  26.3 , 290.  , ...,   0.  ,   0.  ,   4.  ],\n",
       "       [208.22,  69.3 , 294.  , ...,   0.  ,   0.  ,   1.  ],\n",
       "       [174.2 ,  92.4 , 180.  , ...,   0.  ,   0.  ,   0.  ]])>"
      ]
     },
     "execution_count": 244,
     "metadata": {},
     "output_type": "execute_result"
    }
   ],
   "source": [
    "tf.convert_to_tensor(X_train.values)"
   ]
  },
  {
   "cell_type": "code",
   "execution_count": 272,
   "metadata": {},
   "outputs": [
    {
     "ename": "KeyError",
     "evalue": "3995",
     "output_type": "error",
     "traceback": [
      "\u001b[0;31m---------------------------------------------------------------------------\u001b[0m",
      "\u001b[0;31mKeyError\u001b[0m                                  Traceback (most recent call last)",
      "\u001b[0;32m~/opt/anaconda3/envs/tf/lib/python3.7/site-packages/pandas/core/indexes/base.py\u001b[0m in \u001b[0;36mget_loc\u001b[0;34m(self, key, method, tolerance)\u001b[0m\n\u001b[1;32m   3360\u001b[0m             \u001b[0;32mtry\u001b[0m\u001b[0;34m:\u001b[0m\u001b[0;34m\u001b[0m\u001b[0;34m\u001b[0m\u001b[0m\n\u001b[0;32m-> 3361\u001b[0;31m                 \u001b[0;32mreturn\u001b[0m \u001b[0mself\u001b[0m\u001b[0;34m.\u001b[0m\u001b[0m_engine\u001b[0m\u001b[0;34m.\u001b[0m\u001b[0mget_loc\u001b[0m\u001b[0;34m(\u001b[0m\u001b[0mcasted_key\u001b[0m\u001b[0;34m)\u001b[0m\u001b[0;34m\u001b[0m\u001b[0;34m\u001b[0m\u001b[0m\n\u001b[0m\u001b[1;32m   3362\u001b[0m             \u001b[0;32mexcept\u001b[0m \u001b[0mKeyError\u001b[0m \u001b[0;32mas\u001b[0m \u001b[0merr\u001b[0m\u001b[0;34m:\u001b[0m\u001b[0;34m\u001b[0m\u001b[0;34m\u001b[0m\u001b[0m\n",
      "\u001b[0;32m~/opt/anaconda3/envs/tf/lib/python3.7/site-packages/pandas/_libs/index.pyx\u001b[0m in \u001b[0;36mpandas._libs.index.IndexEngine.get_loc\u001b[0;34m()\u001b[0m\n",
      "\u001b[0;32m~/opt/anaconda3/envs/tf/lib/python3.7/site-packages/pandas/_libs/index.pyx\u001b[0m in \u001b[0;36mpandas._libs.index.IndexEngine.get_loc\u001b[0;34m()\u001b[0m\n",
      "\u001b[0;32mpandas/_libs/hashtable_class_helper.pxi\u001b[0m in \u001b[0;36mpandas._libs.hashtable.PyObjectHashTable.get_item\u001b[0;34m()\u001b[0m\n",
      "\u001b[0;32mpandas/_libs/hashtable_class_helper.pxi\u001b[0m in \u001b[0;36mpandas._libs.hashtable.PyObjectHashTable.get_item\u001b[0;34m()\u001b[0m\n",
      "\u001b[0;31mKeyError\u001b[0m: 3995",
      "\nThe above exception was the direct cause of the following exception:\n",
      "\u001b[0;31mKeyError\u001b[0m                                  Traceback (most recent call last)",
      "\u001b[0;32m/var/folders/n6/36h6cpys3pb112776ltdljwc0000gn/T/ipykernel_89420/1166011405.py\u001b[0m in \u001b[0;36m<module>\u001b[0;34m\u001b[0m\n\u001b[1;32m      1\u001b[0m \u001b[0mnormalizer\u001b[0m \u001b[0;34m=\u001b[0m \u001b[0mtf\u001b[0m\u001b[0;34m.\u001b[0m\u001b[0mkeras\u001b[0m\u001b[0;34m.\u001b[0m\u001b[0mlayers\u001b[0m\u001b[0;34m.\u001b[0m\u001b[0mLayerNormalization\u001b[0m\u001b[0;34m(\u001b[0m\u001b[0;34m)\u001b[0m\u001b[0;34m\u001b[0m\u001b[0;34m\u001b[0m\u001b[0m\n\u001b[0;32m----> 2\u001b[0;31m \u001b[0mnormalizer\u001b[0m\u001b[0;34m.\u001b[0m\u001b[0mbuild\u001b[0m\u001b[0;34m(\u001b[0m\u001b[0mX_train\u001b[0m\u001b[0;34m)\u001b[0m\u001b[0;34m\u001b[0m\u001b[0;34m\u001b[0m\u001b[0m\n\u001b[0m",
      "\u001b[0;32m~/opt/anaconda3/envs/tf/lib/python3.7/site-packages/tensorflow_core/python/keras/layers/normalization.py\u001b[0m in \u001b[0;36mbuild\u001b[0;34m(self, input_shape)\u001b[0m\n\u001b[1;32m    966\u001b[0m       \u001b[0;32mraise\u001b[0m \u001b[0mValueError\u001b[0m\u001b[0;34m(\u001b[0m\u001b[0;34m'Duplicate axis: {}'\u001b[0m\u001b[0;34m.\u001b[0m\u001b[0mformat\u001b[0m\u001b[0;34m(\u001b[0m\u001b[0mtuple\u001b[0m\u001b[0;34m(\u001b[0m\u001b[0mself\u001b[0m\u001b[0;34m.\u001b[0m\u001b[0maxis\u001b[0m\u001b[0;34m)\u001b[0m\u001b[0;34m)\u001b[0m\u001b[0;34m)\u001b[0m\u001b[0;34m\u001b[0m\u001b[0;34m\u001b[0m\u001b[0m\n\u001b[1;32m    967\u001b[0m \u001b[0;34m\u001b[0m\u001b[0m\n\u001b[0;32m--> 968\u001b[0;31m     \u001b[0mparam_shape\u001b[0m \u001b[0;34m=\u001b[0m \u001b[0;34m[\u001b[0m\u001b[0minput_shape\u001b[0m\u001b[0;34m[\u001b[0m\u001b[0mdim\u001b[0m\u001b[0;34m]\u001b[0m \u001b[0;32mfor\u001b[0m \u001b[0mdim\u001b[0m \u001b[0;32min\u001b[0m \u001b[0mself\u001b[0m\u001b[0;34m.\u001b[0m\u001b[0maxis\u001b[0m\u001b[0;34m]\u001b[0m\u001b[0;34m\u001b[0m\u001b[0;34m\u001b[0m\u001b[0m\n\u001b[0m\u001b[1;32m    969\u001b[0m     \u001b[0;32mif\u001b[0m \u001b[0mself\u001b[0m\u001b[0;34m.\u001b[0m\u001b[0mscale\u001b[0m\u001b[0;34m:\u001b[0m\u001b[0;34m\u001b[0m\u001b[0;34m\u001b[0m\u001b[0m\n\u001b[1;32m    970\u001b[0m       self.gamma = self.add_weight(\n",
      "\u001b[0;32m~/opt/anaconda3/envs/tf/lib/python3.7/site-packages/tensorflow_core/python/keras/layers/normalization.py\u001b[0m in \u001b[0;36m<listcomp>\u001b[0;34m(.0)\u001b[0m\n\u001b[1;32m    966\u001b[0m       \u001b[0;32mraise\u001b[0m \u001b[0mValueError\u001b[0m\u001b[0;34m(\u001b[0m\u001b[0;34m'Duplicate axis: {}'\u001b[0m\u001b[0;34m.\u001b[0m\u001b[0mformat\u001b[0m\u001b[0;34m(\u001b[0m\u001b[0mtuple\u001b[0m\u001b[0;34m(\u001b[0m\u001b[0mself\u001b[0m\u001b[0;34m.\u001b[0m\u001b[0maxis\u001b[0m\u001b[0;34m)\u001b[0m\u001b[0;34m)\u001b[0m\u001b[0;34m)\u001b[0m\u001b[0;34m\u001b[0m\u001b[0;34m\u001b[0m\u001b[0m\n\u001b[1;32m    967\u001b[0m \u001b[0;34m\u001b[0m\u001b[0m\n\u001b[0;32m--> 968\u001b[0;31m     \u001b[0mparam_shape\u001b[0m \u001b[0;34m=\u001b[0m \u001b[0;34m[\u001b[0m\u001b[0minput_shape\u001b[0m\u001b[0;34m[\u001b[0m\u001b[0mdim\u001b[0m\u001b[0;34m]\u001b[0m \u001b[0;32mfor\u001b[0m \u001b[0mdim\u001b[0m \u001b[0;32min\u001b[0m \u001b[0mself\u001b[0m\u001b[0;34m.\u001b[0m\u001b[0maxis\u001b[0m\u001b[0;34m]\u001b[0m\u001b[0;34m\u001b[0m\u001b[0;34m\u001b[0m\u001b[0m\n\u001b[0m\u001b[1;32m    969\u001b[0m     \u001b[0;32mif\u001b[0m \u001b[0mself\u001b[0m\u001b[0;34m.\u001b[0m\u001b[0mscale\u001b[0m\u001b[0;34m:\u001b[0m\u001b[0;34m\u001b[0m\u001b[0;34m\u001b[0m\u001b[0m\n\u001b[1;32m    970\u001b[0m       self.gamma = self.add_weight(\n",
      "\u001b[0;32m~/opt/anaconda3/envs/tf/lib/python3.7/site-packages/pandas/core/frame.py\u001b[0m in \u001b[0;36m__getitem__\u001b[0;34m(self, key)\u001b[0m\n\u001b[1;32m   3456\u001b[0m             \u001b[0;32mif\u001b[0m \u001b[0mself\u001b[0m\u001b[0;34m.\u001b[0m\u001b[0mcolumns\u001b[0m\u001b[0;34m.\u001b[0m\u001b[0mnlevels\u001b[0m \u001b[0;34m>\u001b[0m \u001b[0;36m1\u001b[0m\u001b[0;34m:\u001b[0m\u001b[0;34m\u001b[0m\u001b[0;34m\u001b[0m\u001b[0m\n\u001b[1;32m   3457\u001b[0m                 \u001b[0;32mreturn\u001b[0m \u001b[0mself\u001b[0m\u001b[0;34m.\u001b[0m\u001b[0m_getitem_multilevel\u001b[0m\u001b[0;34m(\u001b[0m\u001b[0mkey\u001b[0m\u001b[0;34m)\u001b[0m\u001b[0;34m\u001b[0m\u001b[0;34m\u001b[0m\u001b[0m\n\u001b[0;32m-> 3458\u001b[0;31m             \u001b[0mindexer\u001b[0m \u001b[0;34m=\u001b[0m \u001b[0mself\u001b[0m\u001b[0;34m.\u001b[0m\u001b[0mcolumns\u001b[0m\u001b[0;34m.\u001b[0m\u001b[0mget_loc\u001b[0m\u001b[0;34m(\u001b[0m\u001b[0mkey\u001b[0m\u001b[0;34m)\u001b[0m\u001b[0;34m\u001b[0m\u001b[0;34m\u001b[0m\u001b[0m\n\u001b[0m\u001b[1;32m   3459\u001b[0m             \u001b[0;32mif\u001b[0m \u001b[0mis_integer\u001b[0m\u001b[0;34m(\u001b[0m\u001b[0mindexer\u001b[0m\u001b[0;34m)\u001b[0m\u001b[0;34m:\u001b[0m\u001b[0;34m\u001b[0m\u001b[0;34m\u001b[0m\u001b[0m\n\u001b[1;32m   3460\u001b[0m                 \u001b[0mindexer\u001b[0m \u001b[0;34m=\u001b[0m \u001b[0;34m[\u001b[0m\u001b[0mindexer\u001b[0m\u001b[0;34m]\u001b[0m\u001b[0;34m\u001b[0m\u001b[0;34m\u001b[0m\u001b[0m\n",
      "\u001b[0;32m~/opt/anaconda3/envs/tf/lib/python3.7/site-packages/pandas/core/indexes/base.py\u001b[0m in \u001b[0;36mget_loc\u001b[0;34m(self, key, method, tolerance)\u001b[0m\n\u001b[1;32m   3361\u001b[0m                 \u001b[0;32mreturn\u001b[0m \u001b[0mself\u001b[0m\u001b[0;34m.\u001b[0m\u001b[0m_engine\u001b[0m\u001b[0;34m.\u001b[0m\u001b[0mget_loc\u001b[0m\u001b[0;34m(\u001b[0m\u001b[0mcasted_key\u001b[0m\u001b[0;34m)\u001b[0m\u001b[0;34m\u001b[0m\u001b[0;34m\u001b[0m\u001b[0m\n\u001b[1;32m   3362\u001b[0m             \u001b[0;32mexcept\u001b[0m \u001b[0mKeyError\u001b[0m \u001b[0;32mas\u001b[0m \u001b[0merr\u001b[0m\u001b[0;34m:\u001b[0m\u001b[0;34m\u001b[0m\u001b[0;34m\u001b[0m\u001b[0m\n\u001b[0;32m-> 3363\u001b[0;31m                 \u001b[0;32mraise\u001b[0m \u001b[0mKeyError\u001b[0m\u001b[0;34m(\u001b[0m\u001b[0mkey\u001b[0m\u001b[0;34m)\u001b[0m \u001b[0;32mfrom\u001b[0m \u001b[0merr\u001b[0m\u001b[0;34m\u001b[0m\u001b[0;34m\u001b[0m\u001b[0m\n\u001b[0m\u001b[1;32m   3364\u001b[0m \u001b[0;34m\u001b[0m\u001b[0m\n\u001b[1;32m   3365\u001b[0m         \u001b[0;32mif\u001b[0m \u001b[0mis_scalar\u001b[0m\u001b[0;34m(\u001b[0m\u001b[0mkey\u001b[0m\u001b[0;34m)\u001b[0m \u001b[0;32mand\u001b[0m \u001b[0misna\u001b[0m\u001b[0;34m(\u001b[0m\u001b[0mkey\u001b[0m\u001b[0;34m)\u001b[0m \u001b[0;32mand\u001b[0m \u001b[0;32mnot\u001b[0m \u001b[0mself\u001b[0m\u001b[0;34m.\u001b[0m\u001b[0mhasnans\u001b[0m\u001b[0;34m:\u001b[0m\u001b[0;34m\u001b[0m\u001b[0;34m\u001b[0m\u001b[0m\n",
      "\u001b[0;31mKeyError\u001b[0m: 3995"
     ]
    }
   ],
   "source": [
    "normalizer = tf.keras.layers.LayerNormalization(axis=-1)\n",
    "normalizer.build(X_train)"
   ]
  },
  {
   "cell_type": "code",
   "execution_count": 331,
   "metadata": {},
   "outputs": [],
   "source": [
    "numeric_dataset = tf.data.Dataset.from_tensor_slices((X_train.values, y_train))"
   ]
  },
  {
   "cell_type": "code",
   "execution_count": 332,
   "metadata": {},
   "outputs": [],
   "source": [
    "numeric_batches = numeric_dataset.shuffle(1000).batch(32)"
   ]
  },
  {
   "cell_type": "code",
   "execution_count": 256,
   "metadata": {
    "scrolled": true
   },
   "outputs": [
    {
     "ename": "SyntaxError",
     "evalue": "invalid syntax (4052013867.py, line 6)",
     "output_type": "error",
     "traceback": [
      "\u001b[0;36m  File \u001b[0;32m\"/var/folders/n6/36h6cpys3pb112776ltdljwc0000gn/T/ipykernel_89420/4052013867.py\"\u001b[0;36m, line \u001b[0;32m6\u001b[0m\n\u001b[0;31m    layers.Dense(32, activation='sigmoid'),\u001b[0m\n\u001b[0m         ^\u001b[0m\n\u001b[0;31mSyntaxError\u001b[0m\u001b[0;31m:\u001b[0m invalid syntax\n"
     ]
    }
   ],
   "source": [
    "fsm = models.Sequential([\n",
    "    #layers.Reshape((1,X_train.shape[1],1)),\n",
    "    #layers.Flatten(input_shape=(3996, 103, 1)),\n",
    "    #layers.Dense(64,input_shape = (1,X_train.shape[1],1)),\n",
    "    layers.Dense()\n",
    "    layers.Dense(32, activation='sigmoid'),\n",
    "    layers.Dense(3, activation='softmax')\n",
    "])\n",
    "\n",
    "fsm.compile(\n",
    "    optimizer='SGD',\n",
    "    loss='categorical_crossentropy',\n",
    "    metrics=['accuracy', 'Recall', 'Precision', \n",
    "             'TruePositives', 'TrueNegatives',\n",
    "             'FalsePositives', 'FalseNegatives', \n",
    "             'AUC']\n",
    ")\n",
    "\n",
    "fsm.summary()"
   ]
  },
  {
   "cell_type": "code",
   "execution_count": 292,
   "metadata": {
    "scrolled": true
   },
   "outputs": [
    {
     "ename": "SyntaxError",
     "evalue": "invalid syntax (3300179985.py, line 4)",
     "output_type": "error",
     "traceback": [
      "\u001b[0;36m  File \u001b[0;32m\"/var/folders/n6/36h6cpys3pb112776ltdljwc0000gn/T/ipykernel_89420/3300179985.py\"\u001b[0;36m, line \u001b[0;32m4\u001b[0m\n\u001b[0;31m    epochs=20,\u001b[0m\n\u001b[0m         ^\u001b[0m\n\u001b[0;31mSyntaxError\u001b[0m\u001b[0;31m:\u001b[0m invalid syntax\n"
     ]
    }
   ],
   "source": [
    "# Now that the model is created, we can fit it to our training data\n",
    "\n",
    "fsm_results = fsm.fit(numeric_batches,\n",
    "                      epochs=20,\n",
    "                      batch_size=None, \n",
    "                      verbose=1,\n",
    "                      validation_split=.2)"
   ]
  },
  {
   "cell_type": "code",
   "execution_count": null,
   "metadata": {},
   "outputs": [],
   "source": [
    "model_metrics(fsm_results)"
   ]
  },
  {
   "cell_type": "code",
   "execution_count": null,
   "metadata": {},
   "outputs": [],
   "source": [
    "conf_and_rocauc(fsm)"
   ]
  },
  {
   "cell_type": "code",
   "execution_count": null,
   "metadata": {},
   "outputs": [],
   "source": [
    "fsm.evaluate(test_set)"
   ]
  },
  {
   "cell_type": "code",
   "execution_count": 334,
   "metadata": {},
   "outputs": [],
   "source": [
    "multilayer_model = models.Sequential([\n",
    "    layers.Reshape((1,X_train.shape[1],1)),\n",
    "    layers.Conv2D(filters = 32, kernel_size = (1,5),padding = 'Same',\n",
    "             activation ='relu', input_shape = (1,X_train.shape[1],1)),\n",
    "\n",
    "    layers.MaxPooling2D(pool_size = (1,6), strides=(1,2)),\n",
    "\n",
    "    layers.Flatten(),\n",
    "    layers.Dense (500, activation='relu'),\n",
    "    layers.Dense (1, activation='sigmoid')])\n",
    "    \n",
    "\n",
    "multilayer_model.compile(optimizer='SGD',\n",
    "                         loss='categorical_crossentropy',\n",
    "                         metrics=['accuracy', 'Recall', 'Precision', \n",
    "                                  'TruePositives', 'TrueNegatives', \n",
    "                                  'FalsePositives', 'FalseNegatives', \n",
    "                                  'AUC'])\n",
    "\n",
    "#multilayer_model.summary()"
   ]
  },
  {
   "cell_type": "code",
   "execution_count": 337,
   "metadata": {},
   "outputs": [
    {
     "name": "stdout",
     "output_type": "stream",
     "text": [
      "Epoch 1/200\n",
      "      1/Unknown - 0s 48ms/step"
     ]
    },
    {
     "name": "stderr",
     "output_type": "stream",
     "text": [
      "2022-05-26 14:26:47.554433: W tensorflow/core/framework/op_kernel.cc:1599] OP_REQUIRES failed at cast_op.cc:123 : Unimplemented: Cast string to float is not supported\n",
      "2022-05-26 14:26:47.554463: E tensorflow/core/common_runtime/executor.cc:642] Executor failed to create kernel. Unimplemented: Cast string to float is not supported\n",
      "\t [[{{node loss/output_1_loss/Cast}}]]\n"
     ]
    },
    {
     "ename": "UnimplementedError",
     "evalue": " Cast string to float is not supported\n\t [[node loss/output_1_loss/Cast (defined at Users/meiralelov/opt/anaconda3/envs/tf/lib/python3.7/site-packages/tensorflow_core/python/framework/ops.py:1751) ]] [Op:__inference_distributed_function_57026]\n\nFunction call stack:\ndistributed_function\n",
     "output_type": "error",
     "traceback": [
      "\u001b[0;31m---------------------------------------------------------------------------\u001b[0m",
      "\u001b[0;31mUnimplementedError\u001b[0m                        Traceback (most recent call last)",
      "\u001b[0;32m/var/folders/n6/36h6cpys3pb112776ltdljwc0000gn/T/ipykernel_89420/794320082.py\u001b[0m in \u001b[0;36m<module>\u001b[0;34m\u001b[0m\n\u001b[1;32m      3\u001b[0m                                                 \u001b[0mepochs\u001b[0m\u001b[0;34m=\u001b[0m\u001b[0;36m200\u001b[0m\u001b[0;34m,\u001b[0m\u001b[0;34m\u001b[0m\u001b[0;34m\u001b[0m\u001b[0m\n\u001b[1;32m      4\u001b[0m                                                 \u001b[0mbatch_size\u001b[0m\u001b[0;34m=\u001b[0m\u001b[0;32mNone\u001b[0m\u001b[0;34m,\u001b[0m\u001b[0;34m\u001b[0m\u001b[0;34m\u001b[0m\u001b[0m\n\u001b[0;32m----> 5\u001b[0;31m                                                 verbose=1)\n\u001b[0m\u001b[1;32m      6\u001b[0m                                                 \u001b[0;31m#validation_split=.2)\u001b[0m\u001b[0;34m\u001b[0m\u001b[0;34m\u001b[0m\u001b[0;34m\u001b[0m\u001b[0m\n",
      "\u001b[0;32m~/opt/anaconda3/envs/tf/lib/python3.7/site-packages/tensorflow_core/python/keras/engine/training.py\u001b[0m in \u001b[0;36mfit\u001b[0;34m(self, x, y, batch_size, epochs, verbose, callbacks, validation_split, validation_data, shuffle, class_weight, sample_weight, initial_epoch, steps_per_epoch, validation_steps, validation_freq, max_queue_size, workers, use_multiprocessing, **kwargs)\u001b[0m\n\u001b[1;32m    726\u001b[0m         \u001b[0mmax_queue_size\u001b[0m\u001b[0;34m=\u001b[0m\u001b[0mmax_queue_size\u001b[0m\u001b[0;34m,\u001b[0m\u001b[0;34m\u001b[0m\u001b[0;34m\u001b[0m\u001b[0m\n\u001b[1;32m    727\u001b[0m         \u001b[0mworkers\u001b[0m\u001b[0;34m=\u001b[0m\u001b[0mworkers\u001b[0m\u001b[0;34m,\u001b[0m\u001b[0;34m\u001b[0m\u001b[0;34m\u001b[0m\u001b[0m\n\u001b[0;32m--> 728\u001b[0;31m         use_multiprocessing=use_multiprocessing)\n\u001b[0m\u001b[1;32m    729\u001b[0m \u001b[0;34m\u001b[0m\u001b[0m\n\u001b[1;32m    730\u001b[0m   def evaluate(self,\n",
      "\u001b[0;32m~/opt/anaconda3/envs/tf/lib/python3.7/site-packages/tensorflow_core/python/keras/engine/training_v2.py\u001b[0m in \u001b[0;36mfit\u001b[0;34m(self, model, x, y, batch_size, epochs, verbose, callbacks, validation_split, validation_data, shuffle, class_weight, sample_weight, initial_epoch, steps_per_epoch, validation_steps, validation_freq, **kwargs)\u001b[0m\n\u001b[1;32m    322\u001b[0m                 \u001b[0mmode\u001b[0m\u001b[0;34m=\u001b[0m\u001b[0mModeKeys\u001b[0m\u001b[0;34m.\u001b[0m\u001b[0mTRAIN\u001b[0m\u001b[0;34m,\u001b[0m\u001b[0;34m\u001b[0m\u001b[0;34m\u001b[0m\u001b[0m\n\u001b[1;32m    323\u001b[0m                 \u001b[0mtraining_context\u001b[0m\u001b[0;34m=\u001b[0m\u001b[0mtraining_context\u001b[0m\u001b[0;34m,\u001b[0m\u001b[0;34m\u001b[0m\u001b[0;34m\u001b[0m\u001b[0m\n\u001b[0;32m--> 324\u001b[0;31m                 total_epochs=epochs)\n\u001b[0m\u001b[1;32m    325\u001b[0m             \u001b[0mcbks\u001b[0m\u001b[0;34m.\u001b[0m\u001b[0mmake_logs\u001b[0m\u001b[0;34m(\u001b[0m\u001b[0mmodel\u001b[0m\u001b[0;34m,\u001b[0m \u001b[0mepoch_logs\u001b[0m\u001b[0;34m,\u001b[0m \u001b[0mtraining_result\u001b[0m\u001b[0;34m,\u001b[0m \u001b[0mModeKeys\u001b[0m\u001b[0;34m.\u001b[0m\u001b[0mTRAIN\u001b[0m\u001b[0;34m)\u001b[0m\u001b[0;34m\u001b[0m\u001b[0;34m\u001b[0m\u001b[0m\n\u001b[1;32m    326\u001b[0m \u001b[0;34m\u001b[0m\u001b[0m\n",
      "\u001b[0;32m~/opt/anaconda3/envs/tf/lib/python3.7/site-packages/tensorflow_core/python/keras/engine/training_v2.py\u001b[0m in \u001b[0;36mrun_one_epoch\u001b[0;34m(model, iterator, execution_function, dataset_size, batch_size, strategy, steps_per_epoch, num_samples, mode, training_context, total_epochs)\u001b[0m\n\u001b[1;32m    121\u001b[0m         step=step, mode=mode, size=current_batch_size) as batch_logs:\n\u001b[1;32m    122\u001b[0m       \u001b[0;32mtry\u001b[0m\u001b[0;34m:\u001b[0m\u001b[0;34m\u001b[0m\u001b[0;34m\u001b[0m\u001b[0m\n\u001b[0;32m--> 123\u001b[0;31m         \u001b[0mbatch_outs\u001b[0m \u001b[0;34m=\u001b[0m \u001b[0mexecution_function\u001b[0m\u001b[0;34m(\u001b[0m\u001b[0miterator\u001b[0m\u001b[0;34m)\u001b[0m\u001b[0;34m\u001b[0m\u001b[0;34m\u001b[0m\u001b[0m\n\u001b[0m\u001b[1;32m    124\u001b[0m       \u001b[0;32mexcept\u001b[0m \u001b[0;34m(\u001b[0m\u001b[0mStopIteration\u001b[0m\u001b[0;34m,\u001b[0m \u001b[0merrors\u001b[0m\u001b[0;34m.\u001b[0m\u001b[0mOutOfRangeError\u001b[0m\u001b[0;34m)\u001b[0m\u001b[0;34m:\u001b[0m\u001b[0;34m\u001b[0m\u001b[0;34m\u001b[0m\u001b[0m\n\u001b[1;32m    125\u001b[0m         \u001b[0;31m# TODO(kaftan): File bug about tf function and errors.OutOfRangeError?\u001b[0m\u001b[0;34m\u001b[0m\u001b[0;34m\u001b[0m\u001b[0;34m\u001b[0m\u001b[0m\n",
      "\u001b[0;32m~/opt/anaconda3/envs/tf/lib/python3.7/site-packages/tensorflow_core/python/keras/engine/training_v2_utils.py\u001b[0m in \u001b[0;36mexecution_function\u001b[0;34m(input_fn)\u001b[0m\n\u001b[1;32m     84\u001b[0m     \u001b[0;31m# `numpy` translates Tensors to values in Eager mode.\u001b[0m\u001b[0;34m\u001b[0m\u001b[0;34m\u001b[0m\u001b[0;34m\u001b[0m\u001b[0m\n\u001b[1;32m     85\u001b[0m     return nest.map_structure(_non_none_constant_value,\n\u001b[0;32m---> 86\u001b[0;31m                               distributed_function(input_fn))\n\u001b[0m\u001b[1;32m     87\u001b[0m \u001b[0;34m\u001b[0m\u001b[0m\n\u001b[1;32m     88\u001b[0m   \u001b[0;32mreturn\u001b[0m \u001b[0mexecution_function\u001b[0m\u001b[0;34m\u001b[0m\u001b[0;34m\u001b[0m\u001b[0m\n",
      "\u001b[0;32m~/opt/anaconda3/envs/tf/lib/python3.7/site-packages/tensorflow_core/python/eager/def_function.py\u001b[0m in \u001b[0;36m__call__\u001b[0;34m(self, *args, **kwds)\u001b[0m\n\u001b[1;32m    455\u001b[0m \u001b[0;34m\u001b[0m\u001b[0m\n\u001b[1;32m    456\u001b[0m     \u001b[0mtracing_count\u001b[0m \u001b[0;34m=\u001b[0m \u001b[0mself\u001b[0m\u001b[0;34m.\u001b[0m\u001b[0m_get_tracing_count\u001b[0m\u001b[0;34m(\u001b[0m\u001b[0;34m)\u001b[0m\u001b[0;34m\u001b[0m\u001b[0;34m\u001b[0m\u001b[0m\n\u001b[0;32m--> 457\u001b[0;31m     \u001b[0mresult\u001b[0m \u001b[0;34m=\u001b[0m \u001b[0mself\u001b[0m\u001b[0;34m.\u001b[0m\u001b[0m_call\u001b[0m\u001b[0;34m(\u001b[0m\u001b[0;34m*\u001b[0m\u001b[0margs\u001b[0m\u001b[0;34m,\u001b[0m \u001b[0;34m**\u001b[0m\u001b[0mkwds\u001b[0m\u001b[0;34m)\u001b[0m\u001b[0;34m\u001b[0m\u001b[0;34m\u001b[0m\u001b[0m\n\u001b[0m\u001b[1;32m    458\u001b[0m     \u001b[0;32mif\u001b[0m \u001b[0mtracing_count\u001b[0m \u001b[0;34m==\u001b[0m \u001b[0mself\u001b[0m\u001b[0;34m.\u001b[0m\u001b[0m_get_tracing_count\u001b[0m\u001b[0;34m(\u001b[0m\u001b[0;34m)\u001b[0m\u001b[0;34m:\u001b[0m\u001b[0;34m\u001b[0m\u001b[0;34m\u001b[0m\u001b[0m\n\u001b[1;32m    459\u001b[0m       \u001b[0mself\u001b[0m\u001b[0;34m.\u001b[0m\u001b[0m_call_counter\u001b[0m\u001b[0;34m.\u001b[0m\u001b[0mcalled_without_tracing\u001b[0m\u001b[0;34m(\u001b[0m\u001b[0;34m)\u001b[0m\u001b[0;34m\u001b[0m\u001b[0;34m\u001b[0m\u001b[0m\n",
      "\u001b[0;32m~/opt/anaconda3/envs/tf/lib/python3.7/site-packages/tensorflow_core/python/eager/def_function.py\u001b[0m in \u001b[0;36m_call\u001b[0;34m(self, *args, **kwds)\u001b[0m\n\u001b[1;32m    485\u001b[0m       \u001b[0;31m# In this case we have created variables on the first call, so we run the\u001b[0m\u001b[0;34m\u001b[0m\u001b[0;34m\u001b[0m\u001b[0;34m\u001b[0m\u001b[0m\n\u001b[1;32m    486\u001b[0m       \u001b[0;31m# defunned version which is guaranteed to never create variables.\u001b[0m\u001b[0;34m\u001b[0m\u001b[0;34m\u001b[0m\u001b[0;34m\u001b[0m\u001b[0m\n\u001b[0;32m--> 487\u001b[0;31m       \u001b[0;32mreturn\u001b[0m \u001b[0mself\u001b[0m\u001b[0;34m.\u001b[0m\u001b[0m_stateless_fn\u001b[0m\u001b[0;34m(\u001b[0m\u001b[0;34m*\u001b[0m\u001b[0margs\u001b[0m\u001b[0;34m,\u001b[0m \u001b[0;34m**\u001b[0m\u001b[0mkwds\u001b[0m\u001b[0;34m)\u001b[0m  \u001b[0;31m# pylint: disable=not-callable\u001b[0m\u001b[0;34m\u001b[0m\u001b[0;34m\u001b[0m\u001b[0m\n\u001b[0m\u001b[1;32m    488\u001b[0m     \u001b[0;32melif\u001b[0m \u001b[0mself\u001b[0m\u001b[0;34m.\u001b[0m\u001b[0m_stateful_fn\u001b[0m \u001b[0;32mis\u001b[0m \u001b[0;32mnot\u001b[0m \u001b[0;32mNone\u001b[0m\u001b[0;34m:\u001b[0m\u001b[0;34m\u001b[0m\u001b[0;34m\u001b[0m\u001b[0m\n\u001b[1;32m    489\u001b[0m       \u001b[0;31m# Release the lock early so that multiple threads can perform the call\u001b[0m\u001b[0;34m\u001b[0m\u001b[0;34m\u001b[0m\u001b[0;34m\u001b[0m\u001b[0m\n",
      "\u001b[0;32m~/opt/anaconda3/envs/tf/lib/python3.7/site-packages/tensorflow_core/python/eager/function.py\u001b[0m in \u001b[0;36m__call__\u001b[0;34m(self, *args, **kwargs)\u001b[0m\n\u001b[1;32m   1821\u001b[0m     \u001b[0;34m\"\"\"Calls a graph function specialized to the inputs.\"\"\"\u001b[0m\u001b[0;34m\u001b[0m\u001b[0;34m\u001b[0m\u001b[0m\n\u001b[1;32m   1822\u001b[0m     \u001b[0mgraph_function\u001b[0m\u001b[0;34m,\u001b[0m \u001b[0margs\u001b[0m\u001b[0;34m,\u001b[0m \u001b[0mkwargs\u001b[0m \u001b[0;34m=\u001b[0m \u001b[0mself\u001b[0m\u001b[0;34m.\u001b[0m\u001b[0m_maybe_define_function\u001b[0m\u001b[0;34m(\u001b[0m\u001b[0margs\u001b[0m\u001b[0;34m,\u001b[0m \u001b[0mkwargs\u001b[0m\u001b[0;34m)\u001b[0m\u001b[0;34m\u001b[0m\u001b[0;34m\u001b[0m\u001b[0m\n\u001b[0;32m-> 1823\u001b[0;31m     \u001b[0;32mreturn\u001b[0m \u001b[0mgraph_function\u001b[0m\u001b[0;34m.\u001b[0m\u001b[0m_filtered_call\u001b[0m\u001b[0;34m(\u001b[0m\u001b[0margs\u001b[0m\u001b[0;34m,\u001b[0m \u001b[0mkwargs\u001b[0m\u001b[0;34m)\u001b[0m  \u001b[0;31m# pylint: disable=protected-access\u001b[0m\u001b[0;34m\u001b[0m\u001b[0;34m\u001b[0m\u001b[0m\n\u001b[0m\u001b[1;32m   1824\u001b[0m \u001b[0;34m\u001b[0m\u001b[0m\n\u001b[1;32m   1825\u001b[0m   \u001b[0;34m@\u001b[0m\u001b[0mproperty\u001b[0m\u001b[0;34m\u001b[0m\u001b[0;34m\u001b[0m\u001b[0m\n",
      "\u001b[0;32m~/opt/anaconda3/envs/tf/lib/python3.7/site-packages/tensorflow_core/python/eager/function.py\u001b[0m in \u001b[0;36m_filtered_call\u001b[0;34m(self, args, kwargs)\u001b[0m\n\u001b[1;32m   1139\u001b[0m          if isinstance(t, (ops.Tensor,\n\u001b[1;32m   1140\u001b[0m                            resource_variable_ops.BaseResourceVariable))),\n\u001b[0;32m-> 1141\u001b[0;31m         self.captured_inputs)\n\u001b[0m\u001b[1;32m   1142\u001b[0m \u001b[0;34m\u001b[0m\u001b[0m\n\u001b[1;32m   1143\u001b[0m   \u001b[0;32mdef\u001b[0m \u001b[0m_call_flat\u001b[0m\u001b[0;34m(\u001b[0m\u001b[0mself\u001b[0m\u001b[0;34m,\u001b[0m \u001b[0margs\u001b[0m\u001b[0;34m,\u001b[0m \u001b[0mcaptured_inputs\u001b[0m\u001b[0;34m,\u001b[0m \u001b[0mcancellation_manager\u001b[0m\u001b[0;34m=\u001b[0m\u001b[0;32mNone\u001b[0m\u001b[0;34m)\u001b[0m\u001b[0;34m:\u001b[0m\u001b[0;34m\u001b[0m\u001b[0;34m\u001b[0m\u001b[0m\n",
      "\u001b[0;32m~/opt/anaconda3/envs/tf/lib/python3.7/site-packages/tensorflow_core/python/eager/function.py\u001b[0m in \u001b[0;36m_call_flat\u001b[0;34m(self, args, captured_inputs, cancellation_manager)\u001b[0m\n\u001b[1;32m   1222\u001b[0m     \u001b[0;32mif\u001b[0m \u001b[0mexecuting_eagerly\u001b[0m\u001b[0;34m:\u001b[0m\u001b[0;34m\u001b[0m\u001b[0;34m\u001b[0m\u001b[0m\n\u001b[1;32m   1223\u001b[0m       flat_outputs = forward_function.call(\n\u001b[0;32m-> 1224\u001b[0;31m           ctx, args, cancellation_manager=cancellation_manager)\n\u001b[0m\u001b[1;32m   1225\u001b[0m     \u001b[0;32melse\u001b[0m\u001b[0;34m:\u001b[0m\u001b[0;34m\u001b[0m\u001b[0;34m\u001b[0m\u001b[0m\n\u001b[1;32m   1226\u001b[0m       \u001b[0mgradient_name\u001b[0m \u001b[0;34m=\u001b[0m \u001b[0mself\u001b[0m\u001b[0;34m.\u001b[0m\u001b[0m_delayed_rewrite_functions\u001b[0m\u001b[0;34m.\u001b[0m\u001b[0mregister\u001b[0m\u001b[0;34m(\u001b[0m\u001b[0;34m)\u001b[0m\u001b[0;34m\u001b[0m\u001b[0;34m\u001b[0m\u001b[0m\n",
      "\u001b[0;32m~/opt/anaconda3/envs/tf/lib/python3.7/site-packages/tensorflow_core/python/eager/function.py\u001b[0m in \u001b[0;36mcall\u001b[0;34m(self, ctx, args, cancellation_manager)\u001b[0m\n\u001b[1;32m    509\u001b[0m               \u001b[0minputs\u001b[0m\u001b[0;34m=\u001b[0m\u001b[0margs\u001b[0m\u001b[0;34m,\u001b[0m\u001b[0;34m\u001b[0m\u001b[0;34m\u001b[0m\u001b[0m\n\u001b[1;32m    510\u001b[0m               \u001b[0mattrs\u001b[0m\u001b[0;34m=\u001b[0m\u001b[0;34m(\u001b[0m\u001b[0;34m\"executor_type\"\u001b[0m\u001b[0;34m,\u001b[0m \u001b[0mexecutor_type\u001b[0m\u001b[0;34m,\u001b[0m \u001b[0;34m\"config_proto\"\u001b[0m\u001b[0;34m,\u001b[0m \u001b[0mconfig\u001b[0m\u001b[0;34m)\u001b[0m\u001b[0;34m,\u001b[0m\u001b[0;34m\u001b[0m\u001b[0;34m\u001b[0m\u001b[0m\n\u001b[0;32m--> 511\u001b[0;31m               ctx=ctx)\n\u001b[0m\u001b[1;32m    512\u001b[0m         \u001b[0;32melse\u001b[0m\u001b[0;34m:\u001b[0m\u001b[0;34m\u001b[0m\u001b[0;34m\u001b[0m\u001b[0m\n\u001b[1;32m    513\u001b[0m           outputs = execute.execute_with_cancellation(\n",
      "\u001b[0;32m~/opt/anaconda3/envs/tf/lib/python3.7/site-packages/tensorflow_core/python/eager/execute.py\u001b[0m in \u001b[0;36mquick_execute\u001b[0;34m(op_name, num_outputs, inputs, attrs, ctx, name)\u001b[0m\n\u001b[1;32m     65\u001b[0m     \u001b[0;32melse\u001b[0m\u001b[0;34m:\u001b[0m\u001b[0;34m\u001b[0m\u001b[0;34m\u001b[0m\u001b[0m\n\u001b[1;32m     66\u001b[0m       \u001b[0mmessage\u001b[0m \u001b[0;34m=\u001b[0m \u001b[0me\u001b[0m\u001b[0;34m.\u001b[0m\u001b[0mmessage\u001b[0m\u001b[0;34m\u001b[0m\u001b[0;34m\u001b[0m\u001b[0m\n\u001b[0;32m---> 67\u001b[0;31m     \u001b[0msix\u001b[0m\u001b[0;34m.\u001b[0m\u001b[0mraise_from\u001b[0m\u001b[0;34m(\u001b[0m\u001b[0mcore\u001b[0m\u001b[0;34m.\u001b[0m\u001b[0m_status_to_exception\u001b[0m\u001b[0;34m(\u001b[0m\u001b[0me\u001b[0m\u001b[0;34m.\u001b[0m\u001b[0mcode\u001b[0m\u001b[0;34m,\u001b[0m \u001b[0mmessage\u001b[0m\u001b[0;34m)\u001b[0m\u001b[0;34m,\u001b[0m \u001b[0;32mNone\u001b[0m\u001b[0;34m)\u001b[0m\u001b[0;34m\u001b[0m\u001b[0;34m\u001b[0m\u001b[0m\n\u001b[0m\u001b[1;32m     68\u001b[0m   \u001b[0;32mexcept\u001b[0m \u001b[0mTypeError\u001b[0m \u001b[0;32mas\u001b[0m \u001b[0me\u001b[0m\u001b[0;34m:\u001b[0m\u001b[0;34m\u001b[0m\u001b[0;34m\u001b[0m\u001b[0m\n\u001b[1;32m     69\u001b[0m     keras_symbolic_tensors = [\n",
      "\u001b[0;32m~/opt/anaconda3/envs/tf/lib/python3.7/site-packages/six.py\u001b[0m in \u001b[0;36mraise_from\u001b[0;34m(value, from_value)\u001b[0m\n",
      "\u001b[0;31mUnimplementedError\u001b[0m:  Cast string to float is not supported\n\t [[node loss/output_1_loss/Cast (defined at Users/meiralelov/opt/anaconda3/envs/tf/lib/python3.7/site-packages/tensorflow_core/python/framework/ops.py:1751) ]] [Op:__inference_distributed_function_57026]\n\nFunction call stack:\ndistributed_function\n"
     ]
    }
   ],
   "source": [
    "tf.keras.backend.set_floatx('float64')\n",
    "multilayer_model_results = multilayer_model.fit(numeric_batches,\n",
    "                                                epochs=200,\n",
    "                                                batch_size=None, \n",
    "                                                verbose=1)\n",
    "                                                #validation_split=.2)"
   ]
  },
  {
   "cell_type": "markdown",
   "metadata": {},
   "source": [
    "#### Multilayer Model"
   ]
  },
  {
   "cell_type": "code",
   "execution_count": null,
   "metadata": {},
   "outputs": [],
   "source": [
    "multilayer_model = models.Sequential([\n",
    "    layers.Flatten(input_shape=(128, 128, 1)),\n",
    "    layers.Dense(32, activation='relu', kernel_regularizer=regularizers.l2(0.001)),\n",
    "    layers.Dense(12, activation='relu', kernel_regularizer=regularizers.l2(0.001)),\n",
    "    layers.Dense(8, activation='relu', kernel_regularizer=regularizers.l2(0.001)),\n",
    "    layers.Dense(1, activation='sigmoid')\n",
    "])\n",
    "\n",
    "multilayer_model.compile(optimizer='SGD',\n",
    "                         loss='binary_crossentropy',\n",
    "                         metrics=['accuracy', 'Recall', 'Precision', \n",
    "                                  'TruePositives', 'TrueNegatives', \n",
    "                                  'FalsePositives', 'FalseNegatives', \n",
    "                                  'AUC'])\n",
    "\n",
    "multilayer_model.summary()"
   ]
  },
  {
   "cell_type": "code",
   "execution_count": null,
   "metadata": {},
   "outputs": [],
   "source": [
    "multilayer_model_results = multilayer_model.fit(train_set_aug, \n",
    "                                                epochs=200,\n",
    "                                                batch_size=None, \n",
    "                                                verbose=1, \n",
    "                                                validation_data=validation_set_aug)"
   ]
  },
  {
   "cell_type": "code",
   "execution_count": null,
   "metadata": {},
   "outputs": [],
   "source": [
    "model_metrics(multilayer_model_results)"
   ]
  },
  {
   "cell_type": "code",
   "execution_count": null,
   "metadata": {},
   "outputs": [],
   "source": [
    "conf_and_rocauc(multilayer_model)"
   ]
  },
  {
   "cell_type": "markdown",
   "metadata": {},
   "source": [
    "#### Convolutional Neural Networks Model"
   ]
  },
  {
   "cell_type": "code",
   "execution_count": null,
   "metadata": {},
   "outputs": [],
   "source": [
    "deep_cnn = models.Sequential([\n",
    "    layers.Conv2D(64, (3, 3), activation='relu', input_shape=(128, 128, 1)),\n",
    "    layers.MaxPooling2D((2, 2)),\n",
    "    layers.Conv2D(64, (3, 3), activation='relu'),\n",
    "    layers.MaxPooling2D((2, 2)),\n",
    "    layers.Flatten(),\n",
    "    layers.Dense(32, activation='relu', kernel_regularizer=regularizers.l2(0.001)),\n",
    "    layers.Dense(12, activation='relu', kernel_regularizer=regularizers.l2(0.001)),\n",
    "    layers.Dense(8, activation='relu', kernel_regularizer=regularizers.l2(0.001)),\n",
    "    layers.Dense(1, activation='sigmoid')\n",
    "])\n",
    "\n",
    "deep_cnn.compile(optimizer='SGD',\n",
    "                 loss='binary_crossentropy',\n",
    "                 metrics=['accuracy', 'Recall', 'Precision', \n",
    "                          'TruePositives', 'TrueNegatives', \n",
    "                          'FalsePositives', 'FalseNegatives', \n",
    "                          'AUC'])\n",
    "\n",
    "deep_cnn.summary()"
   ]
  },
  {
   "cell_type": "code",
   "execution_count": null,
   "metadata": {},
   "outputs": [],
   "source": [
    "deep_cnn_results = deep_cnn.fit(train_set_aug, \n",
    "                                epochs=200, \n",
    "                                batch_size=None, \n",
    "                                validation_data=validation_set_aug)"
   ]
  },
  {
   "cell_type": "code",
   "execution_count": null,
   "metadata": {},
   "outputs": [],
   "source": [
    "model_metrics(deep_cnn_results)"
   ]
  },
  {
   "cell_type": "code",
   "execution_count": null,
   "metadata": {},
   "outputs": [],
   "source": [
    "conf_and_rocauc(deep_cnn)"
   ]
  },
  {
   "cell_type": "markdown",
   "metadata": {},
   "source": [
    "#### Update CNN with Dropout"
   ]
  },
  {
   "cell_type": "code",
   "execution_count": null,
   "metadata": {},
   "outputs": [],
   "source": [
    "deep_cnn_updated = models.Sequential([\n",
    "    layers.Conv2D(64, (3, 3), activation='relu', input_shape=(128, 128, 1)),\n",
    "    layers.MaxPooling2D((2, 2)),\n",
    "    layers.Dropout(0.25),\n",
    "    layers.Conv2D(64, (3, 3), activation='relu'),\n",
    "    layers.MaxPooling2D((2, 2)),\n",
    "    layers.Dropout(0.25),\n",
    "    layers.Flatten(),\n",
    "    layers.Dense(32, activation='relu', kernel_regularizer=regularizers.l2(0.001)),\n",
    "    layers.Dense(12, activation='relu', kernel_regularizer=regularizers.l2(0.001)),\n",
    "    layers.Dropout(0.25),\n",
    "    layers.Dense(8, activation='relu', kernel_regularizer=regularizers.l2(0.001)),\n",
    "    layers.Dense(1, activation='sigmoid')\n",
    "])\n",
    "\n",
    "deep_cnn_updated.compile(optimizer='SGD',\n",
    "                 loss='binary_crossentropy',\n",
    "                 metrics=['accuracy', 'Recall', 'Precision', 'TruePositives', 'TrueNegatives', 'FalsePositives', 'FalseNegatives', 'AUC'])"
   ]
  },
  {
   "cell_type": "code",
   "execution_count": null,
   "metadata": {},
   "outputs": [],
   "source": [
    "deep_cnn_updated_results = deep_cnn_updated.fit(train_set_aug, \n",
    "                                                epochs=200, \n",
    "                                                batch_size=None, \n",
    "                                                validation_data=validation_set_aug)\n",
    "\n",
    "deep_cnn_updated.summary()"
   ]
  },
  {
   "cell_type": "code",
   "execution_count": null,
   "metadata": {},
   "outputs": [],
   "source": [
    "model_metrics_from_dataframe(deep_cnn_updated_history)"
   ]
  },
  {
   "cell_type": "code",
   "execution_count": null,
   "metadata": {},
   "outputs": [],
   "source": [
    "conf_and_rocauc(deep_cnn_updated)"
   ]
  },
  {
   "cell_type": "code",
   "execution_count": null,
   "metadata": {},
   "outputs": [],
   "source": [
    "deep_cnn_updated.evaluate(test_set)"
   ]
  },
  {
   "cell_type": "markdown",
   "metadata": {},
   "source": [
    "### Grid Search"
   ]
  },
  {
   "cell_type": "code",
   "execution_count": 53,
   "metadata": {},
   "outputs": [
    {
     "name": "stdout",
     "output_type": "stream",
     "text": [
      "Fitting 5 folds for each of 9 candidates, totalling 45 fits\n"
     ]
    },
    {
     "data": {
      "text/plain": [
       "GridSearchCV(cv=5,\n",
       "             estimator=Pipeline(steps=[('ct',\n",
       "                                        ColumnTransformer(transformers=[('subpipe_num',\n",
       "                                                                         Pipeline(steps=[('get_num',\n",
       "                                                                                          FunctionTransformer(func=<function grab_numeric_rt at 0x7f9c09b5cef0>)),\n",
       "                                                                                         ('ss',\n",
       "                                                                                          StandardScaler())]),\n",
       "                                                                         Index(['MolecularWeight', 'TPSA', 'Complexity', 'HBondDonorCount',\n",
       "       'HBondAcceptorCount', 'RotatableBondCount', 'HeavyAtomCount', 'H', 'He',\n",
       "       'Li',\n",
       "       ...\n",
       "       'At', 'Rn', 'Fr', 'Ra', 'Ac', 'Th', 'Pa', 'U', 'FCharge', 'XLogP_qcut'],\n",
       "      dtype='object', length=103))])),\n",
       "                                       ('rfc',\n",
       "                                        RandomForestClassifier(max_depth=13,\n",
       "                                                               random_state=42))]),\n",
       "             n_jobs=-1,\n",
       "             param_grid={'rfc__max_depth': [7, 10, 13],\n",
       "                         'rfc__n_estimators': [100, 125, 150]},\n",
       "             verbose=3)"
      ]
     },
     "execution_count": 53,
     "metadata": {},
     "output_type": "execute_result"
    }
   ],
   "source": [
    "params_rfc = {\n",
    "    'rfc__n_estimators' : [100, 125, 150],\n",
    "    'rfc__max_depth' : [7, 10, 13],\n",
    "    #'rfc__max_leaf_nodes' : [599, 600, 601],\n",
    "    #'rfc__criterion' : ['gini', 'entropy']}\n",
    "}\n",
    "\n",
    "gs_rfc = GridSearchCV(rfc_model_pipe, params_rfc, n_jobs=-1, cv=5, verbose=3)\n",
    "\n",
    "gs_rfc.fit(X_train, y_train)\n",
    "\n",
    "#n estimators 100 125 150\n",
    "#max depth 5 7 10\n",
    "#that's it\n",
    "#use xgboost "
   ]
  },
  {
   "cell_type": "code",
   "execution_count": 54,
   "metadata": {},
   "outputs": [
    {
     "data": {
      "text/plain": [
       "{'rfc__max_depth': 13, 'rfc__n_estimators': 150}"
      ]
     },
     "execution_count": 54,
     "metadata": {},
     "output_type": "execute_result"
    }
   ],
   "source": [
    "gs_rfc.best_params_"
   ]
  },
  {
   "cell_type": "code",
   "execution_count": 55,
   "metadata": {},
   "outputs": [
    {
     "data": {
      "text/plain": [
       "0.8335860450563203"
      ]
     },
     "execution_count": 55,
     "metadata": {},
     "output_type": "execute_result"
    }
   ],
   "source": [
    "gs_rfc.best_score_"
   ]
  },
  {
   "cell_type": "code",
   "execution_count": 56,
   "metadata": {},
   "outputs": [],
   "source": [
    "final_rt_model_pipe = gs_rfc.best_estimator_"
   ]
  },
  {
   "cell_type": "markdown",
   "metadata": {},
   "source": [
    "## Role Type Classification Evaluation"
   ]
  },
  {
   "cell_type": "markdown",
   "metadata": {},
   "source": [
    "### Final Role Type Model"
   ]
  },
  {
   "cell_type": "code",
   "execution_count": 57,
   "metadata": {},
   "outputs": [],
   "source": [
    "final_rt_model_pipe.fit(X_train, y_train)\n",
    "\n",
    "final_rt_pipe = ModelWithCV(model=final_rt_model_pipe,\n",
    "                         model_name='final_pipe',\n",
    "                         X=X_train,\n",
    "                         y=y_train)"
   ]
  },
  {
   "cell_type": "code",
   "execution_count": 58,
   "metadata": {},
   "outputs": [
    {
     "name": "stdout",
     "output_type": "stream",
     "text": [
      "CV Results for `final_pipe` model:\n",
      "            0.83685 ± 0.02150 accuracy\n",
      "        \n",
      " Train: 0.924924924924925\n",
      " Test: 0.8402100525131283\n"
     ]
    },
    {
     "data": {
      "image/png": "[encoded data removed]",
      "text/plain": [
       "<Figure size 432x288 with 1 Axes>"
      ]
     },
     "metadata": {
      "needs_background": "light"
     },
     "output_type": "display_data"
    }
   ],
   "source": [
    "fig, ax = plt.subplots()\n",
    "\n",
    "final_rt_pipe.plot_cv(ax=ax);\n",
    "\n",
    "final_rt_pipe.print_cv_summary()\n",
    "\n",
    "train_score = final_rt_model_pipe.score(X_train, y_train)\n",
    "test_score = final_rt_model_pipe.score(X_test, y_test)\n",
    "#score default is accuracy for a classifier\n",
    "\n",
    "print(f' Train: {train_score}')\n",
    "print(f' Test: {test_score}')"
   ]
  },
  {
   "cell_type": "code",
   "execution_count": 59,
   "metadata": {
    "scrolled": false
   },
   "outputs": [
    {
     "name": "stderr",
     "output_type": "stream",
     "text": [
      "/Users/meiralelov/opt/anaconda3/envs/tf/lib/python3.7/site-packages/sklearn/utils/deprecation.py:87: FutureWarning: Function plot_confusion_matrix is deprecated; Function `plot_confusion_matrix` is deprecated in 1.0 and will be removed in 1.2. Use one of the class methods: ConfusionMatrixDisplay.from_predictions or ConfusionMatrixDisplay.from_estimator.\n",
      "  warnings.warn(msg, category=FutureWarning)\n",
      "/Users/meiralelov/opt/anaconda3/envs/tf/lib/python3.7/site-packages/sklearn/utils/deprecation.py:87: FutureWarning: Function plot_confusion_matrix is deprecated; Function `plot_confusion_matrix` is deprecated in 1.0 and will be removed in 1.2. Use one of the class methods: ConfusionMatrixDisplay.from_predictions or ConfusionMatrixDisplay.from_estimator.\n",
      "  warnings.warn(msg, category=FutureWarning)\n"
     ]
    },
    {
     "data": {
      "image/png": "[encoded data removed]",
      "text/plain": [
       "<Figure size 432x288 with 2 Axes>"
      ]
     },
     "metadata": {
      "needs_background": "light"
     },
     "output_type": "display_data"
    },
    {
     "data": {
      "image/png": "[encoded data removed]",
      "text/plain": [
       "<Figure size 432x288 with 2 Axes>"
      ]
     },
     "metadata": {
      "needs_background": "light"
     },
     "output_type": "display_data"
    }
   ],
   "source": [
    "fig, ax = plt.subplots()\n",
    "\n",
    "fig.suptitle(\"Final Model\")\n",
    "\n",
    "plot_confusion_matrix(final_rt_model_pipe, X_train, y_train, ax=ax, cmap=\"plasma\");\n",
    "\n",
    "plot_confusion_matrix(final_rt_model_pipe, X_test, y_test, cmap=\"plasma\");"
   ]
  },
  {
   "cell_type": "code",
   "execution_count": 60,
   "metadata": {
    "scrolled": true
   },
   "outputs": [
    {
     "name": "stdout",
     "output_type": "stream",
     "text": [
      "Final model's accuracy on the test set is 0.84\n"
     ]
    }
   ],
   "source": [
    "y_hat = final_rt_model_pipe.predict(X_test)\n",
    "print(f'''Final model's accuracy on the test set is {round(accuracy_score(y_test, y_hat), 2)}''')"
   ]
  },
  {
   "cell_type": "markdown",
   "metadata": {},
   "source": [
    "## Role Type Feature Importances"
   ]
  },
  {
   "cell_type": "code",
   "execution_count": 61,
   "metadata": {},
   "outputs": [
    {
     "data": {
      "text/html": [
       "<div>\n",
       "<style scoped>\n",
       "    .dataframe tbody tr th:only-of-type {\n",
       "        vertical-align: middle;\n",
       "    }\n",
       "\n",
       "    .dataframe tbody tr th {\n",
       "        vertical-align: top;\n",
       "    }\n",
       "\n",
       "    .dataframe thead th {\n",
       "        text-align: right;\n",
       "    }\n",
       "</style>\n",
       "<table border=\"1\" class=\"dataframe\">\n",
       "  <thead>\n",
       "    <tr style=\"text-align: right;\">\n",
       "      <th></th>\n",
       "      <th>rfc_features</th>\n",
       "    </tr>\n",
       "  </thead>\n",
       "  <tbody>\n",
       "    <tr>\n",
       "      <th>Complexity</th>\n",
       "      <td>0.113527</td>\n",
       "    </tr>\n",
       "    <tr>\n",
       "      <th>C</th>\n",
       "      <td>0.084105</td>\n",
       "    </tr>\n",
       "    <tr>\n",
       "      <th>H</th>\n",
       "      <td>0.083040</td>\n",
       "    </tr>\n",
       "    <tr>\n",
       "      <th>MolecularWeight</th>\n",
       "      <td>0.079651</td>\n",
       "    </tr>\n",
       "    <tr>\n",
       "      <th>TPSA</th>\n",
       "      <td>0.076706</td>\n",
       "    </tr>\n",
       "    <tr>\n",
       "      <th>RotatableBondCount</th>\n",
       "      <td>0.067186</td>\n",
       "    </tr>\n",
       "    <tr>\n",
       "      <th>HeavyAtomCount</th>\n",
       "      <td>0.064225</td>\n",
       "    </tr>\n",
       "    <tr>\n",
       "      <th>HBondDonorCount</th>\n",
       "      <td>0.062841</td>\n",
       "    </tr>\n",
       "    <tr>\n",
       "      <th>O</th>\n",
       "      <td>0.056307</td>\n",
       "    </tr>\n",
       "    <tr>\n",
       "      <th>HBondAcceptorCount</th>\n",
       "      <td>0.054856</td>\n",
       "    </tr>\n",
       "    <tr>\n",
       "      <th>N</th>\n",
       "      <td>0.053342</td>\n",
       "    </tr>\n",
       "    <tr>\n",
       "      <th>XLogP_qcut</th>\n",
       "      <td>0.049389</td>\n",
       "    </tr>\n",
       "    <tr>\n",
       "      <th>S</th>\n",
       "      <td>0.025719</td>\n",
       "    </tr>\n",
       "    <tr>\n",
       "      <th>Cl</th>\n",
       "      <td>0.024853</td>\n",
       "    </tr>\n",
       "    <tr>\n",
       "      <th>F</th>\n",
       "      <td>0.024514</td>\n",
       "    </tr>\n",
       "    <tr>\n",
       "      <th>FCharge</th>\n",
       "      <td>0.017852</td>\n",
       "    </tr>\n",
       "    <tr>\n",
       "      <th>Na</th>\n",
       "      <td>0.015072</td>\n",
       "    </tr>\n",
       "    <tr>\n",
       "      <th>P</th>\n",
       "      <td>0.010248</td>\n",
       "    </tr>\n",
       "    <tr>\n",
       "      <th>Br</th>\n",
       "      <td>0.007359</td>\n",
       "    </tr>\n",
       "    <tr>\n",
       "      <th>I</th>\n",
       "      <td>0.004661</td>\n",
       "    </tr>\n",
       "  </tbody>\n",
       "</table>\n",
       "</div>"
      ],
      "text/plain": [
       "                    rfc_features\n",
       "Complexity              0.113527\n",
       "C                       0.084105\n",
       "H                       0.083040\n",
       "MolecularWeight         0.079651\n",
       "TPSA                    0.076706\n",
       "RotatableBondCount      0.067186\n",
       "HeavyAtomCount          0.064225\n",
       "HBondDonorCount         0.062841\n",
       "O                       0.056307\n",
       "HBondAcceptorCount      0.054856\n",
       "N                       0.053342\n",
       "XLogP_qcut              0.049389\n",
       "S                       0.025719\n",
       "Cl                      0.024853\n",
       "F                       0.024514\n",
       "FCharge                 0.017852\n",
       "Na                      0.015072\n",
       "P                       0.010248\n",
       "Br                      0.007359\n",
       "I                       0.004661"
      ]
     },
     "execution_count": 61,
     "metadata": {},
     "output_type": "execute_result"
    }
   ],
   "source": [
    "rfc_features = final_rt_model_pipe.named_steps['rfc'].feature_importances_\n",
    "\n",
    "num_rt_features = grab_numeric_rt(X_train).columns\n",
    "\n",
    "num_rt_list = list(num_rt_features)\n",
    "\n",
    "features_rt_df = pd.DataFrame(rfc_features, num_rt_list, columns=['rfc_features'])\n",
    "\n",
    "features_rt_df.sort_values(by='rfc_features', ascending=False).head(20)"
   ]
  },
  {
   "cell_type": "code",
   "execution_count": 62,
   "metadata": {},
   "outputs": [],
   "source": [
    "final_rt_model_pipe.fit(X,y)\n",
    "\n",
    "final_rt_pipe = ModelWithCV(model=final_rt_model_pipe,\n",
    "                         model_name='final_pipe',\n",
    "                         X=X,\n",
    "                         y=y)"
   ]
  },
  {
   "cell_type": "markdown",
   "metadata": {},
   "source": [
    "# Role Name Classification"
   ]
  },
  {
   "cell_type": "markdown",
   "metadata": {},
   "source": [
    "## Role Name Data"
   ]
  },
  {
   "cell_type": "code",
   "execution_count": 499,
   "metadata": {
    "scrolled": true
   },
   "outputs": [
    {
     "data": {
      "text/plain": [
       "(10136, 106)"
      ]
     },
     "execution_count": 499,
     "metadata": {},
     "output_type": "execute_result"
    }
   ],
   "source": [
    "clean_df.shape"
   ]
  },
  {
   "cell_type": "code",
   "execution_count": 500,
   "metadata": {
    "scrolled": true
   },
   "outputs": [
    {
     "data": {
      "text/plain": [
       "metabolite                                            1573\n",
       "plant metabolite                                      1453\n",
       "human metabolite                                       730\n",
       "mouse metabolite                                       580\n",
       "epitope                                                500\n",
       "                                                      ... \n",
       "ultraviolet filter                                       1\n",
       "EC 3.1.26.13 (retroviral ribonuclease H) inhibitor       1\n",
       "nicotinic antagonist                                     1\n",
       "EC 1.3.1.72 (&#916;24-sterol reductase) inhibitor        1\n",
       "adenosine A3 receptor agonist                            1\n",
       "Name: RoleName, Length: 600, dtype: int64"
      ]
     },
     "execution_count": 500,
     "metadata": {},
     "output_type": "execute_result"
    }
   ],
   "source": [
    "clean_df.RoleName.value_counts()"
   ]
  },
  {
   "cell_type": "code",
   "execution_count": 501,
   "metadata": {
    "scrolled": true
   },
   "outputs": [
    {
     "data": {
      "text/plain": [
       "metabolite                1573\n",
       "plant metabolite          1453\n",
       "human metabolite           730\n",
       "mouse metabolite           580\n",
       "epitope                    500\n",
       "                          ... \n",
       "antidepressant              16\n",
       "volatile oil component      16\n",
       "antiviral agent             16\n",
       "radioopaque medium          15\n",
       "buffer                      15\n",
       "Name: RoleName, Length: 61, dtype: int64"
      ]
     },
     "execution_count": 501,
     "metadata": {},
     "output_type": "execute_result"
    }
   ],
   "source": [
    "balanced_rn_df = clean_df[clean_df.groupby('RoleName').RoleName.transform('count')>14]\n",
    "balanced_rn_df.RoleName.value_counts()"
   ]
  },
  {
   "cell_type": "code",
   "execution_count": 502,
   "metadata": {},
   "outputs": [],
   "source": [
    "bio_rn_df = balanced_rn_df[balanced_rn_df['RoleType'] == 'biological role']\n",
    "chem_rn_df = balanced_rn_df[balanced_rn_df['RoleType'] == 'chemical role']\n",
    "app_rn_df = balanced_rn_df[balanced_rn_df['RoleType'] == 'application']"
   ]
  },
  {
   "cell_type": "code",
   "execution_count": 503,
   "metadata": {},
   "outputs": [
    {
     "data": {
      "text/plain": [
       "61"
      ]
     },
     "execution_count": 503,
     "metadata": {},
     "output_type": "execute_result"
    }
   ],
   "source": [
    "len(balanced_rn_df.RoleName.value_counts().index)"
   ]
  },
  {
   "cell_type": "code",
   "execution_count": 504,
   "metadata": {
    "scrolled": true
   },
   "outputs": [
    {
     "data": {
      "text/plain": [
       "(8569, 106)"
      ]
     },
     "execution_count": 504,
     "metadata": {},
     "output_type": "execute_result"
    }
   ],
   "source": [
    "balanced_rn_df.shape"
   ]
  },
  {
   "cell_type": "code",
   "execution_count": 505,
   "metadata": {
    "scrolled": true
   },
   "outputs": [
    {
     "data": {
      "text/html": [
       "<div>\n",
       "<style scoped>\n",
       "    .dataframe tbody tr th:only-of-type {\n",
       "        vertical-align: middle;\n",
       "    }\n",
       "\n",
       "    .dataframe tbody tr th {\n",
       "        vertical-align: top;\n",
       "    }\n",
       "\n",
       "    .dataframe thead th {\n",
       "        text-align: right;\n",
       "    }\n",
       "</style>\n",
       "<table border=\"1\" class=\"dataframe\">\n",
       "  <thead>\n",
       "    <tr style=\"text-align: right;\">\n",
       "      <th></th>\n",
       "      <th>ChEBI</th>\n",
       "      <th>MolecularWeight</th>\n",
       "      <th>TPSA</th>\n",
       "      <th>Complexity</th>\n",
       "      <th>HBondDonorCount</th>\n",
       "      <th>HBondAcceptorCount</th>\n",
       "      <th>RotatableBondCount</th>\n",
       "      <th>HeavyAtomCount</th>\n",
       "      <th>H</th>\n",
       "      <th>He</th>\n",
       "      <th>...</th>\n",
       "      <th>Fr</th>\n",
       "      <th>Ra</th>\n",
       "      <th>Ac</th>\n",
       "      <th>Th</th>\n",
       "      <th>Pa</th>\n",
       "      <th>U</th>\n",
       "      <th>FCharge</th>\n",
       "      <th>XLogP_qcut</th>\n",
       "      <th>RoleType</th>\n",
       "      <th>RoleName</th>\n",
       "    </tr>\n",
       "  </thead>\n",
       "  <tbody>\n",
       "    <tr>\n",
       "      <th>0</th>\n",
       "      <td>19032</td>\n",
       "      <td>143.410000</td>\n",
       "      <td>0.0</td>\n",
       "      <td>10.0</td>\n",
       "      <td>0.0</td>\n",
       "      <td>0.0</td>\n",
       "      <td>1.0</td>\n",
       "      <td>4.0</td>\n",
       "      <td>4.0</td>\n",
       "      <td>0.0</td>\n",
       "      <td>...</td>\n",
       "      <td>0.0</td>\n",
       "      <td>0.0</td>\n",
       "      <td>0.0</td>\n",
       "      <td>0.0</td>\n",
       "      <td>0.0</td>\n",
       "      <td>0.0</td>\n",
       "      <td>0.0</td>\n",
       "      <td>2.0</td>\n",
       "      <td>biological role</td>\n",
       "      <td>mutagen</td>\n",
       "    </tr>\n",
       "    <tr>\n",
       "      <th>16</th>\n",
       "      <td>28741</td>\n",
       "      <td>41.988172</td>\n",
       "      <td>0.0</td>\n",
       "      <td>2.0</td>\n",
       "      <td>0.0</td>\n",
       "      <td>1.0</td>\n",
       "      <td>0.0</td>\n",
       "      <td>2.0</td>\n",
       "      <td>0.0</td>\n",
       "      <td>0.0</td>\n",
       "      <td>...</td>\n",
       "      <td>0.0</td>\n",
       "      <td>0.0</td>\n",
       "      <td>0.0</td>\n",
       "      <td>0.0</td>\n",
       "      <td>0.0</td>\n",
       "      <td>0.0</td>\n",
       "      <td>0.0</td>\n",
       "      <td>2.0</td>\n",
       "      <td>biological role</td>\n",
       "      <td>mutagen</td>\n",
       "    </tr>\n",
       "    <tr>\n",
       "      <th>21</th>\n",
       "      <td>28775</td>\n",
       "      <td>610.600000</td>\n",
       "      <td>234.0</td>\n",
       "      <td>940.0</td>\n",
       "      <td>8.0</td>\n",
       "      <td>15.0</td>\n",
       "      <td>7.0</td>\n",
       "      <td>43.0</td>\n",
       "      <td>34.0</td>\n",
       "      <td>0.0</td>\n",
       "      <td>...</td>\n",
       "      <td>0.0</td>\n",
       "      <td>0.0</td>\n",
       "      <td>0.0</td>\n",
       "      <td>0.0</td>\n",
       "      <td>0.0</td>\n",
       "      <td>0.0</td>\n",
       "      <td>0.0</td>\n",
       "      <td>1.0</td>\n",
       "      <td>biological role</td>\n",
       "      <td>mutagen</td>\n",
       "    </tr>\n",
       "    <tr>\n",
       "      <th>22</th>\n",
       "      <td>22899</td>\n",
       "      <td>330.290000</td>\n",
       "      <td>99.1</td>\n",
       "      <td>662.0</td>\n",
       "      <td>1.0</td>\n",
       "      <td>7.0</td>\n",
       "      <td>3.0</td>\n",
       "      <td>24.0</td>\n",
       "      <td>14.0</td>\n",
       "      <td>0.0</td>\n",
       "      <td>...</td>\n",
       "      <td>0.0</td>\n",
       "      <td>0.0</td>\n",
       "      <td>0.0</td>\n",
       "      <td>0.0</td>\n",
       "      <td>0.0</td>\n",
       "      <td>0.0</td>\n",
       "      <td>0.0</td>\n",
       "      <td>2.0</td>\n",
       "      <td>biological role</td>\n",
       "      <td>antimicrobial agent</td>\n",
       "    </tr>\n",
       "    <tr>\n",
       "      <th>25</th>\n",
       "      <td>25187</td>\n",
       "      <td>156.260000</td>\n",
       "      <td>20.2</td>\n",
       "      <td>120.0</td>\n",
       "      <td>1.0</td>\n",
       "      <td>1.0</td>\n",
       "      <td>1.0</td>\n",
       "      <td>11.0</td>\n",
       "      <td>20.0</td>\n",
       "      <td>0.0</td>\n",
       "      <td>...</td>\n",
       "      <td>0.0</td>\n",
       "      <td>0.0</td>\n",
       "      <td>0.0</td>\n",
       "      <td>0.0</td>\n",
       "      <td>0.0</td>\n",
       "      <td>0.0</td>\n",
       "      <td>0.0</td>\n",
       "      <td>3.0</td>\n",
       "      <td>biological role</td>\n",
       "      <td>volatile oil component</td>\n",
       "    </tr>\n",
       "    <tr>\n",
       "      <th>...</th>\n",
       "      <td>...</td>\n",
       "      <td>...</td>\n",
       "      <td>...</td>\n",
       "      <td>...</td>\n",
       "      <td>...</td>\n",
       "      <td>...</td>\n",
       "      <td>...</td>\n",
       "      <td>...</td>\n",
       "      <td>...</td>\n",
       "      <td>...</td>\n",
       "      <td>...</td>\n",
       "      <td>...</td>\n",
       "      <td>...</td>\n",
       "      <td>...</td>\n",
       "      <td>...</td>\n",
       "      <td>...</td>\n",
       "      <td>...</td>\n",
       "      <td>...</td>\n",
       "      <td>...</td>\n",
       "      <td>...</td>\n",
       "      <td>...</td>\n",
       "    </tr>\n",
       "    <tr>\n",
       "      <th>10448</th>\n",
       "      <td>190185</td>\n",
       "      <td>796.800000</td>\n",
       "      <td>340.0</td>\n",
       "      <td>1390.0</td>\n",
       "      <td>11.0</td>\n",
       "      <td>19.0</td>\n",
       "      <td>11.0</td>\n",
       "      <td>55.0</td>\n",
       "      <td>52.0</td>\n",
       "      <td>0.0</td>\n",
       "      <td>...</td>\n",
       "      <td>0.0</td>\n",
       "      <td>0.0</td>\n",
       "      <td>0.0</td>\n",
       "      <td>0.0</td>\n",
       "      <td>0.0</td>\n",
       "      <td>0.0</td>\n",
       "      <td>0.0</td>\n",
       "      <td>0.0</td>\n",
       "      <td>biological role</td>\n",
       "      <td>hapten</td>\n",
       "    </tr>\n",
       "    <tr>\n",
       "      <th>10449</th>\n",
       "      <td>190305</td>\n",
       "      <td>1208.600000</td>\n",
       "      <td>362.0</td>\n",
       "      <td>1780.0</td>\n",
       "      <td>13.0</td>\n",
       "      <td>20.0</td>\n",
       "      <td>47.0</td>\n",
       "      <td>84.0</td>\n",
       "      <td>113.0</td>\n",
       "      <td>0.0</td>\n",
       "      <td>...</td>\n",
       "      <td>0.0</td>\n",
       "      <td>0.0</td>\n",
       "      <td>0.0</td>\n",
       "      <td>0.0</td>\n",
       "      <td>0.0</td>\n",
       "      <td>0.0</td>\n",
       "      <td>0.0</td>\n",
       "      <td>4.0</td>\n",
       "      <td>biological role</td>\n",
       "      <td>epitope</td>\n",
       "    </tr>\n",
       "    <tr>\n",
       "      <th>10450</th>\n",
       "      <td>190306</td>\n",
       "      <td>1354.700000</td>\n",
       "      <td>421.0</td>\n",
       "      <td>2080.0</td>\n",
       "      <td>15.0</td>\n",
       "      <td>24.0</td>\n",
       "      <td>49.0</td>\n",
       "      <td>94.0</td>\n",
       "      <td>123.0</td>\n",
       "      <td>0.0</td>\n",
       "      <td>...</td>\n",
       "      <td>0.0</td>\n",
       "      <td>0.0</td>\n",
       "      <td>0.0</td>\n",
       "      <td>0.0</td>\n",
       "      <td>0.0</td>\n",
       "      <td>0.0</td>\n",
       "      <td>0.0</td>\n",
       "      <td>4.0</td>\n",
       "      <td>biological role</td>\n",
       "      <td>epitope</td>\n",
       "    </tr>\n",
       "    <tr>\n",
       "      <th>10451</th>\n",
       "      <td>190307</td>\n",
       "      <td>1063.400000</td>\n",
       "      <td>275.0</td>\n",
       "      <td>1420.0</td>\n",
       "      <td>10.0</td>\n",
       "      <td>16.0</td>\n",
       "      <td>42.0</td>\n",
       "      <td>74.0</td>\n",
       "      <td>106.0</td>\n",
       "      <td>0.0</td>\n",
       "      <td>...</td>\n",
       "      <td>0.0</td>\n",
       "      <td>0.0</td>\n",
       "      <td>0.0</td>\n",
       "      <td>0.0</td>\n",
       "      <td>0.0</td>\n",
       "      <td>0.0</td>\n",
       "      <td>0.0</td>\n",
       "      <td>4.0</td>\n",
       "      <td>biological role</td>\n",
       "      <td>epitope</td>\n",
       "    </tr>\n",
       "    <tr>\n",
       "      <th>10452</th>\n",
       "      <td>190399</td>\n",
       "      <td>253.120000</td>\n",
       "      <td>20.2</td>\n",
       "      <td>184.0</td>\n",
       "      <td>1.0</td>\n",
       "      <td>1.0</td>\n",
       "      <td>2.0</td>\n",
       "      <td>16.0</td>\n",
       "      <td>10.0</td>\n",
       "      <td>0.0</td>\n",
       "      <td>...</td>\n",
       "      <td>0.0</td>\n",
       "      <td>0.0</td>\n",
       "      <td>0.0</td>\n",
       "      <td>0.0</td>\n",
       "      <td>0.0</td>\n",
       "      <td>0.0</td>\n",
       "      <td>0.0</td>\n",
       "      <td>3.0</td>\n",
       "      <td>biological role</td>\n",
       "      <td>bacterial xenobiotic metabolite</td>\n",
       "    </tr>\n",
       "  </tbody>\n",
       "</table>\n",
       "<p>8569 rows × 106 columns</p>\n",
       "</div>"
      ],
      "text/plain": [
       "        ChEBI  MolecularWeight   TPSA  Complexity  HBondDonorCount  \\\n",
       "0       19032       143.410000    0.0        10.0              0.0   \n",
       "16      28741        41.988172    0.0         2.0              0.0   \n",
       "21      28775       610.600000  234.0       940.0              8.0   \n",
       "22      22899       330.290000   99.1       662.0              1.0   \n",
       "25      25187       156.260000   20.2       120.0              1.0   \n",
       "...       ...              ...    ...         ...              ...   \n",
       "10448  190185       796.800000  340.0      1390.0             11.0   \n",
       "10449  190305      1208.600000  362.0      1780.0             13.0   \n",
       "10450  190306      1354.700000  421.0      2080.0             15.0   \n",
       "10451  190307      1063.400000  275.0      1420.0             10.0   \n",
       "10452  190399       253.120000   20.2       184.0              1.0   \n",
       "\n",
       "       HBondAcceptorCount  RotatableBondCount  HeavyAtomCount      H   He  \\\n",
       "0                     0.0                 1.0             4.0    4.0  0.0   \n",
       "16                    1.0                 0.0             2.0    0.0  0.0   \n",
       "21                   15.0                 7.0            43.0   34.0  0.0   \n",
       "22                    7.0                 3.0            24.0   14.0  0.0   \n",
       "25                    1.0                 1.0            11.0   20.0  0.0   \n",
       "...                   ...                 ...             ...    ...  ...   \n",
       "10448                19.0                11.0            55.0   52.0  0.0   \n",
       "10449                20.0                47.0            84.0  113.0  0.0   \n",
       "10450                24.0                49.0            94.0  123.0  0.0   \n",
       "10451                16.0                42.0            74.0  106.0  0.0   \n",
       "10452                 1.0                 2.0            16.0   10.0  0.0   \n",
       "\n",
       "       ...   Fr   Ra   Ac   Th   Pa    U  FCharge  XLogP_qcut  \\\n",
       "0      ...  0.0  0.0  0.0  0.0  0.0  0.0      0.0         2.0   \n",
       "16     ...  0.0  0.0  0.0  0.0  0.0  0.0      0.0         2.0   \n",
       "21     ...  0.0  0.0  0.0  0.0  0.0  0.0      0.0         1.0   \n",
       "22     ...  0.0  0.0  0.0  0.0  0.0  0.0      0.0         2.0   \n",
       "25     ...  0.0  0.0  0.0  0.0  0.0  0.0      0.0         3.0   \n",
       "...    ...  ...  ...  ...  ...  ...  ...      ...         ...   \n",
       "10448  ...  0.0  0.0  0.0  0.0  0.0  0.0      0.0         0.0   \n",
       "10449  ...  0.0  0.0  0.0  0.0  0.0  0.0      0.0         4.0   \n",
       "10450  ...  0.0  0.0  0.0  0.0  0.0  0.0      0.0         4.0   \n",
       "10451  ...  0.0  0.0  0.0  0.0  0.0  0.0      0.0         4.0   \n",
       "10452  ...  0.0  0.0  0.0  0.0  0.0  0.0      0.0         3.0   \n",
       "\n",
       "              RoleType                         RoleName  \n",
       "0      biological role                          mutagen  \n",
       "16     biological role                          mutagen  \n",
       "21     biological role                          mutagen  \n",
       "22     biological role              antimicrobial agent  \n",
       "25     biological role           volatile oil component  \n",
       "...                ...                              ...  \n",
       "10448  biological role                           hapten  \n",
       "10449  biological role                          epitope  \n",
       "10450  biological role                          epitope  \n",
       "10451  biological role                          epitope  \n",
       "10452  biological role  bacterial xenobiotic metabolite  \n",
       "\n",
       "[8569 rows x 106 columns]"
      ]
     },
     "execution_count": 505,
     "metadata": {},
     "output_type": "execute_result"
    }
   ],
   "source": [
    "balanced_rn_df"
   ]
  },
  {
   "cell_type": "markdown",
   "metadata": {},
   "source": [
    "### Role Name Train-Test Split"
   ]
  },
  {
   "cell_type": "code",
   "execution_count": 506,
   "metadata": {
    "scrolled": true
   },
   "outputs": [],
   "source": [
    "X1 = balanced_rn_df.drop(['RoleName', 'ChEBI'], axis=1)\n",
    "y1 = balanced_rn_df['RoleName']\n",
    "\n",
    "X1_train, X1_test, y1_train, y1_test = train_test_split(X1, y1, random_state=42)"
   ]
  },
  {
   "cell_type": "code",
   "execution_count": 507,
   "metadata": {},
   "outputs": [],
   "source": [
    "X2 = bio_rn_df.drop(['RoleName', 'ChEBI'], axis=1)\n",
    "y2 = bio_rn_df['RoleName']\n",
    "\n",
    "X2_train, X2_test, y2_train, y2_test = train_test_split(X2, y2, random_state=42)"
   ]
  },
  {
   "cell_type": "code",
   "execution_count": 508,
   "metadata": {},
   "outputs": [],
   "source": [
    "X3 = chem_rn_df.drop(['RoleName', 'ChEBI'], axis=1)\n",
    "y3 = chem_rn_df['RoleName']\n",
    "\n",
    "X3_train, X3_test, y3_train, y3_test = train_test_split(X3, y3, random_state=42)"
   ]
  },
  {
   "cell_type": "code",
   "execution_count": 509,
   "metadata": {},
   "outputs": [],
   "source": [
    "X4 = app_rn_df.drop(['RoleName', 'ChEBI'], axis=1)\n",
    "y4 = app_rn_df['RoleName']\n",
    "\n",
    "X4_train, X4_test, y4_train, y4_test = train_test_split(X4, y4, random_state=42)"
   ]
  },
  {
   "cell_type": "markdown",
   "metadata": {},
   "source": [
    "## Role Name Modelling"
   ]
  },
  {
   "cell_type": "code",
   "execution_count": 418,
   "metadata": {},
   "outputs": [],
   "source": [
    "def grab_numeric_rn(df):\n",
    "    return df.select_dtypes(include=['float', 'int'])\n",
    "\n",
    "def grab_object_rn(df):\n",
    "    return df.select_dtypes(include=['object'])\n",
    "\n",
    "GrabNumeric_rn = FunctionTransformer(grab_numeric_rn)\n",
    "GrabObject_rn = FunctionTransformer(grab_object_rn)\n",
    "\n",
    "subpipe_num = Pipeline(steps=[('get_num', GrabNumeric_rn),\n",
    "                              ('ss', StandardScaler())])\n",
    "\n",
    "subpipe_cat = Pipeline(steps=[('get_cat', GrabObject_rn),\n",
    "                              ('ohe', OneHotEncoder(sparse=False, handle_unknown='ignore'))])\n",
    "\n",
    "ct = ColumnTransformer(transformers = [\n",
    "    ('subpipe_num', subpipe_num, X1_train.columns),\n",
    "    ('subpipe_cat', subpipe_cat, X1_train.columns),])"
   ]
  },
  {
   "cell_type": "markdown",
   "metadata": {},
   "source": [
    "### Baseline Model"
   ]
  },
  {
   "cell_type": "code",
   "execution_count": 398,
   "metadata": {},
   "outputs": [],
   "source": [
    "dummy_pipe = Pipeline(steps=[\n",
    "    ('ct', ct),\n",
    "    ('dummy', DummyClassifier(strategy='most_frequent'))])\n",
    "\n",
    "dummy_pipe.fit(X1_train, y1_train)\n",
    "\n",
    "dummy_model_pipe = ModelWithCV(\n",
    "    model=dummy_pipe,\n",
    "    model_name='dummy_model_pipe',\n",
    "    X=X1_train,\n",
    "    y=y1_train)"
   ]
  },
  {
   "cell_type": "code",
   "execution_count": 387,
   "metadata": {},
   "outputs": [
    {
     "name": "stdout",
     "output_type": "stream",
     "text": [
      "CV Results for `dummy_model_pipe` model:\n",
      "            0.18143 ± 0.00072 accuracy\n",
      "        \n",
      " Train: 0.18143459915611815\n"
     ]
    },
    {
     "data": {
      "image/png": "[encoded data removed]",
      "text/plain": [
       "<Figure size 432x288 with 1 Axes>"
      ]
     },
     "metadata": {
      "needs_background": "light"
     },
     "output_type": "display_data"
    }
   ],
   "source": [
    "fig, ax = plt.subplots()\n",
    "\n",
    "ax = dummy_model_pipe.plot_cv(ax)\n",
    "plt.tight_layout();\n",
    "\n",
    "dummy_model_pipe.print_cv_summary()\n",
    "\n",
    "train_score = dummy_pipe.score(X1_train, y1_train)\n",
    "print(f' Train: {train_score}')"
   ]
  },
  {
   "cell_type": "markdown",
   "metadata": {},
   "source": [
    "### Logistic Regression"
   ]
  },
  {
   "cell_type": "code",
   "execution_count": 74,
   "metadata": {},
   "outputs": [],
   "source": [
    "logreg_model_pipe = Pipeline(steps=[\n",
    "                    ('ct',ct),\n",
    "                    ('lr', LogisticRegression(random_state=42, max_iter=10000))])\n",
    "\n",
    "logreg_model_pipe.fit(X1_train, y1_train)\n",
    "\n",
    "log_pipe = ModelWithCV(model=logreg_model_pipe, \n",
    "                       model_name = 'log_pipe', \n",
    "                       X=X1_train, \n",
    "                       y=y1_train)"
   ]
  },
  {
   "cell_type": "code",
   "execution_count": 75,
   "metadata": {},
   "outputs": [
    {
     "name": "stdout",
     "output_type": "stream",
     "text": [
      "CV Results for `log_pipe` model:\n",
      "            0.50756 ± 0.01884 accuracy\n",
      "        \n",
      " Train: 0.5162892332141438\n"
     ]
    },
    {
     "data": {
      "image/png": "[encoded data removed]",
      "text/plain": [
       "<Figure size 432x288 with 1 Axes>"
      ]
     },
     "metadata": {
      "needs_background": "light"
     },
     "output_type": "display_data"
    }
   ],
   "source": [
    "fig, ax = plt.subplots()\n",
    "\n",
    "log_pipe.plot_cv(ax=ax)\n",
    "\n",
    "log_pipe.print_cv_summary()\n",
    "\n",
    "train_score = logreg_model_pipe.score(X1_train, y1_train)\n",
    "print(f' Train: {train_score}')"
   ]
  },
  {
   "cell_type": "markdown",
   "metadata": {},
   "source": [
    "### Decision Trees"
   ]
  },
  {
   "cell_type": "code",
   "execution_count": 76,
   "metadata": {},
   "outputs": [],
   "source": [
    "dt_model_pipe = Pipeline(steps=[\n",
    "                ('ct', ct), \n",
    "                ('dt', DecisionTreeClassifier(random_state=42, max_depth=10))])\n",
    "\n",
    "dt_model_pipe.fit(X1_train, y1_train)\n",
    "\n",
    "dt_pipe = ModelWithCV(model=dt_model_pipe,\n",
    "                         model_name='dt_pipe',\n",
    "                         X=X1_train,\n",
    "                         y=y1_train)"
   ]
  },
  {
   "cell_type": "code",
   "execution_count": 77,
   "metadata": {},
   "outputs": [
    {
     "name": "stdout",
     "output_type": "stream",
     "text": [
      "CV Results for `dt_pipe` model:\n",
      "            0.56973 ± 0.02419 accuracy\n",
      "        \n",
      " Train: 0.6805721096543504\n"
     ]
    },
    {
     "data": {
      "image/png": "[encoded data removed]",
      "text/plain": [
       "<Figure size 432x288 with 1 Axes>"
      ]
     },
     "metadata": {
      "needs_background": "light"
     },
     "output_type": "display_data"
    }
   ],
   "source": [
    "fig, ax = plt.subplots()\n",
    "\n",
    "dt_pipe.plot_cv(ax=ax);\n",
    "\n",
    "dt_pipe.print_cv_summary()\n",
    "\n",
    "train_score = dt_model_pipe.score(X1_train, y1_train)\n",
    "print(f' Train: {train_score}')"
   ]
  },
  {
   "cell_type": "markdown",
   "metadata": {},
   "source": [
    "### Random Forest"
   ]
  },
  {
   "cell_type": "code",
   "execution_count": 479,
   "metadata": {},
   "outputs": [],
   "source": [
    "rfc_model_pipe = Pipeline(steps=[\n",
    "                ('ct', ct), \n",
    "                ('rfc', RandomForestClassifier(random_state=42, max_depth=11))])\n",
    "\n",
    "rfc_model_pipe.fit(X1_train, y1_train)\n",
    "\n",
    "forest_pipe = ModelWithCV(model=rfc_model_pipe, \n",
    "                          model_name='forest_pipe', \n",
    "                          X=X1_train, \n",
    "                          y=y1_train)"
   ]
  },
  {
   "cell_type": "code",
   "execution_count": 480,
   "metadata": {
    "scrolled": true
   },
   "outputs": [
    {
     "name": "stdout",
     "output_type": "stream",
     "text": [
      "CV Results for `forest_pipe` model:\n",
      "            0.50732 ± 0.01947 accuracy\n",
      "        \n",
      " Train: 0.619514472455649\n"
     ]
    },
    {
     "data": {
      "image/png": "[encoded data removed]",
      "text/plain": [
       "<Figure size 432x288 with 1 Axes>"
      ]
     },
     "metadata": {
      "needs_background": "light"
     },
     "output_type": "display_data"
    }
   ],
   "source": [
    "fig, ax = plt.subplots()\n",
    "\n",
    "forest_pipe.plot_cv(ax=ax)\n",
    "\n",
    "forest_pipe.print_cv_summary()\n",
    "\n",
    "train_score = rfc_model_pipe.score(X1_train, y1_train)\n",
    "print(f' Train: {train_score}')"
   ]
  },
  {
   "cell_type": "code",
   "execution_count": 481,
   "metadata": {},
   "outputs": [],
   "source": [
    "rfc_model_pipe = Pipeline(steps=[\n",
    "                ('ct', ct), \n",
    "                ('rfc', RandomForestClassifier(random_state=42, max_depth=11))])\n",
    "\n",
    "rfc_model_pipe.fit(X2_train, y2_train)\n",
    "\n",
    "forest_pipe = ModelWithCV(model=rfc_model_pipe, \n",
    "                          model_name='forest_pipe', \n",
    "                          X=X2_train, \n",
    "                          y=y2_train)"
   ]
  },
  {
   "cell_type": "code",
   "execution_count": 482,
   "metadata": {
    "scrolled": true
   },
   "outputs": [
    {
     "name": "stdout",
     "output_type": "stream",
     "text": [
      "CV Results for `forest_pipe` model:\n",
      "            0.50940 ± 0.01558 accuracy\n",
      "        \n",
      " Train: 0.6457793889176593\n"
     ]
    },
    {
     "data": {
      "image/png": "[encoded data removed]",
      "text/plain": [
       "<Figure size 432x288 with 1 Axes>"
      ]
     },
     "metadata": {
      "needs_background": "light"
     },
     "output_type": "display_data"
    }
   ],
   "source": [
    "fig, ax = plt.subplots()\n",
    "\n",
    "forest_pipe.plot_cv(ax=ax)\n",
    "\n",
    "forest_pipe.print_cv_summary()\n",
    "\n",
    "train_score = rfc_model_pipe.score(X2_train, y2_train)\n",
    "print(f' Train: {train_score}')"
   ]
  },
  {
   "cell_type": "code",
   "execution_count": 483,
   "metadata": {},
   "outputs": [],
   "source": [
    "rfc_model_pipe = Pipeline(steps=[\n",
    "                ('ct', ct), \n",
    "                ('rfc', RandomForestClassifier(random_state=42, max_depth=11))])\n",
    "\n",
    "rfc_model_pipe.fit(X3_train, y3_train)\n",
    "\n",
    "forest_pipe = ModelWithCV(model=rfc_model_pipe, \n",
    "                          model_name='forest_pipe', \n",
    "                          X=X3_train, \n",
    "                          y=y3_train)"
   ]
  },
  {
   "cell_type": "code",
   "execution_count": 484,
   "metadata": {},
   "outputs": [
    {
     "name": "stdout",
     "output_type": "stream",
     "text": [
      "CV Results for `forest_pipe` model:\n",
      "            0.71667 ± 0.29861 accuracy\n",
      "        \n",
      " Train: 1.0\n"
     ]
    },
    {
     "data": {
      "image/png": "[encoded data removed]",
      "text/plain": [
       "<Figure size 432x288 with 1 Axes>"
      ]
     },
     "metadata": {
      "needs_background": "light"
     },
     "output_type": "display_data"
    }
   ],
   "source": [
    "fig, ax = plt.subplots()\n",
    "\n",
    "forest_pipe.plot_cv(ax=ax)\n",
    "\n",
    "forest_pipe.print_cv_summary()\n",
    "\n",
    "train_score = rfc_model_pipe.score(X3_train, y3_train)\n",
    "print(f' Train: {train_score}')"
   ]
  },
  {
   "cell_type": "code",
   "execution_count": 485,
   "metadata": {},
   "outputs": [],
   "source": [
    "rfc_model_pipe = Pipeline(steps=[\n",
    "                ('ct', ct), \n",
    "                ('rfc', RandomForestClassifier(random_state=42, max_depth=11))])\n",
    "\n",
    "rfc_model_pipe.fit(X4_train, y4_train)\n",
    "\n",
    "forest_pipe = ModelWithCV(model=rfc_model_pipe, \n",
    "                          model_name='forest_pipe', \n",
    "                          X=X4_train, \n",
    "                          y=y4_train)"
   ]
  },
  {
   "cell_type": "code",
   "execution_count": 486,
   "metadata": {},
   "outputs": [
    {
     "name": "stdout",
     "output_type": "stream",
     "text": [
      "CV Results for `forest_pipe` model:\n",
      "            0.64522 ± 0.04710 accuracy\n",
      "        \n",
      " Train: 0.9735973597359736\n"
     ]
    },
    {
     "data": {
      "image/png": "[encoded data removed]",
      "text/plain": [
       "<Figure size 432x288 with 1 Axes>"
      ]
     },
     "metadata": {
      "needs_background": "light"
     },
     "output_type": "display_data"
    }
   ],
   "source": [
    "fig, ax = plt.subplots()\n",
    "\n",
    "forest_pipe.plot_cv(ax=ax)\n",
    "\n",
    "forest_pipe.print_cv_summary()\n",
    "\n",
    "train_score = rfc_model_pipe.score(X4_train, y4_train)\n",
    "print(f' Train: {train_score}')"
   ]
  },
  {
   "cell_type": "markdown",
   "metadata": {},
   "source": [
    "### GradientBoostingClassifier"
   ]
  },
  {
   "cell_type": "code",
   "execution_count": 510,
   "metadata": {},
   "outputs": [],
   "source": [
    "gbc_model_pipe = Pipeline(steps=[\n",
    "                ('ct', ct), \n",
    "                ('gbc', GradientBoostingClassifier(random_state=42))])\n",
    "\n",
    "gbc_model_pipe.fit(X1_train, y1_train)\n",
    "\n",
    "boost_pipe = ModelWithCV(model=gbc_model_pipe,\n",
    "                         model_name='boost_pipe',\n",
    "                         X=X1_train,\n",
    "                         y=y1_train)"
   ]
  },
  {
   "cell_type": "code",
   "execution_count": 511,
   "metadata": {},
   "outputs": [
    {
     "name": "stdout",
     "output_type": "stream",
     "text": [
      "CV Results for `boost_pipe` model:\n",
      "            0.50419 ± 0.02770 accuracy\n",
      "        \n",
      " Train: 0.7710862122626828\n"
     ]
    },
    {
     "data": {
      "image/png": "[encoded data removed]",
      "text/plain": [
       "<Figure size 432x288 with 1 Axes>"
      ]
     },
     "metadata": {
      "needs_background": "light"
     },
     "output_type": "display_data"
    }
   ],
   "source": [
    "fig, ax = plt.subplots()\n",
    "\n",
    "boost_pipe.plot_cv(ax=ax)\n",
    "\n",
    "boost_pipe.print_cv_summary()\n",
    "\n",
    "train_score = gbc_model_pipe.score(X1_train, y1_train)\n",
    "print(f' Train: {train_score}')"
   ]
  },
  {
   "cell_type": "code",
   "execution_count": 512,
   "metadata": {},
   "outputs": [],
   "source": [
    "gbc_model_pipe = Pipeline(steps=[\n",
    "                ('ct', ct), \n",
    "                ('gbc', GradientBoostingClassifier(random_state=42))])\n",
    "\n",
    "gbc_model_pipe.fit(X2_train, y2_train)\n",
    "\n",
    "boost_pipe = ModelWithCV(model=gbc_model_pipe,\n",
    "                         model_name='boost_pipe',\n",
    "                         X=X2_train,\n",
    "                         y=y2_train)"
   ]
  },
  {
   "cell_type": "code",
   "execution_count": 513,
   "metadata": {},
   "outputs": [
    {
     "name": "stdout",
     "output_type": "stream",
     "text": [
      "CV Results for `boost_pipe` model:\n",
      "            0.51061 ± 0.01946 accuracy\n",
      "        \n",
      " Train: 0.7610909718625928\n"
     ]
    },
    {
     "data": {
      "image/png": "[encoded data removed]",
      "text/plain": [
       "<Figure size 432x288 with 1 Axes>"
      ]
     },
     "metadata": {
      "needs_background": "light"
     },
     "output_type": "display_data"
    }
   ],
   "source": [
    "fig, ax = plt.subplots()\n",
    "\n",
    "boost_pipe.plot_cv(ax=ax)\n",
    "\n",
    "boost_pipe.print_cv_summary()\n",
    "\n",
    "train_score = gbc_model_pipe.score(X2_train, y2_train)\n",
    "print(f' Train: {train_score}')"
   ]
  },
  {
   "cell_type": "code",
   "execution_count": 514,
   "metadata": {},
   "outputs": [],
   "source": [
    "gbc_model_pipe = Pipeline(steps=[\n",
    "                ('ct', ct), \n",
    "                ('gbc', GradientBoostingClassifier(random_state=42))])\n",
    "\n",
    "gbc_model_pipe.fit(X3_train, y3_train)\n",
    "\n",
    "boost_pipe = ModelWithCV(model=gbc_model_pipe,\n",
    "                         model_name='boost_pipe',\n",
    "                         X=X3_train,\n",
    "                         y=y3_train)"
   ]
  },
  {
   "cell_type": "code",
   "execution_count": 515,
   "metadata": {},
   "outputs": [
    {
     "name": "stdout",
     "output_type": "stream",
     "text": [
      "CV Results for `boost_pipe` model:\n",
      "            0.78333 ± 0.27938 accuracy\n",
      "        \n",
      " Train: 1.0\n"
     ]
    },
    {
     "data": {
      "image/png": "[encoded data removed]",
      "text/plain": [
       "<Figure size 432x288 with 1 Axes>"
      ]
     },
     "metadata": {
      "needs_background": "light"
     },
     "output_type": "display_data"
    }
   ],
   "source": [
    "fig, ax = plt.subplots()\n",
    "\n",
    "boost_pipe.plot_cv(ax=ax)\n",
    "\n",
    "boost_pipe.print_cv_summary()\n",
    "\n",
    "train_score = gbc_model_pipe.score(X3_train, y3_train)\n",
    "print(f' Train: {train_score}')"
   ]
  },
  {
   "cell_type": "code",
   "execution_count": 516,
   "metadata": {},
   "outputs": [],
   "source": [
    "gbc_model_pipe = Pipeline(steps=[\n",
    "                ('ct', ct), \n",
    "                ('gbc', GradientBoostingClassifier(random_state=42))])\n",
    "\n",
    "gbc_model_pipe.fit(X4_train, y4_train)\n",
    "\n",
    "boost_pipe = ModelWithCV(model=gbc_model_pipe,\n",
    "                         model_name='boost_pipe',\n",
    "                         X=X4_train,\n",
    "                         y=y4_train)"
   ]
  },
  {
   "cell_type": "code",
   "execution_count": 517,
   "metadata": {},
   "outputs": [
    {
     "name": "stdout",
     "output_type": "stream",
     "text": [
      "CV Results for `boost_pipe` model:\n",
      "            0.66331 ± 0.05274 accuracy\n",
      "        \n",
      " Train: 1.0\n"
     ]
    },
    {
     "data": {
      "image/png": "[encoded data removed]",
      "text/plain": [
       "<Figure size 432x288 with 1 Axes>"
      ]
     },
     "metadata": {
      "needs_background": "light"
     },
     "output_type": "display_data"
    }
   ],
   "source": [
    "fig, ax = plt.subplots()\n",
    "\n",
    "boost_pipe.plot_cv(ax=ax)\n",
    "\n",
    "boost_pipe.print_cv_summary()\n",
    "\n",
    "train_score = gbc_model_pipe.score(X4_train, y4_train)\n",
    "print(f' Train: {train_score}')"
   ]
  },
  {
   "cell_type": "markdown",
   "metadata": {},
   "source": [
    "### Grid Search"
   ]
  },
  {
   "cell_type": "code",
   "execution_count": 82,
   "metadata": {},
   "outputs": [
    {
     "name": "stdout",
     "output_type": "stream",
     "text": [
      "Fitting 5 folds for each of 9 candidates, totalling 45 fits\n"
     ]
    },
    {
     "data": {
      "text/plain": [
       "GridSearchCV(cv=5,\n",
       "             estimator=Pipeline(steps=[('ct',\n",
       "                                        ColumnTransformer(transformers=[('subpipe_num',\n",
       "                                                                         Pipeline(steps=[('get_num',\n",
       "                                                                                          FunctionTransformer(func=<function grab_numeric_rn at 0x7f9c0a0bc7a0>)),\n",
       "                                                                                         ('ss',\n",
       "                                                                                          StandardScaler())]),\n",
       "                                                                         Index(['MolecularWeight', 'TPSA', 'Complexity', 'HBondDonorCount',\n",
       "       'HBondAcceptorCount', 'RotatableBondCount', 'HeavyAtomCount', 'H', 'He',...\n",
       "                                                                         Index(['MolecularWeight', 'TPSA', 'Complexity', 'HBondDonorCount',\n",
       "       'HBondAcceptorCount', 'RotatableBondCount', 'HeavyAtomCount', 'H', 'He',\n",
       "       'Li',\n",
       "       ...\n",
       "       'Rn', 'Fr', 'Ra', 'Ac', 'Th', 'Pa', 'U', 'FCharge', 'XLogP_qcut',\n",
       "       'RoleType'],\n",
       "      dtype='object', length=104))])),\n",
       "                                       ('rfc',\n",
       "                                        RandomForestClassifier(max_depth=11,\n",
       "                                                               random_state=42))]),\n",
       "             n_jobs=-1,\n",
       "             param_grid={'rfc__max_depth': [7, 10, 13],\n",
       "                         'rfc__n_estimators': [100, 125, 150]},\n",
       "             verbose=3)"
      ]
     },
     "execution_count": 82,
     "metadata": {},
     "output_type": "execute_result"
    }
   ],
   "source": [
    "params_rfc = {\n",
    "    'rfc__n_estimators' : [100, 125, 150],\n",
    "    'rfc__max_depth' : [7, 10, 13],\n",
    "    #'rfc__max_leaf_nodes' : [599, 600, 601],\n",
    "    #'rfc__criterion' : ['gini', 'entropy']}\n",
    "}\n",
    "\n",
    "gs_rfc = GridSearchCV(rfc_model_pipe, params_rfc, n_jobs=-1, cv=5, verbose=3)\n",
    "\n",
    "gs_rfc.fit(X1_train, y1_train)\n",
    "\n",
    "#n estimators 100 125 150\n",
    "#max depth 5 7 10\n",
    "#that's it\n",
    "#use xgboost "
   ]
  },
  {
   "cell_type": "code",
   "execution_count": 83,
   "metadata": {},
   "outputs": [
    {
     "data": {
      "text/plain": [
       "{'rfc__max_depth': 13, 'rfc__n_estimators': 100}"
      ]
     },
     "execution_count": 83,
     "metadata": {},
     "output_type": "execute_result"
    }
   ],
   "source": [
    "gs_rfc.best_params_"
   ]
  },
  {
   "cell_type": "code",
   "execution_count": 84,
   "metadata": {},
   "outputs": [
    {
     "data": {
      "text/plain": [
       "0.6225662904400805"
      ]
     },
     "execution_count": 84,
     "metadata": {},
     "output_type": "execute_result"
    }
   ],
   "source": [
    "gs_rfc.best_score_"
   ]
  },
  {
   "cell_type": "code",
   "execution_count": 85,
   "metadata": {},
   "outputs": [],
   "source": [
    "final_rn_model_pipe = gs_rfc.best_estimator_"
   ]
  },
  {
   "cell_type": "markdown",
   "metadata": {},
   "source": [
    "## Role Name Classification Evaluation"
   ]
  },
  {
   "cell_type": "markdown",
   "metadata": {},
   "source": [
    "### Final Role Name Model"
   ]
  },
  {
   "cell_type": "code",
   "execution_count": 86,
   "metadata": {},
   "outputs": [],
   "source": [
    "final_rn_model_pipe.fit(X1_train, y1_train)\n",
    "\n",
    "final_rn_pipe = ModelWithCV(model=final_rn_model_pipe,\n",
    "                         model_name='final_pipe',\n",
    "                         X=X1_train,\n",
    "                         y=y1_train)"
   ]
  },
  {
   "cell_type": "code",
   "execution_count": 87,
   "metadata": {
    "scrolled": true
   },
   "outputs": [
    {
     "name": "stdout",
     "output_type": "stream",
     "text": [
      "CV Results for `final_pipe` model:\n",
      "            0.62396 ± 0.02125 accuracy\n",
      "        \n",
      " Train: 0.7844656336909018\n",
      " Test: 0.6174016686531585\n"
     ]
    },
    {
     "data": {
      "image/png": "[encoded data removed]",
      "text/plain": [
       "<Figure size 432x288 with 1 Axes>"
      ]
     },
     "metadata": {
      "needs_background": "light"
     },
     "output_type": "display_data"
    }
   ],
   "source": [
    "fig, ax = plt.subplots()\n",
    "\n",
    "final_rn_pipe.plot_cv(ax=ax);\n",
    "\n",
    "final_rn_pipe.print_cv_summary()\n",
    "\n",
    "train_score = final_rn_model_pipe.score(X1_train, y1_train)\n",
    "test_score = final_rn_model_pipe.score(X1_test, y1_test)\n",
    "#score default is accuracy for a classifier\n",
    "\n",
    "print(f' Train: {train_score}')\n",
    "print(f' Test: {test_score}')"
   ]
  },
  {
   "cell_type": "code",
   "execution_count": 88,
   "metadata": {},
   "outputs": [
    {
     "name": "stdout",
     "output_type": "stream",
     "text": [
      "Final model's accuracy on the test set is 0.62\n"
     ]
    }
   ],
   "source": [
    "y1_hat = final_rn_model_pipe.predict(X1_test)\n",
    "print(f'''Final model's accuracy on the test set is {round(accuracy_score(y1_test, y1_hat), 2)}''')"
   ]
  },
  {
   "cell_type": "markdown",
   "metadata": {},
   "source": [
    "## Role Name Feature Importances"
   ]
  },
  {
   "cell_type": "code",
   "execution_count": 89,
   "metadata": {},
   "outputs": [
    {
     "name": "stderr",
     "output_type": "stream",
     "text": [
      "/Users/meiralelov/opt/anaconda3/envs/tf/lib/python3.7/site-packages/sklearn/utils/deprecation.py:87: FutureWarning: Function get_feature_names is deprecated; get_feature_names is deprecated in 1.0 and will be removed in 1.2. Please use get_feature_names_out instead.\n",
      "  warnings.warn(msg, category=FutureWarning)\n"
     ]
    },
    {
     "data": {
      "text/html": [
       "<div>\n",
       "<style scoped>\n",
       "    .dataframe tbody tr th:only-of-type {\n",
       "        vertical-align: middle;\n",
       "    }\n",
       "\n",
       "    .dataframe tbody tr th {\n",
       "        vertical-align: top;\n",
       "    }\n",
       "\n",
       "    .dataframe thead th {\n",
       "        text-align: right;\n",
       "    }\n",
       "</style>\n",
       "<table border=\"1\" class=\"dataframe\">\n",
       "  <thead>\n",
       "    <tr style=\"text-align: right;\">\n",
       "      <th></th>\n",
       "      <th>rfc_features</th>\n",
       "    </tr>\n",
       "  </thead>\n",
       "  <tbody>\n",
       "    <tr>\n",
       "      <th>RotatableBondCount</th>\n",
       "      <td>0.089901</td>\n",
       "    </tr>\n",
       "    <tr>\n",
       "      <th>Complexity</th>\n",
       "      <td>0.079416</td>\n",
       "    </tr>\n",
       "    <tr>\n",
       "      <th>H</th>\n",
       "      <td>0.079125</td>\n",
       "    </tr>\n",
       "    <tr>\n",
       "      <th>MolecularWeight</th>\n",
       "      <td>0.071840</td>\n",
       "    </tr>\n",
       "    <tr>\n",
       "      <th>TPSA</th>\n",
       "      <td>0.071317</td>\n",
       "    </tr>\n",
       "    <tr>\n",
       "      <th>C</th>\n",
       "      <td>0.068144</td>\n",
       "    </tr>\n",
       "    <tr>\n",
       "      <th>N</th>\n",
       "      <td>0.065651</td>\n",
       "    </tr>\n",
       "    <tr>\n",
       "      <th>HeavyAtomCount</th>\n",
       "      <td>0.062645</td>\n",
       "    </tr>\n",
       "    <tr>\n",
       "      <th>HBondDonorCount</th>\n",
       "      <td>0.062348</td>\n",
       "    </tr>\n",
       "    <tr>\n",
       "      <th>O</th>\n",
       "      <td>0.059657</td>\n",
       "    </tr>\n",
       "    <tr>\n",
       "      <th>XLogP_qcut</th>\n",
       "      <td>0.055656</td>\n",
       "    </tr>\n",
       "    <tr>\n",
       "      <th>HBondAcceptorCount</th>\n",
       "      <td>0.053363</td>\n",
       "    </tr>\n",
       "    <tr>\n",
       "      <th>x0_biological role</th>\n",
       "      <td>0.052048</td>\n",
       "    </tr>\n",
       "    <tr>\n",
       "      <th>x0_application</th>\n",
       "      <td>0.037416</td>\n",
       "    </tr>\n",
       "    <tr>\n",
       "      <th>P</th>\n",
       "      <td>0.033496</td>\n",
       "    </tr>\n",
       "    <tr>\n",
       "      <th>FCharge</th>\n",
       "      <td>0.032292</td>\n",
       "    </tr>\n",
       "    <tr>\n",
       "      <th>S</th>\n",
       "      <td>0.013436</td>\n",
       "    </tr>\n",
       "    <tr>\n",
       "      <th>Cl</th>\n",
       "      <td>0.003882</td>\n",
       "    </tr>\n",
       "    <tr>\n",
       "      <th>Mg</th>\n",
       "      <td>0.001542</td>\n",
       "    </tr>\n",
       "    <tr>\n",
       "      <th>F</th>\n",
       "      <td>0.001463</td>\n",
       "    </tr>\n",
       "  </tbody>\n",
       "</table>\n",
       "</div>"
      ],
      "text/plain": [
       "                    rfc_features\n",
       "RotatableBondCount      0.089901\n",
       "Complexity              0.079416\n",
       "H                       0.079125\n",
       "MolecularWeight         0.071840\n",
       "TPSA                    0.071317\n",
       "C                       0.068144\n",
       "N                       0.065651\n",
       "HeavyAtomCount          0.062645\n",
       "HBondDonorCount         0.062348\n",
       "O                       0.059657\n",
       "XLogP_qcut              0.055656\n",
       "HBondAcceptorCount      0.053363\n",
       "x0_biological role      0.052048\n",
       "x0_application          0.037416\n",
       "P                       0.033496\n",
       "FCharge                 0.032292\n",
       "S                       0.013436\n",
       "Cl                      0.003882\n",
       "Mg                      0.001542\n",
       "F                       0.001463"
      ]
     },
     "execution_count": 89,
     "metadata": {},
     "output_type": "execute_result"
    }
   ],
   "source": [
    "rfc_features = final_rn_model_pipe.named_steps['rfc'].feature_importances_\n",
    "\n",
    "num_rn_features = grab_numeric_rn(X1_train).columns\n",
    "num_rn_list = list(num_rn_features)\n",
    "\n",
    "ohe_rn_features = final_rn_model_pipe.named_steps['ct'].named_transformers_['subpipe_cat']['ohe'].get_feature_names()\n",
    "ohe_rn_list = list(ohe_rn_features)\n",
    "\n",
    "# creating a combined list of all these features from both numerical and categorical columns. \n",
    "\n",
    "features_list = num_rn_list + ohe_rn_list\n",
    "\n",
    "features_rn_df = pd.DataFrame(rfc_features, features_list, columns=['rfc_features'])\n",
    "\n",
    "features_rn_df.sort_values(by='rfc_features', ascending=False).head(20)"
   ]
  },
  {
   "cell_type": "code",
   "execution_count": 90,
   "metadata": {},
   "outputs": [
    {
     "data": {
      "text/html": [
       "<div>\n",
       "<style scoped>\n",
       "    .dataframe tbody tr th:only-of-type {\n",
       "        vertical-align: middle;\n",
       "    }\n",
       "\n",
       "    .dataframe tbody tr th {\n",
       "        vertical-align: top;\n",
       "    }\n",
       "\n",
       "    .dataframe thead th {\n",
       "        text-align: right;\n",
       "    }\n",
       "</style>\n",
       "<table border=\"1\" class=\"dataframe\">\n",
       "  <thead>\n",
       "    <tr style=\"text-align: right;\">\n",
       "      <th></th>\n",
       "      <th>rfc_features</th>\n",
       "    </tr>\n",
       "  </thead>\n",
       "  <tbody>\n",
       "    <tr>\n",
       "      <th>Complexity</th>\n",
       "      <td>0.113527</td>\n",
       "    </tr>\n",
       "    <tr>\n",
       "      <th>C</th>\n",
       "      <td>0.084105</td>\n",
       "    </tr>\n",
       "    <tr>\n",
       "      <th>H</th>\n",
       "      <td>0.083040</td>\n",
       "    </tr>\n",
       "    <tr>\n",
       "      <th>MolecularWeight</th>\n",
       "      <td>0.079651</td>\n",
       "    </tr>\n",
       "    <tr>\n",
       "      <th>TPSA</th>\n",
       "      <td>0.076706</td>\n",
       "    </tr>\n",
       "    <tr>\n",
       "      <th>RotatableBondCount</th>\n",
       "      <td>0.067186</td>\n",
       "    </tr>\n",
       "    <tr>\n",
       "      <th>HeavyAtomCount</th>\n",
       "      <td>0.064225</td>\n",
       "    </tr>\n",
       "    <tr>\n",
       "      <th>HBondDonorCount</th>\n",
       "      <td>0.062841</td>\n",
       "    </tr>\n",
       "    <tr>\n",
       "      <th>O</th>\n",
       "      <td>0.056307</td>\n",
       "    </tr>\n",
       "    <tr>\n",
       "      <th>HBondAcceptorCount</th>\n",
       "      <td>0.054856</td>\n",
       "    </tr>\n",
       "    <tr>\n",
       "      <th>N</th>\n",
       "      <td>0.053342</td>\n",
       "    </tr>\n",
       "    <tr>\n",
       "      <th>XLogP_qcut</th>\n",
       "      <td>0.049389</td>\n",
       "    </tr>\n",
       "    <tr>\n",
       "      <th>S</th>\n",
       "      <td>0.025719</td>\n",
       "    </tr>\n",
       "    <tr>\n",
       "      <th>Cl</th>\n",
       "      <td>0.024853</td>\n",
       "    </tr>\n",
       "    <tr>\n",
       "      <th>F</th>\n",
       "      <td>0.024514</td>\n",
       "    </tr>\n",
       "    <tr>\n",
       "      <th>FCharge</th>\n",
       "      <td>0.017852</td>\n",
       "    </tr>\n",
       "    <tr>\n",
       "      <th>Na</th>\n",
       "      <td>0.015072</td>\n",
       "    </tr>\n",
       "    <tr>\n",
       "      <th>P</th>\n",
       "      <td>0.010248</td>\n",
       "    </tr>\n",
       "    <tr>\n",
       "      <th>Br</th>\n",
       "      <td>0.007359</td>\n",
       "    </tr>\n",
       "    <tr>\n",
       "      <th>I</th>\n",
       "      <td>0.004661</td>\n",
       "    </tr>\n",
       "  </tbody>\n",
       "</table>\n",
       "</div>"
      ],
      "text/plain": [
       "                    rfc_features\n",
       "Complexity              0.113527\n",
       "C                       0.084105\n",
       "H                       0.083040\n",
       "MolecularWeight         0.079651\n",
       "TPSA                    0.076706\n",
       "RotatableBondCount      0.067186\n",
       "HeavyAtomCount          0.064225\n",
       "HBondDonorCount         0.062841\n",
       "O                       0.056307\n",
       "HBondAcceptorCount      0.054856\n",
       "N                       0.053342\n",
       "XLogP_qcut              0.049389\n",
       "S                       0.025719\n",
       "Cl                      0.024853\n",
       "F                       0.024514\n",
       "FCharge                 0.017852\n",
       "Na                      0.015072\n",
       "P                       0.010248\n",
       "Br                      0.007359\n",
       "I                       0.004661"
      ]
     },
     "execution_count": 90,
     "metadata": {},
     "output_type": "execute_result"
    }
   ],
   "source": [
    "features_rt_df.sort_values(by='rfc_features', ascending=False).head(20)"
   ]
  },
  {
   "cell_type": "code",
   "execution_count": 91,
   "metadata": {},
   "outputs": [],
   "source": [
    "final_rn_model_pipe.fit(X1,y1)\n",
    "\n",
    "final_rn_pipe = ModelWithCV(model=final_rn_model_pipe,\n",
    "                         model_name='final_pipe',\n",
    "                         X=X1,\n",
    "                         y=y1)"
   ]
  },
  {
   "cell_type": "code",
   "execution_count": 92,
   "metadata": {},
   "outputs": [
    {
     "name": "stdout",
     "output_type": "stream",
     "text": [
      "[CV 4/5] END rfc__max_depth=7, rfc__n_estimators=125;, score=0.705 total time=   0.3s\n",
      "[CV 4/5] END rfc__max_depth=10, rfc__n_estimators=100;, score=0.788 total time=   0.3s\n",
      "[CV 4/5] END rfc__max_depth=10, rfc__n_estimators=150;, score=0.790 total time=   0.4s\n",
      "[CV 4/5] END rfc__max_depth=13, rfc__n_estimators=125;, score=0.842 total time=   0.4s\n",
      "[CV 2/5] END rfc__max_depth=7, rfc__n_estimators=125;, score=0.533 total time=   0.3s\n",
      "[CV 1/5] END rfc__max_depth=10, rfc__n_estimators=100;, score=0.568 total time=   0.4s\n",
      "[CV 1/5] END rfc__max_depth=10, rfc__n_estimators=150;, score=0.574 total time=   0.5s\n",
      "[CV 1/5] END rfc__max_depth=13, rfc__n_estimators=125;, score=0.596 total time=   0.5s\n",
      "[CV 2/5] END rfc__max_depth=7, rfc__n_estimators=125;, score=0.726 total time=   0.3s\n",
      "[CV 3/5] END rfc__max_depth=10, rfc__n_estimators=100;, score=0.770 total time=   0.3s\n",
      "[CV 3/5] END rfc__max_depth=10, rfc__n_estimators=150;, score=0.767 total time=   0.4s\n",
      "[CV 3/5] END rfc__max_depth=13, rfc__n_estimators=125;, score=0.819 total time=   0.4s\n",
      "[CV 1/5] END rfc__max_depth=7, rfc__n_estimators=125;, score=0.503 total time=   0.4s\n",
      "[CV 2/5] END rfc__max_depth=10, rfc__n_estimators=100;, score=0.595 total time=   0.4s\n",
      "[CV 2/5] END rfc__max_depth=10, rfc__n_estimators=150;, score=0.594 total time=   0.5s\n",
      "[CV 2/5] END rfc__max_depth=13, rfc__n_estimators=125;, score=0.630 total time=   0.5s\n",
      "[CV 5/5] END rfc__max_depth=7, rfc__n_estimators=100;, score=0.705 total time=   0.2s\n",
      "[CV 5/5] END rfc__max_depth=7, rfc__n_estimators=150;, score=0.702 total time=   0.3s\n",
      "[CV 4/5] END rfc__max_depth=10, rfc__n_estimators=125;, score=0.791 total time=   0.3s\n",
      "[CV 5/5] END rfc__max_depth=13, rfc__n_estimators=100;, score=0.835 total time=   0.3s\n",
      "[CV 5/5] END rfc__max_depth=13, rfc__n_estimators=150;, score=0.842 total time=   0.4s\n",
      "[CV 3/5] END rfc__max_depth=7, rfc__n_estimators=125;, score=0.508 total time=   0.4s\n",
      "[CV 3/5] END rfc__max_depth=10, rfc__n_estimators=100;, score=0.568 total time=   0.3s\n",
      "[CV 4/5] END rfc__max_depth=10, rfc__n_estimators=150;, score=0.602 total time=   0.5s\n",
      "[CV 3/5] END rfc__max_depth=13, rfc__n_estimators=125;, score=0.615 total time=   0.5s\n",
      "[CV 5/5] END rfc__max_depth=7, rfc__n_estimators=125;, score=0.706 total time=   0.3s\n",
      "[CV 5/5] END rfc__max_depth=10, rfc__n_estimators=100;, score=0.786 total time=   0.3s\n",
      "[CV 5/5] END rfc__max_depth=10, rfc__n_estimators=150;, score=0.781 total time=   0.4s\n",
      "[CV 5/5] END rfc__max_depth=13, rfc__n_estimators=125;, score=0.840 total time=   0.4s\n",
      "[CV 5/5] END rfc__max_depth=7, rfc__n_estimators=125;, score=0.502 total time=   0.4s\n",
      "[CV 5/5] END rfc__max_depth=10, rfc__n_estimators=100;, score=0.574 total time=   0.4s\n",
      "[CV 5/5] END rfc__max_depth=10, rfc__n_estimators=150;, score=0.574 total time=   0.5s\n",
      "[CV 4/5] END rfc__max_depth=13, rfc__n_estimators=125;, score=0.646 total time=   0.5s\n",
      "[CV 4/5] END rfc__max_depth=7, rfc__n_estimators=100;, score=0.705 total time=   0.2s\n",
      "[CV 4/5] END rfc__max_depth=7, rfc__n_estimators=150;, score=0.701 total time=   0.4s\n",
      "[CV 5/5] END rfc__max_depth=10, rfc__n_estimators=125;, score=0.792 total time=   0.3s\n",
      "[CV 4/5] END rfc__max_depth=13, rfc__n_estimators=100;, score=0.846 total time=   0.3s\n",
      "[CV 4/5] END rfc__max_depth=13, rfc__n_estimators=150;, score=0.839 total time=   0.4s\n",
      "[CV 4/5] END rfc__max_depth=7, rfc__n_estimators=125;, score=0.534 total time=   0.4s\n",
      "[CV 4/5] END rfc__max_depth=10, rfc__n_estimators=100;, score=0.598 total time=   0.3s\n",
      "[CV 3/5] END rfc__max_depth=10, rfc__n_estimators=150;, score=0.562 total time=   0.5s\n",
      "[CV 5/5] END rfc__max_depth=13, rfc__n_estimators=125;, score=0.616 total time=   0.5s\n",
      "[CV 1/5] END rfc__max_depth=7, rfc__n_estimators=125;, score=0.698 total time=   0.3s\n",
      "[CV 1/5] END rfc__max_depth=10, rfc__n_estimators=100;, score=0.769 total time=   0.3s\n",
      "[CV 1/5] END rfc__max_depth=10, rfc__n_estimators=150;, score=0.772 total time=   0.4s\n",
      "[CV 2/5] END rfc__max_depth=13, rfc__n_estimators=125;, score=0.841 total time=   0.4s\n",
      "[CV 2/5] END rfc__max_depth=7, rfc__n_estimators=100;, score=0.535 total time=   0.3s\n",
      "[CV 3/5] END rfc__max_depth=7, rfc__n_estimators=150;, score=0.507 total time=   0.4s\n",
      "[CV 4/5] END rfc__max_depth=10, rfc__n_estimators=125;, score=0.597 total time=   0.4s\n",
      "[CV 2/5] END rfc__max_depth=13, rfc__n_estimators=100;, score=0.632 total time=   0.4s\n",
      "[CV 2/5] END rfc__max_depth=13, rfc__n_estimators=150;, score=0.627 total time=   0.5s\n",
      "[CV 3/5] END rfc__max_depth=7, rfc__n_estimators=125;, score=0.708 total time=   0.3s\n",
      "[CV 2/5] END rfc__max_depth=10, rfc__n_estimators=100;, score=0.785 total time=   0.3s\n",
      "[CV 2/5] END rfc__max_depth=10, rfc__n_estimators=150;, score=0.787 total time=   0.4s\n",
      "[CV 1/5] END rfc__max_depth=13, rfc__n_estimators=125;, score=0.818 total time=   0.4s\n",
      "[CV 1/5] END rfc__max_depth=7, rfc__n_estimators=100;, score=0.514 total time=   0.3s\n",
      "[CV 1/5] END rfc__max_depth=7, rfc__n_estimators=150;, score=0.510 total time=   0.4s\n",
      "[CV 1/5] END rfc__max_depth=10, rfc__n_estimators=125;, score=0.573 total time=   0.4s\n",
      "[CV 1/5] END rfc__max_depth=13, rfc__n_estimators=100;, score=0.597 total time=   0.4s\n",
      "[CV 1/5] END rfc__max_depth=13, rfc__n_estimators=150;, score=0.600 total time=   0.5s\n",
      "[CV 2/5] END rfc__max_depth=7, rfc__n_estimators=100;, score=0.720 total time=   0.2s\n",
      "[CV 2/5] END rfc__max_depth=7, rfc__n_estimators=150;, score=0.725 total time=   0.3s\n",
      "[CV 2/5] END rfc__max_depth=10, rfc__n_estimators=125;, score=0.788 total time=   0.3s\n",
      "[CV 2/5] END rfc__max_depth=13, rfc__n_estimators=100;, score=0.835 total time=   0.3s\n",
      "[CV 3/5] END rfc__max_depth=13, rfc__n_estimators=150;, score=0.822 total time=   0.4s\n",
      "[CV 5/5] END rfc__max_depth=7, rfc__n_estimators=100;, score=0.501 total time=   0.3s\n",
      "[CV 5/5] END rfc__max_depth=7, rfc__n_estimators=150;, score=0.504 total time=   0.4s\n",
      "[CV 2/5] END rfc__max_depth=10, rfc__n_estimators=125;, score=0.591 total time=   0.4s\n",
      "[CV 3/5] END rfc__max_depth=13, rfc__n_estimators=100;, score=0.613 total time=   0.4s\n",
      "[CV 5/5] END rfc__max_depth=13, rfc__n_estimators=150;, score=0.619 total time=   0.5s\n",
      "[CV 1/5] END rfc__max_depth=7, rfc__n_estimators=100;, score=0.694 total time=   0.2s\n",
      "[CV 1/5] END rfc__max_depth=7, rfc__n_estimators=150;, score=0.696 total time=   0.4s\n",
      "[CV 1/5] END rfc__max_depth=10, rfc__n_estimators=125;, score=0.769 total time=   0.3s\n",
      "[CV 1/5] END rfc__max_depth=13, rfc__n_estimators=100;, score=0.812 total time=   0.3s\n",
      "[CV 1/5] END rfc__max_depth=13, rfc__n_estimators=150;, score=0.824 total time=   0.4s\n",
      "[CV 3/5] END rfc__max_depth=7, rfc__n_estimators=100;, score=0.509 total time=   0.3s\n",
      "[CV 2/5] END rfc__max_depth=7, rfc__n_estimators=150;, score=0.532 total time=   0.4s\n",
      "[CV 3/5] END rfc__max_depth=10, rfc__n_estimators=125;, score=0.568 total time=   0.4s\n",
      "[CV 4/5] END rfc__max_depth=13, rfc__n_estimators=100;, score=0.650 total time=   0.4s\n",
      "[CV 3/5] END rfc__max_depth=13, rfc__n_estimators=150;, score=0.612 total time=   0.6s\n",
      "[CV 3/5] END rfc__max_depth=7, rfc__n_estimators=100;, score=0.720 total time=   0.2s\n",
      "[CV 3/5] END rfc__max_depth=7, rfc__n_estimators=150;, score=0.708 total time=   0.3s\n",
      "[CV 3/5] END rfc__max_depth=10, rfc__n_estimators=125;, score=0.776 total time=   0.3s\n",
      "[CV 3/5] END rfc__max_depth=13, rfc__n_estimators=100;, score=0.817 total time=   0.3s\n",
      "[CV 2/5] END rfc__max_depth=13, rfc__n_estimators=150;, score=0.841 total time=   0.4s\n",
      "[CV 4/5] END rfc__max_depth=7, rfc__n_estimators=100;, score=0.536 total time=   0.3s\n",
      "[CV 4/5] END rfc__max_depth=7, rfc__n_estimators=150;, score=0.534 total time=   0.4s\n",
      "[CV 5/5] END rfc__max_depth=10, rfc__n_estimators=125;, score=0.578 total time=   0.4s\n",
      "[CV 5/5] END rfc__max_depth=13, rfc__n_estimators=100;, score=0.621 total time=   0.4s\n",
      "[CV 4/5] END rfc__max_depth=13, rfc__n_estimators=150;, score=0.650 total time=   0.5s\n"
     ]
    }
   ],
   "source": [
    "#var_array = chem phys inputs\n",
    "\n",
    "#type_pred = final_rt_model_pipe.predict(var_array)\n",
    "\n",
    "#var_array.append(type_pred)\n",
    "\n",
    "#name_pred = final_rn_model_pipe.predict(var_array)"
   ]
  }
 ],
 "metadata": {
  "kernelspec": {
   "display_name": "tf",
   "language": "python",
   "name": "tf"
  },
  "language_info": {
   "codemirror_mode": {
    "name": "ipython",
    "version": 3
   },
   "file_extension": ".py",
   "mimetype": "text/x-python",
   "name": "python",
   "nbconvert_exporter": "python",
   "pygments_lexer": "ipython3",
   "version": "3.7.13"
  }
 },
 "nbformat": 4,
 "nbformat_minor": 4
}
